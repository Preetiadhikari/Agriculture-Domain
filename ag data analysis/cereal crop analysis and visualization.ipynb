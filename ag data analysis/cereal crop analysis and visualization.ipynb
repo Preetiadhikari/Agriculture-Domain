{
 "cells": [
  {
   "cell_type": "markdown",
   "id": "04336362",
   "metadata": {},
   "source": [
    "# Data Analysis of Area,Production and yield of Cereal Crops in last ten years\n"
   ]
  },
  {
   "cell_type": "code",
   "execution_count": 1,
   "id": "f897344c",
   "metadata": {},
   "outputs": [],
   "source": [
    "#import libraries\n",
    "import numpy as np\n",
    "import pandas as pd\n",
    "import matplotlib.pyplot as plt\n",
    "import seaborn as sn\n",
    "\n"
   ]
  },
  {
   "cell_type": "markdown",
   "id": "90504761",
   "metadata": {},
   "source": [
    "#### Loading CSV files"
   ]
  },
  {
   "cell_type": "code",
   "execution_count": 2,
   "id": "f2f8fc91",
   "metadata": {},
   "outputs": [
    {
     "data": {
      "text/html": [
       "<div>\n",
       "<style scoped>\n",
       "    .dataframe tbody tr th:only-of-type {\n",
       "        vertical-align: middle;\n",
       "    }\n",
       "\n",
       "    .dataframe tbody tr th {\n",
       "        vertical-align: top;\n",
       "    }\n",
       "\n",
       "    .dataframe thead th {\n",
       "        text-align: right;\n",
       "    }\n",
       "</style>\n",
       "<table border=\"1\" class=\"dataframe\">\n",
       "  <thead>\n",
       "    <tr style=\"text-align: right;\">\n",
       "      <th></th>\n",
       "      <th>YEAR</th>\n",
       "      <th>Barley_YIELD</th>\n",
       "      <th>Barley_PROD.</th>\n",
       "      <th>Barley_AREA</th>\n",
       "      <th>Wheat_YIELD</th>\n",
       "      <th>Wheat_PROD.</th>\n",
       "      <th>Wheat_AREA</th>\n",
       "      <th>Buckwheat_YIELD</th>\n",
       "      <th>Buckwheat_PROD.</th>\n",
       "      <th>Buckwheat_AREA</th>\n",
       "      <th>Miillet_YIELD</th>\n",
       "      <th>Miillet_PROD.</th>\n",
       "      <th>Miillet_AREA</th>\n",
       "      <th>Maize_YIELD</th>\n",
       "      <th>Maize_PROD.</th>\n",
       "      <th>Maize_AREA</th>\n",
       "      <th>Paddy_YIELD</th>\n",
       "      <th>Paddy_PROD.</th>\n",
       "      <th>Paddy_AREA</th>\n",
       "      <th>Unnamed: 19</th>\n",
       "    </tr>\n",
       "  </thead>\n",
       "  <tbody>\n",
       "    <tr>\n",
       "      <th>0</th>\n",
       "      <td>13-2012</td>\n",
       "      <td>1.28</td>\n",
       "      <td>36973</td>\n",
       "      <td>28989</td>\n",
       "      <td>2.48</td>\n",
       "      <td>1882220</td>\n",
       "      <td>759843</td>\n",
       "      <td>0.94</td>\n",
       "      <td>10056</td>\n",
       "      <td>10681</td>\n",
       "      <td>1.11</td>\n",
       "      <td>305588</td>\n",
       "      <td>274350</td>\n",
       "      <td>2.35</td>\n",
       "      <td>1999010</td>\n",
       "      <td>849635</td>\n",
       "      <td>3.17</td>\n",
       "      <td>4504503</td>\n",
       "      <td>1420570</td>\n",
       "      <td>NaN</td>\n",
       "    </tr>\n",
       "    <tr>\n",
       "      <th>1</th>\n",
       "      <td>14-2013</td>\n",
       "      <td>1.24</td>\n",
       "      <td>34824</td>\n",
       "      <td>28173</td>\n",
       "      <td>2.50</td>\n",
       "      <td>1883147</td>\n",
       "      <td>754474</td>\n",
       "      <td>0.98</td>\n",
       "      <td>10335</td>\n",
       "      <td>10510</td>\n",
       "      <td>1.12</td>\n",
       "      <td>304105</td>\n",
       "      <td>271183</td>\n",
       "      <td>2.46</td>\n",
       "      <td>2283222</td>\n",
       "      <td>928761</td>\n",
       "      <td>3.39</td>\n",
       "      <td>5047047</td>\n",
       "      <td>1486951</td>\n",
       "      <td>NaN</td>\n",
       "    </tr>\n",
       "    <tr>\n",
       "      <th>2</th>\n",
       "      <td>15-2014</td>\n",
       "      <td>1.33</td>\n",
       "      <td>37354</td>\n",
       "      <td>28053</td>\n",
       "      <td>2.59</td>\n",
       "      <td>1975625</td>\n",
       "      <td>762373</td>\n",
       "      <td>1.01</td>\n",
       "      <td>10870</td>\n",
       "      <td>10819</td>\n",
       "      <td>1.15</td>\n",
       "      <td>308488</td>\n",
       "      <td>268050</td>\n",
       "      <td>2.43</td>\n",
       "      <td>2145291</td>\n",
       "      <td>882395</td>\n",
       "      <td>3.36</td>\n",
       "      <td>4788612</td>\n",
       "      <td>1425346</td>\n",
       "      <td>NaN</td>\n",
       "    </tr>\n",
       "    <tr>\n",
       "      <th>3</th>\n",
       "      <td>16-2015</td>\n",
       "      <td>1.16</td>\n",
       "      <td>32801</td>\n",
       "      <td>28361</td>\n",
       "      <td>2.33</td>\n",
       "      <td>1736849</td>\n",
       "      <td>745823</td>\n",
       "      <td>1.07</td>\n",
       "      <td>11641</td>\n",
       "      <td>10842</td>\n",
       "      <td>1.13</td>\n",
       "      <td>302397</td>\n",
       "      <td>266799</td>\n",
       "      <td>2.50</td>\n",
       "      <td>2231517</td>\n",
       "      <td>891583</td>\n",
       "      <td>3.15</td>\n",
       "      <td>4299079</td>\n",
       "      <td>1362908</td>\n",
       "      <td>NaN</td>\n",
       "    </tr>\n",
       "    <tr>\n",
       "      <th>4</th>\n",
       "      <td>17-2016</td>\n",
       "      <td>1.11</td>\n",
       "      <td>30510</td>\n",
       "      <td>27370</td>\n",
       "      <td>2.55</td>\n",
       "      <td>1879191</td>\n",
       "      <td>735850</td>\n",
       "      <td>1.09</td>\n",
       "      <td>12039</td>\n",
       "      <td>11090</td>\n",
       "      <td>1.16</td>\n",
       "      <td>306704</td>\n",
       "      <td>263596</td>\n",
       "      <td>2.55</td>\n",
       "      <td>2300121</td>\n",
       "      <td>900288</td>\n",
       "      <td>3.37</td>\n",
       "      <td>5230327</td>\n",
       "      <td>1552469</td>\n",
       "      <td>NaN</td>\n",
       "    </tr>\n",
       "    <tr>\n",
       "      <th>5</th>\n",
       "      <td>18-2017</td>\n",
       "      <td>1.24</td>\n",
       "      <td>30510</td>\n",
       "      <td>24648</td>\n",
       "      <td>2.76</td>\n",
       "      <td>1949001</td>\n",
       "      <td>706843</td>\n",
       "      <td>1.11</td>\n",
       "      <td>11472</td>\n",
       "      <td>10296</td>\n",
       "      <td>1.19</td>\n",
       "      <td>313987</td>\n",
       "      <td>263497</td>\n",
       "      <td>2.68</td>\n",
       "      <td>2555847</td>\n",
       "      <td>954158</td>\n",
       "      <td>3.51</td>\n",
       "      <td>5151925</td>\n",
       "      <td>1469545</td>\n",
       "      <td>NaN</td>\n",
       "    </tr>\n",
       "    <tr>\n",
       "      <th>6</th>\n",
       "      <td>19-2018</td>\n",
       "      <td>1.25</td>\n",
       "      <td>30550</td>\n",
       "      <td>24409</td>\n",
       "      <td>2.85</td>\n",
       "      <td>2005665</td>\n",
       "      <td>703992</td>\n",
       "      <td>1.11</td>\n",
       "      <td>11464</td>\n",
       "      <td>10311</td>\n",
       "      <td>1.19</td>\n",
       "      <td>314225</td>\n",
       "      <td>263261</td>\n",
       "      <td>2.84</td>\n",
       "      <td>2713635</td>\n",
       "      <td>956447</td>\n",
       "      <td>3.76</td>\n",
       "      <td>5610011</td>\n",
       "      <td>1491744</td>\n",
       "      <td>NaN</td>\n",
       "    </tr>\n",
       "    <tr>\n",
       "      <th>7</th>\n",
       "      <td>20-2019</td>\n",
       "      <td>1.28</td>\n",
       "      <td>31147</td>\n",
       "      <td>24404</td>\n",
       "      <td>3.09</td>\n",
       "      <td>2185289</td>\n",
       "      <td>707505</td>\n",
       "      <td>1.13</td>\n",
       "      <td>11724</td>\n",
       "      <td>10369</td>\n",
       "      <td>1.22</td>\n",
       "      <td>320953</td>\n",
       "      <td>262547</td>\n",
       "      <td>2.96</td>\n",
       "      <td>2835674</td>\n",
       "      <td>957650</td>\n",
       "      <td>3.80</td>\n",
       "      <td>5550878</td>\n",
       "      <td>1458915</td>\n",
       "      <td>NaN</td>\n",
       "    </tr>\n",
       "    <tr>\n",
       "      <th>8</th>\n",
       "      <td>21-2020</td>\n",
       "      <td>1.35</td>\n",
       "      <td>29433</td>\n",
       "      <td>21862</td>\n",
       "      <td>2.99</td>\n",
       "      <td>2127276</td>\n",
       "      <td>711067</td>\n",
       "      <td>1.15</td>\n",
       "      <td>15917</td>\n",
       "      <td>13875</td>\n",
       "      <td>1.23</td>\n",
       "      <td>326443</td>\n",
       "      <td>265401</td>\n",
       "      <td>3.06</td>\n",
       "      <td>2997733</td>\n",
       "      <td>979776</td>\n",
       "      <td>3.82</td>\n",
       "      <td>5621710</td>\n",
       "      <td>1473474</td>\n",
       "      <td>NaN</td>\n",
       "    </tr>\n",
       "    <tr>\n",
       "      <th>9</th>\n",
       "      <td>22-2021</td>\n",
       "      <td>1.39</td>\n",
       "      <td>32156</td>\n",
       "      <td>23134</td>\n",
       "      <td>2.99</td>\n",
       "      <td>2144568</td>\n",
       "      <td>716978</td>\n",
       "      <td>1.20</td>\n",
       "      <td>19290</td>\n",
       "      <td>16123</td>\n",
       "      <td>1.27</td>\n",
       "      <td>339462</td>\n",
       "      <td>267071</td>\n",
       "      <td>3.15</td>\n",
       "      <td>3106397</td>\n",
       "      <td>985565</td>\n",
       "      <td>3.47</td>\n",
       "      <td>5130625</td>\n",
       "      <td>1477378</td>\n",
       "      <td>NaN</td>\n",
       "    </tr>\n",
       "  </tbody>\n",
       "</table>\n",
       "</div>"
      ],
      "text/plain": [
       "      YEAR  Barley_YIELD  Barley_PROD.  Barley_AREA  Wheat_YIELD  Wheat_PROD.  \\\n",
       "0  13-2012          1.28         36973        28989         2.48      1882220   \n",
       "1  14-2013          1.24         34824        28173         2.50      1883147   \n",
       "2  15-2014          1.33         37354        28053         2.59      1975625   \n",
       "3  16-2015          1.16         32801        28361         2.33      1736849   \n",
       "4  17-2016          1.11         30510        27370         2.55      1879191   \n",
       "5  18-2017          1.24         30510        24648         2.76      1949001   \n",
       "6  19-2018          1.25         30550        24409         2.85      2005665   \n",
       "7  20-2019          1.28         31147        24404         3.09      2185289   \n",
       "8  21-2020          1.35         29433        21862         2.99      2127276   \n",
       "9  22-2021          1.39         32156        23134         2.99      2144568   \n",
       "\n",
       "   Wheat_AREA  Buckwheat_YIELD  Buckwheat_PROD.  Buckwheat_AREA  \\\n",
       "0      759843             0.94            10056           10681   \n",
       "1      754474             0.98            10335           10510   \n",
       "2      762373             1.01            10870           10819   \n",
       "3      745823             1.07            11641           10842   \n",
       "4      735850             1.09            12039           11090   \n",
       "5      706843             1.11            11472           10296   \n",
       "6      703992             1.11            11464           10311   \n",
       "7      707505             1.13            11724           10369   \n",
       "8      711067             1.15            15917           13875   \n",
       "9      716978             1.20            19290           16123   \n",
       "\n",
       "   Miillet_YIELD  Miillet_PROD.  Miillet_AREA  Maize_YIELD  Maize_PROD.  \\\n",
       "0           1.11         305588        274350         2.35      1999010   \n",
       "1           1.12         304105        271183         2.46      2283222   \n",
       "2           1.15         308488        268050         2.43      2145291   \n",
       "3           1.13         302397        266799         2.50      2231517   \n",
       "4           1.16         306704        263596         2.55      2300121   \n",
       "5           1.19         313987        263497         2.68      2555847   \n",
       "6           1.19         314225        263261         2.84      2713635   \n",
       "7           1.22         320953        262547         2.96      2835674   \n",
       "8           1.23         326443        265401         3.06      2997733   \n",
       "9           1.27         339462        267071         3.15      3106397   \n",
       "\n",
       "   Maize_AREA  Paddy_YIELD  Paddy_PROD.  Paddy_AREA  Unnamed: 19  \n",
       "0      849635         3.17      4504503     1420570          NaN  \n",
       "1      928761         3.39      5047047     1486951          NaN  \n",
       "2      882395         3.36      4788612     1425346          NaN  \n",
       "3      891583         3.15      4299079     1362908          NaN  \n",
       "4      900288         3.37      5230327     1552469          NaN  \n",
       "5      954158         3.51      5151925     1469545          NaN  \n",
       "6      956447         3.76      5610011     1491744          NaN  \n",
       "7      957650         3.80      5550878     1458915          NaN  \n",
       "8      979776         3.82      5621710     1473474          NaN  \n",
       "9      985565         3.47      5130625     1477378          NaN  "
      ]
     },
     "execution_count": 2,
     "metadata": {},
     "output_type": "execute_result"
    }
   ],
   "source": [
    "df=pd.read_csv(\"cereal_crop1.csv\")\n",
    "df"
   ]
  },
  {
   "cell_type": "markdown",
   "id": "6141522b",
   "metadata": {},
   "source": [
    "here yield is represent in Mt/Ht ,production in metric tonnes(Mt) and area in Hectare(Ht)"
   ]
  },
  {
   "cell_type": "code",
   "execution_count": 3,
   "id": "b4b38cac",
   "metadata": {},
   "outputs": [
    {
     "data": {
      "text/plain": [
       "(10, 20)"
      ]
     },
     "execution_count": 3,
     "metadata": {},
     "output_type": "execute_result"
    }
   ],
   "source": [
    "df.shape\n",
    "\n"
   ]
  },
  {
   "cell_type": "code",
   "execution_count": 5,
   "id": "77065654",
   "metadata": {},
   "outputs": [
    {
     "name": "stdout",
     "output_type": "stream",
     "text": [
      "<class 'pandas.core.frame.DataFrame'>\n",
      "RangeIndex: 10 entries, 0 to 9\n",
      "Data columns (total 20 columns):\n",
      " #   Column           Non-Null Count  Dtype  \n",
      "---  ------           --------------  -----  \n",
      " 0   YEAR             10 non-null     object \n",
      " 1   Barley_YIELD     10 non-null     float64\n",
      " 2   Barley_PROD.     10 non-null     int64  \n",
      " 3   Barley_AREA      10 non-null     int64  \n",
      " 4   Wheat_YIELD      10 non-null     float64\n",
      " 5   Wheat_PROD.      10 non-null     int64  \n",
      " 6   Wheat_AREA       10 non-null     int64  \n",
      " 7   Buckwheat_YIELD  10 non-null     float64\n",
      " 8   Buckwheat_PROD.  10 non-null     int64  \n",
      " 9   Buckwheat_AREA   10 non-null     int64  \n",
      " 10  Miillet_YIELD    10 non-null     float64\n",
      " 11  Miillet_PROD.    10 non-null     int64  \n",
      " 12  Miillet_AREA     10 non-null     int64  \n",
      " 13  Maize_YIELD      10 non-null     float64\n",
      " 14  Maize_PROD.      10 non-null     int64  \n",
      " 15  Maize_AREA       10 non-null     int64  \n",
      " 16  Paddy_YIELD      10 non-null     float64\n",
      " 17  Paddy_PROD.      10 non-null     int64  \n",
      " 18  Paddy_AREA       10 non-null     int64  \n",
      " 19  Unnamed: 19      0 non-null      float64\n",
      "dtypes: float64(7), int64(12), object(1)\n",
      "memory usage: 1.7+ KB\n"
     ]
    }
   ],
   "source": [
    "df.info()"
   ]
  },
  {
   "cell_type": "code",
   "execution_count": 19,
   "id": "a5d5b86a",
   "metadata": {},
   "outputs": [
    {
     "data": {
      "text/plain": [
       "YEAR                0\n",
       "Barley_YIELD        0\n",
       "Barley_PROD.        0\n",
       "Barley_AREA         0\n",
       "Wheat_YIELD         0\n",
       "Wheat_PROD.         0\n",
       "Wheat_AREA          0\n",
       "Buckwheat_YIELD     0\n",
       "Buckwheat_PROD.     0\n",
       "Buckwheat_AREA      0\n",
       "Miillet_YIELD       0\n",
       "Miillet_PROD.       0\n",
       "Miillet_AREA        0\n",
       "Maize_YIELD         0\n",
       "Maize_PROD.         0\n",
       "Maize_AREA          0\n",
       "Paddy_YIELD         0\n",
       "Paddy_PROD.         0\n",
       "Paddy_AREA          0\n",
       "Unnamed: 19        10\n",
       "dtype: int64"
      ]
     },
     "execution_count": 19,
     "metadata": {},
     "output_type": "execute_result"
    }
   ],
   "source": [
    "#checking null values\n",
    "df.isnull().sum()"
   ]
  },
  {
   "cell_type": "code",
   "execution_count": 20,
   "id": "ccfbb6d6",
   "metadata": {},
   "outputs": [
    {
     "data": {
      "text/plain": [
       "0"
      ]
     },
     "execution_count": 20,
     "metadata": {},
     "output_type": "execute_result"
    }
   ],
   "source": [
    "#checking duplication\n",
    "df.duplicated().sum()"
   ]
  },
  {
   "cell_type": "code",
   "execution_count": 21,
   "id": "7557a06c",
   "metadata": {},
   "outputs": [
    {
     "data": {
      "text/html": [
       "<div>\n",
       "<style scoped>\n",
       "    .dataframe tbody tr th:only-of-type {\n",
       "        vertical-align: middle;\n",
       "    }\n",
       "\n",
       "    .dataframe tbody tr th {\n",
       "        vertical-align: top;\n",
       "    }\n",
       "\n",
       "    .dataframe thead th {\n",
       "        text-align: right;\n",
       "    }\n",
       "</style>\n",
       "<table border=\"1\" class=\"dataframe\">\n",
       "  <thead>\n",
       "    <tr style=\"text-align: right;\">\n",
       "      <th></th>\n",
       "      <th>Barley_YIELD</th>\n",
       "      <th>Barley_PROD.</th>\n",
       "      <th>Barley_AREA</th>\n",
       "      <th>Wheat_YIELD</th>\n",
       "      <th>Wheat_PROD.</th>\n",
       "      <th>Wheat_AREA</th>\n",
       "      <th>Buckwheat_YIELD</th>\n",
       "      <th>Buckwheat_PROD.</th>\n",
       "      <th>Buckwheat_AREA</th>\n",
       "      <th>Miillet_YIELD</th>\n",
       "      <th>Miillet_PROD.</th>\n",
       "      <th>Miillet_AREA</th>\n",
       "      <th>Maize_YIELD</th>\n",
       "      <th>Maize_PROD.</th>\n",
       "      <th>Maize_AREA</th>\n",
       "      <th>Paddy_YIELD</th>\n",
       "      <th>Paddy_PROD.</th>\n",
       "      <th>Paddy_AREA</th>\n",
       "      <th>Unnamed: 19</th>\n",
       "    </tr>\n",
       "  </thead>\n",
       "  <tbody>\n",
       "    <tr>\n",
       "      <th>count</th>\n",
       "      <td>10.000000</td>\n",
       "      <td>10.000000</td>\n",
       "      <td>10.000000</td>\n",
       "      <td>10.000000</td>\n",
       "      <td>1.000000e+01</td>\n",
       "      <td>10.000000</td>\n",
       "      <td>10.000000</td>\n",
       "      <td>10.000000</td>\n",
       "      <td>10.000000</td>\n",
       "      <td>10.000000</td>\n",
       "      <td>10.000000</td>\n",
       "      <td>10.000000</td>\n",
       "      <td>10.000000</td>\n",
       "      <td>1.000000e+01</td>\n",
       "      <td>10.000000</td>\n",
       "      <td>10.000000</td>\n",
       "      <td>1.000000e+01</td>\n",
       "      <td>1.000000e+01</td>\n",
       "      <td>0.0</td>\n",
       "    </tr>\n",
       "    <tr>\n",
       "      <th>mean</th>\n",
       "      <td>1.263000</td>\n",
       "      <td>32625.800000</td>\n",
       "      <td>25940.300000</td>\n",
       "      <td>2.713000</td>\n",
       "      <td>1.976883e+06</td>\n",
       "      <td>730474.800000</td>\n",
       "      <td>1.079000</td>\n",
       "      <td>12480.800000</td>\n",
       "      <td>11491.600000</td>\n",
       "      <td>1.177000</td>\n",
       "      <td>314235.200000</td>\n",
       "      <td>266575.500000</td>\n",
       "      <td>2.698000</td>\n",
       "      <td>2.516845e+06</td>\n",
       "      <td>928625.800000</td>\n",
       "      <td>3.480000</td>\n",
       "      <td>5.093472e+06</td>\n",
       "      <td>1.461930e+06</td>\n",
       "      <td>NaN</td>\n",
       "    </tr>\n",
       "    <tr>\n",
       "      <th>std</th>\n",
       "      <td>0.084334</td>\n",
       "      <td>2828.044075</td>\n",
       "      <td>2528.280929</td>\n",
       "      <td>0.259189</td>\n",
       "      <td>1.416899e+05</td>\n",
       "      <td>23726.793677</td>\n",
       "      <td>0.080478</td>\n",
       "      <td>2882.441511</td>\n",
       "      <td>1939.937926</td>\n",
       "      <td>0.052292</td>\n",
       "      <td>11727.932676</td>\n",
       "      <td>3816.488853</td>\n",
       "      <td>0.285805</td>\n",
       "      <td>3.815015e+05</td>\n",
       "      <td>45556.782178</td>\n",
       "      <td>0.244268</td>\n",
       "      <td>4.535826e+05</td>\n",
       "      <td>5.055867e+04</td>\n",
       "      <td>NaN</td>\n",
       "    </tr>\n",
       "    <tr>\n",
       "      <th>min</th>\n",
       "      <td>1.110000</td>\n",
       "      <td>29433.000000</td>\n",
       "      <td>21862.000000</td>\n",
       "      <td>2.330000</td>\n",
       "      <td>1.736849e+06</td>\n",
       "      <td>703992.000000</td>\n",
       "      <td>0.940000</td>\n",
       "      <td>10056.000000</td>\n",
       "      <td>10296.000000</td>\n",
       "      <td>1.110000</td>\n",
       "      <td>302397.000000</td>\n",
       "      <td>262547.000000</td>\n",
       "      <td>2.350000</td>\n",
       "      <td>1.999010e+06</td>\n",
       "      <td>849635.000000</td>\n",
       "      <td>3.150000</td>\n",
       "      <td>4.299079e+06</td>\n",
       "      <td>1.362908e+06</td>\n",
       "      <td>NaN</td>\n",
       "    </tr>\n",
       "    <tr>\n",
       "      <th>25%</th>\n",
       "      <td>1.240000</td>\n",
       "      <td>30520.000000</td>\n",
       "      <td>24405.250000</td>\n",
       "      <td>2.512500</td>\n",
       "      <td>1.882452e+06</td>\n",
       "      <td>708395.500000</td>\n",
       "      <td>1.025000</td>\n",
       "      <td>11018.500000</td>\n",
       "      <td>10404.250000</td>\n",
       "      <td>1.135000</td>\n",
       "      <td>305867.000000</td>\n",
       "      <td>263521.750000</td>\n",
       "      <td>2.470000</td>\n",
       "      <td>2.244443e+06</td>\n",
       "      <td>893759.250000</td>\n",
       "      <td>3.362500</td>\n",
       "      <td>4.853221e+06</td>\n",
       "      <td>1.433738e+06</td>\n",
       "      <td>NaN</td>\n",
       "    </tr>\n",
       "    <tr>\n",
       "      <th>50%</th>\n",
       "      <td>1.265000</td>\n",
       "      <td>31651.500000</td>\n",
       "      <td>26009.000000</td>\n",
       "      <td>2.675000</td>\n",
       "      <td>1.962313e+06</td>\n",
       "      <td>726414.000000</td>\n",
       "      <td>1.100000</td>\n",
       "      <td>11556.500000</td>\n",
       "      <td>10750.000000</td>\n",
       "      <td>1.175000</td>\n",
       "      <td>311237.500000</td>\n",
       "      <td>266100.000000</td>\n",
       "      <td>2.615000</td>\n",
       "      <td>2.427984e+06</td>\n",
       "      <td>941459.500000</td>\n",
       "      <td>3.430000</td>\n",
       "      <td>5.141275e+06</td>\n",
       "      <td>1.471510e+06</td>\n",
       "      <td>NaN</td>\n",
       "    </tr>\n",
       "    <tr>\n",
       "      <th>75%</th>\n",
       "      <td>1.317500</td>\n",
       "      <td>34318.250000</td>\n",
       "      <td>28143.000000</td>\n",
       "      <td>2.955000</td>\n",
       "      <td>2.096873e+06</td>\n",
       "      <td>752311.250000</td>\n",
       "      <td>1.125000</td>\n",
       "      <td>11960.250000</td>\n",
       "      <td>11028.000000</td>\n",
       "      <td>1.212500</td>\n",
       "      <td>319271.000000</td>\n",
       "      <td>267805.250000</td>\n",
       "      <td>2.930000</td>\n",
       "      <td>2.805164e+06</td>\n",
       "      <td>957349.250000</td>\n",
       "      <td>3.697500</td>\n",
       "      <td>5.470740e+06</td>\n",
       "      <td>1.484558e+06</td>\n",
       "      <td>NaN</td>\n",
       "    </tr>\n",
       "    <tr>\n",
       "      <th>max</th>\n",
       "      <td>1.390000</td>\n",
       "      <td>37354.000000</td>\n",
       "      <td>28989.000000</td>\n",
       "      <td>3.090000</td>\n",
       "      <td>2.185289e+06</td>\n",
       "      <td>762373.000000</td>\n",
       "      <td>1.200000</td>\n",
       "      <td>19290.000000</td>\n",
       "      <td>16123.000000</td>\n",
       "      <td>1.270000</td>\n",
       "      <td>339462.000000</td>\n",
       "      <td>274350.000000</td>\n",
       "      <td>3.150000</td>\n",
       "      <td>3.106397e+06</td>\n",
       "      <td>985565.000000</td>\n",
       "      <td>3.820000</td>\n",
       "      <td>5.621710e+06</td>\n",
       "      <td>1.552469e+06</td>\n",
       "      <td>NaN</td>\n",
       "    </tr>\n",
       "  </tbody>\n",
       "</table>\n",
       "</div>"
      ],
      "text/plain": [
       "       Barley_YIELD  Barley_PROD.   Barley_AREA  Wheat_YIELD   Wheat_PROD.  \\\n",
       "count     10.000000     10.000000     10.000000    10.000000  1.000000e+01   \n",
       "mean       1.263000  32625.800000  25940.300000     2.713000  1.976883e+06   \n",
       "std        0.084334   2828.044075   2528.280929     0.259189  1.416899e+05   \n",
       "min        1.110000  29433.000000  21862.000000     2.330000  1.736849e+06   \n",
       "25%        1.240000  30520.000000  24405.250000     2.512500  1.882452e+06   \n",
       "50%        1.265000  31651.500000  26009.000000     2.675000  1.962313e+06   \n",
       "75%        1.317500  34318.250000  28143.000000     2.955000  2.096873e+06   \n",
       "max        1.390000  37354.000000  28989.000000     3.090000  2.185289e+06   \n",
       "\n",
       "          Wheat_AREA  Buckwheat_YIELD  Buckwheat_PROD.  Buckwheat_AREA  \\\n",
       "count      10.000000        10.000000        10.000000       10.000000   \n",
       "mean   730474.800000         1.079000     12480.800000    11491.600000   \n",
       "std     23726.793677         0.080478      2882.441511     1939.937926   \n",
       "min    703992.000000         0.940000     10056.000000    10296.000000   \n",
       "25%    708395.500000         1.025000     11018.500000    10404.250000   \n",
       "50%    726414.000000         1.100000     11556.500000    10750.000000   \n",
       "75%    752311.250000         1.125000     11960.250000    11028.000000   \n",
       "max    762373.000000         1.200000     19290.000000    16123.000000   \n",
       "\n",
       "       Miillet_YIELD  Miillet_PROD.   Miillet_AREA  Maize_YIELD   Maize_PROD.  \\\n",
       "count      10.000000      10.000000      10.000000    10.000000  1.000000e+01   \n",
       "mean        1.177000  314235.200000  266575.500000     2.698000  2.516845e+06   \n",
       "std         0.052292   11727.932676    3816.488853     0.285805  3.815015e+05   \n",
       "min         1.110000  302397.000000  262547.000000     2.350000  1.999010e+06   \n",
       "25%         1.135000  305867.000000  263521.750000     2.470000  2.244443e+06   \n",
       "50%         1.175000  311237.500000  266100.000000     2.615000  2.427984e+06   \n",
       "75%         1.212500  319271.000000  267805.250000     2.930000  2.805164e+06   \n",
       "max         1.270000  339462.000000  274350.000000     3.150000  3.106397e+06   \n",
       "\n",
       "          Maize_AREA  Paddy_YIELD   Paddy_PROD.    Paddy_AREA  Unnamed: 19  \n",
       "count      10.000000    10.000000  1.000000e+01  1.000000e+01          0.0  \n",
       "mean   928625.800000     3.480000  5.093472e+06  1.461930e+06          NaN  \n",
       "std     45556.782178     0.244268  4.535826e+05  5.055867e+04          NaN  \n",
       "min    849635.000000     3.150000  4.299079e+06  1.362908e+06          NaN  \n",
       "25%    893759.250000     3.362500  4.853221e+06  1.433738e+06          NaN  \n",
       "50%    941459.500000     3.430000  5.141275e+06  1.471510e+06          NaN  \n",
       "75%    957349.250000     3.697500  5.470740e+06  1.484558e+06          NaN  \n",
       "max    985565.000000     3.820000  5.621710e+06  1.552469e+06          NaN  "
      ]
     },
     "execution_count": 21,
     "metadata": {},
     "output_type": "execute_result"
    }
   ],
   "source": [
    "#statstical measure\n",
    "df.describe()\n"
   ]
  },
  {
   "cell_type": "code",
   "execution_count": 22,
   "id": "89b1bd34",
   "metadata": {},
   "outputs": [
    {
     "data": {
      "text/html": [
       "<div>\n",
       "<style scoped>\n",
       "    .dataframe tbody tr th:only-of-type {\n",
       "        vertical-align: middle;\n",
       "    }\n",
       "\n",
       "    .dataframe tbody tr th {\n",
       "        vertical-align: top;\n",
       "    }\n",
       "\n",
       "    .dataframe thead th {\n",
       "        text-align: right;\n",
       "    }\n",
       "</style>\n",
       "<table border=\"1\" class=\"dataframe\">\n",
       "  <thead>\n",
       "    <tr style=\"text-align: right;\">\n",
       "      <th></th>\n",
       "      <th>YEAR</th>\n",
       "      <th>Barley_YIELD</th>\n",
       "      <th>Barley_PROD.</th>\n",
       "      <th>Barley_AREA</th>\n",
       "      <th>Wheat_YIELD</th>\n",
       "      <th>Wheat_PROD.</th>\n",
       "      <th>Wheat_AREA</th>\n",
       "      <th>Buckwheat_YIELD</th>\n",
       "      <th>Buckwheat_PROD.</th>\n",
       "      <th>Buckwheat_AREA</th>\n",
       "      <th>Miillet_YIELD</th>\n",
       "      <th>Miillet_PROD.</th>\n",
       "      <th>Miillet_AREA</th>\n",
       "      <th>Maize_YIELD</th>\n",
       "      <th>Maize_PROD.</th>\n",
       "      <th>Maize_AREA</th>\n",
       "      <th>Paddy_YIELD</th>\n",
       "      <th>Paddy_PROD.</th>\n",
       "      <th>Paddy_AREA</th>\n",
       "    </tr>\n",
       "  </thead>\n",
       "  <tbody>\n",
       "    <tr>\n",
       "      <th>0</th>\n",
       "      <td>13-2012</td>\n",
       "      <td>1.28</td>\n",
       "      <td>36973</td>\n",
       "      <td>28989</td>\n",
       "      <td>2.48</td>\n",
       "      <td>1882220</td>\n",
       "      <td>759843</td>\n",
       "      <td>0.94</td>\n",
       "      <td>10056</td>\n",
       "      <td>10681</td>\n",
       "      <td>1.11</td>\n",
       "      <td>305588</td>\n",
       "      <td>274350</td>\n",
       "      <td>2.35</td>\n",
       "      <td>1999010</td>\n",
       "      <td>849635</td>\n",
       "      <td>3.17</td>\n",
       "      <td>4504503</td>\n",
       "      <td>1420570</td>\n",
       "    </tr>\n",
       "    <tr>\n",
       "      <th>1</th>\n",
       "      <td>14-2013</td>\n",
       "      <td>1.24</td>\n",
       "      <td>34824</td>\n",
       "      <td>28173</td>\n",
       "      <td>2.50</td>\n",
       "      <td>1883147</td>\n",
       "      <td>754474</td>\n",
       "      <td>0.98</td>\n",
       "      <td>10335</td>\n",
       "      <td>10510</td>\n",
       "      <td>1.12</td>\n",
       "      <td>304105</td>\n",
       "      <td>271183</td>\n",
       "      <td>2.46</td>\n",
       "      <td>2283222</td>\n",
       "      <td>928761</td>\n",
       "      <td>3.39</td>\n",
       "      <td>5047047</td>\n",
       "      <td>1486951</td>\n",
       "    </tr>\n",
       "    <tr>\n",
       "      <th>2</th>\n",
       "      <td>15-2014</td>\n",
       "      <td>1.33</td>\n",
       "      <td>37354</td>\n",
       "      <td>28053</td>\n",
       "      <td>2.59</td>\n",
       "      <td>1975625</td>\n",
       "      <td>762373</td>\n",
       "      <td>1.01</td>\n",
       "      <td>10870</td>\n",
       "      <td>10819</td>\n",
       "      <td>1.15</td>\n",
       "      <td>308488</td>\n",
       "      <td>268050</td>\n",
       "      <td>2.43</td>\n",
       "      <td>2145291</td>\n",
       "      <td>882395</td>\n",
       "      <td>3.36</td>\n",
       "      <td>4788612</td>\n",
       "      <td>1425346</td>\n",
       "    </tr>\n",
       "    <tr>\n",
       "      <th>3</th>\n",
       "      <td>16-2015</td>\n",
       "      <td>1.16</td>\n",
       "      <td>32801</td>\n",
       "      <td>28361</td>\n",
       "      <td>2.33</td>\n",
       "      <td>1736849</td>\n",
       "      <td>745823</td>\n",
       "      <td>1.07</td>\n",
       "      <td>11641</td>\n",
       "      <td>10842</td>\n",
       "      <td>1.13</td>\n",
       "      <td>302397</td>\n",
       "      <td>266799</td>\n",
       "      <td>2.50</td>\n",
       "      <td>2231517</td>\n",
       "      <td>891583</td>\n",
       "      <td>3.15</td>\n",
       "      <td>4299079</td>\n",
       "      <td>1362908</td>\n",
       "    </tr>\n",
       "    <tr>\n",
       "      <th>4</th>\n",
       "      <td>17-2016</td>\n",
       "      <td>1.11</td>\n",
       "      <td>30510</td>\n",
       "      <td>27370</td>\n",
       "      <td>2.55</td>\n",
       "      <td>1879191</td>\n",
       "      <td>735850</td>\n",
       "      <td>1.09</td>\n",
       "      <td>12039</td>\n",
       "      <td>11090</td>\n",
       "      <td>1.16</td>\n",
       "      <td>306704</td>\n",
       "      <td>263596</td>\n",
       "      <td>2.55</td>\n",
       "      <td>2300121</td>\n",
       "      <td>900288</td>\n",
       "      <td>3.37</td>\n",
       "      <td>5230327</td>\n",
       "      <td>1552469</td>\n",
       "    </tr>\n",
       "    <tr>\n",
       "      <th>5</th>\n",
       "      <td>18-2017</td>\n",
       "      <td>1.24</td>\n",
       "      <td>30510</td>\n",
       "      <td>24648</td>\n",
       "      <td>2.76</td>\n",
       "      <td>1949001</td>\n",
       "      <td>706843</td>\n",
       "      <td>1.11</td>\n",
       "      <td>11472</td>\n",
       "      <td>10296</td>\n",
       "      <td>1.19</td>\n",
       "      <td>313987</td>\n",
       "      <td>263497</td>\n",
       "      <td>2.68</td>\n",
       "      <td>2555847</td>\n",
       "      <td>954158</td>\n",
       "      <td>3.51</td>\n",
       "      <td>5151925</td>\n",
       "      <td>1469545</td>\n",
       "    </tr>\n",
       "    <tr>\n",
       "      <th>6</th>\n",
       "      <td>19-2018</td>\n",
       "      <td>1.25</td>\n",
       "      <td>30550</td>\n",
       "      <td>24409</td>\n",
       "      <td>2.85</td>\n",
       "      <td>2005665</td>\n",
       "      <td>703992</td>\n",
       "      <td>1.11</td>\n",
       "      <td>11464</td>\n",
       "      <td>10311</td>\n",
       "      <td>1.19</td>\n",
       "      <td>314225</td>\n",
       "      <td>263261</td>\n",
       "      <td>2.84</td>\n",
       "      <td>2713635</td>\n",
       "      <td>956447</td>\n",
       "      <td>3.76</td>\n",
       "      <td>5610011</td>\n",
       "      <td>1491744</td>\n",
       "    </tr>\n",
       "    <tr>\n",
       "      <th>7</th>\n",
       "      <td>20-2019</td>\n",
       "      <td>1.28</td>\n",
       "      <td>31147</td>\n",
       "      <td>24404</td>\n",
       "      <td>3.09</td>\n",
       "      <td>2185289</td>\n",
       "      <td>707505</td>\n",
       "      <td>1.13</td>\n",
       "      <td>11724</td>\n",
       "      <td>10369</td>\n",
       "      <td>1.22</td>\n",
       "      <td>320953</td>\n",
       "      <td>262547</td>\n",
       "      <td>2.96</td>\n",
       "      <td>2835674</td>\n",
       "      <td>957650</td>\n",
       "      <td>3.80</td>\n",
       "      <td>5550878</td>\n",
       "      <td>1458915</td>\n",
       "    </tr>\n",
       "    <tr>\n",
       "      <th>8</th>\n",
       "      <td>21-2020</td>\n",
       "      <td>1.35</td>\n",
       "      <td>29433</td>\n",
       "      <td>21862</td>\n",
       "      <td>2.99</td>\n",
       "      <td>2127276</td>\n",
       "      <td>711067</td>\n",
       "      <td>1.15</td>\n",
       "      <td>15917</td>\n",
       "      <td>13875</td>\n",
       "      <td>1.23</td>\n",
       "      <td>326443</td>\n",
       "      <td>265401</td>\n",
       "      <td>3.06</td>\n",
       "      <td>2997733</td>\n",
       "      <td>979776</td>\n",
       "      <td>3.82</td>\n",
       "      <td>5621710</td>\n",
       "      <td>1473474</td>\n",
       "    </tr>\n",
       "    <tr>\n",
       "      <th>9</th>\n",
       "      <td>22-2021</td>\n",
       "      <td>1.39</td>\n",
       "      <td>32156</td>\n",
       "      <td>23134</td>\n",
       "      <td>2.99</td>\n",
       "      <td>2144568</td>\n",
       "      <td>716978</td>\n",
       "      <td>1.20</td>\n",
       "      <td>19290</td>\n",
       "      <td>16123</td>\n",
       "      <td>1.27</td>\n",
       "      <td>339462</td>\n",
       "      <td>267071</td>\n",
       "      <td>3.15</td>\n",
       "      <td>3106397</td>\n",
       "      <td>985565</td>\n",
       "      <td>3.47</td>\n",
       "      <td>5130625</td>\n",
       "      <td>1477378</td>\n",
       "    </tr>\n",
       "  </tbody>\n",
       "</table>\n",
       "</div>"
      ],
      "text/plain": [
       "      YEAR  Barley_YIELD  Barley_PROD.  Barley_AREA  Wheat_YIELD  Wheat_PROD.  \\\n",
       "0  13-2012          1.28         36973        28989         2.48      1882220   \n",
       "1  14-2013          1.24         34824        28173         2.50      1883147   \n",
       "2  15-2014          1.33         37354        28053         2.59      1975625   \n",
       "3  16-2015          1.16         32801        28361         2.33      1736849   \n",
       "4  17-2016          1.11         30510        27370         2.55      1879191   \n",
       "5  18-2017          1.24         30510        24648         2.76      1949001   \n",
       "6  19-2018          1.25         30550        24409         2.85      2005665   \n",
       "7  20-2019          1.28         31147        24404         3.09      2185289   \n",
       "8  21-2020          1.35         29433        21862         2.99      2127276   \n",
       "9  22-2021          1.39         32156        23134         2.99      2144568   \n",
       "\n",
       "   Wheat_AREA  Buckwheat_YIELD  Buckwheat_PROD.  Buckwheat_AREA  \\\n",
       "0      759843             0.94            10056           10681   \n",
       "1      754474             0.98            10335           10510   \n",
       "2      762373             1.01            10870           10819   \n",
       "3      745823             1.07            11641           10842   \n",
       "4      735850             1.09            12039           11090   \n",
       "5      706843             1.11            11472           10296   \n",
       "6      703992             1.11            11464           10311   \n",
       "7      707505             1.13            11724           10369   \n",
       "8      711067             1.15            15917           13875   \n",
       "9      716978             1.20            19290           16123   \n",
       "\n",
       "   Miillet_YIELD  Miillet_PROD.  Miillet_AREA  Maize_YIELD  Maize_PROD.  \\\n",
       "0           1.11         305588        274350         2.35      1999010   \n",
       "1           1.12         304105        271183         2.46      2283222   \n",
       "2           1.15         308488        268050         2.43      2145291   \n",
       "3           1.13         302397        266799         2.50      2231517   \n",
       "4           1.16         306704        263596         2.55      2300121   \n",
       "5           1.19         313987        263497         2.68      2555847   \n",
       "6           1.19         314225        263261         2.84      2713635   \n",
       "7           1.22         320953        262547         2.96      2835674   \n",
       "8           1.23         326443        265401         3.06      2997733   \n",
       "9           1.27         339462        267071         3.15      3106397   \n",
       "\n",
       "   Maize_AREA  Paddy_YIELD  Paddy_PROD.  Paddy_AREA  \n",
       "0      849635         3.17      4504503     1420570  \n",
       "1      928761         3.39      5047047     1486951  \n",
       "2      882395         3.36      4788612     1425346  \n",
       "3      891583         3.15      4299079     1362908  \n",
       "4      900288         3.37      5230327     1552469  \n",
       "5      954158         3.51      5151925     1469545  \n",
       "6      956447         3.76      5610011     1491744  \n",
       "7      957650         3.80      5550878     1458915  \n",
       "8      979776         3.82      5621710     1473474  \n",
       "9      985565         3.47      5130625     1477378  "
      ]
     },
     "execution_count": 22,
     "metadata": {},
     "output_type": "execute_result"
    }
   ],
   "source": [
    "# delete last column\n",
    "df1=df.drop('Unnamed: 19',axis=1)\n",
    "df1"
   ]
  },
  {
   "cell_type": "code",
   "execution_count": 23,
   "id": "3455dff4",
   "metadata": {},
   "outputs": [
    {
     "data": {
      "text/plain": [
       "Index(['YEAR', 'Barley_YIELD', 'Barley_PROD.', 'Barley_AREA', 'Wheat_YIELD',\n",
       "       'Wheat_PROD.', 'Wheat_AREA', 'Buckwheat_YIELD', 'Buckwheat_PROD.',\n",
       "       'Buckwheat_AREA', 'Miillet_YIELD', 'Miillet_PROD.', 'Miillet_AREA',\n",
       "       'Maize_YIELD', 'Maize_PROD.', 'Maize_AREA', 'Paddy_YIELD',\n",
       "       'Paddy_PROD.', 'Paddy_AREA'],\n",
       "      dtype='object')"
      ]
     },
     "execution_count": 23,
     "metadata": {},
     "output_type": "execute_result"
    }
   ],
   "source": [
    "#showing all the columns\n",
    "df1.columns"
   ]
  },
  {
   "cell_type": "markdown",
   "id": "8cb50bc3",
   "metadata": {},
   "source": [
    "# Data Analysis and Visualization for Cereal Crops"
   ]
  },
  {
   "cell_type": "markdown",
   "id": "6c9c344f",
   "metadata": {},
   "source": [
    "##             1.BARLEY"
   ]
  },
  {
   "cell_type": "code",
   "execution_count": 24,
   "id": "8b04b06f",
   "metadata": {
    "scrolled": true
   },
   "outputs": [
    {
     "data": {
      "text/html": [
       "<div>\n",
       "<style scoped>\n",
       "    .dataframe tbody tr th:only-of-type {\n",
       "        vertical-align: middle;\n",
       "    }\n",
       "\n",
       "    .dataframe tbody tr th {\n",
       "        vertical-align: top;\n",
       "    }\n",
       "\n",
       "    .dataframe thead th {\n",
       "        text-align: right;\n",
       "    }\n",
       "</style>\n",
       "<table border=\"1\" class=\"dataframe\">\n",
       "  <thead>\n",
       "    <tr style=\"text-align: right;\">\n",
       "      <th></th>\n",
       "      <th>YEAR</th>\n",
       "      <th>Barley_YIELD</th>\n",
       "    </tr>\n",
       "  </thead>\n",
       "  <tbody>\n",
       "    <tr>\n",
       "      <th>0</th>\n",
       "      <td>22-2021</td>\n",
       "      <td>1.39</td>\n",
       "    </tr>\n",
       "    <tr>\n",
       "      <th>1</th>\n",
       "      <td>21-2020</td>\n",
       "      <td>1.35</td>\n",
       "    </tr>\n",
       "    <tr>\n",
       "      <th>2</th>\n",
       "      <td>15-2014</td>\n",
       "      <td>1.33</td>\n",
       "    </tr>\n",
       "    <tr>\n",
       "      <th>3</th>\n",
       "      <td>13-2012</td>\n",
       "      <td>1.28</td>\n",
       "    </tr>\n",
       "    <tr>\n",
       "      <th>4</th>\n",
       "      <td>20-2019</td>\n",
       "      <td>1.28</td>\n",
       "    </tr>\n",
       "    <tr>\n",
       "      <th>5</th>\n",
       "      <td>19-2018</td>\n",
       "      <td>1.25</td>\n",
       "    </tr>\n",
       "    <tr>\n",
       "      <th>6</th>\n",
       "      <td>14-2013</td>\n",
       "      <td>1.24</td>\n",
       "    </tr>\n",
       "    <tr>\n",
       "      <th>7</th>\n",
       "      <td>18-2017</td>\n",
       "      <td>1.24</td>\n",
       "    </tr>\n",
       "    <tr>\n",
       "      <th>8</th>\n",
       "      <td>16-2015</td>\n",
       "      <td>1.16</td>\n",
       "    </tr>\n",
       "    <tr>\n",
       "      <th>9</th>\n",
       "      <td>17-2016</td>\n",
       "      <td>1.11</td>\n",
       "    </tr>\n",
       "  </tbody>\n",
       "</table>\n",
       "</div>"
      ],
      "text/plain": [
       "      YEAR  Barley_YIELD\n",
       "0  22-2021          1.39\n",
       "1  21-2020          1.35\n",
       "2  15-2014          1.33\n",
       "3  13-2012          1.28\n",
       "4  20-2019          1.28\n",
       "5  19-2018          1.25\n",
       "6  14-2013          1.24\n",
       "7  18-2017          1.24\n",
       "8  16-2015          1.16\n",
       "9  17-2016          1.11"
      ]
     },
     "execution_count": 24,
     "metadata": {},
     "output_type": "execute_result"
    }
   ],
   "source": [
    "#Barley yield\n",
    "\n",
    "\n",
    "Barley_yield=df.groupby('YEAR')['Barley_YIELD'].sum().sort_values(ascending=False).reset_index()\n",
    "\n",
    "Barley_yield\n"
   ]
  },
  {
   "cell_type": "code",
   "execution_count": 25,
   "id": "838c38e3",
   "metadata": {},
   "outputs": [],
   "source": [
    "import plotly.express as px\n"
   ]
  },
  {
   "cell_type": "code",
   "execution_count": 31,
   "id": "64f4315c",
   "metadata": {},
   "outputs": [
    {
     "data": {
      "application/vnd.plotly.v1+json": {
       "config": {
        "plotlyServerURL": "https://plot.ly"
       },
       "data": [
        {
         "alignmentgroup": "True",
         "hovertemplate": "YEAR=%{x}<br>Barley_YIELD=%{marker.color}<extra></extra>",
         "legendgroup": "",
         "marker": {
          "color": [
           1.39,
           1.35,
           1.33,
           1.28,
           1.28,
           1.25,
           1.24,
           1.24,
           1.16,
           1.11
          ],
          "coloraxis": "coloraxis",
          "pattern": {
           "shape": ""
          }
         },
         "name": "",
         "offsetgroup": "",
         "orientation": "v",
         "showlegend": false,
         "textposition": "auto",
         "type": "bar",
         "x": [
          "22-2021",
          "21-2020",
          "15-2014",
          "13-2012",
          "20-2019",
          "19-2018",
          "14-2013",
          "18-2017",
          "16-2015",
          "17-2016"
         ],
         "xaxis": "x",
         "y": [
          1.39,
          1.35,
          1.33,
          1.28,
          1.28,
          1.25,
          1.24,
          1.24,
          1.16,
          1.11
         ],
         "yaxis": "y"
        }
       ],
       "layout": {
        "barmode": "relative",
        "coloraxis": {
         "colorbar": {
          "title": {
           "text": "Barley_YIELD"
          }
         },
         "colorscale": [
          [
           0,
           "rgb(247,251,255)"
          ],
          [
           0.125,
           "rgb(222,235,247)"
          ],
          [
           0.25,
           "rgb(198,219,239)"
          ],
          [
           0.375,
           "rgb(158,202,225)"
          ],
          [
           0.5,
           "rgb(107,174,214)"
          ],
          [
           0.625,
           "rgb(66,146,198)"
          ],
          [
           0.75,
           "rgb(33,113,181)"
          ],
          [
           0.875,
           "rgb(8,81,156)"
          ],
          [
           1,
           "rgb(8,48,107)"
          ]
         ]
        },
        "height": 600,
        "legend": {
         "tracegroupgap": 0
        },
        "template": {
         "data": {
          "bar": [
           {
            "error_x": {
             "color": "#2a3f5f"
            },
            "error_y": {
             "color": "#2a3f5f"
            },
            "marker": {
             "line": {
              "color": "#E5ECF6",
              "width": 0.5
             },
             "pattern": {
              "fillmode": "overlay",
              "size": 10,
              "solidity": 0.2
             }
            },
            "type": "bar"
           }
          ],
          "barpolar": [
           {
            "marker": {
             "line": {
              "color": "#E5ECF6",
              "width": 0.5
             },
             "pattern": {
              "fillmode": "overlay",
              "size": 10,
              "solidity": 0.2
             }
            },
            "type": "barpolar"
           }
          ],
          "carpet": [
           {
            "aaxis": {
             "endlinecolor": "#2a3f5f",
             "gridcolor": "white",
             "linecolor": "white",
             "minorgridcolor": "white",
             "startlinecolor": "#2a3f5f"
            },
            "baxis": {
             "endlinecolor": "#2a3f5f",
             "gridcolor": "white",
             "linecolor": "white",
             "minorgridcolor": "white",
             "startlinecolor": "#2a3f5f"
            },
            "type": "carpet"
           }
          ],
          "choropleth": [
           {
            "colorbar": {
             "outlinewidth": 0,
             "ticks": ""
            },
            "type": "choropleth"
           }
          ],
          "contour": [
           {
            "colorbar": {
             "outlinewidth": 0,
             "ticks": ""
            },
            "colorscale": [
             [
              0,
              "#0d0887"
             ],
             [
              0.1111111111111111,
              "#46039f"
             ],
             [
              0.2222222222222222,
              "#7201a8"
             ],
             [
              0.3333333333333333,
              "#9c179e"
             ],
             [
              0.4444444444444444,
              "#bd3786"
             ],
             [
              0.5555555555555556,
              "#d8576b"
             ],
             [
              0.6666666666666666,
              "#ed7953"
             ],
             [
              0.7777777777777778,
              "#fb9f3a"
             ],
             [
              0.8888888888888888,
              "#fdca26"
             ],
             [
              1,
              "#f0f921"
             ]
            ],
            "type": "contour"
           }
          ],
          "contourcarpet": [
           {
            "colorbar": {
             "outlinewidth": 0,
             "ticks": ""
            },
            "type": "contourcarpet"
           }
          ],
          "heatmap": [
           {
            "colorbar": {
             "outlinewidth": 0,
             "ticks": ""
            },
            "colorscale": [
             [
              0,
              "#0d0887"
             ],
             [
              0.1111111111111111,
              "#46039f"
             ],
             [
              0.2222222222222222,
              "#7201a8"
             ],
             [
              0.3333333333333333,
              "#9c179e"
             ],
             [
              0.4444444444444444,
              "#bd3786"
             ],
             [
              0.5555555555555556,
              "#d8576b"
             ],
             [
              0.6666666666666666,
              "#ed7953"
             ],
             [
              0.7777777777777778,
              "#fb9f3a"
             ],
             [
              0.8888888888888888,
              "#fdca26"
             ],
             [
              1,
              "#f0f921"
             ]
            ],
            "type": "heatmap"
           }
          ],
          "heatmapgl": [
           {
            "colorbar": {
             "outlinewidth": 0,
             "ticks": ""
            },
            "colorscale": [
             [
              0,
              "#0d0887"
             ],
             [
              0.1111111111111111,
              "#46039f"
             ],
             [
              0.2222222222222222,
              "#7201a8"
             ],
             [
              0.3333333333333333,
              "#9c179e"
             ],
             [
              0.4444444444444444,
              "#bd3786"
             ],
             [
              0.5555555555555556,
              "#d8576b"
             ],
             [
              0.6666666666666666,
              "#ed7953"
             ],
             [
              0.7777777777777778,
              "#fb9f3a"
             ],
             [
              0.8888888888888888,
              "#fdca26"
             ],
             [
              1,
              "#f0f921"
             ]
            ],
            "type": "heatmapgl"
           }
          ],
          "histogram": [
           {
            "marker": {
             "pattern": {
              "fillmode": "overlay",
              "size": 10,
              "solidity": 0.2
             }
            },
            "type": "histogram"
           }
          ],
          "histogram2d": [
           {
            "colorbar": {
             "outlinewidth": 0,
             "ticks": ""
            },
            "colorscale": [
             [
              0,
              "#0d0887"
             ],
             [
              0.1111111111111111,
              "#46039f"
             ],
             [
              0.2222222222222222,
              "#7201a8"
             ],
             [
              0.3333333333333333,
              "#9c179e"
             ],
             [
              0.4444444444444444,
              "#bd3786"
             ],
             [
              0.5555555555555556,
              "#d8576b"
             ],
             [
              0.6666666666666666,
              "#ed7953"
             ],
             [
              0.7777777777777778,
              "#fb9f3a"
             ],
             [
              0.8888888888888888,
              "#fdca26"
             ],
             [
              1,
              "#f0f921"
             ]
            ],
            "type": "histogram2d"
           }
          ],
          "histogram2dcontour": [
           {
            "colorbar": {
             "outlinewidth": 0,
             "ticks": ""
            },
            "colorscale": [
             [
              0,
              "#0d0887"
             ],
             [
              0.1111111111111111,
              "#46039f"
             ],
             [
              0.2222222222222222,
              "#7201a8"
             ],
             [
              0.3333333333333333,
              "#9c179e"
             ],
             [
              0.4444444444444444,
              "#bd3786"
             ],
             [
              0.5555555555555556,
              "#d8576b"
             ],
             [
              0.6666666666666666,
              "#ed7953"
             ],
             [
              0.7777777777777778,
              "#fb9f3a"
             ],
             [
              0.8888888888888888,
              "#fdca26"
             ],
             [
              1,
              "#f0f921"
             ]
            ],
            "type": "histogram2dcontour"
           }
          ],
          "mesh3d": [
           {
            "colorbar": {
             "outlinewidth": 0,
             "ticks": ""
            },
            "type": "mesh3d"
           }
          ],
          "parcoords": [
           {
            "line": {
             "colorbar": {
              "outlinewidth": 0,
              "ticks": ""
             }
            },
            "type": "parcoords"
           }
          ],
          "pie": [
           {
            "automargin": true,
            "type": "pie"
           }
          ],
          "scatter": [
           {
            "fillpattern": {
             "fillmode": "overlay",
             "size": 10,
             "solidity": 0.2
            },
            "type": "scatter"
           }
          ],
          "scatter3d": [
           {
            "line": {
             "colorbar": {
              "outlinewidth": 0,
              "ticks": ""
             }
            },
            "marker": {
             "colorbar": {
              "outlinewidth": 0,
              "ticks": ""
             }
            },
            "type": "scatter3d"
           }
          ],
          "scattercarpet": [
           {
            "marker": {
             "colorbar": {
              "outlinewidth": 0,
              "ticks": ""
             }
            },
            "type": "scattercarpet"
           }
          ],
          "scattergeo": [
           {
            "marker": {
             "colorbar": {
              "outlinewidth": 0,
              "ticks": ""
             }
            },
            "type": "scattergeo"
           }
          ],
          "scattergl": [
           {
            "marker": {
             "colorbar": {
              "outlinewidth": 0,
              "ticks": ""
             }
            },
            "type": "scattergl"
           }
          ],
          "scattermapbox": [
           {
            "marker": {
             "colorbar": {
              "outlinewidth": 0,
              "ticks": ""
             }
            },
            "type": "scattermapbox"
           }
          ],
          "scatterpolar": [
           {
            "marker": {
             "colorbar": {
              "outlinewidth": 0,
              "ticks": ""
             }
            },
            "type": "scatterpolar"
           }
          ],
          "scatterpolargl": [
           {
            "marker": {
             "colorbar": {
              "outlinewidth": 0,
              "ticks": ""
             }
            },
            "type": "scatterpolargl"
           }
          ],
          "scatterternary": [
           {
            "marker": {
             "colorbar": {
              "outlinewidth": 0,
              "ticks": ""
             }
            },
            "type": "scatterternary"
           }
          ],
          "surface": [
           {
            "colorbar": {
             "outlinewidth": 0,
             "ticks": ""
            },
            "colorscale": [
             [
              0,
              "#0d0887"
             ],
             [
              0.1111111111111111,
              "#46039f"
             ],
             [
              0.2222222222222222,
              "#7201a8"
             ],
             [
              0.3333333333333333,
              "#9c179e"
             ],
             [
              0.4444444444444444,
              "#bd3786"
             ],
             [
              0.5555555555555556,
              "#d8576b"
             ],
             [
              0.6666666666666666,
              "#ed7953"
             ],
             [
              0.7777777777777778,
              "#fb9f3a"
             ],
             [
              0.8888888888888888,
              "#fdca26"
             ],
             [
              1,
              "#f0f921"
             ]
            ],
            "type": "surface"
           }
          ],
          "table": [
           {
            "cells": {
             "fill": {
              "color": "#EBF0F8"
             },
             "line": {
              "color": "white"
             }
            },
            "header": {
             "fill": {
              "color": "#C8D4E3"
             },
             "line": {
              "color": "white"
             }
            },
            "type": "table"
           }
          ]
         },
         "layout": {
          "annotationdefaults": {
           "arrowcolor": "#2a3f5f",
           "arrowhead": 0,
           "arrowwidth": 1
          },
          "autotypenumbers": "strict",
          "coloraxis": {
           "colorbar": {
            "outlinewidth": 0,
            "ticks": ""
           }
          },
          "colorscale": {
           "diverging": [
            [
             0,
             "#8e0152"
            ],
            [
             0.1,
             "#c51b7d"
            ],
            [
             0.2,
             "#de77ae"
            ],
            [
             0.3,
             "#f1b6da"
            ],
            [
             0.4,
             "#fde0ef"
            ],
            [
             0.5,
             "#f7f7f7"
            ],
            [
             0.6,
             "#e6f5d0"
            ],
            [
             0.7,
             "#b8e186"
            ],
            [
             0.8,
             "#7fbc41"
            ],
            [
             0.9,
             "#4d9221"
            ],
            [
             1,
             "#276419"
            ]
           ],
           "sequential": [
            [
             0,
             "#0d0887"
            ],
            [
             0.1111111111111111,
             "#46039f"
            ],
            [
             0.2222222222222222,
             "#7201a8"
            ],
            [
             0.3333333333333333,
             "#9c179e"
            ],
            [
             0.4444444444444444,
             "#bd3786"
            ],
            [
             0.5555555555555556,
             "#d8576b"
            ],
            [
             0.6666666666666666,
             "#ed7953"
            ],
            [
             0.7777777777777778,
             "#fb9f3a"
            ],
            [
             0.8888888888888888,
             "#fdca26"
            ],
            [
             1,
             "#f0f921"
            ]
           ],
           "sequentialminus": [
            [
             0,
             "#0d0887"
            ],
            [
             0.1111111111111111,
             "#46039f"
            ],
            [
             0.2222222222222222,
             "#7201a8"
            ],
            [
             0.3333333333333333,
             "#9c179e"
            ],
            [
             0.4444444444444444,
             "#bd3786"
            ],
            [
             0.5555555555555556,
             "#d8576b"
            ],
            [
             0.6666666666666666,
             "#ed7953"
            ],
            [
             0.7777777777777778,
             "#fb9f3a"
            ],
            [
             0.8888888888888888,
             "#fdca26"
            ],
            [
             1,
             "#f0f921"
            ]
           ]
          },
          "colorway": [
           "#636efa",
           "#EF553B",
           "#00cc96",
           "#ab63fa",
           "#FFA15A",
           "#19d3f3",
           "#FF6692",
           "#B6E880",
           "#FF97FF",
           "#FECB52"
          ],
          "font": {
           "color": "#2a3f5f"
          },
          "geo": {
           "bgcolor": "white",
           "lakecolor": "white",
           "landcolor": "#E5ECF6",
           "showlakes": true,
           "showland": true,
           "subunitcolor": "white"
          },
          "hoverlabel": {
           "align": "left"
          },
          "hovermode": "closest",
          "mapbox": {
           "style": "light"
          },
          "paper_bgcolor": "white",
          "plot_bgcolor": "#E5ECF6",
          "polar": {
           "angularaxis": {
            "gridcolor": "white",
            "linecolor": "white",
            "ticks": ""
           },
           "bgcolor": "#E5ECF6",
           "radialaxis": {
            "gridcolor": "white",
            "linecolor": "white",
            "ticks": ""
           }
          },
          "scene": {
           "xaxis": {
            "backgroundcolor": "#E5ECF6",
            "gridcolor": "white",
            "gridwidth": 2,
            "linecolor": "white",
            "showbackground": true,
            "ticks": "",
            "zerolinecolor": "white"
           },
           "yaxis": {
            "backgroundcolor": "#E5ECF6",
            "gridcolor": "white",
            "gridwidth": 2,
            "linecolor": "white",
            "showbackground": true,
            "ticks": "",
            "zerolinecolor": "white"
           },
           "zaxis": {
            "backgroundcolor": "#E5ECF6",
            "gridcolor": "white",
            "gridwidth": 2,
            "linecolor": "white",
            "showbackground": true,
            "ticks": "",
            "zerolinecolor": "white"
           }
          },
          "shapedefaults": {
           "line": {
            "color": "#2a3f5f"
           }
          },
          "ternary": {
           "aaxis": {
            "gridcolor": "white",
            "linecolor": "white",
            "ticks": ""
           },
           "baxis": {
            "gridcolor": "white",
            "linecolor": "white",
            "ticks": ""
           },
           "bgcolor": "#E5ECF6",
           "caxis": {
            "gridcolor": "white",
            "linecolor": "white",
            "ticks": ""
           }
          },
          "title": {
           "x": 0.05
          },
          "xaxis": {
           "automargin": true,
           "gridcolor": "white",
           "linecolor": "white",
           "ticks": "",
           "title": {
            "standoff": 15
           },
           "zerolinecolor": "white",
           "zerolinewidth": 2
          },
          "yaxis": {
           "automargin": true,
           "gridcolor": "white",
           "linecolor": "white",
           "ticks": "",
           "title": {
            "standoff": 15
           },
           "zerolinecolor": "white",
           "zerolinewidth": 2
          }
         }
        },
        "title": {
         "text": "Total Barley yeild in ten years"
        },
        "width": 800,
        "xaxis": {
         "anchor": "y",
         "domain": [
          0,
          1
         ],
         "title": {
          "text": "year"
         }
        },
        "yaxis": {
         "anchor": "x",
         "domain": [
          0,
          1
         ],
         "title": {
          "text": "Barley Yield(mt/ht)"
         }
        }
       }
      }
     },
     "metadata": {},
     "output_type": "display_data"
    }
   ],
   "source": [
    "fig = px.bar(Barley_yield, x='YEAR', y='Barley_YIELD',\n",
    "             title='Total Barley yeild in ten years',\n",
    "             labels={'year': 'YEAR', 'Barley Yield ': 'Barley_YIELD'},\n",
    "             color='Barley_YIELD', color_continuous_scale='Blues'\n",
    "          )\n",
    "\n",
    "fig.update_layout(xaxis_title='year', yaxis_title='Barley Yield(mt/ht)')\n",
    "fig.update_layout(height=600,width=800)\n",
    "fig.show()"
   ]
  },
  {
   "cell_type": "code",
   "execution_count": 32,
   "id": "4235ff94",
   "metadata": {},
   "outputs": [
    {
     "data": {
      "text/html": [
       "<div>\n",
       "<style scoped>\n",
       "    .dataframe tbody tr th:only-of-type {\n",
       "        vertical-align: middle;\n",
       "    }\n",
       "\n",
       "    .dataframe tbody tr th {\n",
       "        vertical-align: top;\n",
       "    }\n",
       "\n",
       "    .dataframe thead th {\n",
       "        text-align: right;\n",
       "    }\n",
       "</style>\n",
       "<table border=\"1\" class=\"dataframe\">\n",
       "  <thead>\n",
       "    <tr style=\"text-align: right;\">\n",
       "      <th></th>\n",
       "      <th>YEAR</th>\n",
       "      <th>Barley_AREA</th>\n",
       "    </tr>\n",
       "  </thead>\n",
       "  <tbody>\n",
       "    <tr>\n",
       "      <th>0</th>\n",
       "      <td>13-2012</td>\n",
       "      <td>28989</td>\n",
       "    </tr>\n",
       "    <tr>\n",
       "      <th>1</th>\n",
       "      <td>16-2015</td>\n",
       "      <td>28361</td>\n",
       "    </tr>\n",
       "    <tr>\n",
       "      <th>2</th>\n",
       "      <td>14-2013</td>\n",
       "      <td>28173</td>\n",
       "    </tr>\n",
       "    <tr>\n",
       "      <th>3</th>\n",
       "      <td>15-2014</td>\n",
       "      <td>28053</td>\n",
       "    </tr>\n",
       "    <tr>\n",
       "      <th>4</th>\n",
       "      <td>17-2016</td>\n",
       "      <td>27370</td>\n",
       "    </tr>\n",
       "    <tr>\n",
       "      <th>5</th>\n",
       "      <td>18-2017</td>\n",
       "      <td>24648</td>\n",
       "    </tr>\n",
       "    <tr>\n",
       "      <th>6</th>\n",
       "      <td>19-2018</td>\n",
       "      <td>24409</td>\n",
       "    </tr>\n",
       "    <tr>\n",
       "      <th>7</th>\n",
       "      <td>20-2019</td>\n",
       "      <td>24404</td>\n",
       "    </tr>\n",
       "    <tr>\n",
       "      <th>8</th>\n",
       "      <td>22-2021</td>\n",
       "      <td>23134</td>\n",
       "    </tr>\n",
       "    <tr>\n",
       "      <th>9</th>\n",
       "      <td>21-2020</td>\n",
       "      <td>21862</td>\n",
       "    </tr>\n",
       "  </tbody>\n",
       "</table>\n",
       "</div>"
      ],
      "text/plain": [
       "      YEAR  Barley_AREA\n",
       "0  13-2012        28989\n",
       "1  16-2015        28361\n",
       "2  14-2013        28173\n",
       "3  15-2014        28053\n",
       "4  17-2016        27370\n",
       "5  18-2017        24648\n",
       "6  19-2018        24409\n",
       "7  20-2019        24404\n",
       "8  22-2021        23134\n",
       "9  21-2020        21862"
      ]
     },
     "execution_count": 32,
     "metadata": {},
     "output_type": "execute_result"
    }
   ],
   "source": [
    "# Barley area\n",
    "\n",
    "barley_area=df.groupby('YEAR')['Barley_AREA'].sum().sort_values(ascending=False).reset_index()\n",
    "\n",
    "barley_area"
   ]
  },
  {
   "cell_type": "code",
   "execution_count": 34,
   "id": "510d81f6",
   "metadata": {},
   "outputs": [
    {
     "data": {
      "application/vnd.plotly.v1+json": {
       "config": {
        "plotlyServerURL": "https://plot.ly"
       },
       "data": [
        {
         "hovertemplate": "Barley_AREA=%{y}<br>YEAR=%{x}<extra></extra>",
         "legendgroup": "28989",
         "line": {
          "color": "#636efa",
          "dash": "solid",
          "shape": "linear"
         },
         "marker": {
          "size": 20,
          "symbol": "circle"
         },
         "mode": "lines+markers",
         "name": "28989",
         "orientation": "v",
         "showlegend": true,
         "type": "scatter",
         "x": [
          "13-2012"
         ],
         "xaxis": "x",
         "y": [
          28989
         ],
         "yaxis": "y"
        },
        {
         "hovertemplate": "Barley_AREA=%{y}<br>YEAR=%{x}<extra></extra>",
         "legendgroup": "28361",
         "line": {
          "color": "#EF553B",
          "dash": "solid",
          "shape": "linear"
         },
         "marker": {
          "size": 20,
          "symbol": "circle"
         },
         "mode": "lines+markers",
         "name": "28361",
         "orientation": "v",
         "showlegend": true,
         "type": "scatter",
         "x": [
          "16-2015"
         ],
         "xaxis": "x",
         "y": [
          28361
         ],
         "yaxis": "y"
        },
        {
         "hovertemplate": "Barley_AREA=%{y}<br>YEAR=%{x}<extra></extra>",
         "legendgroup": "28173",
         "line": {
          "color": "#00cc96",
          "dash": "solid",
          "shape": "linear"
         },
         "marker": {
          "size": 20,
          "symbol": "circle"
         },
         "mode": "lines+markers",
         "name": "28173",
         "orientation": "v",
         "showlegend": true,
         "type": "scatter",
         "x": [
          "14-2013"
         ],
         "xaxis": "x",
         "y": [
          28173
         ],
         "yaxis": "y"
        },
        {
         "hovertemplate": "Barley_AREA=%{y}<br>YEAR=%{x}<extra></extra>",
         "legendgroup": "28053",
         "line": {
          "color": "#ab63fa",
          "dash": "solid",
          "shape": "linear"
         },
         "marker": {
          "size": 20,
          "symbol": "circle"
         },
         "mode": "lines+markers",
         "name": "28053",
         "orientation": "v",
         "showlegend": true,
         "type": "scatter",
         "x": [
          "15-2014"
         ],
         "xaxis": "x",
         "y": [
          28053
         ],
         "yaxis": "y"
        },
        {
         "hovertemplate": "Barley_AREA=%{y}<br>YEAR=%{x}<extra></extra>",
         "legendgroup": "27370",
         "line": {
          "color": "#FFA15A",
          "dash": "solid",
          "shape": "linear"
         },
         "marker": {
          "size": 20,
          "symbol": "circle"
         },
         "mode": "lines+markers",
         "name": "27370",
         "orientation": "v",
         "showlegend": true,
         "type": "scatter",
         "x": [
          "17-2016"
         ],
         "xaxis": "x",
         "y": [
          27370
         ],
         "yaxis": "y"
        },
        {
         "hovertemplate": "Barley_AREA=%{y}<br>YEAR=%{x}<extra></extra>",
         "legendgroup": "24648",
         "line": {
          "color": "#19d3f3",
          "dash": "solid",
          "shape": "linear"
         },
         "marker": {
          "size": 20,
          "symbol": "circle"
         },
         "mode": "lines+markers",
         "name": "24648",
         "orientation": "v",
         "showlegend": true,
         "type": "scatter",
         "x": [
          "18-2017"
         ],
         "xaxis": "x",
         "y": [
          24648
         ],
         "yaxis": "y"
        },
        {
         "hovertemplate": "Barley_AREA=%{y}<br>YEAR=%{x}<extra></extra>",
         "legendgroup": "24409",
         "line": {
          "color": "#FF6692",
          "dash": "solid",
          "shape": "linear"
         },
         "marker": {
          "size": 20,
          "symbol": "circle"
         },
         "mode": "lines+markers",
         "name": "24409",
         "orientation": "v",
         "showlegend": true,
         "type": "scatter",
         "x": [
          "19-2018"
         ],
         "xaxis": "x",
         "y": [
          24409
         ],
         "yaxis": "y"
        },
        {
         "hovertemplate": "Barley_AREA=%{y}<br>YEAR=%{x}<extra></extra>",
         "legendgroup": "24404",
         "line": {
          "color": "#B6E880",
          "dash": "solid",
          "shape": "linear"
         },
         "marker": {
          "size": 20,
          "symbol": "circle"
         },
         "mode": "lines+markers",
         "name": "24404",
         "orientation": "v",
         "showlegend": true,
         "type": "scatter",
         "x": [
          "20-2019"
         ],
         "xaxis": "x",
         "y": [
          24404
         ],
         "yaxis": "y"
        },
        {
         "hovertemplate": "Barley_AREA=%{y}<br>YEAR=%{x}<extra></extra>",
         "legendgroup": "23134",
         "line": {
          "color": "#FF97FF",
          "dash": "solid",
          "shape": "linear"
         },
         "marker": {
          "size": 20,
          "symbol": "circle"
         },
         "mode": "lines+markers",
         "name": "23134",
         "orientation": "v",
         "showlegend": true,
         "type": "scatter",
         "x": [
          "22-2021"
         ],
         "xaxis": "x",
         "y": [
          23134
         ],
         "yaxis": "y"
        },
        {
         "hovertemplate": "Barley_AREA=%{y}<br>YEAR=%{x}<extra></extra>",
         "legendgroup": "21862",
         "line": {
          "color": "#FECB52",
          "dash": "solid",
          "shape": "linear"
         },
         "marker": {
          "size": 20,
          "symbol": "circle"
         },
         "mode": "lines+markers",
         "name": "21862",
         "orientation": "v",
         "showlegend": true,
         "type": "scatter",
         "x": [
          "21-2020"
         ],
         "xaxis": "x",
         "y": [
          21862
         ],
         "yaxis": "y"
        }
       ],
       "layout": {
        "height": 600,
        "legend": {
         "title": {
          "text": "Barley_AREA"
         },
         "tracegroupgap": 0
        },
        "template": {
         "data": {
          "bar": [
           {
            "error_x": {
             "color": "#2a3f5f"
            },
            "error_y": {
             "color": "#2a3f5f"
            },
            "marker": {
             "line": {
              "color": "#E5ECF6",
              "width": 0.5
             },
             "pattern": {
              "fillmode": "overlay",
              "size": 10,
              "solidity": 0.2
             }
            },
            "type": "bar"
           }
          ],
          "barpolar": [
           {
            "marker": {
             "line": {
              "color": "#E5ECF6",
              "width": 0.5
             },
             "pattern": {
              "fillmode": "overlay",
              "size": 10,
              "solidity": 0.2
             }
            },
            "type": "barpolar"
           }
          ],
          "carpet": [
           {
            "aaxis": {
             "endlinecolor": "#2a3f5f",
             "gridcolor": "white",
             "linecolor": "white",
             "minorgridcolor": "white",
             "startlinecolor": "#2a3f5f"
            },
            "baxis": {
             "endlinecolor": "#2a3f5f",
             "gridcolor": "white",
             "linecolor": "white",
             "minorgridcolor": "white",
             "startlinecolor": "#2a3f5f"
            },
            "type": "carpet"
           }
          ],
          "choropleth": [
           {
            "colorbar": {
             "outlinewidth": 0,
             "ticks": ""
            },
            "type": "choropleth"
           }
          ],
          "contour": [
           {
            "colorbar": {
             "outlinewidth": 0,
             "ticks": ""
            },
            "colorscale": [
             [
              0,
              "#0d0887"
             ],
             [
              0.1111111111111111,
              "#46039f"
             ],
             [
              0.2222222222222222,
              "#7201a8"
             ],
             [
              0.3333333333333333,
              "#9c179e"
             ],
             [
              0.4444444444444444,
              "#bd3786"
             ],
             [
              0.5555555555555556,
              "#d8576b"
             ],
             [
              0.6666666666666666,
              "#ed7953"
             ],
             [
              0.7777777777777778,
              "#fb9f3a"
             ],
             [
              0.8888888888888888,
              "#fdca26"
             ],
             [
              1,
              "#f0f921"
             ]
            ],
            "type": "contour"
           }
          ],
          "contourcarpet": [
           {
            "colorbar": {
             "outlinewidth": 0,
             "ticks": ""
            },
            "type": "contourcarpet"
           }
          ],
          "heatmap": [
           {
            "colorbar": {
             "outlinewidth": 0,
             "ticks": ""
            },
            "colorscale": [
             [
              0,
              "#0d0887"
             ],
             [
              0.1111111111111111,
              "#46039f"
             ],
             [
              0.2222222222222222,
              "#7201a8"
             ],
             [
              0.3333333333333333,
              "#9c179e"
             ],
             [
              0.4444444444444444,
              "#bd3786"
             ],
             [
              0.5555555555555556,
              "#d8576b"
             ],
             [
              0.6666666666666666,
              "#ed7953"
             ],
             [
              0.7777777777777778,
              "#fb9f3a"
             ],
             [
              0.8888888888888888,
              "#fdca26"
             ],
             [
              1,
              "#f0f921"
             ]
            ],
            "type": "heatmap"
           }
          ],
          "heatmapgl": [
           {
            "colorbar": {
             "outlinewidth": 0,
             "ticks": ""
            },
            "colorscale": [
             [
              0,
              "#0d0887"
             ],
             [
              0.1111111111111111,
              "#46039f"
             ],
             [
              0.2222222222222222,
              "#7201a8"
             ],
             [
              0.3333333333333333,
              "#9c179e"
             ],
             [
              0.4444444444444444,
              "#bd3786"
             ],
             [
              0.5555555555555556,
              "#d8576b"
             ],
             [
              0.6666666666666666,
              "#ed7953"
             ],
             [
              0.7777777777777778,
              "#fb9f3a"
             ],
             [
              0.8888888888888888,
              "#fdca26"
             ],
             [
              1,
              "#f0f921"
             ]
            ],
            "type": "heatmapgl"
           }
          ],
          "histogram": [
           {
            "marker": {
             "pattern": {
              "fillmode": "overlay",
              "size": 10,
              "solidity": 0.2
             }
            },
            "type": "histogram"
           }
          ],
          "histogram2d": [
           {
            "colorbar": {
             "outlinewidth": 0,
             "ticks": ""
            },
            "colorscale": [
             [
              0,
              "#0d0887"
             ],
             [
              0.1111111111111111,
              "#46039f"
             ],
             [
              0.2222222222222222,
              "#7201a8"
             ],
             [
              0.3333333333333333,
              "#9c179e"
             ],
             [
              0.4444444444444444,
              "#bd3786"
             ],
             [
              0.5555555555555556,
              "#d8576b"
             ],
             [
              0.6666666666666666,
              "#ed7953"
             ],
             [
              0.7777777777777778,
              "#fb9f3a"
             ],
             [
              0.8888888888888888,
              "#fdca26"
             ],
             [
              1,
              "#f0f921"
             ]
            ],
            "type": "histogram2d"
           }
          ],
          "histogram2dcontour": [
           {
            "colorbar": {
             "outlinewidth": 0,
             "ticks": ""
            },
            "colorscale": [
             [
              0,
              "#0d0887"
             ],
             [
              0.1111111111111111,
              "#46039f"
             ],
             [
              0.2222222222222222,
              "#7201a8"
             ],
             [
              0.3333333333333333,
              "#9c179e"
             ],
             [
              0.4444444444444444,
              "#bd3786"
             ],
             [
              0.5555555555555556,
              "#d8576b"
             ],
             [
              0.6666666666666666,
              "#ed7953"
             ],
             [
              0.7777777777777778,
              "#fb9f3a"
             ],
             [
              0.8888888888888888,
              "#fdca26"
             ],
             [
              1,
              "#f0f921"
             ]
            ],
            "type": "histogram2dcontour"
           }
          ],
          "mesh3d": [
           {
            "colorbar": {
             "outlinewidth": 0,
             "ticks": ""
            },
            "type": "mesh3d"
           }
          ],
          "parcoords": [
           {
            "line": {
             "colorbar": {
              "outlinewidth": 0,
              "ticks": ""
             }
            },
            "type": "parcoords"
           }
          ],
          "pie": [
           {
            "automargin": true,
            "type": "pie"
           }
          ],
          "scatter": [
           {
            "fillpattern": {
             "fillmode": "overlay",
             "size": 10,
             "solidity": 0.2
            },
            "type": "scatter"
           }
          ],
          "scatter3d": [
           {
            "line": {
             "colorbar": {
              "outlinewidth": 0,
              "ticks": ""
             }
            },
            "marker": {
             "colorbar": {
              "outlinewidth": 0,
              "ticks": ""
             }
            },
            "type": "scatter3d"
           }
          ],
          "scattercarpet": [
           {
            "marker": {
             "colorbar": {
              "outlinewidth": 0,
              "ticks": ""
             }
            },
            "type": "scattercarpet"
           }
          ],
          "scattergeo": [
           {
            "marker": {
             "colorbar": {
              "outlinewidth": 0,
              "ticks": ""
             }
            },
            "type": "scattergeo"
           }
          ],
          "scattergl": [
           {
            "marker": {
             "colorbar": {
              "outlinewidth": 0,
              "ticks": ""
             }
            },
            "type": "scattergl"
           }
          ],
          "scattermapbox": [
           {
            "marker": {
             "colorbar": {
              "outlinewidth": 0,
              "ticks": ""
             }
            },
            "type": "scattermapbox"
           }
          ],
          "scatterpolar": [
           {
            "marker": {
             "colorbar": {
              "outlinewidth": 0,
              "ticks": ""
             }
            },
            "type": "scatterpolar"
           }
          ],
          "scatterpolargl": [
           {
            "marker": {
             "colorbar": {
              "outlinewidth": 0,
              "ticks": ""
             }
            },
            "type": "scatterpolargl"
           }
          ],
          "scatterternary": [
           {
            "marker": {
             "colorbar": {
              "outlinewidth": 0,
              "ticks": ""
             }
            },
            "type": "scatterternary"
           }
          ],
          "surface": [
           {
            "colorbar": {
             "outlinewidth": 0,
             "ticks": ""
            },
            "colorscale": [
             [
              0,
              "#0d0887"
             ],
             [
              0.1111111111111111,
              "#46039f"
             ],
             [
              0.2222222222222222,
              "#7201a8"
             ],
             [
              0.3333333333333333,
              "#9c179e"
             ],
             [
              0.4444444444444444,
              "#bd3786"
             ],
             [
              0.5555555555555556,
              "#d8576b"
             ],
             [
              0.6666666666666666,
              "#ed7953"
             ],
             [
              0.7777777777777778,
              "#fb9f3a"
             ],
             [
              0.8888888888888888,
              "#fdca26"
             ],
             [
              1,
              "#f0f921"
             ]
            ],
            "type": "surface"
           }
          ],
          "table": [
           {
            "cells": {
             "fill": {
              "color": "#EBF0F8"
             },
             "line": {
              "color": "white"
             }
            },
            "header": {
             "fill": {
              "color": "#C8D4E3"
             },
             "line": {
              "color": "white"
             }
            },
            "type": "table"
           }
          ]
         },
         "layout": {
          "annotationdefaults": {
           "arrowcolor": "#2a3f5f",
           "arrowhead": 0,
           "arrowwidth": 1
          },
          "autotypenumbers": "strict",
          "coloraxis": {
           "colorbar": {
            "outlinewidth": 0,
            "ticks": ""
           }
          },
          "colorscale": {
           "diverging": [
            [
             0,
             "#8e0152"
            ],
            [
             0.1,
             "#c51b7d"
            ],
            [
             0.2,
             "#de77ae"
            ],
            [
             0.3,
             "#f1b6da"
            ],
            [
             0.4,
             "#fde0ef"
            ],
            [
             0.5,
             "#f7f7f7"
            ],
            [
             0.6,
             "#e6f5d0"
            ],
            [
             0.7,
             "#b8e186"
            ],
            [
             0.8,
             "#7fbc41"
            ],
            [
             0.9,
             "#4d9221"
            ],
            [
             1,
             "#276419"
            ]
           ],
           "sequential": [
            [
             0,
             "#0d0887"
            ],
            [
             0.1111111111111111,
             "#46039f"
            ],
            [
             0.2222222222222222,
             "#7201a8"
            ],
            [
             0.3333333333333333,
             "#9c179e"
            ],
            [
             0.4444444444444444,
             "#bd3786"
            ],
            [
             0.5555555555555556,
             "#d8576b"
            ],
            [
             0.6666666666666666,
             "#ed7953"
            ],
            [
             0.7777777777777778,
             "#fb9f3a"
            ],
            [
             0.8888888888888888,
             "#fdca26"
            ],
            [
             1,
             "#f0f921"
            ]
           ],
           "sequentialminus": [
            [
             0,
             "#0d0887"
            ],
            [
             0.1111111111111111,
             "#46039f"
            ],
            [
             0.2222222222222222,
             "#7201a8"
            ],
            [
             0.3333333333333333,
             "#9c179e"
            ],
            [
             0.4444444444444444,
             "#bd3786"
            ],
            [
             0.5555555555555556,
             "#d8576b"
            ],
            [
             0.6666666666666666,
             "#ed7953"
            ],
            [
             0.7777777777777778,
             "#fb9f3a"
            ],
            [
             0.8888888888888888,
             "#fdca26"
            ],
            [
             1,
             "#f0f921"
            ]
           ]
          },
          "colorway": [
           "#636efa",
           "#EF553B",
           "#00cc96",
           "#ab63fa",
           "#FFA15A",
           "#19d3f3",
           "#FF6692",
           "#B6E880",
           "#FF97FF",
           "#FECB52"
          ],
          "font": {
           "color": "#2a3f5f"
          },
          "geo": {
           "bgcolor": "white",
           "lakecolor": "white",
           "landcolor": "#E5ECF6",
           "showlakes": true,
           "showland": true,
           "subunitcolor": "white"
          },
          "hoverlabel": {
           "align": "left"
          },
          "hovermode": "closest",
          "mapbox": {
           "style": "light"
          },
          "paper_bgcolor": "white",
          "plot_bgcolor": "#E5ECF6",
          "polar": {
           "angularaxis": {
            "gridcolor": "white",
            "linecolor": "white",
            "ticks": ""
           },
           "bgcolor": "#E5ECF6",
           "radialaxis": {
            "gridcolor": "white",
            "linecolor": "white",
            "ticks": ""
           }
          },
          "scene": {
           "xaxis": {
            "backgroundcolor": "#E5ECF6",
            "gridcolor": "white",
            "gridwidth": 2,
            "linecolor": "white",
            "showbackground": true,
            "ticks": "",
            "zerolinecolor": "white"
           },
           "yaxis": {
            "backgroundcolor": "#E5ECF6",
            "gridcolor": "white",
            "gridwidth": 2,
            "linecolor": "white",
            "showbackground": true,
            "ticks": "",
            "zerolinecolor": "white"
           },
           "zaxis": {
            "backgroundcolor": "#E5ECF6",
            "gridcolor": "white",
            "gridwidth": 2,
            "linecolor": "white",
            "showbackground": true,
            "ticks": "",
            "zerolinecolor": "white"
           }
          },
          "shapedefaults": {
           "line": {
            "color": "#2a3f5f"
           }
          },
          "ternary": {
           "aaxis": {
            "gridcolor": "white",
            "linecolor": "white",
            "ticks": ""
           },
           "baxis": {
            "gridcolor": "white",
            "linecolor": "white",
            "ticks": ""
           },
           "bgcolor": "#E5ECF6",
           "caxis": {
            "gridcolor": "white",
            "linecolor": "white",
            "ticks": ""
           }
          },
          "title": {
           "x": 0.05
          },
          "xaxis": {
           "automargin": true,
           "gridcolor": "white",
           "linecolor": "white",
           "ticks": "",
           "title": {
            "standoff": 15
           },
           "zerolinecolor": "white",
           "zerolinewidth": 2
          },
          "yaxis": {
           "automargin": true,
           "gridcolor": "white",
           "linecolor": "white",
           "ticks": "",
           "title": {
            "standoff": 15
           },
           "zerolinecolor": "white",
           "zerolinewidth": 2
          }
         }
        },
        "title": {
         "text": " Total Barley production Areas in last 10 Year"
        },
        "width": 800,
        "xaxis": {
         "anchor": "y",
         "domain": [
          0,
          1
         ],
         "title": {
          "text": "year"
         }
        },
        "yaxis": {
         "anchor": "x",
         "categoryarray": [
          21862,
          23134,
          24404,
          24409,
          24648,
          27370,
          28053,
          28173,
          28361,
          28989
         ],
         "categoryorder": "array",
         "domain": [
          0,
          1
         ],
         "title": {
          "text": "Barley Area (ht)"
         }
        }
       }
      }
     },
     "metadata": {},
     "output_type": "display_data"
    }
   ],
   "source": [
    "fig=px.line(barley_area, x='YEAR', y='Barley_AREA',title=' Total Barley production Areas in last 10 Year',\n",
    "          labels={'year':'YEAR','Barley Area':'Barley_AREA'},\n",
    "           color='Barley_AREA',\n",
    "            line_shape=\"linear\",\n",
    "            markers=True\n",
    "          )\n",
    "fig.update_layout(xaxis_title='year', yaxis_title='Barley Area (ht)')\n",
    "fig.update_traces(marker=dict(size=20))\n",
    "fig.update_layout(height=600, width=800)\n",
    "fig.show()\n"
   ]
  },
  {
   "cell_type": "code",
   "execution_count": 35,
   "id": "8af7a8eb",
   "metadata": {},
   "outputs": [
    {
     "data": {
      "text/html": [
       "<div>\n",
       "<style scoped>\n",
       "    .dataframe tbody tr th:only-of-type {\n",
       "        vertical-align: middle;\n",
       "    }\n",
       "\n",
       "    .dataframe tbody tr th {\n",
       "        vertical-align: top;\n",
       "    }\n",
       "\n",
       "    .dataframe thead th {\n",
       "        text-align: right;\n",
       "    }\n",
       "</style>\n",
       "<table border=\"1\" class=\"dataframe\">\n",
       "  <thead>\n",
       "    <tr style=\"text-align: right;\">\n",
       "      <th></th>\n",
       "      <th>YEAR</th>\n",
       "      <th>Barley_PROD.</th>\n",
       "    </tr>\n",
       "  </thead>\n",
       "  <tbody>\n",
       "    <tr>\n",
       "      <th>0</th>\n",
       "      <td>15-2014</td>\n",
       "      <td>37354</td>\n",
       "    </tr>\n",
       "    <tr>\n",
       "      <th>1</th>\n",
       "      <td>13-2012</td>\n",
       "      <td>36973</td>\n",
       "    </tr>\n",
       "    <tr>\n",
       "      <th>2</th>\n",
       "      <td>14-2013</td>\n",
       "      <td>34824</td>\n",
       "    </tr>\n",
       "    <tr>\n",
       "      <th>3</th>\n",
       "      <td>16-2015</td>\n",
       "      <td>32801</td>\n",
       "    </tr>\n",
       "    <tr>\n",
       "      <th>4</th>\n",
       "      <td>22-2021</td>\n",
       "      <td>32156</td>\n",
       "    </tr>\n",
       "    <tr>\n",
       "      <th>5</th>\n",
       "      <td>20-2019</td>\n",
       "      <td>31147</td>\n",
       "    </tr>\n",
       "    <tr>\n",
       "      <th>6</th>\n",
       "      <td>19-2018</td>\n",
       "      <td>30550</td>\n",
       "    </tr>\n",
       "    <tr>\n",
       "      <th>7</th>\n",
       "      <td>17-2016</td>\n",
       "      <td>30510</td>\n",
       "    </tr>\n",
       "    <tr>\n",
       "      <th>8</th>\n",
       "      <td>18-2017</td>\n",
       "      <td>30510</td>\n",
       "    </tr>\n",
       "    <tr>\n",
       "      <th>9</th>\n",
       "      <td>21-2020</td>\n",
       "      <td>29433</td>\n",
       "    </tr>\n",
       "  </tbody>\n",
       "</table>\n",
       "</div>"
      ],
      "text/plain": [
       "      YEAR  Barley_PROD.\n",
       "0  15-2014         37354\n",
       "1  13-2012         36973\n",
       "2  14-2013         34824\n",
       "3  16-2015         32801\n",
       "4  22-2021         32156\n",
       "5  20-2019         31147\n",
       "6  19-2018         30550\n",
       "7  17-2016         30510\n",
       "8  18-2017         30510\n",
       "9  21-2020         29433"
      ]
     },
     "execution_count": 35,
     "metadata": {},
     "output_type": "execute_result"
    }
   ],
   "source": [
    "#Barley production \n",
    "barley_year=df.groupby('YEAR')['Barley_PROD.'].sum().sort_values(ascending=False).reset_index()\n",
    "\n",
    "barley_year"
   ]
  },
  {
   "cell_type": "code",
   "execution_count": 36,
   "id": "bd2524e3",
   "metadata": {},
   "outputs": [
    {
     "data": {
      "application/vnd.plotly.v1+json": {
       "config": {
        "plotlyServerURL": "https://plot.ly"
       },
       "data": [
        {
         "customdata": [
          [
           "15-2014"
          ],
          [
           "13-2012"
          ],
          [
           "14-2013"
          ],
          [
           "16-2015"
          ],
          [
           "22-2021"
          ],
          [
           "20-2019"
          ],
          [
           "19-2018"
          ],
          [
           "17-2016"
          ],
          [
           "18-2017"
          ],
          [
           "21-2020"
          ]
         ],
         "domain": {
          "x": [
           0,
           1
          ],
          "y": [
           0,
           1
          ]
         },
         "hole": 0.1,
         "hovertemplate": "YEAR=%{customdata[0]}<br>Barley_PROD.=%{value}<extra></extra>",
         "labels": [
          "15-2014",
          "13-2012",
          "14-2013",
          "16-2015",
          "22-2021",
          "20-2019",
          "19-2018",
          "17-2016",
          "18-2017",
          "21-2020"
         ],
         "legendgroup": "",
         "marker": {
          "colors": [
           "#440154",
           "#482878",
           "#3e4989",
           "#31688e",
           "#26828e",
           "#1f9e89",
           "#35b779",
           "#6ece58",
           "#b5de2b",
           "#fde725"
          ]
         },
         "name": "",
         "showlegend": true,
         "type": "pie",
         "values": [
          37354,
          36973,
          34824,
          32801,
          32156,
          31147,
          30550,
          30510,
          30510,
          29433
         ]
        }
       ],
       "layout": {
        "height": 600,
        "legend": {
         "tracegroupgap": 0
        },
        "piecolorway": [
         "#440154",
         "#482878",
         "#3e4989",
         "#31688e",
         "#26828e",
         "#1f9e89",
         "#35b779",
         "#6ece58",
         "#b5de2b",
         "#fde725"
        ],
        "template": {
         "data": {
          "bar": [
           {
            "error_x": {
             "color": "#2a3f5f"
            },
            "error_y": {
             "color": "#2a3f5f"
            },
            "marker": {
             "line": {
              "color": "#E5ECF6",
              "width": 0.5
             },
             "pattern": {
              "fillmode": "overlay",
              "size": 10,
              "solidity": 0.2
             }
            },
            "type": "bar"
           }
          ],
          "barpolar": [
           {
            "marker": {
             "line": {
              "color": "#E5ECF6",
              "width": 0.5
             },
             "pattern": {
              "fillmode": "overlay",
              "size": 10,
              "solidity": 0.2
             }
            },
            "type": "barpolar"
           }
          ],
          "carpet": [
           {
            "aaxis": {
             "endlinecolor": "#2a3f5f",
             "gridcolor": "white",
             "linecolor": "white",
             "minorgridcolor": "white",
             "startlinecolor": "#2a3f5f"
            },
            "baxis": {
             "endlinecolor": "#2a3f5f",
             "gridcolor": "white",
             "linecolor": "white",
             "minorgridcolor": "white",
             "startlinecolor": "#2a3f5f"
            },
            "type": "carpet"
           }
          ],
          "choropleth": [
           {
            "colorbar": {
             "outlinewidth": 0,
             "ticks": ""
            },
            "type": "choropleth"
           }
          ],
          "contour": [
           {
            "colorbar": {
             "outlinewidth": 0,
             "ticks": ""
            },
            "colorscale": [
             [
              0,
              "#0d0887"
             ],
             [
              0.1111111111111111,
              "#46039f"
             ],
             [
              0.2222222222222222,
              "#7201a8"
             ],
             [
              0.3333333333333333,
              "#9c179e"
             ],
             [
              0.4444444444444444,
              "#bd3786"
             ],
             [
              0.5555555555555556,
              "#d8576b"
             ],
             [
              0.6666666666666666,
              "#ed7953"
             ],
             [
              0.7777777777777778,
              "#fb9f3a"
             ],
             [
              0.8888888888888888,
              "#fdca26"
             ],
             [
              1,
              "#f0f921"
             ]
            ],
            "type": "contour"
           }
          ],
          "contourcarpet": [
           {
            "colorbar": {
             "outlinewidth": 0,
             "ticks": ""
            },
            "type": "contourcarpet"
           }
          ],
          "heatmap": [
           {
            "colorbar": {
             "outlinewidth": 0,
             "ticks": ""
            },
            "colorscale": [
             [
              0,
              "#0d0887"
             ],
             [
              0.1111111111111111,
              "#46039f"
             ],
             [
              0.2222222222222222,
              "#7201a8"
             ],
             [
              0.3333333333333333,
              "#9c179e"
             ],
             [
              0.4444444444444444,
              "#bd3786"
             ],
             [
              0.5555555555555556,
              "#d8576b"
             ],
             [
              0.6666666666666666,
              "#ed7953"
             ],
             [
              0.7777777777777778,
              "#fb9f3a"
             ],
             [
              0.8888888888888888,
              "#fdca26"
             ],
             [
              1,
              "#f0f921"
             ]
            ],
            "type": "heatmap"
           }
          ],
          "heatmapgl": [
           {
            "colorbar": {
             "outlinewidth": 0,
             "ticks": ""
            },
            "colorscale": [
             [
              0,
              "#0d0887"
             ],
             [
              0.1111111111111111,
              "#46039f"
             ],
             [
              0.2222222222222222,
              "#7201a8"
             ],
             [
              0.3333333333333333,
              "#9c179e"
             ],
             [
              0.4444444444444444,
              "#bd3786"
             ],
             [
              0.5555555555555556,
              "#d8576b"
             ],
             [
              0.6666666666666666,
              "#ed7953"
             ],
             [
              0.7777777777777778,
              "#fb9f3a"
             ],
             [
              0.8888888888888888,
              "#fdca26"
             ],
             [
              1,
              "#f0f921"
             ]
            ],
            "type": "heatmapgl"
           }
          ],
          "histogram": [
           {
            "marker": {
             "pattern": {
              "fillmode": "overlay",
              "size": 10,
              "solidity": 0.2
             }
            },
            "type": "histogram"
           }
          ],
          "histogram2d": [
           {
            "colorbar": {
             "outlinewidth": 0,
             "ticks": ""
            },
            "colorscale": [
             [
              0,
              "#0d0887"
             ],
             [
              0.1111111111111111,
              "#46039f"
             ],
             [
              0.2222222222222222,
              "#7201a8"
             ],
             [
              0.3333333333333333,
              "#9c179e"
             ],
             [
              0.4444444444444444,
              "#bd3786"
             ],
             [
              0.5555555555555556,
              "#d8576b"
             ],
             [
              0.6666666666666666,
              "#ed7953"
             ],
             [
              0.7777777777777778,
              "#fb9f3a"
             ],
             [
              0.8888888888888888,
              "#fdca26"
             ],
             [
              1,
              "#f0f921"
             ]
            ],
            "type": "histogram2d"
           }
          ],
          "histogram2dcontour": [
           {
            "colorbar": {
             "outlinewidth": 0,
             "ticks": ""
            },
            "colorscale": [
             [
              0,
              "#0d0887"
             ],
             [
              0.1111111111111111,
              "#46039f"
             ],
             [
              0.2222222222222222,
              "#7201a8"
             ],
             [
              0.3333333333333333,
              "#9c179e"
             ],
             [
              0.4444444444444444,
              "#bd3786"
             ],
             [
              0.5555555555555556,
              "#d8576b"
             ],
             [
              0.6666666666666666,
              "#ed7953"
             ],
             [
              0.7777777777777778,
              "#fb9f3a"
             ],
             [
              0.8888888888888888,
              "#fdca26"
             ],
             [
              1,
              "#f0f921"
             ]
            ],
            "type": "histogram2dcontour"
           }
          ],
          "mesh3d": [
           {
            "colorbar": {
             "outlinewidth": 0,
             "ticks": ""
            },
            "type": "mesh3d"
           }
          ],
          "parcoords": [
           {
            "line": {
             "colorbar": {
              "outlinewidth": 0,
              "ticks": ""
             }
            },
            "type": "parcoords"
           }
          ],
          "pie": [
           {
            "automargin": true,
            "type": "pie"
           }
          ],
          "scatter": [
           {
            "fillpattern": {
             "fillmode": "overlay",
             "size": 10,
             "solidity": 0.2
            },
            "type": "scatter"
           }
          ],
          "scatter3d": [
           {
            "line": {
             "colorbar": {
              "outlinewidth": 0,
              "ticks": ""
             }
            },
            "marker": {
             "colorbar": {
              "outlinewidth": 0,
              "ticks": ""
             }
            },
            "type": "scatter3d"
           }
          ],
          "scattercarpet": [
           {
            "marker": {
             "colorbar": {
              "outlinewidth": 0,
              "ticks": ""
             }
            },
            "type": "scattercarpet"
           }
          ],
          "scattergeo": [
           {
            "marker": {
             "colorbar": {
              "outlinewidth": 0,
              "ticks": ""
             }
            },
            "type": "scattergeo"
           }
          ],
          "scattergl": [
           {
            "marker": {
             "colorbar": {
              "outlinewidth": 0,
              "ticks": ""
             }
            },
            "type": "scattergl"
           }
          ],
          "scattermapbox": [
           {
            "marker": {
             "colorbar": {
              "outlinewidth": 0,
              "ticks": ""
             }
            },
            "type": "scattermapbox"
           }
          ],
          "scatterpolar": [
           {
            "marker": {
             "colorbar": {
              "outlinewidth": 0,
              "ticks": ""
             }
            },
            "type": "scatterpolar"
           }
          ],
          "scatterpolargl": [
           {
            "marker": {
             "colorbar": {
              "outlinewidth": 0,
              "ticks": ""
             }
            },
            "type": "scatterpolargl"
           }
          ],
          "scatterternary": [
           {
            "marker": {
             "colorbar": {
              "outlinewidth": 0,
              "ticks": ""
             }
            },
            "type": "scatterternary"
           }
          ],
          "surface": [
           {
            "colorbar": {
             "outlinewidth": 0,
             "ticks": ""
            },
            "colorscale": [
             [
              0,
              "#0d0887"
             ],
             [
              0.1111111111111111,
              "#46039f"
             ],
             [
              0.2222222222222222,
              "#7201a8"
             ],
             [
              0.3333333333333333,
              "#9c179e"
             ],
             [
              0.4444444444444444,
              "#bd3786"
             ],
             [
              0.5555555555555556,
              "#d8576b"
             ],
             [
              0.6666666666666666,
              "#ed7953"
             ],
             [
              0.7777777777777778,
              "#fb9f3a"
             ],
             [
              0.8888888888888888,
              "#fdca26"
             ],
             [
              1,
              "#f0f921"
             ]
            ],
            "type": "surface"
           }
          ],
          "table": [
           {
            "cells": {
             "fill": {
              "color": "#EBF0F8"
             },
             "line": {
              "color": "white"
             }
            },
            "header": {
             "fill": {
              "color": "#C8D4E3"
             },
             "line": {
              "color": "white"
             }
            },
            "type": "table"
           }
          ]
         },
         "layout": {
          "annotationdefaults": {
           "arrowcolor": "#2a3f5f",
           "arrowhead": 0,
           "arrowwidth": 1
          },
          "autotypenumbers": "strict",
          "coloraxis": {
           "colorbar": {
            "outlinewidth": 0,
            "ticks": ""
           }
          },
          "colorscale": {
           "diverging": [
            [
             0,
             "#8e0152"
            ],
            [
             0.1,
             "#c51b7d"
            ],
            [
             0.2,
             "#de77ae"
            ],
            [
             0.3,
             "#f1b6da"
            ],
            [
             0.4,
             "#fde0ef"
            ],
            [
             0.5,
             "#f7f7f7"
            ],
            [
             0.6,
             "#e6f5d0"
            ],
            [
             0.7,
             "#b8e186"
            ],
            [
             0.8,
             "#7fbc41"
            ],
            [
             0.9,
             "#4d9221"
            ],
            [
             1,
             "#276419"
            ]
           ],
           "sequential": [
            [
             0,
             "#0d0887"
            ],
            [
             0.1111111111111111,
             "#46039f"
            ],
            [
             0.2222222222222222,
             "#7201a8"
            ],
            [
             0.3333333333333333,
             "#9c179e"
            ],
            [
             0.4444444444444444,
             "#bd3786"
            ],
            [
             0.5555555555555556,
             "#d8576b"
            ],
            [
             0.6666666666666666,
             "#ed7953"
            ],
            [
             0.7777777777777778,
             "#fb9f3a"
            ],
            [
             0.8888888888888888,
             "#fdca26"
            ],
            [
             1,
             "#f0f921"
            ]
           ],
           "sequentialminus": [
            [
             0,
             "#0d0887"
            ],
            [
             0.1111111111111111,
             "#46039f"
            ],
            [
             0.2222222222222222,
             "#7201a8"
            ],
            [
             0.3333333333333333,
             "#9c179e"
            ],
            [
             0.4444444444444444,
             "#bd3786"
            ],
            [
             0.5555555555555556,
             "#d8576b"
            ],
            [
             0.6666666666666666,
             "#ed7953"
            ],
            [
             0.7777777777777778,
             "#fb9f3a"
            ],
            [
             0.8888888888888888,
             "#fdca26"
            ],
            [
             1,
             "#f0f921"
            ]
           ]
          },
          "colorway": [
           "#636efa",
           "#EF553B",
           "#00cc96",
           "#ab63fa",
           "#FFA15A",
           "#19d3f3",
           "#FF6692",
           "#B6E880",
           "#FF97FF",
           "#FECB52"
          ],
          "font": {
           "color": "#2a3f5f"
          },
          "geo": {
           "bgcolor": "white",
           "lakecolor": "white",
           "landcolor": "#E5ECF6",
           "showlakes": true,
           "showland": true,
           "subunitcolor": "white"
          },
          "hoverlabel": {
           "align": "left"
          },
          "hovermode": "closest",
          "mapbox": {
           "style": "light"
          },
          "paper_bgcolor": "white",
          "plot_bgcolor": "#E5ECF6",
          "polar": {
           "angularaxis": {
            "gridcolor": "white",
            "linecolor": "white",
            "ticks": ""
           },
           "bgcolor": "#E5ECF6",
           "radialaxis": {
            "gridcolor": "white",
            "linecolor": "white",
            "ticks": ""
           }
          },
          "scene": {
           "xaxis": {
            "backgroundcolor": "#E5ECF6",
            "gridcolor": "white",
            "gridwidth": 2,
            "linecolor": "white",
            "showbackground": true,
            "ticks": "",
            "zerolinecolor": "white"
           },
           "yaxis": {
            "backgroundcolor": "#E5ECF6",
            "gridcolor": "white",
            "gridwidth": 2,
            "linecolor": "white",
            "showbackground": true,
            "ticks": "",
            "zerolinecolor": "white"
           },
           "zaxis": {
            "backgroundcolor": "#E5ECF6",
            "gridcolor": "white",
            "gridwidth": 2,
            "linecolor": "white",
            "showbackground": true,
            "ticks": "",
            "zerolinecolor": "white"
           }
          },
          "shapedefaults": {
           "line": {
            "color": "#2a3f5f"
           }
          },
          "ternary": {
           "aaxis": {
            "gridcolor": "white",
            "linecolor": "white",
            "ticks": ""
           },
           "baxis": {
            "gridcolor": "white",
            "linecolor": "white",
            "ticks": ""
           },
           "bgcolor": "#E5ECF6",
           "caxis": {
            "gridcolor": "white",
            "linecolor": "white",
            "ticks": ""
           }
          },
          "title": {
           "x": 0.05
          },
          "xaxis": {
           "automargin": true,
           "gridcolor": "white",
           "linecolor": "white",
           "ticks": "",
           "title": {
            "standoff": 15
           },
           "zerolinecolor": "white",
           "zerolinewidth": 2
          },
          "yaxis": {
           "automargin": true,
           "gridcolor": "white",
           "linecolor": "white",
           "ticks": "",
           "title": {
            "standoff": 15
           },
           "zerolinecolor": "white",
           "zerolinewidth": 2
          }
         }
        },
        "title": {
         "text": "Total Barley Production in last 10 year"
        },
        "width": 800
       }
      }
     },
     "metadata": {},
     "output_type": "display_data"
    }
   ],
   "source": [
    "fig = px.pie(barley_year, names='YEAR', values='Barley_PROD.',\n",
    "             title='Total Barley Production in last 10 year',\n",
    "             labels={'Year': 'YEAR', 'Barley Production': 'Barley_PROD.'},\n",
    "             color='YEAR', color_discrete_sequence=px.colors.sequential.Viridis,\n",
    "             hole=0.1\n",
    "             )\n",
    "fig.update_layout(height=600,width=800)\n",
    "fig.show()"
   ]
  },
  {
   "cell_type": "markdown",
   "id": "abd2d849",
   "metadata": {},
   "source": [
    "as we see in 2014 barley production was high"
   ]
  },
  {
   "cell_type": "markdown",
   "id": "9e8c32c2",
   "metadata": {},
   "source": [
    "## 2. WHEAT "
   ]
  },
  {
   "cell_type": "code",
   "execution_count": 38,
   "id": "79ecc4e6",
   "metadata": {},
   "outputs": [
    {
     "data": {
      "text/html": [
       "<div>\n",
       "<style scoped>\n",
       "    .dataframe tbody tr th:only-of-type {\n",
       "        vertical-align: middle;\n",
       "    }\n",
       "\n",
       "    .dataframe tbody tr th {\n",
       "        vertical-align: top;\n",
       "    }\n",
       "\n",
       "    .dataframe thead th {\n",
       "        text-align: right;\n",
       "    }\n",
       "</style>\n",
       "<table border=\"1\" class=\"dataframe\">\n",
       "  <thead>\n",
       "    <tr style=\"text-align: right;\">\n",
       "      <th></th>\n",
       "      <th>YEAR</th>\n",
       "      <th>Wheat_YIELD</th>\n",
       "    </tr>\n",
       "  </thead>\n",
       "  <tbody>\n",
       "    <tr>\n",
       "      <th>0</th>\n",
       "      <td>20-2019</td>\n",
       "      <td>3.09</td>\n",
       "    </tr>\n",
       "    <tr>\n",
       "      <th>1</th>\n",
       "      <td>21-2020</td>\n",
       "      <td>2.99</td>\n",
       "    </tr>\n",
       "    <tr>\n",
       "      <th>2</th>\n",
       "      <td>22-2021</td>\n",
       "      <td>2.99</td>\n",
       "    </tr>\n",
       "    <tr>\n",
       "      <th>3</th>\n",
       "      <td>19-2018</td>\n",
       "      <td>2.85</td>\n",
       "    </tr>\n",
       "    <tr>\n",
       "      <th>4</th>\n",
       "      <td>18-2017</td>\n",
       "      <td>2.76</td>\n",
       "    </tr>\n",
       "    <tr>\n",
       "      <th>5</th>\n",
       "      <td>15-2014</td>\n",
       "      <td>2.59</td>\n",
       "    </tr>\n",
       "    <tr>\n",
       "      <th>6</th>\n",
       "      <td>17-2016</td>\n",
       "      <td>2.55</td>\n",
       "    </tr>\n",
       "    <tr>\n",
       "      <th>7</th>\n",
       "      <td>14-2013</td>\n",
       "      <td>2.50</td>\n",
       "    </tr>\n",
       "    <tr>\n",
       "      <th>8</th>\n",
       "      <td>13-2012</td>\n",
       "      <td>2.48</td>\n",
       "    </tr>\n",
       "    <tr>\n",
       "      <th>9</th>\n",
       "      <td>16-2015</td>\n",
       "      <td>2.33</td>\n",
       "    </tr>\n",
       "  </tbody>\n",
       "</table>\n",
       "</div>"
      ],
      "text/plain": [
       "      YEAR  Wheat_YIELD\n",
       "0  20-2019         3.09\n",
       "1  21-2020         2.99\n",
       "2  22-2021         2.99\n",
       "3  19-2018         2.85\n",
       "4  18-2017         2.76\n",
       "5  15-2014         2.59\n",
       "6  17-2016         2.55\n",
       "7  14-2013         2.50\n",
       "8  13-2012         2.48\n",
       "9  16-2015         2.33"
      ]
     },
     "execution_count": 38,
     "metadata": {},
     "output_type": "execute_result"
    }
   ],
   "source": [
    "# Wheat yield\n",
    "wheat_yield=df1.groupby('YEAR')['Wheat_YIELD'].sum().sort_values(ascending=False).reset_index()\n",
    "wheat_yield\n"
   ]
  },
  {
   "cell_type": "code",
   "execution_count": 39,
   "id": "a5cce1c6",
   "metadata": {},
   "outputs": [
    {
     "data": {
      "application/vnd.plotly.v1+json": {
       "config": {
        "plotlyServerURL": "https://plot.ly"
       },
       "data": [
        {
         "hovertemplate": "Wheat_YIELD=%{y}<br>YEAR=%{x}<extra></extra>",
         "legendgroup": "3.09",
         "line": {
          "color": "#636efa",
          "dash": "solid",
          "shape": "linear"
         },
         "marker": {
          "size": 20,
          "symbol": "circle"
         },
         "mode": "lines+markers",
         "name": "3.09",
         "orientation": "v",
         "showlegend": true,
         "type": "scatter",
         "x": [
          "20-2019"
         ],
         "xaxis": "x",
         "y": [
          3.09
         ],
         "yaxis": "y"
        },
        {
         "hovertemplate": "Wheat_YIELD=%{y}<br>YEAR=%{x}<extra></extra>",
         "legendgroup": "2.99",
         "line": {
          "color": "#EF553B",
          "dash": "solid",
          "shape": "linear"
         },
         "marker": {
          "size": 20,
          "symbol": "circle"
         },
         "mode": "lines+markers",
         "name": "2.99",
         "orientation": "v",
         "showlegend": true,
         "type": "scatter",
         "x": [
          "21-2020",
          "22-2021"
         ],
         "xaxis": "x",
         "y": [
          2.99,
          2.99
         ],
         "yaxis": "y"
        },
        {
         "hovertemplate": "Wheat_YIELD=%{y}<br>YEAR=%{x}<extra></extra>",
         "legendgroup": "2.85",
         "line": {
          "color": "#00cc96",
          "dash": "solid",
          "shape": "linear"
         },
         "marker": {
          "size": 20,
          "symbol": "circle"
         },
         "mode": "lines+markers",
         "name": "2.85",
         "orientation": "v",
         "showlegend": true,
         "type": "scatter",
         "x": [
          "19-2018"
         ],
         "xaxis": "x",
         "y": [
          2.85
         ],
         "yaxis": "y"
        },
        {
         "hovertemplate": "Wheat_YIELD=%{y}<br>YEAR=%{x}<extra></extra>",
         "legendgroup": "2.76",
         "line": {
          "color": "#ab63fa",
          "dash": "solid",
          "shape": "linear"
         },
         "marker": {
          "size": 20,
          "symbol": "circle"
         },
         "mode": "lines+markers",
         "name": "2.76",
         "orientation": "v",
         "showlegend": true,
         "type": "scatter",
         "x": [
          "18-2017"
         ],
         "xaxis": "x",
         "y": [
          2.76
         ],
         "yaxis": "y"
        },
        {
         "hovertemplate": "Wheat_YIELD=%{y}<br>YEAR=%{x}<extra></extra>",
         "legendgroup": "2.59",
         "line": {
          "color": "#FFA15A",
          "dash": "solid",
          "shape": "linear"
         },
         "marker": {
          "size": 20,
          "symbol": "circle"
         },
         "mode": "lines+markers",
         "name": "2.59",
         "orientation": "v",
         "showlegend": true,
         "type": "scatter",
         "x": [
          "15-2014"
         ],
         "xaxis": "x",
         "y": [
          2.59
         ],
         "yaxis": "y"
        },
        {
         "hovertemplate": "Wheat_YIELD=%{y}<br>YEAR=%{x}<extra></extra>",
         "legendgroup": "2.55",
         "line": {
          "color": "#19d3f3",
          "dash": "solid",
          "shape": "linear"
         },
         "marker": {
          "size": 20,
          "symbol": "circle"
         },
         "mode": "lines+markers",
         "name": "2.55",
         "orientation": "v",
         "showlegend": true,
         "type": "scatter",
         "x": [
          "17-2016"
         ],
         "xaxis": "x",
         "y": [
          2.55
         ],
         "yaxis": "y"
        },
        {
         "hovertemplate": "Wheat_YIELD=%{y}<br>YEAR=%{x}<extra></extra>",
         "legendgroup": "2.5",
         "line": {
          "color": "#FF6692",
          "dash": "solid",
          "shape": "linear"
         },
         "marker": {
          "size": 20,
          "symbol": "circle"
         },
         "mode": "lines+markers",
         "name": "2.5",
         "orientation": "v",
         "showlegend": true,
         "type": "scatter",
         "x": [
          "14-2013"
         ],
         "xaxis": "x",
         "y": [
          2.5
         ],
         "yaxis": "y"
        },
        {
         "hovertemplate": "Wheat_YIELD=%{y}<br>YEAR=%{x}<extra></extra>",
         "legendgroup": "2.48",
         "line": {
          "color": "#B6E880",
          "dash": "solid",
          "shape": "linear"
         },
         "marker": {
          "size": 20,
          "symbol": "circle"
         },
         "mode": "lines+markers",
         "name": "2.48",
         "orientation": "v",
         "showlegend": true,
         "type": "scatter",
         "x": [
          "13-2012"
         ],
         "xaxis": "x",
         "y": [
          2.48
         ],
         "yaxis": "y"
        },
        {
         "hovertemplate": "Wheat_YIELD=%{y}<br>YEAR=%{x}<extra></extra>",
         "legendgroup": "2.33",
         "line": {
          "color": "#FF97FF",
          "dash": "solid",
          "shape": "linear"
         },
         "marker": {
          "size": 20,
          "symbol": "circle"
         },
         "mode": "lines+markers",
         "name": "2.33",
         "orientation": "v",
         "showlegend": true,
         "type": "scatter",
         "x": [
          "16-2015"
         ],
         "xaxis": "x",
         "y": [
          2.33
         ],
         "yaxis": "y"
        }
       ],
       "layout": {
        "height": 600,
        "legend": {
         "title": {
          "text": "Wheat_YIELD"
         },
         "tracegroupgap": 0
        },
        "template": {
         "data": {
          "pie": [
           {
            "automargin": true,
            "type": "pie"
           }
          ]
         },
         "layout": {
          "xaxis": {
           "showgrid": true,
           "title": {
            "standoff": 15
           }
          },
          "yaxis": {
           "showgrid": true,
           "title": {
            "standoff": 15
           }
          }
         }
        },
        "title": {
         "text": "Total Wheat yield in last 10 years"
        },
        "width": 800,
        "xaxis": {
         "anchor": "y",
         "domain": [
          0,
          1
         ],
         "title": {
          "text": "Year"
         }
        },
        "yaxis": {
         "anchor": "x",
         "categoryarray": [
          2.33,
          2.48,
          2.5,
          2.55,
          2.59,
          2.76,
          2.85,
          2.99,
          3.09
         ],
         "categoryorder": "array",
         "domain": [
          0,
          1
         ],
         "title": {
          "text": "Wheat yeild(mt/ht)"
         }
        }
       }
      }
     },
     "metadata": {},
     "output_type": "display_data"
    }
   ],
   "source": [
    "fig = px.line(wheat_yield, x='YEAR', y='Wheat_YIELD',\n",
    "             title='Total Wheat yield in last 10 years',\n",
    "             labels={'year': 'YEAR', 'WHEAT yield ': 'Wheat_YIELD'},\n",
    "             color='Wheat_YIELD',\n",
    "             line_shape=\"linear\",\n",
    "            markers=True,\n",
    "            \n",
    "             )\n",
    "\n",
    "fig.update_layout(xaxis_title='Year', yaxis_title='Wheat yeild(mt/ht)')\n",
    "fig.update_layout(template='gridon')\n",
    "fig.update_traces(marker=dict(size=20))\n",
    "fig.update_layout(height=600,width=800)\n",
    "fig.show()"
   ]
  },
  {
   "cell_type": "code",
   "execution_count": 40,
   "id": "6ac180b3",
   "metadata": {},
   "outputs": [
    {
     "data": {
      "text/html": [
       "<div>\n",
       "<style scoped>\n",
       "    .dataframe tbody tr th:only-of-type {\n",
       "        vertical-align: middle;\n",
       "    }\n",
       "\n",
       "    .dataframe tbody tr th {\n",
       "        vertical-align: top;\n",
       "    }\n",
       "\n",
       "    .dataframe thead th {\n",
       "        text-align: right;\n",
       "    }\n",
       "</style>\n",
       "<table border=\"1\" class=\"dataframe\">\n",
       "  <thead>\n",
       "    <tr style=\"text-align: right;\">\n",
       "      <th></th>\n",
       "      <th>YEAR</th>\n",
       "      <th>Wheat_AREA</th>\n",
       "    </tr>\n",
       "  </thead>\n",
       "  <tbody>\n",
       "    <tr>\n",
       "      <th>0</th>\n",
       "      <td>15-2014</td>\n",
       "      <td>762373</td>\n",
       "    </tr>\n",
       "    <tr>\n",
       "      <th>1</th>\n",
       "      <td>13-2012</td>\n",
       "      <td>759843</td>\n",
       "    </tr>\n",
       "    <tr>\n",
       "      <th>2</th>\n",
       "      <td>14-2013</td>\n",
       "      <td>754474</td>\n",
       "    </tr>\n",
       "    <tr>\n",
       "      <th>3</th>\n",
       "      <td>16-2015</td>\n",
       "      <td>745823</td>\n",
       "    </tr>\n",
       "    <tr>\n",
       "      <th>4</th>\n",
       "      <td>17-2016</td>\n",
       "      <td>735850</td>\n",
       "    </tr>\n",
       "    <tr>\n",
       "      <th>5</th>\n",
       "      <td>22-2021</td>\n",
       "      <td>716978</td>\n",
       "    </tr>\n",
       "    <tr>\n",
       "      <th>6</th>\n",
       "      <td>21-2020</td>\n",
       "      <td>711067</td>\n",
       "    </tr>\n",
       "    <tr>\n",
       "      <th>7</th>\n",
       "      <td>20-2019</td>\n",
       "      <td>707505</td>\n",
       "    </tr>\n",
       "    <tr>\n",
       "      <th>8</th>\n",
       "      <td>18-2017</td>\n",
       "      <td>706843</td>\n",
       "    </tr>\n",
       "    <tr>\n",
       "      <th>9</th>\n",
       "      <td>19-2018</td>\n",
       "      <td>703992</td>\n",
       "    </tr>\n",
       "  </tbody>\n",
       "</table>\n",
       "</div>"
      ],
      "text/plain": [
       "      YEAR  Wheat_AREA\n",
       "0  15-2014      762373\n",
       "1  13-2012      759843\n",
       "2  14-2013      754474\n",
       "3  16-2015      745823\n",
       "4  17-2016      735850\n",
       "5  22-2021      716978\n",
       "6  21-2020      711067\n",
       "7  20-2019      707505\n",
       "8  18-2017      706843\n",
       "9  19-2018      703992"
      ]
     },
     "execution_count": 40,
     "metadata": {},
     "output_type": "execute_result"
    }
   ],
   "source": [
    "#Wheat area\n",
    "wheat_area=df1.groupby('YEAR')['Wheat_AREA'].sum().sort_values(ascending=False).reset_index()\n",
    "\n",
    "wheat_area\n",
    "\n",
    "\n"
   ]
  },
  {
   "cell_type": "code",
   "execution_count": 42,
   "id": "fda3a876",
   "metadata": {},
   "outputs": [
    {
     "data": {
      "application/vnd.plotly.v1+json": {
       "config": {
        "plotlyServerURL": "https://plot.ly"
       },
       "data": [
        {
         "alignmentgroup": "True",
         "hovertemplate": "YEAR=%{x}<br>Wheat_AREA=%{marker.color}<extra></extra>",
         "legendgroup": "",
         "marker": {
          "color": [
           762373,
           759843,
           754474,
           745823,
           735850,
           716978,
           711067,
           707505,
           706843,
           703992
          ],
          "coloraxis": "coloraxis",
          "pattern": {
           "shape": ""
          }
         },
         "name": "",
         "offsetgroup": "",
         "orientation": "v",
         "showlegend": false,
         "textposition": "auto",
         "type": "bar",
         "x": [
          "15-2014",
          "13-2012",
          "14-2013",
          "16-2015",
          "17-2016",
          "22-2021",
          "21-2020",
          "20-2019",
          "18-2017",
          "19-2018"
         ],
         "xaxis": "x",
         "y": [
          762373,
          759843,
          754474,
          745823,
          735850,
          716978,
          711067,
          707505,
          706843,
          703992
         ],
         "yaxis": "y"
        }
       ],
       "layout": {
        "barmode": "relative",
        "coloraxis": {
         "colorbar": {
          "title": {
           "text": "Wheat_AREA"
          }
         },
         "colorscale": [
          [
           0,
           "rgb(243, 231, 155)"
          ],
          [
           0.16666666666666666,
           "rgb(250, 196, 132)"
          ],
          [
           0.3333333333333333,
           "rgb(248, 160, 126)"
          ],
          [
           0.5,
           "rgb(235, 127, 134)"
          ],
          [
           0.6666666666666666,
           "rgb(206, 102, 147)"
          ],
          [
           0.8333333333333334,
           "rgb(160, 89, 160)"
          ],
          [
           1,
           "rgb(92, 83, 165)"
          ]
         ]
        },
        "height": 600,
        "legend": {
         "tracegroupgap": 0
        },
        "template": {
         "data": {
          "bar": [
           {
            "error_x": {
             "color": "#2a3f5f"
            },
            "error_y": {
             "color": "#2a3f5f"
            },
            "marker": {
             "line": {
              "color": "#E5ECF6",
              "width": 0.5
             },
             "pattern": {
              "fillmode": "overlay",
              "size": 10,
              "solidity": 0.2
             }
            },
            "type": "bar"
           }
          ],
          "barpolar": [
           {
            "marker": {
             "line": {
              "color": "#E5ECF6",
              "width": 0.5
             },
             "pattern": {
              "fillmode": "overlay",
              "size": 10,
              "solidity": 0.2
             }
            },
            "type": "barpolar"
           }
          ],
          "carpet": [
           {
            "aaxis": {
             "endlinecolor": "#2a3f5f",
             "gridcolor": "white",
             "linecolor": "white",
             "minorgridcolor": "white",
             "startlinecolor": "#2a3f5f"
            },
            "baxis": {
             "endlinecolor": "#2a3f5f",
             "gridcolor": "white",
             "linecolor": "white",
             "minorgridcolor": "white",
             "startlinecolor": "#2a3f5f"
            },
            "type": "carpet"
           }
          ],
          "choropleth": [
           {
            "colorbar": {
             "outlinewidth": 0,
             "ticks": ""
            },
            "type": "choropleth"
           }
          ],
          "contour": [
           {
            "colorbar": {
             "outlinewidth": 0,
             "ticks": ""
            },
            "colorscale": [
             [
              0,
              "#0d0887"
             ],
             [
              0.1111111111111111,
              "#46039f"
             ],
             [
              0.2222222222222222,
              "#7201a8"
             ],
             [
              0.3333333333333333,
              "#9c179e"
             ],
             [
              0.4444444444444444,
              "#bd3786"
             ],
             [
              0.5555555555555556,
              "#d8576b"
             ],
             [
              0.6666666666666666,
              "#ed7953"
             ],
             [
              0.7777777777777778,
              "#fb9f3a"
             ],
             [
              0.8888888888888888,
              "#fdca26"
             ],
             [
              1,
              "#f0f921"
             ]
            ],
            "type": "contour"
           }
          ],
          "contourcarpet": [
           {
            "colorbar": {
             "outlinewidth": 0,
             "ticks": ""
            },
            "type": "contourcarpet"
           }
          ],
          "heatmap": [
           {
            "colorbar": {
             "outlinewidth": 0,
             "ticks": ""
            },
            "colorscale": [
             [
              0,
              "#0d0887"
             ],
             [
              0.1111111111111111,
              "#46039f"
             ],
             [
              0.2222222222222222,
              "#7201a8"
             ],
             [
              0.3333333333333333,
              "#9c179e"
             ],
             [
              0.4444444444444444,
              "#bd3786"
             ],
             [
              0.5555555555555556,
              "#d8576b"
             ],
             [
              0.6666666666666666,
              "#ed7953"
             ],
             [
              0.7777777777777778,
              "#fb9f3a"
             ],
             [
              0.8888888888888888,
              "#fdca26"
             ],
             [
              1,
              "#f0f921"
             ]
            ],
            "type": "heatmap"
           }
          ],
          "heatmapgl": [
           {
            "colorbar": {
             "outlinewidth": 0,
             "ticks": ""
            },
            "colorscale": [
             [
              0,
              "#0d0887"
             ],
             [
              0.1111111111111111,
              "#46039f"
             ],
             [
              0.2222222222222222,
              "#7201a8"
             ],
             [
              0.3333333333333333,
              "#9c179e"
             ],
             [
              0.4444444444444444,
              "#bd3786"
             ],
             [
              0.5555555555555556,
              "#d8576b"
             ],
             [
              0.6666666666666666,
              "#ed7953"
             ],
             [
              0.7777777777777778,
              "#fb9f3a"
             ],
             [
              0.8888888888888888,
              "#fdca26"
             ],
             [
              1,
              "#f0f921"
             ]
            ],
            "type": "heatmapgl"
           }
          ],
          "histogram": [
           {
            "marker": {
             "pattern": {
              "fillmode": "overlay",
              "size": 10,
              "solidity": 0.2
             }
            },
            "type": "histogram"
           }
          ],
          "histogram2d": [
           {
            "colorbar": {
             "outlinewidth": 0,
             "ticks": ""
            },
            "colorscale": [
             [
              0,
              "#0d0887"
             ],
             [
              0.1111111111111111,
              "#46039f"
             ],
             [
              0.2222222222222222,
              "#7201a8"
             ],
             [
              0.3333333333333333,
              "#9c179e"
             ],
             [
              0.4444444444444444,
              "#bd3786"
             ],
             [
              0.5555555555555556,
              "#d8576b"
             ],
             [
              0.6666666666666666,
              "#ed7953"
             ],
             [
              0.7777777777777778,
              "#fb9f3a"
             ],
             [
              0.8888888888888888,
              "#fdca26"
             ],
             [
              1,
              "#f0f921"
             ]
            ],
            "type": "histogram2d"
           }
          ],
          "histogram2dcontour": [
           {
            "colorbar": {
             "outlinewidth": 0,
             "ticks": ""
            },
            "colorscale": [
             [
              0,
              "#0d0887"
             ],
             [
              0.1111111111111111,
              "#46039f"
             ],
             [
              0.2222222222222222,
              "#7201a8"
             ],
             [
              0.3333333333333333,
              "#9c179e"
             ],
             [
              0.4444444444444444,
              "#bd3786"
             ],
             [
              0.5555555555555556,
              "#d8576b"
             ],
             [
              0.6666666666666666,
              "#ed7953"
             ],
             [
              0.7777777777777778,
              "#fb9f3a"
             ],
             [
              0.8888888888888888,
              "#fdca26"
             ],
             [
              1,
              "#f0f921"
             ]
            ],
            "type": "histogram2dcontour"
           }
          ],
          "mesh3d": [
           {
            "colorbar": {
             "outlinewidth": 0,
             "ticks": ""
            },
            "type": "mesh3d"
           }
          ],
          "parcoords": [
           {
            "line": {
             "colorbar": {
              "outlinewidth": 0,
              "ticks": ""
             }
            },
            "type": "parcoords"
           }
          ],
          "pie": [
           {
            "automargin": true,
            "type": "pie"
           }
          ],
          "scatter": [
           {
            "fillpattern": {
             "fillmode": "overlay",
             "size": 10,
             "solidity": 0.2
            },
            "type": "scatter"
           }
          ],
          "scatter3d": [
           {
            "line": {
             "colorbar": {
              "outlinewidth": 0,
              "ticks": ""
             }
            },
            "marker": {
             "colorbar": {
              "outlinewidth": 0,
              "ticks": ""
             }
            },
            "type": "scatter3d"
           }
          ],
          "scattercarpet": [
           {
            "marker": {
             "colorbar": {
              "outlinewidth": 0,
              "ticks": ""
             }
            },
            "type": "scattercarpet"
           }
          ],
          "scattergeo": [
           {
            "marker": {
             "colorbar": {
              "outlinewidth": 0,
              "ticks": ""
             }
            },
            "type": "scattergeo"
           }
          ],
          "scattergl": [
           {
            "marker": {
             "colorbar": {
              "outlinewidth": 0,
              "ticks": ""
             }
            },
            "type": "scattergl"
           }
          ],
          "scattermapbox": [
           {
            "marker": {
             "colorbar": {
              "outlinewidth": 0,
              "ticks": ""
             }
            },
            "type": "scattermapbox"
           }
          ],
          "scatterpolar": [
           {
            "marker": {
             "colorbar": {
              "outlinewidth": 0,
              "ticks": ""
             }
            },
            "type": "scatterpolar"
           }
          ],
          "scatterpolargl": [
           {
            "marker": {
             "colorbar": {
              "outlinewidth": 0,
              "ticks": ""
             }
            },
            "type": "scatterpolargl"
           }
          ],
          "scatterternary": [
           {
            "marker": {
             "colorbar": {
              "outlinewidth": 0,
              "ticks": ""
             }
            },
            "type": "scatterternary"
           }
          ],
          "surface": [
           {
            "colorbar": {
             "outlinewidth": 0,
             "ticks": ""
            },
            "colorscale": [
             [
              0,
              "#0d0887"
             ],
             [
              0.1111111111111111,
              "#46039f"
             ],
             [
              0.2222222222222222,
              "#7201a8"
             ],
             [
              0.3333333333333333,
              "#9c179e"
             ],
             [
              0.4444444444444444,
              "#bd3786"
             ],
             [
              0.5555555555555556,
              "#d8576b"
             ],
             [
              0.6666666666666666,
              "#ed7953"
             ],
             [
              0.7777777777777778,
              "#fb9f3a"
             ],
             [
              0.8888888888888888,
              "#fdca26"
             ],
             [
              1,
              "#f0f921"
             ]
            ],
            "type": "surface"
           }
          ],
          "table": [
           {
            "cells": {
             "fill": {
              "color": "#EBF0F8"
             },
             "line": {
              "color": "white"
             }
            },
            "header": {
             "fill": {
              "color": "#C8D4E3"
             },
             "line": {
              "color": "white"
             }
            },
            "type": "table"
           }
          ]
         },
         "layout": {
          "annotationdefaults": {
           "arrowcolor": "#2a3f5f",
           "arrowhead": 0,
           "arrowwidth": 1
          },
          "autotypenumbers": "strict",
          "coloraxis": {
           "colorbar": {
            "outlinewidth": 0,
            "ticks": ""
           }
          },
          "colorscale": {
           "diverging": [
            [
             0,
             "#8e0152"
            ],
            [
             0.1,
             "#c51b7d"
            ],
            [
             0.2,
             "#de77ae"
            ],
            [
             0.3,
             "#f1b6da"
            ],
            [
             0.4,
             "#fde0ef"
            ],
            [
             0.5,
             "#f7f7f7"
            ],
            [
             0.6,
             "#e6f5d0"
            ],
            [
             0.7,
             "#b8e186"
            ],
            [
             0.8,
             "#7fbc41"
            ],
            [
             0.9,
             "#4d9221"
            ],
            [
             1,
             "#276419"
            ]
           ],
           "sequential": [
            [
             0,
             "#0d0887"
            ],
            [
             0.1111111111111111,
             "#46039f"
            ],
            [
             0.2222222222222222,
             "#7201a8"
            ],
            [
             0.3333333333333333,
             "#9c179e"
            ],
            [
             0.4444444444444444,
             "#bd3786"
            ],
            [
             0.5555555555555556,
             "#d8576b"
            ],
            [
             0.6666666666666666,
             "#ed7953"
            ],
            [
             0.7777777777777778,
             "#fb9f3a"
            ],
            [
             0.8888888888888888,
             "#fdca26"
            ],
            [
             1,
             "#f0f921"
            ]
           ],
           "sequentialminus": [
            [
             0,
             "#0d0887"
            ],
            [
             0.1111111111111111,
             "#46039f"
            ],
            [
             0.2222222222222222,
             "#7201a8"
            ],
            [
             0.3333333333333333,
             "#9c179e"
            ],
            [
             0.4444444444444444,
             "#bd3786"
            ],
            [
             0.5555555555555556,
             "#d8576b"
            ],
            [
             0.6666666666666666,
             "#ed7953"
            ],
            [
             0.7777777777777778,
             "#fb9f3a"
            ],
            [
             0.8888888888888888,
             "#fdca26"
            ],
            [
             1,
             "#f0f921"
            ]
           ]
          },
          "colorway": [
           "#636efa",
           "#EF553B",
           "#00cc96",
           "#ab63fa",
           "#FFA15A",
           "#19d3f3",
           "#FF6692",
           "#B6E880",
           "#FF97FF",
           "#FECB52"
          ],
          "font": {
           "color": "#2a3f5f"
          },
          "geo": {
           "bgcolor": "white",
           "lakecolor": "white",
           "landcolor": "#E5ECF6",
           "showlakes": true,
           "showland": true,
           "subunitcolor": "white"
          },
          "hoverlabel": {
           "align": "left"
          },
          "hovermode": "closest",
          "mapbox": {
           "style": "light"
          },
          "paper_bgcolor": "white",
          "plot_bgcolor": "#E5ECF6",
          "polar": {
           "angularaxis": {
            "gridcolor": "white",
            "linecolor": "white",
            "ticks": ""
           },
           "bgcolor": "#E5ECF6",
           "radialaxis": {
            "gridcolor": "white",
            "linecolor": "white",
            "ticks": ""
           }
          },
          "scene": {
           "xaxis": {
            "backgroundcolor": "#E5ECF6",
            "gridcolor": "white",
            "gridwidth": 2,
            "linecolor": "white",
            "showbackground": true,
            "ticks": "",
            "zerolinecolor": "white"
           },
           "yaxis": {
            "backgroundcolor": "#E5ECF6",
            "gridcolor": "white",
            "gridwidth": 2,
            "linecolor": "white",
            "showbackground": true,
            "ticks": "",
            "zerolinecolor": "white"
           },
           "zaxis": {
            "backgroundcolor": "#E5ECF6",
            "gridcolor": "white",
            "gridwidth": 2,
            "linecolor": "white",
            "showbackground": true,
            "ticks": "",
            "zerolinecolor": "white"
           }
          },
          "shapedefaults": {
           "line": {
            "color": "#2a3f5f"
           }
          },
          "ternary": {
           "aaxis": {
            "gridcolor": "white",
            "linecolor": "white",
            "ticks": ""
           },
           "baxis": {
            "gridcolor": "white",
            "linecolor": "white",
            "ticks": ""
           },
           "bgcolor": "#E5ECF6",
           "caxis": {
            "gridcolor": "white",
            "linecolor": "white",
            "ticks": ""
           }
          },
          "title": {
           "x": 0.05
          },
          "xaxis": {
           "automargin": true,
           "gridcolor": "white",
           "linecolor": "white",
           "ticks": "",
           "title": {
            "standoff": 15
           },
           "zerolinecolor": "white",
           "zerolinewidth": 2
          },
          "yaxis": {
           "automargin": true,
           "gridcolor": "white",
           "linecolor": "white",
           "ticks": "",
           "title": {
            "standoff": 15
           },
           "zerolinecolor": "white",
           "zerolinewidth": 2
          }
         }
        },
        "title": {
         "text": "Total Wheat Area in last 10 Year "
        },
        "width": 800,
        "xaxis": {
         "anchor": "y",
         "domain": [
          0,
          1
         ],
         "title": {
          "text": "year"
         }
        },
        "yaxis": {
         "anchor": "x",
         "domain": [
          0,
          1
         ],
         "title": {
          "text": "Wheat Area(ht)"
         }
        }
       }
      }
     },
     "metadata": {},
     "output_type": "display_data"
    }
   ],
   "source": [
    "fig = px.bar(wheat_area, x='YEAR', y='Wheat_AREA',\n",
    "             title='Total Wheat Area in last 10 Year ',\n",
    "             labels={'year': 'YEAR', 'WHEAT AREA ': 'Wheat_AREA'},\n",
    "             color='Wheat_AREA', color_continuous_scale='sunset'\n",
    "          )\n",
    "\n",
    "fig.update_layout(xaxis_title='year', yaxis_title='Wheat Area(ht)')\n",
    "fig.update_layout(height=600,width=800)\n",
    "fig.show()"
   ]
  },
  {
   "cell_type": "code",
   "execution_count": 43,
   "id": "dbf8541d",
   "metadata": {},
   "outputs": [
    {
     "data": {
      "text/html": [
       "<div>\n",
       "<style scoped>\n",
       "    .dataframe tbody tr th:only-of-type {\n",
       "        vertical-align: middle;\n",
       "    }\n",
       "\n",
       "    .dataframe tbody tr th {\n",
       "        vertical-align: top;\n",
       "    }\n",
       "\n",
       "    .dataframe thead th {\n",
       "        text-align: right;\n",
       "    }\n",
       "</style>\n",
       "<table border=\"1\" class=\"dataframe\">\n",
       "  <thead>\n",
       "    <tr style=\"text-align: right;\">\n",
       "      <th></th>\n",
       "      <th>YEAR</th>\n",
       "      <th>Wheat_PROD.</th>\n",
       "    </tr>\n",
       "  </thead>\n",
       "  <tbody>\n",
       "    <tr>\n",
       "      <th>0</th>\n",
       "      <td>20-2019</td>\n",
       "      <td>2185289</td>\n",
       "    </tr>\n",
       "    <tr>\n",
       "      <th>1</th>\n",
       "      <td>22-2021</td>\n",
       "      <td>2144568</td>\n",
       "    </tr>\n",
       "    <tr>\n",
       "      <th>2</th>\n",
       "      <td>21-2020</td>\n",
       "      <td>2127276</td>\n",
       "    </tr>\n",
       "    <tr>\n",
       "      <th>3</th>\n",
       "      <td>19-2018</td>\n",
       "      <td>2005665</td>\n",
       "    </tr>\n",
       "    <tr>\n",
       "      <th>4</th>\n",
       "      <td>15-2014</td>\n",
       "      <td>1975625</td>\n",
       "    </tr>\n",
       "    <tr>\n",
       "      <th>5</th>\n",
       "      <td>18-2017</td>\n",
       "      <td>1949001</td>\n",
       "    </tr>\n",
       "    <tr>\n",
       "      <th>6</th>\n",
       "      <td>14-2013</td>\n",
       "      <td>1883147</td>\n",
       "    </tr>\n",
       "    <tr>\n",
       "      <th>7</th>\n",
       "      <td>13-2012</td>\n",
       "      <td>1882220</td>\n",
       "    </tr>\n",
       "    <tr>\n",
       "      <th>8</th>\n",
       "      <td>17-2016</td>\n",
       "      <td>1879191</td>\n",
       "    </tr>\n",
       "    <tr>\n",
       "      <th>9</th>\n",
       "      <td>16-2015</td>\n",
       "      <td>1736849</td>\n",
       "    </tr>\n",
       "  </tbody>\n",
       "</table>\n",
       "</div>"
      ],
      "text/plain": [
       "      YEAR  Wheat_PROD.\n",
       "0  20-2019      2185289\n",
       "1  22-2021      2144568\n",
       "2  21-2020      2127276\n",
       "3  19-2018      2005665\n",
       "4  15-2014      1975625\n",
       "5  18-2017      1949001\n",
       "6  14-2013      1883147\n",
       "7  13-2012      1882220\n",
       "8  17-2016      1879191\n",
       "9  16-2015      1736849"
      ]
     },
     "execution_count": 43,
     "metadata": {},
     "output_type": "execute_result"
    }
   ],
   "source": [
    "#wheat Production\n",
    "wheat_production=df1.groupby('YEAR')['Wheat_PROD.'].sum().sort_values(ascending=False).reset_index()\n",
    "\n",
    "wheat_production\n"
   ]
  },
  {
   "cell_type": "code",
   "execution_count": 45,
   "id": "70ecf0a6",
   "metadata": {},
   "outputs": [
    {
     "data": {
      "application/vnd.plotly.v1+json": {
       "config": {
        "plotlyServerURL": "https://plot.ly"
       },
       "data": [
        {
         "customdata": [
          [
           "20-2019"
          ],
          [
           "22-2021"
          ],
          [
           "21-2020"
          ],
          [
           "19-2018"
          ],
          [
           "15-2014"
          ],
          [
           "18-2017"
          ],
          [
           "14-2013"
          ],
          [
           "13-2012"
          ],
          [
           "17-2016"
          ],
          [
           "16-2015"
          ]
         ],
         "domain": {
          "x": [
           0,
           1
          ],
          "y": [
           0,
           1
          ]
         },
         "hole": 0.1,
         "hovertemplate": "YEAR=%{customdata[0]}<br>Wheat_PROD.=%{value}<extra></extra>",
         "labels": [
          "20-2019",
          "22-2021",
          "21-2020",
          "19-2018",
          "15-2014",
          "18-2017",
          "14-2013",
          "13-2012",
          "17-2016",
          "16-2015"
         ],
         "legendgroup": "",
         "marker": {
          "colors": [
           "#440154",
           "#482878",
           "#3e4989",
           "#31688e",
           "#26828e",
           "#1f9e89",
           "#35b779",
           "#6ece58",
           "#b5de2b",
           "#fde725"
          ]
         },
         "name": "",
         "showlegend": true,
         "type": "pie",
         "values": [
          2185289,
          2144568,
          2127276,
          2005665,
          1975625,
          1949001,
          1883147,
          1882220,
          1879191,
          1736849
         ]
        }
       ],
       "layout": {
        "height": 600,
        "legend": {
         "tracegroupgap": 0
        },
        "piecolorway": [
         "#440154",
         "#482878",
         "#3e4989",
         "#31688e",
         "#26828e",
         "#1f9e89",
         "#35b779",
         "#6ece58",
         "#b5de2b",
         "#fde725"
        ],
        "template": {
         "data": {
          "bar": [
           {
            "error_x": {
             "color": "#2a3f5f"
            },
            "error_y": {
             "color": "#2a3f5f"
            },
            "marker": {
             "line": {
              "color": "#E5ECF6",
              "width": 0.5
             },
             "pattern": {
              "fillmode": "overlay",
              "size": 10,
              "solidity": 0.2
             }
            },
            "type": "bar"
           }
          ],
          "barpolar": [
           {
            "marker": {
             "line": {
              "color": "#E5ECF6",
              "width": 0.5
             },
             "pattern": {
              "fillmode": "overlay",
              "size": 10,
              "solidity": 0.2
             }
            },
            "type": "barpolar"
           }
          ],
          "carpet": [
           {
            "aaxis": {
             "endlinecolor": "#2a3f5f",
             "gridcolor": "white",
             "linecolor": "white",
             "minorgridcolor": "white",
             "startlinecolor": "#2a3f5f"
            },
            "baxis": {
             "endlinecolor": "#2a3f5f",
             "gridcolor": "white",
             "linecolor": "white",
             "minorgridcolor": "white",
             "startlinecolor": "#2a3f5f"
            },
            "type": "carpet"
           }
          ],
          "choropleth": [
           {
            "colorbar": {
             "outlinewidth": 0,
             "ticks": ""
            },
            "type": "choropleth"
           }
          ],
          "contour": [
           {
            "colorbar": {
             "outlinewidth": 0,
             "ticks": ""
            },
            "colorscale": [
             [
              0,
              "#0d0887"
             ],
             [
              0.1111111111111111,
              "#46039f"
             ],
             [
              0.2222222222222222,
              "#7201a8"
             ],
             [
              0.3333333333333333,
              "#9c179e"
             ],
             [
              0.4444444444444444,
              "#bd3786"
             ],
             [
              0.5555555555555556,
              "#d8576b"
             ],
             [
              0.6666666666666666,
              "#ed7953"
             ],
             [
              0.7777777777777778,
              "#fb9f3a"
             ],
             [
              0.8888888888888888,
              "#fdca26"
             ],
             [
              1,
              "#f0f921"
             ]
            ],
            "type": "contour"
           }
          ],
          "contourcarpet": [
           {
            "colorbar": {
             "outlinewidth": 0,
             "ticks": ""
            },
            "type": "contourcarpet"
           }
          ],
          "heatmap": [
           {
            "colorbar": {
             "outlinewidth": 0,
             "ticks": ""
            },
            "colorscale": [
             [
              0,
              "#0d0887"
             ],
             [
              0.1111111111111111,
              "#46039f"
             ],
             [
              0.2222222222222222,
              "#7201a8"
             ],
             [
              0.3333333333333333,
              "#9c179e"
             ],
             [
              0.4444444444444444,
              "#bd3786"
             ],
             [
              0.5555555555555556,
              "#d8576b"
             ],
             [
              0.6666666666666666,
              "#ed7953"
             ],
             [
              0.7777777777777778,
              "#fb9f3a"
             ],
             [
              0.8888888888888888,
              "#fdca26"
             ],
             [
              1,
              "#f0f921"
             ]
            ],
            "type": "heatmap"
           }
          ],
          "heatmapgl": [
           {
            "colorbar": {
             "outlinewidth": 0,
             "ticks": ""
            },
            "colorscale": [
             [
              0,
              "#0d0887"
             ],
             [
              0.1111111111111111,
              "#46039f"
             ],
             [
              0.2222222222222222,
              "#7201a8"
             ],
             [
              0.3333333333333333,
              "#9c179e"
             ],
             [
              0.4444444444444444,
              "#bd3786"
             ],
             [
              0.5555555555555556,
              "#d8576b"
             ],
             [
              0.6666666666666666,
              "#ed7953"
             ],
             [
              0.7777777777777778,
              "#fb9f3a"
             ],
             [
              0.8888888888888888,
              "#fdca26"
             ],
             [
              1,
              "#f0f921"
             ]
            ],
            "type": "heatmapgl"
           }
          ],
          "histogram": [
           {
            "marker": {
             "pattern": {
              "fillmode": "overlay",
              "size": 10,
              "solidity": 0.2
             }
            },
            "type": "histogram"
           }
          ],
          "histogram2d": [
           {
            "colorbar": {
             "outlinewidth": 0,
             "ticks": ""
            },
            "colorscale": [
             [
              0,
              "#0d0887"
             ],
             [
              0.1111111111111111,
              "#46039f"
             ],
             [
              0.2222222222222222,
              "#7201a8"
             ],
             [
              0.3333333333333333,
              "#9c179e"
             ],
             [
              0.4444444444444444,
              "#bd3786"
             ],
             [
              0.5555555555555556,
              "#d8576b"
             ],
             [
              0.6666666666666666,
              "#ed7953"
             ],
             [
              0.7777777777777778,
              "#fb9f3a"
             ],
             [
              0.8888888888888888,
              "#fdca26"
             ],
             [
              1,
              "#f0f921"
             ]
            ],
            "type": "histogram2d"
           }
          ],
          "histogram2dcontour": [
           {
            "colorbar": {
             "outlinewidth": 0,
             "ticks": ""
            },
            "colorscale": [
             [
              0,
              "#0d0887"
             ],
             [
              0.1111111111111111,
              "#46039f"
             ],
             [
              0.2222222222222222,
              "#7201a8"
             ],
             [
              0.3333333333333333,
              "#9c179e"
             ],
             [
              0.4444444444444444,
              "#bd3786"
             ],
             [
              0.5555555555555556,
              "#d8576b"
             ],
             [
              0.6666666666666666,
              "#ed7953"
             ],
             [
              0.7777777777777778,
              "#fb9f3a"
             ],
             [
              0.8888888888888888,
              "#fdca26"
             ],
             [
              1,
              "#f0f921"
             ]
            ],
            "type": "histogram2dcontour"
           }
          ],
          "mesh3d": [
           {
            "colorbar": {
             "outlinewidth": 0,
             "ticks": ""
            },
            "type": "mesh3d"
           }
          ],
          "parcoords": [
           {
            "line": {
             "colorbar": {
              "outlinewidth": 0,
              "ticks": ""
             }
            },
            "type": "parcoords"
           }
          ],
          "pie": [
           {
            "automargin": true,
            "type": "pie"
           }
          ],
          "scatter": [
           {
            "fillpattern": {
             "fillmode": "overlay",
             "size": 10,
             "solidity": 0.2
            },
            "type": "scatter"
           }
          ],
          "scatter3d": [
           {
            "line": {
             "colorbar": {
              "outlinewidth": 0,
              "ticks": ""
             }
            },
            "marker": {
             "colorbar": {
              "outlinewidth": 0,
              "ticks": ""
             }
            },
            "type": "scatter3d"
           }
          ],
          "scattercarpet": [
           {
            "marker": {
             "colorbar": {
              "outlinewidth": 0,
              "ticks": ""
             }
            },
            "type": "scattercarpet"
           }
          ],
          "scattergeo": [
           {
            "marker": {
             "colorbar": {
              "outlinewidth": 0,
              "ticks": ""
             }
            },
            "type": "scattergeo"
           }
          ],
          "scattergl": [
           {
            "marker": {
             "colorbar": {
              "outlinewidth": 0,
              "ticks": ""
             }
            },
            "type": "scattergl"
           }
          ],
          "scattermapbox": [
           {
            "marker": {
             "colorbar": {
              "outlinewidth": 0,
              "ticks": ""
             }
            },
            "type": "scattermapbox"
           }
          ],
          "scatterpolar": [
           {
            "marker": {
             "colorbar": {
              "outlinewidth": 0,
              "ticks": ""
             }
            },
            "type": "scatterpolar"
           }
          ],
          "scatterpolargl": [
           {
            "marker": {
             "colorbar": {
              "outlinewidth": 0,
              "ticks": ""
             }
            },
            "type": "scatterpolargl"
           }
          ],
          "scatterternary": [
           {
            "marker": {
             "colorbar": {
              "outlinewidth": 0,
              "ticks": ""
             }
            },
            "type": "scatterternary"
           }
          ],
          "surface": [
           {
            "colorbar": {
             "outlinewidth": 0,
             "ticks": ""
            },
            "colorscale": [
             [
              0,
              "#0d0887"
             ],
             [
              0.1111111111111111,
              "#46039f"
             ],
             [
              0.2222222222222222,
              "#7201a8"
             ],
             [
              0.3333333333333333,
              "#9c179e"
             ],
             [
              0.4444444444444444,
              "#bd3786"
             ],
             [
              0.5555555555555556,
              "#d8576b"
             ],
             [
              0.6666666666666666,
              "#ed7953"
             ],
             [
              0.7777777777777778,
              "#fb9f3a"
             ],
             [
              0.8888888888888888,
              "#fdca26"
             ],
             [
              1,
              "#f0f921"
             ]
            ],
            "type": "surface"
           }
          ],
          "table": [
           {
            "cells": {
             "fill": {
              "color": "#EBF0F8"
             },
             "line": {
              "color": "white"
             }
            },
            "header": {
             "fill": {
              "color": "#C8D4E3"
             },
             "line": {
              "color": "white"
             }
            },
            "type": "table"
           }
          ]
         },
         "layout": {
          "annotationdefaults": {
           "arrowcolor": "#2a3f5f",
           "arrowhead": 0,
           "arrowwidth": 1
          },
          "autotypenumbers": "strict",
          "coloraxis": {
           "colorbar": {
            "outlinewidth": 0,
            "ticks": ""
           }
          },
          "colorscale": {
           "diverging": [
            [
             0,
             "#8e0152"
            ],
            [
             0.1,
             "#c51b7d"
            ],
            [
             0.2,
             "#de77ae"
            ],
            [
             0.3,
             "#f1b6da"
            ],
            [
             0.4,
             "#fde0ef"
            ],
            [
             0.5,
             "#f7f7f7"
            ],
            [
             0.6,
             "#e6f5d0"
            ],
            [
             0.7,
             "#b8e186"
            ],
            [
             0.8,
             "#7fbc41"
            ],
            [
             0.9,
             "#4d9221"
            ],
            [
             1,
             "#276419"
            ]
           ],
           "sequential": [
            [
             0,
             "#0d0887"
            ],
            [
             0.1111111111111111,
             "#46039f"
            ],
            [
             0.2222222222222222,
             "#7201a8"
            ],
            [
             0.3333333333333333,
             "#9c179e"
            ],
            [
             0.4444444444444444,
             "#bd3786"
            ],
            [
             0.5555555555555556,
             "#d8576b"
            ],
            [
             0.6666666666666666,
             "#ed7953"
            ],
            [
             0.7777777777777778,
             "#fb9f3a"
            ],
            [
             0.8888888888888888,
             "#fdca26"
            ],
            [
             1,
             "#f0f921"
            ]
           ],
           "sequentialminus": [
            [
             0,
             "#0d0887"
            ],
            [
             0.1111111111111111,
             "#46039f"
            ],
            [
             0.2222222222222222,
             "#7201a8"
            ],
            [
             0.3333333333333333,
             "#9c179e"
            ],
            [
             0.4444444444444444,
             "#bd3786"
            ],
            [
             0.5555555555555556,
             "#d8576b"
            ],
            [
             0.6666666666666666,
             "#ed7953"
            ],
            [
             0.7777777777777778,
             "#fb9f3a"
            ],
            [
             0.8888888888888888,
             "#fdca26"
            ],
            [
             1,
             "#f0f921"
            ]
           ]
          },
          "colorway": [
           "#636efa",
           "#EF553B",
           "#00cc96",
           "#ab63fa",
           "#FFA15A",
           "#19d3f3",
           "#FF6692",
           "#B6E880",
           "#FF97FF",
           "#FECB52"
          ],
          "font": {
           "color": "#2a3f5f"
          },
          "geo": {
           "bgcolor": "white",
           "lakecolor": "white",
           "landcolor": "#E5ECF6",
           "showlakes": true,
           "showland": true,
           "subunitcolor": "white"
          },
          "hoverlabel": {
           "align": "left"
          },
          "hovermode": "closest",
          "mapbox": {
           "style": "light"
          },
          "paper_bgcolor": "white",
          "plot_bgcolor": "#E5ECF6",
          "polar": {
           "angularaxis": {
            "gridcolor": "white",
            "linecolor": "white",
            "ticks": ""
           },
           "bgcolor": "#E5ECF6",
           "radialaxis": {
            "gridcolor": "white",
            "linecolor": "white",
            "ticks": ""
           }
          },
          "scene": {
           "xaxis": {
            "backgroundcolor": "#E5ECF6",
            "gridcolor": "white",
            "gridwidth": 2,
            "linecolor": "white",
            "showbackground": true,
            "ticks": "",
            "zerolinecolor": "white"
           },
           "yaxis": {
            "backgroundcolor": "#E5ECF6",
            "gridcolor": "white",
            "gridwidth": 2,
            "linecolor": "white",
            "showbackground": true,
            "ticks": "",
            "zerolinecolor": "white"
           },
           "zaxis": {
            "backgroundcolor": "#E5ECF6",
            "gridcolor": "white",
            "gridwidth": 2,
            "linecolor": "white",
            "showbackground": true,
            "ticks": "",
            "zerolinecolor": "white"
           }
          },
          "shapedefaults": {
           "line": {
            "color": "#2a3f5f"
           }
          },
          "ternary": {
           "aaxis": {
            "gridcolor": "white",
            "linecolor": "white",
            "ticks": ""
           },
           "baxis": {
            "gridcolor": "white",
            "linecolor": "white",
            "ticks": ""
           },
           "bgcolor": "#E5ECF6",
           "caxis": {
            "gridcolor": "white",
            "linecolor": "white",
            "ticks": ""
           }
          },
          "title": {
           "x": 0.05
          },
          "xaxis": {
           "automargin": true,
           "gridcolor": "white",
           "linecolor": "white",
           "ticks": "",
           "title": {
            "standoff": 15
           },
           "zerolinecolor": "white",
           "zerolinewidth": 2
          },
          "yaxis": {
           "automargin": true,
           "gridcolor": "white",
           "linecolor": "white",
           "ticks": "",
           "title": {
            "standoff": 15
           },
           "zerolinecolor": "white",
           "zerolinewidth": 2
          }
         }
        },
        "title": {
         "text": "Total Wheat Production in last 10 year "
        },
        "width": 800
       }
      }
     },
     "metadata": {},
     "output_type": "display_data"
    }
   ],
   "source": [
    "fig = px.pie(wheat_production, names='YEAR', values='Wheat_PROD.',\n",
    "             title='Total Wheat Production in last 10 year ',\n",
    "             labels={'Year': 'YEAR', 'Wheatt Production': 'Wheat_PROD.'},\n",
    "             color='YEAR', color_discrete_sequence=px.colors.sequential.Viridis,\n",
    "             hole=0.1\n",
    "             )\n",
    "fig.update_layout(height=600,width=800)\n",
    "fig.show()"
   ]
  },
  {
   "cell_type": "markdown",
   "id": "499b5add",
   "metadata": {},
   "source": [
    "## 3.BuckWheat "
   ]
  },
  {
   "cell_type": "code",
   "execution_count": 46,
   "id": "410cb539",
   "metadata": {},
   "outputs": [
    {
     "data": {
      "text/html": [
       "<div>\n",
       "<style scoped>\n",
       "    .dataframe tbody tr th:only-of-type {\n",
       "        vertical-align: middle;\n",
       "    }\n",
       "\n",
       "    .dataframe tbody tr th {\n",
       "        vertical-align: top;\n",
       "    }\n",
       "\n",
       "    .dataframe thead th {\n",
       "        text-align: right;\n",
       "    }\n",
       "</style>\n",
       "<table border=\"1\" class=\"dataframe\">\n",
       "  <thead>\n",
       "    <tr style=\"text-align: right;\">\n",
       "      <th></th>\n",
       "      <th>YEAR</th>\n",
       "      <th>Buckwheat_YIELD</th>\n",
       "    </tr>\n",
       "  </thead>\n",
       "  <tbody>\n",
       "    <tr>\n",
       "      <th>0</th>\n",
       "      <td>22-2021</td>\n",
       "      <td>1.20</td>\n",
       "    </tr>\n",
       "    <tr>\n",
       "      <th>1</th>\n",
       "      <td>21-2020</td>\n",
       "      <td>1.15</td>\n",
       "    </tr>\n",
       "    <tr>\n",
       "      <th>2</th>\n",
       "      <td>20-2019</td>\n",
       "      <td>1.13</td>\n",
       "    </tr>\n",
       "    <tr>\n",
       "      <th>3</th>\n",
       "      <td>18-2017</td>\n",
       "      <td>1.11</td>\n",
       "    </tr>\n",
       "    <tr>\n",
       "      <th>4</th>\n",
       "      <td>19-2018</td>\n",
       "      <td>1.11</td>\n",
       "    </tr>\n",
       "    <tr>\n",
       "      <th>5</th>\n",
       "      <td>17-2016</td>\n",
       "      <td>1.09</td>\n",
       "    </tr>\n",
       "    <tr>\n",
       "      <th>6</th>\n",
       "      <td>16-2015</td>\n",
       "      <td>1.07</td>\n",
       "    </tr>\n",
       "    <tr>\n",
       "      <th>7</th>\n",
       "      <td>15-2014</td>\n",
       "      <td>1.01</td>\n",
       "    </tr>\n",
       "    <tr>\n",
       "      <th>8</th>\n",
       "      <td>14-2013</td>\n",
       "      <td>0.98</td>\n",
       "    </tr>\n",
       "    <tr>\n",
       "      <th>9</th>\n",
       "      <td>13-2012</td>\n",
       "      <td>0.94</td>\n",
       "    </tr>\n",
       "  </tbody>\n",
       "</table>\n",
       "</div>"
      ],
      "text/plain": [
       "      YEAR  Buckwheat_YIELD\n",
       "0  22-2021             1.20\n",
       "1  21-2020             1.15\n",
       "2  20-2019             1.13\n",
       "3  18-2017             1.11\n",
       "4  19-2018             1.11\n",
       "5  17-2016             1.09\n",
       "6  16-2015             1.07\n",
       "7  15-2014             1.01\n",
       "8  14-2013             0.98\n",
       "9  13-2012             0.94"
      ]
     },
     "execution_count": 46,
     "metadata": {},
     "output_type": "execute_result"
    }
   ],
   "source": [
    "# Buckwheat yield\n",
    "buckwheat_yield=df1.groupby('YEAR')['Buckwheat_YIELD'].sum().sort_values(ascending=False).reset_index()\n",
    "buckwheat_yield\n",
    "\n"
   ]
  },
  {
   "cell_type": "code",
   "execution_count": 48,
   "id": "d39b8901",
   "metadata": {},
   "outputs": [
    {
     "data": {
      "application/vnd.plotly.v1+json": {
       "config": {
        "plotlyServerURL": "https://plot.ly"
       },
       "data": [
        {
         "hovertemplate": "Buckwheat_YIELD=%{y}<br>YEAR=%{x}<extra></extra>",
         "legendgroup": "1.2",
         "line": {
          "color": "#636efa",
          "dash": "solid",
          "shape": "linear"
         },
         "marker": {
          "size": 20,
          "symbol": "circle"
         },
         "mode": "lines+markers",
         "name": "1.2",
         "orientation": "v",
         "showlegend": true,
         "type": "scatter",
         "x": [
          "22-2021"
         ],
         "xaxis": "x",
         "y": [
          1.2
         ],
         "yaxis": "y"
        },
        {
         "hovertemplate": "Buckwheat_YIELD=%{y}<br>YEAR=%{x}<extra></extra>",
         "legendgroup": "1.15",
         "line": {
          "color": "#EF553B",
          "dash": "solid",
          "shape": "linear"
         },
         "marker": {
          "size": 20,
          "symbol": "circle"
         },
         "mode": "lines+markers",
         "name": "1.15",
         "orientation": "v",
         "showlegend": true,
         "type": "scatter",
         "x": [
          "21-2020"
         ],
         "xaxis": "x",
         "y": [
          1.15
         ],
         "yaxis": "y"
        },
        {
         "hovertemplate": "Buckwheat_YIELD=%{y}<br>YEAR=%{x}<extra></extra>",
         "legendgroup": "1.13",
         "line": {
          "color": "#00cc96",
          "dash": "solid",
          "shape": "linear"
         },
         "marker": {
          "size": 20,
          "symbol": "circle"
         },
         "mode": "lines+markers",
         "name": "1.13",
         "orientation": "v",
         "showlegend": true,
         "type": "scatter",
         "x": [
          "20-2019"
         ],
         "xaxis": "x",
         "y": [
          1.13
         ],
         "yaxis": "y"
        },
        {
         "hovertemplate": "Buckwheat_YIELD=%{y}<br>YEAR=%{x}<extra></extra>",
         "legendgroup": "1.11",
         "line": {
          "color": "#ab63fa",
          "dash": "solid",
          "shape": "linear"
         },
         "marker": {
          "size": 20,
          "symbol": "circle"
         },
         "mode": "lines+markers",
         "name": "1.11",
         "orientation": "v",
         "showlegend": true,
         "type": "scatter",
         "x": [
          "18-2017",
          "19-2018"
         ],
         "xaxis": "x",
         "y": [
          1.11,
          1.11
         ],
         "yaxis": "y"
        },
        {
         "hovertemplate": "Buckwheat_YIELD=%{y}<br>YEAR=%{x}<extra></extra>",
         "legendgroup": "1.09",
         "line": {
          "color": "#FFA15A",
          "dash": "solid",
          "shape": "linear"
         },
         "marker": {
          "size": 20,
          "symbol": "circle"
         },
         "mode": "lines+markers",
         "name": "1.09",
         "orientation": "v",
         "showlegend": true,
         "type": "scatter",
         "x": [
          "17-2016"
         ],
         "xaxis": "x",
         "y": [
          1.09
         ],
         "yaxis": "y"
        },
        {
         "hovertemplate": "Buckwheat_YIELD=%{y}<br>YEAR=%{x}<extra></extra>",
         "legendgroup": "1.07",
         "line": {
          "color": "#19d3f3",
          "dash": "solid",
          "shape": "linear"
         },
         "marker": {
          "size": 20,
          "symbol": "circle"
         },
         "mode": "lines+markers",
         "name": "1.07",
         "orientation": "v",
         "showlegend": true,
         "type": "scatter",
         "x": [
          "16-2015"
         ],
         "xaxis": "x",
         "y": [
          1.07
         ],
         "yaxis": "y"
        },
        {
         "hovertemplate": "Buckwheat_YIELD=%{y}<br>YEAR=%{x}<extra></extra>",
         "legendgroup": "1.01",
         "line": {
          "color": "#FF6692",
          "dash": "solid",
          "shape": "linear"
         },
         "marker": {
          "size": 20,
          "symbol": "circle"
         },
         "mode": "lines+markers",
         "name": "1.01",
         "orientation": "v",
         "showlegend": true,
         "type": "scatter",
         "x": [
          "15-2014"
         ],
         "xaxis": "x",
         "y": [
          1.01
         ],
         "yaxis": "y"
        },
        {
         "hovertemplate": "Buckwheat_YIELD=%{y}<br>YEAR=%{x}<extra></extra>",
         "legendgroup": "0.98",
         "line": {
          "color": "#B6E880",
          "dash": "solid",
          "shape": "linear"
         },
         "marker": {
          "size": 20,
          "symbol": "circle"
         },
         "mode": "lines+markers",
         "name": "0.98",
         "orientation": "v",
         "showlegend": true,
         "type": "scatter",
         "x": [
          "14-2013"
         ],
         "xaxis": "x",
         "y": [
          0.98
         ],
         "yaxis": "y"
        },
        {
         "hovertemplate": "Buckwheat_YIELD=%{y}<br>YEAR=%{x}<extra></extra>",
         "legendgroup": "0.94",
         "line": {
          "color": "#FF97FF",
          "dash": "solid",
          "shape": "linear"
         },
         "marker": {
          "size": 20,
          "symbol": "circle"
         },
         "mode": "lines+markers",
         "name": "0.94",
         "orientation": "v",
         "showlegend": true,
         "type": "scatter",
         "x": [
          "13-2012"
         ],
         "xaxis": "x",
         "y": [
          0.94
         ],
         "yaxis": "y"
        }
       ],
       "layout": {
        "height": 600,
        "legend": {
         "title": {
          "text": "Buckwheat_YIELD"
         },
         "tracegroupgap": 0
        },
        "template": {
         "data": {
          "pie": [
           {
            "automargin": true,
            "type": "pie"
           }
          ]
         },
         "layout": {
          "xaxis": {
           "showgrid": true,
           "title": {
            "standoff": 15
           }
          },
          "yaxis": {
           "showgrid": true,
           "title": {
            "standoff": 15
           }
          }
         }
        },
        "title": {
         "text": "Total BuckWheat yield in last 10 years"
        },
        "width": 800,
        "xaxis": {
         "anchor": "y",
         "domain": [
          0,
          1
         ],
         "title": {
          "text": "Year"
         }
        },
        "yaxis": {
         "anchor": "x",
         "categoryarray": [
          0.94,
          0.98,
          1.01,
          1.07,
          1.09,
          1.11,
          1.13,
          1.15,
          1.2
         ],
         "categoryorder": "array",
         "domain": [
          0,
          1
         ],
         "title": {
          "text": "Buckwheat yeild(ht)"
         }
        }
       }
      }
     },
     "metadata": {},
     "output_type": "display_data"
    }
   ],
   "source": [
    "fig = px.line(buckwheat_yield, x='YEAR', y='Buckwheat_YIELD',\n",
    "             title='Total BuckWheat yield in last 10 years',\n",
    "             labels={'year': 'YEAR', 'Buckwheat yield ': 'Buckwheat_YIELD'},\n",
    "             color='Buckwheat_YIELD',\n",
    "             line_shape=\"linear\",\n",
    "            markers=True,\n",
    "            \n",
    "             )\n",
    "\n",
    "fig.update_layout(xaxis_title='Year', yaxis_title='Buckwheat yeild(ht)')\n",
    "fig.update_layout(template='gridon')\n",
    "fig.update_traces(marker=dict(size=20))\n",
    "fig.update_layout(height=600,width=800)\n",
    "fig.show()"
   ]
  },
  {
   "cell_type": "code",
   "execution_count": 49,
   "id": "51c4ee68",
   "metadata": {},
   "outputs": [
    {
     "data": {
      "text/html": [
       "<div>\n",
       "<style scoped>\n",
       "    .dataframe tbody tr th:only-of-type {\n",
       "        vertical-align: middle;\n",
       "    }\n",
       "\n",
       "    .dataframe tbody tr th {\n",
       "        vertical-align: top;\n",
       "    }\n",
       "\n",
       "    .dataframe thead th {\n",
       "        text-align: right;\n",
       "    }\n",
       "</style>\n",
       "<table border=\"1\" class=\"dataframe\">\n",
       "  <thead>\n",
       "    <tr style=\"text-align: right;\">\n",
       "      <th></th>\n",
       "      <th>YEAR</th>\n",
       "      <th>Buckwheat_AREA</th>\n",
       "    </tr>\n",
       "  </thead>\n",
       "  <tbody>\n",
       "    <tr>\n",
       "      <th>0</th>\n",
       "      <td>22-2021</td>\n",
       "      <td>16123</td>\n",
       "    </tr>\n",
       "    <tr>\n",
       "      <th>1</th>\n",
       "      <td>21-2020</td>\n",
       "      <td>13875</td>\n",
       "    </tr>\n",
       "    <tr>\n",
       "      <th>2</th>\n",
       "      <td>17-2016</td>\n",
       "      <td>11090</td>\n",
       "    </tr>\n",
       "    <tr>\n",
       "      <th>3</th>\n",
       "      <td>16-2015</td>\n",
       "      <td>10842</td>\n",
       "    </tr>\n",
       "    <tr>\n",
       "      <th>4</th>\n",
       "      <td>15-2014</td>\n",
       "      <td>10819</td>\n",
       "    </tr>\n",
       "    <tr>\n",
       "      <th>5</th>\n",
       "      <td>13-2012</td>\n",
       "      <td>10681</td>\n",
       "    </tr>\n",
       "    <tr>\n",
       "      <th>6</th>\n",
       "      <td>14-2013</td>\n",
       "      <td>10510</td>\n",
       "    </tr>\n",
       "    <tr>\n",
       "      <th>7</th>\n",
       "      <td>20-2019</td>\n",
       "      <td>10369</td>\n",
       "    </tr>\n",
       "    <tr>\n",
       "      <th>8</th>\n",
       "      <td>19-2018</td>\n",
       "      <td>10311</td>\n",
       "    </tr>\n",
       "    <tr>\n",
       "      <th>9</th>\n",
       "      <td>18-2017</td>\n",
       "      <td>10296</td>\n",
       "    </tr>\n",
       "  </tbody>\n",
       "</table>\n",
       "</div>"
      ],
      "text/plain": [
       "      YEAR  Buckwheat_AREA\n",
       "0  22-2021           16123\n",
       "1  21-2020           13875\n",
       "2  17-2016           11090\n",
       "3  16-2015           10842\n",
       "4  15-2014           10819\n",
       "5  13-2012           10681\n",
       "6  14-2013           10510\n",
       "7  20-2019           10369\n",
       "8  19-2018           10311\n",
       "9  18-2017           10296"
      ]
     },
     "execution_count": 49,
     "metadata": {},
     "output_type": "execute_result"
    }
   ],
   "source": [
    "#Buckwheat Area\n",
    "buckwheat_area=df1.groupby('YEAR')['Buckwheat_AREA'].sum().sort_values(ascending=False).reset_index()\n",
    "buckwheat_area\n",
    "\n"
   ]
  },
  {
   "cell_type": "code",
   "execution_count": 59,
   "id": "b2ac883d",
   "metadata": {
    "scrolled": true
   },
   "outputs": [
    {
     "data": {
      "application/vnd.plotly.v1+json": {
       "config": {
        "plotlyServerURL": "https://plot.ly"
       },
       "data": [
        {
         "alignmentgroup": "True",
         "hovertemplate": "YEAR=%{x}<br>Buckwheat_AREA=%{marker.color}<extra></extra>",
         "legendgroup": "",
         "marker": {
          "color": [
           16123,
           13875,
           11090,
           10842,
           10819,
           10681,
           10510,
           10369,
           10311,
           10296
          ],
          "coloraxis": "coloraxis",
          "pattern": {
           "shape": ""
          }
         },
         "name": "",
         "offsetgroup": "",
         "orientation": "v",
         "showlegend": false,
         "textposition": "auto",
         "type": "bar",
         "x": [
          "22-2021",
          "21-2020",
          "17-2016",
          "16-2015",
          "15-2014",
          "13-2012",
          "14-2013",
          "20-2019",
          "19-2018",
          "18-2017"
         ],
         "xaxis": "x",
         "y": [
          16123,
          13875,
          11090,
          10842,
          10819,
          10681,
          10510,
          10369,
          10311,
          10296
         ],
         "yaxis": "y"
        }
       ],
       "layout": {
        "barmode": "relative",
        "coloraxis": {
         "colorbar": {
          "title": {
           "text": "Buckwheat_AREA"
          }
         },
         "colorscale": [
          [
           0,
           "#30123b"
          ],
          [
           0.07142857142857142,
           "#4145ab"
          ],
          [
           0.14285714285714285,
           "#4675ed"
          ],
          [
           0.21428571428571427,
           "#39a2fc"
          ],
          [
           0.2857142857142857,
           "#1bcfd4"
          ],
          [
           0.35714285714285715,
           "#24eca6"
          ],
          [
           0.42857142857142855,
           "#61fc6c"
          ],
          [
           0.5,
           "#a4fc3b"
          ],
          [
           0.5714285714285714,
           "#d1e834"
          ],
          [
           0.6428571428571429,
           "#f3c63a"
          ],
          [
           0.7142857142857143,
           "#fe9b2d"
          ],
          [
           0.7857142857142857,
           "#f36315"
          ],
          [
           0.8571428571428571,
           "#d93806"
          ],
          [
           0.9285714285714286,
           "#b11901"
          ],
          [
           1,
           "#7a0402"
          ]
         ]
        },
        "height": 600,
        "legend": {
         "tracegroupgap": 0
        },
        "template": {
         "data": {
          "bar": [
           {
            "error_x": {
             "color": "rgb(51,51,51)"
            },
            "error_y": {
             "color": "rgb(51,51,51)"
            },
            "marker": {
             "line": {
              "color": "rgb(237,237,237)",
              "width": 0.5
             },
             "pattern": {
              "fillmode": "overlay",
              "size": 10,
              "solidity": 0.2
             }
            },
            "type": "bar"
           }
          ],
          "barpolar": [
           {
            "marker": {
             "line": {
              "color": "rgb(237,237,237)",
              "width": 0.5
             },
             "pattern": {
              "fillmode": "overlay",
              "size": 10,
              "solidity": 0.2
             }
            },
            "type": "barpolar"
           }
          ],
          "carpet": [
           {
            "aaxis": {
             "endlinecolor": "rgb(51,51,51)",
             "gridcolor": "white",
             "linecolor": "white",
             "minorgridcolor": "white",
             "startlinecolor": "rgb(51,51,51)"
            },
            "baxis": {
             "endlinecolor": "rgb(51,51,51)",
             "gridcolor": "white",
             "linecolor": "white",
             "minorgridcolor": "white",
             "startlinecolor": "rgb(51,51,51)"
            },
            "type": "carpet"
           }
          ],
          "choropleth": [
           {
            "colorbar": {
             "outlinewidth": 0,
             "tickcolor": "rgb(237,237,237)",
             "ticklen": 6,
             "ticks": "inside"
            },
            "type": "choropleth"
           }
          ],
          "contour": [
           {
            "colorbar": {
             "outlinewidth": 0,
             "tickcolor": "rgb(237,237,237)",
             "ticklen": 6,
             "ticks": "inside"
            },
            "colorscale": [
             [
              0,
              "rgb(20,44,66)"
             ],
             [
              1,
              "rgb(90,179,244)"
             ]
            ],
            "type": "contour"
           }
          ],
          "contourcarpet": [
           {
            "colorbar": {
             "outlinewidth": 0,
             "tickcolor": "rgb(237,237,237)",
             "ticklen": 6,
             "ticks": "inside"
            },
            "type": "contourcarpet"
           }
          ],
          "heatmap": [
           {
            "colorbar": {
             "outlinewidth": 0,
             "tickcolor": "rgb(237,237,237)",
             "ticklen": 6,
             "ticks": "inside"
            },
            "colorscale": [
             [
              0,
              "rgb(20,44,66)"
             ],
             [
              1,
              "rgb(90,179,244)"
             ]
            ],
            "type": "heatmap"
           }
          ],
          "heatmapgl": [
           {
            "colorbar": {
             "outlinewidth": 0,
             "tickcolor": "rgb(237,237,237)",
             "ticklen": 6,
             "ticks": "inside"
            },
            "colorscale": [
             [
              0,
              "rgb(20,44,66)"
             ],
             [
              1,
              "rgb(90,179,244)"
             ]
            ],
            "type": "heatmapgl"
           }
          ],
          "histogram": [
           {
            "marker": {
             "pattern": {
              "fillmode": "overlay",
              "size": 10,
              "solidity": 0.2
             }
            },
            "type": "histogram"
           }
          ],
          "histogram2d": [
           {
            "colorbar": {
             "outlinewidth": 0,
             "tickcolor": "rgb(237,237,237)",
             "ticklen": 6,
             "ticks": "inside"
            },
            "colorscale": [
             [
              0,
              "rgb(20,44,66)"
             ],
             [
              1,
              "rgb(90,179,244)"
             ]
            ],
            "type": "histogram2d"
           }
          ],
          "histogram2dcontour": [
           {
            "colorbar": {
             "outlinewidth": 0,
             "tickcolor": "rgb(237,237,237)",
             "ticklen": 6,
             "ticks": "inside"
            },
            "colorscale": [
             [
              0,
              "rgb(20,44,66)"
             ],
             [
              1,
              "rgb(90,179,244)"
             ]
            ],
            "type": "histogram2dcontour"
           }
          ],
          "mesh3d": [
           {
            "colorbar": {
             "outlinewidth": 0,
             "tickcolor": "rgb(237,237,237)",
             "ticklen": 6,
             "ticks": "inside"
            },
            "type": "mesh3d"
           }
          ],
          "parcoords": [
           {
            "line": {
             "colorbar": {
              "outlinewidth": 0,
              "tickcolor": "rgb(237,237,237)",
              "ticklen": 6,
              "ticks": "inside"
             }
            },
            "type": "parcoords"
           }
          ],
          "pie": [
           {
            "automargin": true,
            "type": "pie"
           }
          ],
          "scatter": [
           {
            "fillpattern": {
             "fillmode": "overlay",
             "size": 10,
             "solidity": 0.2
            },
            "type": "scatter"
           }
          ],
          "scatter3d": [
           {
            "line": {
             "colorbar": {
              "outlinewidth": 0,
              "tickcolor": "rgb(237,237,237)",
              "ticklen": 6,
              "ticks": "inside"
             }
            },
            "marker": {
             "colorbar": {
              "outlinewidth": 0,
              "tickcolor": "rgb(237,237,237)",
              "ticklen": 6,
              "ticks": "inside"
             }
            },
            "type": "scatter3d"
           }
          ],
          "scattercarpet": [
           {
            "marker": {
             "colorbar": {
              "outlinewidth": 0,
              "tickcolor": "rgb(237,237,237)",
              "ticklen": 6,
              "ticks": "inside"
             }
            },
            "type": "scattercarpet"
           }
          ],
          "scattergeo": [
           {
            "marker": {
             "colorbar": {
              "outlinewidth": 0,
              "tickcolor": "rgb(237,237,237)",
              "ticklen": 6,
              "ticks": "inside"
             }
            },
            "type": "scattergeo"
           }
          ],
          "scattergl": [
           {
            "marker": {
             "colorbar": {
              "outlinewidth": 0,
              "tickcolor": "rgb(237,237,237)",
              "ticklen": 6,
              "ticks": "inside"
             }
            },
            "type": "scattergl"
           }
          ],
          "scattermapbox": [
           {
            "marker": {
             "colorbar": {
              "outlinewidth": 0,
              "tickcolor": "rgb(237,237,237)",
              "ticklen": 6,
              "ticks": "inside"
             }
            },
            "type": "scattermapbox"
           }
          ],
          "scatterpolar": [
           {
            "marker": {
             "colorbar": {
              "outlinewidth": 0,
              "tickcolor": "rgb(237,237,237)",
              "ticklen": 6,
              "ticks": "inside"
             }
            },
            "type": "scatterpolar"
           }
          ],
          "scatterpolargl": [
           {
            "marker": {
             "colorbar": {
              "outlinewidth": 0,
              "tickcolor": "rgb(237,237,237)",
              "ticklen": 6,
              "ticks": "inside"
             }
            },
            "type": "scatterpolargl"
           }
          ],
          "scatterternary": [
           {
            "marker": {
             "colorbar": {
              "outlinewidth": 0,
              "tickcolor": "rgb(237,237,237)",
              "ticklen": 6,
              "ticks": "inside"
             }
            },
            "type": "scatterternary"
           }
          ],
          "surface": [
           {
            "colorbar": {
             "outlinewidth": 0,
             "tickcolor": "rgb(237,237,237)",
             "ticklen": 6,
             "ticks": "inside"
            },
            "colorscale": [
             [
              0,
              "rgb(20,44,66)"
             ],
             [
              1,
              "rgb(90,179,244)"
             ]
            ],
            "type": "surface"
           }
          ],
          "table": [
           {
            "cells": {
             "fill": {
              "color": "rgb(237,237,237)"
             },
             "line": {
              "color": "white"
             }
            },
            "header": {
             "fill": {
              "color": "rgb(217,217,217)"
             },
             "line": {
              "color": "white"
             }
            },
            "type": "table"
           }
          ]
         },
         "layout": {
          "annotationdefaults": {
           "arrowhead": 0,
           "arrowwidth": 1
          },
          "autotypenumbers": "strict",
          "coloraxis": {
           "colorbar": {
            "outlinewidth": 0,
            "tickcolor": "rgb(237,237,237)",
            "ticklen": 6,
            "ticks": "inside"
           }
          },
          "colorscale": {
           "sequential": [
            [
             0,
             "rgb(20,44,66)"
            ],
            [
             1,
             "rgb(90,179,244)"
            ]
           ],
           "sequentialminus": [
            [
             0,
             "rgb(20,44,66)"
            ],
            [
             1,
             "rgb(90,179,244)"
            ]
           ]
          },
          "colorway": [
           "#F8766D",
           "#A3A500",
           "#00BF7D",
           "#00B0F6",
           "#E76BF3"
          ],
          "font": {
           "color": "rgb(51,51,51)"
          },
          "geo": {
           "bgcolor": "white",
           "lakecolor": "white",
           "landcolor": "rgb(237,237,237)",
           "showlakes": true,
           "showland": true,
           "subunitcolor": "white"
          },
          "hoverlabel": {
           "align": "left"
          },
          "hovermode": "closest",
          "paper_bgcolor": "white",
          "plot_bgcolor": "rgb(237,237,237)",
          "polar": {
           "angularaxis": {
            "gridcolor": "white",
            "linecolor": "white",
            "showgrid": true,
            "tickcolor": "rgb(51,51,51)",
            "ticks": "outside"
           },
           "bgcolor": "rgb(237,237,237)",
           "radialaxis": {
            "gridcolor": "white",
            "linecolor": "white",
            "showgrid": true,
            "tickcolor": "rgb(51,51,51)",
            "ticks": "outside"
           }
          },
          "scene": {
           "xaxis": {
            "backgroundcolor": "rgb(237,237,237)",
            "gridcolor": "white",
            "gridwidth": 2,
            "linecolor": "white",
            "showbackground": true,
            "showgrid": true,
            "tickcolor": "rgb(51,51,51)",
            "ticks": "outside",
            "zerolinecolor": "white"
           },
           "yaxis": {
            "backgroundcolor": "rgb(237,237,237)",
            "gridcolor": "white",
            "gridwidth": 2,
            "linecolor": "white",
            "showbackground": true,
            "showgrid": true,
            "tickcolor": "rgb(51,51,51)",
            "ticks": "outside",
            "zerolinecolor": "white"
           },
           "zaxis": {
            "backgroundcolor": "rgb(237,237,237)",
            "gridcolor": "white",
            "gridwidth": 2,
            "linecolor": "white",
            "showbackground": true,
            "showgrid": true,
            "tickcolor": "rgb(51,51,51)",
            "ticks": "outside",
            "zerolinecolor": "white"
           }
          },
          "shapedefaults": {
           "fillcolor": "black",
           "line": {
            "width": 0
           },
           "opacity": 0.3
          },
          "ternary": {
           "aaxis": {
            "gridcolor": "white",
            "linecolor": "white",
            "showgrid": true,
            "tickcolor": "rgb(51,51,51)",
            "ticks": "outside"
           },
           "baxis": {
            "gridcolor": "white",
            "linecolor": "white",
            "showgrid": true,
            "tickcolor": "rgb(51,51,51)",
            "ticks": "outside"
           },
           "bgcolor": "rgb(237,237,237)",
           "caxis": {
            "gridcolor": "white",
            "linecolor": "white",
            "showgrid": true,
            "tickcolor": "rgb(51,51,51)",
            "ticks": "outside"
           }
          },
          "xaxis": {
           "automargin": true,
           "gridcolor": "white",
           "linecolor": "white",
           "showgrid": true,
           "tickcolor": "rgb(51,51,51)",
           "ticks": "outside",
           "title": {
            "standoff": 15
           },
           "zerolinecolor": "white"
          },
          "yaxis": {
           "automargin": true,
           "gridcolor": "white",
           "linecolor": "white",
           "showgrid": true,
           "tickcolor": "rgb(51,51,51)",
           "ticks": "outside",
           "title": {
            "standoff": 15
           },
           "zerolinecolor": "white"
          }
         }
        },
        "title": {
         "text": "Total Buckwheat Area in last 10 YEAR"
        },
        "width": 800,
        "xaxis": {
         "anchor": "y",
         "domain": [
          0,
          1
         ],
         "title": {
          "text": "Year"
         }
        },
        "yaxis": {
         "anchor": "x",
         "domain": [
          0,
          1
         ],
         "title": {
          "text": "Buckwheat Area(ht)"
         }
        }
       }
      }
     },
     "metadata": {},
     "output_type": "display_data"
    }
   ],
   "source": [
    "fig = px.bar(buckwheat_area, x='YEAR', y='Buckwheat_AREA',\n",
    "             title='Total Buckwheat Area in last 10 YEAR',\n",
    "             labels={'YEAR': 'YEAR', 'BUckwheat Area ': 'Buckwheat_AREA (1000 ha)'},\n",
    "             color='Buckwheat_AREA', color_continuous_scale='Turbo'\n",
    "          )\n",
    "\n",
    "fig.update_layout(xaxis_title='Year', yaxis_title='Buckwheat Area(ht)')\n",
    "\n",
    "fig.update_layout(template='ggplot2')\n",
    "fig.update_layout(height=600,width=800)\n",
    "fig.show()"
   ]
  },
  {
   "cell_type": "code",
   "execution_count": 60,
   "id": "b63860c1",
   "metadata": {},
   "outputs": [
    {
     "data": {
      "text/html": [
       "<div>\n",
       "<style scoped>\n",
       "    .dataframe tbody tr th:only-of-type {\n",
       "        vertical-align: middle;\n",
       "    }\n",
       "\n",
       "    .dataframe tbody tr th {\n",
       "        vertical-align: top;\n",
       "    }\n",
       "\n",
       "    .dataframe thead th {\n",
       "        text-align: right;\n",
       "    }\n",
       "</style>\n",
       "<table border=\"1\" class=\"dataframe\">\n",
       "  <thead>\n",
       "    <tr style=\"text-align: right;\">\n",
       "      <th></th>\n",
       "      <th>YEAR</th>\n",
       "      <th>Buckwheat_PROD.</th>\n",
       "    </tr>\n",
       "  </thead>\n",
       "  <tbody>\n",
       "    <tr>\n",
       "      <th>0</th>\n",
       "      <td>22-2021</td>\n",
       "      <td>19290</td>\n",
       "    </tr>\n",
       "    <tr>\n",
       "      <th>1</th>\n",
       "      <td>21-2020</td>\n",
       "      <td>15917</td>\n",
       "    </tr>\n",
       "    <tr>\n",
       "      <th>2</th>\n",
       "      <td>17-2016</td>\n",
       "      <td>12039</td>\n",
       "    </tr>\n",
       "    <tr>\n",
       "      <th>3</th>\n",
       "      <td>20-2019</td>\n",
       "      <td>11724</td>\n",
       "    </tr>\n",
       "    <tr>\n",
       "      <th>4</th>\n",
       "      <td>16-2015</td>\n",
       "      <td>11641</td>\n",
       "    </tr>\n",
       "    <tr>\n",
       "      <th>5</th>\n",
       "      <td>18-2017</td>\n",
       "      <td>11472</td>\n",
       "    </tr>\n",
       "    <tr>\n",
       "      <th>6</th>\n",
       "      <td>19-2018</td>\n",
       "      <td>11464</td>\n",
       "    </tr>\n",
       "    <tr>\n",
       "      <th>7</th>\n",
       "      <td>15-2014</td>\n",
       "      <td>10870</td>\n",
       "    </tr>\n",
       "    <tr>\n",
       "      <th>8</th>\n",
       "      <td>14-2013</td>\n",
       "      <td>10335</td>\n",
       "    </tr>\n",
       "    <tr>\n",
       "      <th>9</th>\n",
       "      <td>13-2012</td>\n",
       "      <td>10056</td>\n",
       "    </tr>\n",
       "  </tbody>\n",
       "</table>\n",
       "</div>"
      ],
      "text/plain": [
       "      YEAR  Buckwheat_PROD.\n",
       "0  22-2021            19290\n",
       "1  21-2020            15917\n",
       "2  17-2016            12039\n",
       "3  20-2019            11724\n",
       "4  16-2015            11641\n",
       "5  18-2017            11472\n",
       "6  19-2018            11464\n",
       "7  15-2014            10870\n",
       "8  14-2013            10335\n",
       "9  13-2012            10056"
      ]
     },
     "execution_count": 60,
     "metadata": {},
     "output_type": "execute_result"
    }
   ],
   "source": [
    "#buckwheat production\n",
    "\n",
    "buckwheat_production=df1.groupby('YEAR')['Buckwheat_PROD.'].sum().sort_values(ascending=False).reset_index()\n",
    "buckwheat_production\n",
    "\n"
   ]
  },
  {
   "cell_type": "code",
   "execution_count": 63,
   "id": "4a424983",
   "metadata": {},
   "outputs": [
    {
     "data": {
      "application/vnd.plotly.v1+json": {
       "config": {
        "plotlyServerURL": "https://plot.ly"
       },
       "data": [
        {
         "customdata": [
          [
           "22-2021"
          ],
          [
           "21-2020"
          ],
          [
           "17-2016"
          ],
          [
           "20-2019"
          ],
          [
           "16-2015"
          ],
          [
           "18-2017"
          ],
          [
           "19-2018"
          ],
          [
           "15-2014"
          ],
          [
           "14-2013"
          ],
          [
           "13-2012"
          ]
         ],
         "domain": {
          "x": [
           0,
           1
          ],
          "y": [
           0,
           1
          ]
         },
         "hole": 0.1,
         "hovertemplate": "YEAR=%{customdata[0]}<br>Buckwheat_PROD.=%{value}<extra></extra>",
         "labels": [
          "22-2021",
          "21-2020",
          "17-2016",
          "20-2019",
          "16-2015",
          "18-2017",
          "19-2018",
          "15-2014",
          "14-2013",
          "13-2012"
         ],
         "legendgroup": "",
         "marker": {
          "colors": [
           "rgb(0,0,0)",
           "rgb(230,0,0)",
           "rgb(230,210,0)",
           "rgb(255,255,255)",
           "rgb(160,200,255)",
           "rgb(0,0,0)",
           "rgb(230,0,0)",
           "rgb(230,210,0)",
           "rgb(255,255,255)",
           "rgb(160,200,255)"
          ]
         },
         "name": "",
         "showlegend": true,
         "type": "pie",
         "values": [
          19290,
          15917,
          12039,
          11724,
          11641,
          11472,
          11464,
          10870,
          10335,
          10056
         ]
        }
       ],
       "layout": {
        "height": 600,
        "legend": {
         "tracegroupgap": 0
        },
        "piecolorway": [
         "rgb(0,0,0)",
         "rgb(230,0,0)",
         "rgb(230,210,0)",
         "rgb(255,255,255)",
         "rgb(160,200,255)"
        ],
        "template": {
         "data": {
          "bar": [
           {
            "error_x": {
             "color": "rgb(51,51,51)"
            },
            "error_y": {
             "color": "rgb(51,51,51)"
            },
            "marker": {
             "line": {
              "color": "rgb(237,237,237)",
              "width": 0.5
             },
             "pattern": {
              "fillmode": "overlay",
              "size": 10,
              "solidity": 0.2
             }
            },
            "type": "bar"
           }
          ],
          "barpolar": [
           {
            "marker": {
             "line": {
              "color": "rgb(237,237,237)",
              "width": 0.5
             },
             "pattern": {
              "fillmode": "overlay",
              "size": 10,
              "solidity": 0.2
             }
            },
            "type": "barpolar"
           }
          ],
          "carpet": [
           {
            "aaxis": {
             "endlinecolor": "rgb(51,51,51)",
             "gridcolor": "white",
             "linecolor": "white",
             "minorgridcolor": "white",
             "startlinecolor": "rgb(51,51,51)"
            },
            "baxis": {
             "endlinecolor": "rgb(51,51,51)",
             "gridcolor": "white",
             "linecolor": "white",
             "minorgridcolor": "white",
             "startlinecolor": "rgb(51,51,51)"
            },
            "type": "carpet"
           }
          ],
          "choropleth": [
           {
            "colorbar": {
             "outlinewidth": 0,
             "tickcolor": "rgb(237,237,237)",
             "ticklen": 6,
             "ticks": "inside"
            },
            "type": "choropleth"
           }
          ],
          "contour": [
           {
            "colorbar": {
             "outlinewidth": 0,
             "tickcolor": "rgb(237,237,237)",
             "ticklen": 6,
             "ticks": "inside"
            },
            "colorscale": [
             [
              0,
              "rgb(20,44,66)"
             ],
             [
              1,
              "rgb(90,179,244)"
             ]
            ],
            "type": "contour"
           }
          ],
          "contourcarpet": [
           {
            "colorbar": {
             "outlinewidth": 0,
             "tickcolor": "rgb(237,237,237)",
             "ticklen": 6,
             "ticks": "inside"
            },
            "type": "contourcarpet"
           }
          ],
          "heatmap": [
           {
            "colorbar": {
             "outlinewidth": 0,
             "tickcolor": "rgb(237,237,237)",
             "ticklen": 6,
             "ticks": "inside"
            },
            "colorscale": [
             [
              0,
              "rgb(20,44,66)"
             ],
             [
              1,
              "rgb(90,179,244)"
             ]
            ],
            "type": "heatmap"
           }
          ],
          "heatmapgl": [
           {
            "colorbar": {
             "outlinewidth": 0,
             "tickcolor": "rgb(237,237,237)",
             "ticklen": 6,
             "ticks": "inside"
            },
            "colorscale": [
             [
              0,
              "rgb(20,44,66)"
             ],
             [
              1,
              "rgb(90,179,244)"
             ]
            ],
            "type": "heatmapgl"
           }
          ],
          "histogram": [
           {
            "marker": {
             "pattern": {
              "fillmode": "overlay",
              "size": 10,
              "solidity": 0.2
             }
            },
            "type": "histogram"
           }
          ],
          "histogram2d": [
           {
            "colorbar": {
             "outlinewidth": 0,
             "tickcolor": "rgb(237,237,237)",
             "ticklen": 6,
             "ticks": "inside"
            },
            "colorscale": [
             [
              0,
              "rgb(20,44,66)"
             ],
             [
              1,
              "rgb(90,179,244)"
             ]
            ],
            "type": "histogram2d"
           }
          ],
          "histogram2dcontour": [
           {
            "colorbar": {
             "outlinewidth": 0,
             "tickcolor": "rgb(237,237,237)",
             "ticklen": 6,
             "ticks": "inside"
            },
            "colorscale": [
             [
              0,
              "rgb(20,44,66)"
             ],
             [
              1,
              "rgb(90,179,244)"
             ]
            ],
            "type": "histogram2dcontour"
           }
          ],
          "mesh3d": [
           {
            "colorbar": {
             "outlinewidth": 0,
             "tickcolor": "rgb(237,237,237)",
             "ticklen": 6,
             "ticks": "inside"
            },
            "type": "mesh3d"
           }
          ],
          "parcoords": [
           {
            "line": {
             "colorbar": {
              "outlinewidth": 0,
              "tickcolor": "rgb(237,237,237)",
              "ticklen": 6,
              "ticks": "inside"
             }
            },
            "type": "parcoords"
           }
          ],
          "pie": [
           {
            "automargin": true,
            "type": "pie"
           }
          ],
          "scatter": [
           {
            "fillpattern": {
             "fillmode": "overlay",
             "size": 10,
             "solidity": 0.2
            },
            "type": "scatter"
           }
          ],
          "scatter3d": [
           {
            "line": {
             "colorbar": {
              "outlinewidth": 0,
              "tickcolor": "rgb(237,237,237)",
              "ticklen": 6,
              "ticks": "inside"
             }
            },
            "marker": {
             "colorbar": {
              "outlinewidth": 0,
              "tickcolor": "rgb(237,237,237)",
              "ticklen": 6,
              "ticks": "inside"
             }
            },
            "type": "scatter3d"
           }
          ],
          "scattercarpet": [
           {
            "marker": {
             "colorbar": {
              "outlinewidth": 0,
              "tickcolor": "rgb(237,237,237)",
              "ticklen": 6,
              "ticks": "inside"
             }
            },
            "type": "scattercarpet"
           }
          ],
          "scattergeo": [
           {
            "marker": {
             "colorbar": {
              "outlinewidth": 0,
              "tickcolor": "rgb(237,237,237)",
              "ticklen": 6,
              "ticks": "inside"
             }
            },
            "type": "scattergeo"
           }
          ],
          "scattergl": [
           {
            "marker": {
             "colorbar": {
              "outlinewidth": 0,
              "tickcolor": "rgb(237,237,237)",
              "ticklen": 6,
              "ticks": "inside"
             }
            },
            "type": "scattergl"
           }
          ],
          "scattermapbox": [
           {
            "marker": {
             "colorbar": {
              "outlinewidth": 0,
              "tickcolor": "rgb(237,237,237)",
              "ticklen": 6,
              "ticks": "inside"
             }
            },
            "type": "scattermapbox"
           }
          ],
          "scatterpolar": [
           {
            "marker": {
             "colorbar": {
              "outlinewidth": 0,
              "tickcolor": "rgb(237,237,237)",
              "ticklen": 6,
              "ticks": "inside"
             }
            },
            "type": "scatterpolar"
           }
          ],
          "scatterpolargl": [
           {
            "marker": {
             "colorbar": {
              "outlinewidth": 0,
              "tickcolor": "rgb(237,237,237)",
              "ticklen": 6,
              "ticks": "inside"
             }
            },
            "type": "scatterpolargl"
           }
          ],
          "scatterternary": [
           {
            "marker": {
             "colorbar": {
              "outlinewidth": 0,
              "tickcolor": "rgb(237,237,237)",
              "ticklen": 6,
              "ticks": "inside"
             }
            },
            "type": "scatterternary"
           }
          ],
          "surface": [
           {
            "colorbar": {
             "outlinewidth": 0,
             "tickcolor": "rgb(237,237,237)",
             "ticklen": 6,
             "ticks": "inside"
            },
            "colorscale": [
             [
              0,
              "rgb(20,44,66)"
             ],
             [
              1,
              "rgb(90,179,244)"
             ]
            ],
            "type": "surface"
           }
          ],
          "table": [
           {
            "cells": {
             "fill": {
              "color": "rgb(237,237,237)"
             },
             "line": {
              "color": "white"
             }
            },
            "header": {
             "fill": {
              "color": "rgb(217,217,217)"
             },
             "line": {
              "color": "white"
             }
            },
            "type": "table"
           }
          ]
         },
         "layout": {
          "annotationdefaults": {
           "arrowhead": 0,
           "arrowwidth": 1
          },
          "autotypenumbers": "strict",
          "coloraxis": {
           "colorbar": {
            "outlinewidth": 0,
            "tickcolor": "rgb(237,237,237)",
            "ticklen": 6,
            "ticks": "inside"
           }
          },
          "colorscale": {
           "sequential": [
            [
             0,
             "rgb(20,44,66)"
            ],
            [
             1,
             "rgb(90,179,244)"
            ]
           ],
           "sequentialminus": [
            [
             0,
             "rgb(20,44,66)"
            ],
            [
             1,
             "rgb(90,179,244)"
            ]
           ]
          },
          "colorway": [
           "#F8766D",
           "#A3A500",
           "#00BF7D",
           "#00B0F6",
           "#E76BF3"
          ],
          "font": {
           "color": "rgb(51,51,51)"
          },
          "geo": {
           "bgcolor": "white",
           "lakecolor": "white",
           "landcolor": "rgb(237,237,237)",
           "showlakes": true,
           "showland": true,
           "subunitcolor": "white"
          },
          "hoverlabel": {
           "align": "left"
          },
          "hovermode": "closest",
          "paper_bgcolor": "white",
          "plot_bgcolor": "rgb(237,237,237)",
          "polar": {
           "angularaxis": {
            "gridcolor": "white",
            "linecolor": "white",
            "showgrid": true,
            "tickcolor": "rgb(51,51,51)",
            "ticks": "outside"
           },
           "bgcolor": "rgb(237,237,237)",
           "radialaxis": {
            "gridcolor": "white",
            "linecolor": "white",
            "showgrid": true,
            "tickcolor": "rgb(51,51,51)",
            "ticks": "outside"
           }
          },
          "scene": {
           "xaxis": {
            "backgroundcolor": "rgb(237,237,237)",
            "gridcolor": "white",
            "gridwidth": 2,
            "linecolor": "white",
            "showbackground": true,
            "showgrid": true,
            "tickcolor": "rgb(51,51,51)",
            "ticks": "outside",
            "zerolinecolor": "white"
           },
           "yaxis": {
            "backgroundcolor": "rgb(237,237,237)",
            "gridcolor": "white",
            "gridwidth": 2,
            "linecolor": "white",
            "showbackground": true,
            "showgrid": true,
            "tickcolor": "rgb(51,51,51)",
            "ticks": "outside",
            "zerolinecolor": "white"
           },
           "zaxis": {
            "backgroundcolor": "rgb(237,237,237)",
            "gridcolor": "white",
            "gridwidth": 2,
            "linecolor": "white",
            "showbackground": true,
            "showgrid": true,
            "tickcolor": "rgb(51,51,51)",
            "ticks": "outside",
            "zerolinecolor": "white"
           }
          },
          "shapedefaults": {
           "fillcolor": "black",
           "line": {
            "width": 0
           },
           "opacity": 0.3
          },
          "ternary": {
           "aaxis": {
            "gridcolor": "white",
            "linecolor": "white",
            "showgrid": true,
            "tickcolor": "rgb(51,51,51)",
            "ticks": "outside"
           },
           "baxis": {
            "gridcolor": "white",
            "linecolor": "white",
            "showgrid": true,
            "tickcolor": "rgb(51,51,51)",
            "ticks": "outside"
           },
           "bgcolor": "rgb(237,237,237)",
           "caxis": {
            "gridcolor": "white",
            "linecolor": "white",
            "showgrid": true,
            "tickcolor": "rgb(51,51,51)",
            "ticks": "outside"
           }
          },
          "xaxis": {
           "automargin": true,
           "gridcolor": "white",
           "linecolor": "white",
           "showgrid": true,
           "tickcolor": "rgb(51,51,51)",
           "ticks": "outside",
           "title": {
            "standoff": 15
           },
           "zerolinecolor": "white"
          },
          "yaxis": {
           "automargin": true,
           "gridcolor": "white",
           "linecolor": "white",
           "showgrid": true,
           "tickcolor": "rgb(51,51,51)",
           "ticks": "outside",
           "title": {
            "standoff": 15
           },
           "zerolinecolor": "white"
          }
         }
        },
        "title": {
         "text": "Total Buckwheat production in last 10 year"
        },
        "width": 800
       }
      }
     },
     "metadata": {},
     "output_type": "display_data"
    }
   ],
   "source": [
    "fig = px.pie(buckwheat_production, names='YEAR', values='Buckwheat_PROD.',\n",
    "             title='Total Buckwheat production in last 10 year',\n",
    "             labels={'Year': 'YEAR', 'Buckwheat Production': 'Buckwheat_PROD.'},\n",
    "             color='YEAR', color_discrete_sequence=px.colors.sequential.Blackbody ,\n",
    "             hole=0.1\n",
    "             )\n",
    "\n",
    "fig.update_layout(template='ggplot2')\n",
    "fig.update_layout(height=600,width=800)\n",
    "fig.show()\n"
   ]
  },
  {
   "cell_type": "code",
   "execution_count": 64,
   "id": "ea462c69",
   "metadata": {},
   "outputs": [
    {
     "data": {
      "text/html": [
       "<div>\n",
       "<style scoped>\n",
       "    .dataframe tbody tr th:only-of-type {\n",
       "        vertical-align: middle;\n",
       "    }\n",
       "\n",
       "    .dataframe tbody tr th {\n",
       "        vertical-align: top;\n",
       "    }\n",
       "\n",
       "    .dataframe thead th {\n",
       "        text-align: right;\n",
       "    }\n",
       "</style>\n",
       "<table border=\"1\" class=\"dataframe\">\n",
       "  <thead>\n",
       "    <tr style=\"text-align: right;\">\n",
       "      <th></th>\n",
       "      <th>YEAR</th>\n",
       "      <th>Buckwheat_AREA</th>\n",
       "      <th>Buckwheat_PROD.</th>\n",
       "    </tr>\n",
       "  </thead>\n",
       "  <tbody>\n",
       "    <tr>\n",
       "      <th>0</th>\n",
       "      <td>22-2021</td>\n",
       "      <td>16123</td>\n",
       "      <td>19290</td>\n",
       "    </tr>\n",
       "    <tr>\n",
       "      <th>1</th>\n",
       "      <td>21-2020</td>\n",
       "      <td>13875</td>\n",
       "      <td>15917</td>\n",
       "    </tr>\n",
       "    <tr>\n",
       "      <th>2</th>\n",
       "      <td>17-2016</td>\n",
       "      <td>11090</td>\n",
       "      <td>12039</td>\n",
       "    </tr>\n",
       "    <tr>\n",
       "      <th>3</th>\n",
       "      <td>20-2019</td>\n",
       "      <td>10369</td>\n",
       "      <td>11724</td>\n",
       "    </tr>\n",
       "    <tr>\n",
       "      <th>4</th>\n",
       "      <td>16-2015</td>\n",
       "      <td>10842</td>\n",
       "      <td>11641</td>\n",
       "    </tr>\n",
       "    <tr>\n",
       "      <th>5</th>\n",
       "      <td>18-2017</td>\n",
       "      <td>10296</td>\n",
       "      <td>11472</td>\n",
       "    </tr>\n",
       "    <tr>\n",
       "      <th>6</th>\n",
       "      <td>19-2018</td>\n",
       "      <td>10311</td>\n",
       "      <td>11464</td>\n",
       "    </tr>\n",
       "    <tr>\n",
       "      <th>7</th>\n",
       "      <td>15-2014</td>\n",
       "      <td>10819</td>\n",
       "      <td>10870</td>\n",
       "    </tr>\n",
       "    <tr>\n",
       "      <th>8</th>\n",
       "      <td>14-2013</td>\n",
       "      <td>10510</td>\n",
       "      <td>10335</td>\n",
       "    </tr>\n",
       "    <tr>\n",
       "      <th>9</th>\n",
       "      <td>13-2012</td>\n",
       "      <td>10681</td>\n",
       "      <td>10056</td>\n",
       "    </tr>\n",
       "  </tbody>\n",
       "</table>\n",
       "</div>"
      ],
      "text/plain": [
       "      YEAR  Buckwheat_AREA  Buckwheat_PROD.\n",
       "0  22-2021           16123            19290\n",
       "1  21-2020           13875            15917\n",
       "2  17-2016           11090            12039\n",
       "3  20-2019           10369            11724\n",
       "4  16-2015           10842            11641\n",
       "5  18-2017           10296            11472\n",
       "6  19-2018           10311            11464\n",
       "7  15-2014           10819            10870\n",
       "8  14-2013           10510            10335\n",
       "9  13-2012           10681            10056"
      ]
     },
     "execution_count": 64,
     "metadata": {},
     "output_type": "execute_result"
    }
   ],
   "source": [
    "buckwheat_production=df1.groupby(['YEAR','Buckwheat_AREA'])['Buckwheat_PROD.'].sum().sort_values(ascending=False).reset_index()\n",
    "buckwheat_production\n",
    "\n"
   ]
  },
  {
   "cell_type": "code",
   "execution_count": 67,
   "id": "2a652433",
   "metadata": {},
   "outputs": [
    {
     "data": {
      "image/png": "[encoded data removed]",
      "text/plain": [
       "<Figure size 1000x1000 with 1 Axes>"
      ]
     },
     "metadata": {},
     "output_type": "display_data"
    }
   ],
   "source": [
    "buckwheat_production.plot(x=\"YEAR\", y=[\"Buckwheat_AREA\", \"Buckwheat_PROD.\"],\n",
    "        kind=\"bar\", figsize=(10, 10),\n",
    "         title=\"Comparision between buckwheat Area and Buckwheat Production\", stacked=True)\n",
    "\n",
    "fig.update_layout(xaxis_title='Year', yaxis_title='Count')\n",
    "\n",
    "# Display plot\n",
    "plt.show()"
   ]
  },
  {
   "cell_type": "markdown",
   "id": "cc174ed3",
   "metadata": {},
   "source": [
    "## 4. Miillet  "
   ]
  },
  {
   "cell_type": "code",
   "execution_count": 68,
   "id": "2c739ed4",
   "metadata": {},
   "outputs": [
    {
     "data": {
      "text/html": [
       "<div>\n",
       "<style scoped>\n",
       "    .dataframe tbody tr th:only-of-type {\n",
       "        vertical-align: middle;\n",
       "    }\n",
       "\n",
       "    .dataframe tbody tr th {\n",
       "        vertical-align: top;\n",
       "    }\n",
       "\n",
       "    .dataframe thead th {\n",
       "        text-align: right;\n",
       "    }\n",
       "</style>\n",
       "<table border=\"1\" class=\"dataframe\">\n",
       "  <thead>\n",
       "    <tr style=\"text-align: right;\">\n",
       "      <th></th>\n",
       "      <th>YEAR</th>\n",
       "      <th>Miillet_YIELD</th>\n",
       "    </tr>\n",
       "  </thead>\n",
       "  <tbody>\n",
       "    <tr>\n",
       "      <th>0</th>\n",
       "      <td>22-2021</td>\n",
       "      <td>1.27</td>\n",
       "    </tr>\n",
       "    <tr>\n",
       "      <th>1</th>\n",
       "      <td>21-2020</td>\n",
       "      <td>1.23</td>\n",
       "    </tr>\n",
       "    <tr>\n",
       "      <th>2</th>\n",
       "      <td>20-2019</td>\n",
       "      <td>1.22</td>\n",
       "    </tr>\n",
       "    <tr>\n",
       "      <th>3</th>\n",
       "      <td>18-2017</td>\n",
       "      <td>1.19</td>\n",
       "    </tr>\n",
       "    <tr>\n",
       "      <th>4</th>\n",
       "      <td>19-2018</td>\n",
       "      <td>1.19</td>\n",
       "    </tr>\n",
       "    <tr>\n",
       "      <th>5</th>\n",
       "      <td>17-2016</td>\n",
       "      <td>1.16</td>\n",
       "    </tr>\n",
       "    <tr>\n",
       "      <th>6</th>\n",
       "      <td>15-2014</td>\n",
       "      <td>1.15</td>\n",
       "    </tr>\n",
       "    <tr>\n",
       "      <th>7</th>\n",
       "      <td>16-2015</td>\n",
       "      <td>1.13</td>\n",
       "    </tr>\n",
       "    <tr>\n",
       "      <th>8</th>\n",
       "      <td>14-2013</td>\n",
       "      <td>1.12</td>\n",
       "    </tr>\n",
       "    <tr>\n",
       "      <th>9</th>\n",
       "      <td>13-2012</td>\n",
       "      <td>1.11</td>\n",
       "    </tr>\n",
       "  </tbody>\n",
       "</table>\n",
       "</div>"
      ],
      "text/plain": [
       "      YEAR  Miillet_YIELD\n",
       "0  22-2021           1.27\n",
       "1  21-2020           1.23\n",
       "2  20-2019           1.22\n",
       "3  18-2017           1.19\n",
       "4  19-2018           1.19\n",
       "5  17-2016           1.16\n",
       "6  15-2014           1.15\n",
       "7  16-2015           1.13\n",
       "8  14-2013           1.12\n",
       "9  13-2012           1.11"
      ]
     },
     "execution_count": 68,
     "metadata": {},
     "output_type": "execute_result"
    }
   ],
   "source": [
    "# Miillet yield\n",
    "\n",
    "miillet_yield=df1.groupby('YEAR')['Miillet_YIELD'].sum().sort_values(ascending=False).reset_index()\n",
    "miillet_yield"
   ]
  },
  {
   "cell_type": "code",
   "execution_count": 70,
   "id": "b0d769c1",
   "metadata": {},
   "outputs": [
    {
     "data": {
      "application/vnd.plotly.v1+json": {
       "config": {
        "plotlyServerURL": "https://plot.ly"
       },
       "data": [
        {
         "hovertemplate": "Miillet_YIELD=%{y}<br>YEAR=%{x}<extra></extra>",
         "legendgroup": "1.27",
         "line": {
          "color": "#636efa",
          "dash": "solid",
          "shape": "linear"
         },
         "marker": {
          "size": 20,
          "symbol": "circle"
         },
         "mode": "lines+markers",
         "name": "1.27",
         "orientation": "v",
         "showlegend": true,
         "type": "scatter",
         "x": [
          "22-2021"
         ],
         "xaxis": "x",
         "y": [
          1.27
         ],
         "yaxis": "y"
        },
        {
         "hovertemplate": "Miillet_YIELD=%{y}<br>YEAR=%{x}<extra></extra>",
         "legendgroup": "1.23",
         "line": {
          "color": "#EF553B",
          "dash": "solid",
          "shape": "linear"
         },
         "marker": {
          "size": 20,
          "symbol": "circle"
         },
         "mode": "lines+markers",
         "name": "1.23",
         "orientation": "v",
         "showlegend": true,
         "type": "scatter",
         "x": [
          "21-2020"
         ],
         "xaxis": "x",
         "y": [
          1.23
         ],
         "yaxis": "y"
        },
        {
         "hovertemplate": "Miillet_YIELD=%{y}<br>YEAR=%{x}<extra></extra>",
         "legendgroup": "1.22",
         "line": {
          "color": "#00cc96",
          "dash": "solid",
          "shape": "linear"
         },
         "marker": {
          "size": 20,
          "symbol": "circle"
         },
         "mode": "lines+markers",
         "name": "1.22",
         "orientation": "v",
         "showlegend": true,
         "type": "scatter",
         "x": [
          "20-2019"
         ],
         "xaxis": "x",
         "y": [
          1.22
         ],
         "yaxis": "y"
        },
        {
         "hovertemplate": "Miillet_YIELD=%{y}<br>YEAR=%{x}<extra></extra>",
         "legendgroup": "1.19",
         "line": {
          "color": "#ab63fa",
          "dash": "solid",
          "shape": "linear"
         },
         "marker": {
          "size": 20,
          "symbol": "circle"
         },
         "mode": "lines+markers",
         "name": "1.19",
         "orientation": "v",
         "showlegend": true,
         "type": "scatter",
         "x": [
          "18-2017",
          "19-2018"
         ],
         "xaxis": "x",
         "y": [
          1.19,
          1.19
         ],
         "yaxis": "y"
        },
        {
         "hovertemplate": "Miillet_YIELD=%{y}<br>YEAR=%{x}<extra></extra>",
         "legendgroup": "1.16",
         "line": {
          "color": "#FFA15A",
          "dash": "solid",
          "shape": "linear"
         },
         "marker": {
          "size": 20,
          "symbol": "circle"
         },
         "mode": "lines+markers",
         "name": "1.16",
         "orientation": "v",
         "showlegend": true,
         "type": "scatter",
         "x": [
          "17-2016"
         ],
         "xaxis": "x",
         "y": [
          1.16
         ],
         "yaxis": "y"
        },
        {
         "hovertemplate": "Miillet_YIELD=%{y}<br>YEAR=%{x}<extra></extra>",
         "legendgroup": "1.15",
         "line": {
          "color": "#19d3f3",
          "dash": "solid",
          "shape": "linear"
         },
         "marker": {
          "size": 20,
          "symbol": "circle"
         },
         "mode": "lines+markers",
         "name": "1.15",
         "orientation": "v",
         "showlegend": true,
         "type": "scatter",
         "x": [
          "15-2014"
         ],
         "xaxis": "x",
         "y": [
          1.15
         ],
         "yaxis": "y"
        },
        {
         "hovertemplate": "Miillet_YIELD=%{y}<br>YEAR=%{x}<extra></extra>",
         "legendgroup": "1.13",
         "line": {
          "color": "#FF6692",
          "dash": "solid",
          "shape": "linear"
         },
         "marker": {
          "size": 20,
          "symbol": "circle"
         },
         "mode": "lines+markers",
         "name": "1.13",
         "orientation": "v",
         "showlegend": true,
         "type": "scatter",
         "x": [
          "16-2015"
         ],
         "xaxis": "x",
         "y": [
          1.13
         ],
         "yaxis": "y"
        },
        {
         "hovertemplate": "Miillet_YIELD=%{y}<br>YEAR=%{x}<extra></extra>",
         "legendgroup": "1.12",
         "line": {
          "color": "#B6E880",
          "dash": "solid",
          "shape": "linear"
         },
         "marker": {
          "size": 20,
          "symbol": "circle"
         },
         "mode": "lines+markers",
         "name": "1.12",
         "orientation": "v",
         "showlegend": true,
         "type": "scatter",
         "x": [
          "14-2013"
         ],
         "xaxis": "x",
         "y": [
          1.12
         ],
         "yaxis": "y"
        },
        {
         "hovertemplate": "Miillet_YIELD=%{y}<br>YEAR=%{x}<extra></extra>",
         "legendgroup": "1.11",
         "line": {
          "color": "#FF97FF",
          "dash": "solid",
          "shape": "linear"
         },
         "marker": {
          "size": 20,
          "symbol": "circle"
         },
         "mode": "lines+markers",
         "name": "1.11",
         "orientation": "v",
         "showlegend": true,
         "type": "scatter",
         "x": [
          "13-2012"
         ],
         "xaxis": "x",
         "y": [
          1.11
         ],
         "yaxis": "y"
        }
       ],
       "layout": {
        "height": 600,
        "legend": {
         "title": {
          "text": "Miillet_YIELD"
         },
         "tracegroupgap": 0
        },
        "template": {
         "data": {
          "pie": [
           {
            "automargin": true,
            "type": "pie"
           }
          ]
         },
         "layout": {
          "xaxis": {
           "showgrid": true,
           "title": {
            "standoff": 15
           }
          },
          "yaxis": {
           "showgrid": true,
           "title": {
            "standoff": 15
           }
          }
         }
        },
        "title": {
         "text": "Total Miillet yield in last 10 years"
        },
        "width": 800,
        "xaxis": {
         "anchor": "y",
         "domain": [
          0,
          1
         ],
         "title": {
          "text": "Year"
         }
        },
        "yaxis": {
         "anchor": "x",
         "categoryarray": [
          1.11,
          1.12,
          1.13,
          1.15,
          1.16,
          1.19,
          1.22,
          1.23,
          1.27
         ],
         "categoryorder": "array",
         "domain": [
          0,
          1
         ],
         "title": {
          "text": "Miillet yeild(mt/ht)"
         }
        }
       }
      }
     },
     "metadata": {},
     "output_type": "display_data"
    }
   ],
   "source": [
    "fig = px.line(miillet_yield, x='YEAR', y='Miillet_YIELD',\n",
    "             title='Total Miillet yield in last 10 years',\n",
    "             labels={'year': 'YEAR', 'Miillet yield ': 'Miillet_YIELD'},\n",
    "             color='Miillet_YIELD',\n",
    "             line_shape=\"linear\",\n",
    "            markers=True,\n",
    "            \n",
    "             )\n",
    "\n",
    "fig.update_layout(xaxis_title='Year', yaxis_title='Miillet yeild(mt/ht)')\n",
    "fig.update_layout(template='gridon')\n",
    "fig.update_traces(marker=dict(size=20))\n",
    "fig.update_layout(height=600,width=800)\n",
    "fig.show()"
   ]
  },
  {
   "cell_type": "code",
   "execution_count": 72,
   "id": "25087828",
   "metadata": {},
   "outputs": [
    {
     "data": {
      "text/html": [
       "<div>\n",
       "<style scoped>\n",
       "    .dataframe tbody tr th:only-of-type {\n",
       "        vertical-align: middle;\n",
       "    }\n",
       "\n",
       "    .dataframe tbody tr th {\n",
       "        vertical-align: top;\n",
       "    }\n",
       "\n",
       "    .dataframe thead th {\n",
       "        text-align: right;\n",
       "    }\n",
       "</style>\n",
       "<table border=\"1\" class=\"dataframe\">\n",
       "  <thead>\n",
       "    <tr style=\"text-align: right;\">\n",
       "      <th></th>\n",
       "      <th>YEAR</th>\n",
       "      <th>Miillet_AREA</th>\n",
       "    </tr>\n",
       "  </thead>\n",
       "  <tbody>\n",
       "    <tr>\n",
       "      <th>0</th>\n",
       "      <td>13-2012</td>\n",
       "      <td>274350</td>\n",
       "    </tr>\n",
       "    <tr>\n",
       "      <th>1</th>\n",
       "      <td>14-2013</td>\n",
       "      <td>271183</td>\n",
       "    </tr>\n",
       "    <tr>\n",
       "      <th>2</th>\n",
       "      <td>15-2014</td>\n",
       "      <td>268050</td>\n",
       "    </tr>\n",
       "    <tr>\n",
       "      <th>3</th>\n",
       "      <td>22-2021</td>\n",
       "      <td>267071</td>\n",
       "    </tr>\n",
       "    <tr>\n",
       "      <th>4</th>\n",
       "      <td>16-2015</td>\n",
       "      <td>266799</td>\n",
       "    </tr>\n",
       "    <tr>\n",
       "      <th>5</th>\n",
       "      <td>21-2020</td>\n",
       "      <td>265401</td>\n",
       "    </tr>\n",
       "    <tr>\n",
       "      <th>6</th>\n",
       "      <td>17-2016</td>\n",
       "      <td>263596</td>\n",
       "    </tr>\n",
       "    <tr>\n",
       "      <th>7</th>\n",
       "      <td>18-2017</td>\n",
       "      <td>263497</td>\n",
       "    </tr>\n",
       "    <tr>\n",
       "      <th>8</th>\n",
       "      <td>19-2018</td>\n",
       "      <td>263261</td>\n",
       "    </tr>\n",
       "    <tr>\n",
       "      <th>9</th>\n",
       "      <td>20-2019</td>\n",
       "      <td>262547</td>\n",
       "    </tr>\n",
       "  </tbody>\n",
       "</table>\n",
       "</div>"
      ],
      "text/plain": [
       "      YEAR  Miillet_AREA\n",
       "0  13-2012        274350\n",
       "1  14-2013        271183\n",
       "2  15-2014        268050\n",
       "3  22-2021        267071\n",
       "4  16-2015        266799\n",
       "5  21-2020        265401\n",
       "6  17-2016        263596\n",
       "7  18-2017        263497\n",
       "8  19-2018        263261\n",
       "9  20-2019        262547"
      ]
     },
     "execution_count": 72,
     "metadata": {},
     "output_type": "execute_result"
    }
   ],
   "source": [
    "#miillet Area\n",
    "miillet_area=df1.groupby('YEAR')['Miillet_AREA'].sum().sort_values(ascending=False).reset_index()\n",
    "miillet_area\n"
   ]
  },
  {
   "cell_type": "code",
   "execution_count": 74,
   "id": "5ddafdaf",
   "metadata": {},
   "outputs": [
    {
     "data": {
      "application/vnd.plotly.v1+json": {
       "config": {
        "plotlyServerURL": "https://plot.ly"
       },
       "data": [
        {
         "alignmentgroup": "True",
         "hovertemplate": "YEAR=%{x}<br>Miillet_AREA=%{marker.color}<extra></extra>",
         "legendgroup": "",
         "marker": {
          "color": [
           274350,
           271183,
           268050,
           267071,
           266799,
           265401,
           263596,
           263497,
           263261,
           262547
          ],
          "coloraxis": "coloraxis",
          "pattern": {
           "shape": ""
          }
         },
         "name": "",
         "offsetgroup": "",
         "orientation": "v",
         "showlegend": false,
         "textposition": "auto",
         "type": "bar",
         "x": [
          "13-2012",
          "14-2013",
          "15-2014",
          "22-2021",
          "16-2015",
          "21-2020",
          "17-2016",
          "18-2017",
          "19-2018",
          "20-2019"
         ],
         "xaxis": "x",
         "y": [
          274350,
          271183,
          268050,
          267071,
          266799,
          265401,
          263596,
          263497,
          263261,
          262547
         ],
         "yaxis": "y"
        }
       ],
       "layout": {
        "barmode": "relative",
        "coloraxis": {
         "colorbar": {
          "title": {
           "text": "Miillet_AREA"
          }
         },
         "colorscale": [
          [
           0,
           "rgb(249, 221, 218)"
          ],
          [
           0.16666666666666666,
           "rgb(242, 185, 196)"
          ],
          [
           0.3333333333333333,
           "rgb(229, 151, 185)"
          ],
          [
           0.5,
           "rgb(206, 120, 179)"
          ],
          [
           0.6666666666666666,
           "rgb(173, 95, 173)"
          ],
          [
           0.8333333333333334,
           "rgb(131, 75, 160)"
          ],
          [
           1,
           "rgb(87, 59, 136)"
          ]
         ]
        },
        "height": 600,
        "legend": {
         "tracegroupgap": 0
        },
        "template": {
         "data": {
          "bar": [
           {
            "error_x": {
             "color": "rgb(51,51,51)"
            },
            "error_y": {
             "color": "rgb(51,51,51)"
            },
            "marker": {
             "line": {
              "color": "rgb(237,237,237)",
              "width": 0.5
             },
             "pattern": {
              "fillmode": "overlay",
              "size": 10,
              "solidity": 0.2
             }
            },
            "type": "bar"
           }
          ],
          "barpolar": [
           {
            "marker": {
             "line": {
              "color": "rgb(237,237,237)",
              "width": 0.5
             },
             "pattern": {
              "fillmode": "overlay",
              "size": 10,
              "solidity": 0.2
             }
            },
            "type": "barpolar"
           }
          ],
          "carpet": [
           {
            "aaxis": {
             "endlinecolor": "rgb(51,51,51)",
             "gridcolor": "white",
             "linecolor": "white",
             "minorgridcolor": "white",
             "startlinecolor": "rgb(51,51,51)"
            },
            "baxis": {
             "endlinecolor": "rgb(51,51,51)",
             "gridcolor": "white",
             "linecolor": "white",
             "minorgridcolor": "white",
             "startlinecolor": "rgb(51,51,51)"
            },
            "type": "carpet"
           }
          ],
          "choropleth": [
           {
            "colorbar": {
             "outlinewidth": 0,
             "tickcolor": "rgb(237,237,237)",
             "ticklen": 6,
             "ticks": "inside"
            },
            "type": "choropleth"
           }
          ],
          "contour": [
           {
            "colorbar": {
             "outlinewidth": 0,
             "tickcolor": "rgb(237,237,237)",
             "ticklen": 6,
             "ticks": "inside"
            },
            "colorscale": [
             [
              0,
              "rgb(20,44,66)"
             ],
             [
              1,
              "rgb(90,179,244)"
             ]
            ],
            "type": "contour"
           }
          ],
          "contourcarpet": [
           {
            "colorbar": {
             "outlinewidth": 0,
             "tickcolor": "rgb(237,237,237)",
             "ticklen": 6,
             "ticks": "inside"
            },
            "type": "contourcarpet"
           }
          ],
          "heatmap": [
           {
            "colorbar": {
             "outlinewidth": 0,
             "tickcolor": "rgb(237,237,237)",
             "ticklen": 6,
             "ticks": "inside"
            },
            "colorscale": [
             [
              0,
              "rgb(20,44,66)"
             ],
             [
              1,
              "rgb(90,179,244)"
             ]
            ],
            "type": "heatmap"
           }
          ],
          "heatmapgl": [
           {
            "colorbar": {
             "outlinewidth": 0,
             "tickcolor": "rgb(237,237,237)",
             "ticklen": 6,
             "ticks": "inside"
            },
            "colorscale": [
             [
              0,
              "rgb(20,44,66)"
             ],
             [
              1,
              "rgb(90,179,244)"
             ]
            ],
            "type": "heatmapgl"
           }
          ],
          "histogram": [
           {
            "marker": {
             "pattern": {
              "fillmode": "overlay",
              "size": 10,
              "solidity": 0.2
             }
            },
            "type": "histogram"
           }
          ],
          "histogram2d": [
           {
            "colorbar": {
             "outlinewidth": 0,
             "tickcolor": "rgb(237,237,237)",
             "ticklen": 6,
             "ticks": "inside"
            },
            "colorscale": [
             [
              0,
              "rgb(20,44,66)"
             ],
             [
              1,
              "rgb(90,179,244)"
             ]
            ],
            "type": "histogram2d"
           }
          ],
          "histogram2dcontour": [
           {
            "colorbar": {
             "outlinewidth": 0,
             "tickcolor": "rgb(237,237,237)",
             "ticklen": 6,
             "ticks": "inside"
            },
            "colorscale": [
             [
              0,
              "rgb(20,44,66)"
             ],
             [
              1,
              "rgb(90,179,244)"
             ]
            ],
            "type": "histogram2dcontour"
           }
          ],
          "mesh3d": [
           {
            "colorbar": {
             "outlinewidth": 0,
             "tickcolor": "rgb(237,237,237)",
             "ticklen": 6,
             "ticks": "inside"
            },
            "type": "mesh3d"
           }
          ],
          "parcoords": [
           {
            "line": {
             "colorbar": {
              "outlinewidth": 0,
              "tickcolor": "rgb(237,237,237)",
              "ticklen": 6,
              "ticks": "inside"
             }
            },
            "type": "parcoords"
           }
          ],
          "pie": [
           {
            "automargin": true,
            "type": "pie"
           }
          ],
          "scatter": [
           {
            "fillpattern": {
             "fillmode": "overlay",
             "size": 10,
             "solidity": 0.2
            },
            "type": "scatter"
           }
          ],
          "scatter3d": [
           {
            "line": {
             "colorbar": {
              "outlinewidth": 0,
              "tickcolor": "rgb(237,237,237)",
              "ticklen": 6,
              "ticks": "inside"
             }
            },
            "marker": {
             "colorbar": {
              "outlinewidth": 0,
              "tickcolor": "rgb(237,237,237)",
              "ticklen": 6,
              "ticks": "inside"
             }
            },
            "type": "scatter3d"
           }
          ],
          "scattercarpet": [
           {
            "marker": {
             "colorbar": {
              "outlinewidth": 0,
              "tickcolor": "rgb(237,237,237)",
              "ticklen": 6,
              "ticks": "inside"
             }
            },
            "type": "scattercarpet"
           }
          ],
          "scattergeo": [
           {
            "marker": {
             "colorbar": {
              "outlinewidth": 0,
              "tickcolor": "rgb(237,237,237)",
              "ticklen": 6,
              "ticks": "inside"
             }
            },
            "type": "scattergeo"
           }
          ],
          "scattergl": [
           {
            "marker": {
             "colorbar": {
              "outlinewidth": 0,
              "tickcolor": "rgb(237,237,237)",
              "ticklen": 6,
              "ticks": "inside"
             }
            },
            "type": "scattergl"
           }
          ],
          "scattermapbox": [
           {
            "marker": {
             "colorbar": {
              "outlinewidth": 0,
              "tickcolor": "rgb(237,237,237)",
              "ticklen": 6,
              "ticks": "inside"
             }
            },
            "type": "scattermapbox"
           }
          ],
          "scatterpolar": [
           {
            "marker": {
             "colorbar": {
              "outlinewidth": 0,
              "tickcolor": "rgb(237,237,237)",
              "ticklen": 6,
              "ticks": "inside"
             }
            },
            "type": "scatterpolar"
           }
          ],
          "scatterpolargl": [
           {
            "marker": {
             "colorbar": {
              "outlinewidth": 0,
              "tickcolor": "rgb(237,237,237)",
              "ticklen": 6,
              "ticks": "inside"
             }
            },
            "type": "scatterpolargl"
           }
          ],
          "scatterternary": [
           {
            "marker": {
             "colorbar": {
              "outlinewidth": 0,
              "tickcolor": "rgb(237,237,237)",
              "ticklen": 6,
              "ticks": "inside"
             }
            },
            "type": "scatterternary"
           }
          ],
          "surface": [
           {
            "colorbar": {
             "outlinewidth": 0,
             "tickcolor": "rgb(237,237,237)",
             "ticklen": 6,
             "ticks": "inside"
            },
            "colorscale": [
             [
              0,
              "rgb(20,44,66)"
             ],
             [
              1,
              "rgb(90,179,244)"
             ]
            ],
            "type": "surface"
           }
          ],
          "table": [
           {
            "cells": {
             "fill": {
              "color": "rgb(237,237,237)"
             },
             "line": {
              "color": "white"
             }
            },
            "header": {
             "fill": {
              "color": "rgb(217,217,217)"
             },
             "line": {
              "color": "white"
             }
            },
            "type": "table"
           }
          ]
         },
         "layout": {
          "annotationdefaults": {
           "arrowhead": 0,
           "arrowwidth": 1
          },
          "autotypenumbers": "strict",
          "coloraxis": {
           "colorbar": {
            "outlinewidth": 0,
            "tickcolor": "rgb(237,237,237)",
            "ticklen": 6,
            "ticks": "inside"
           }
          },
          "colorscale": {
           "sequential": [
            [
             0,
             "rgb(20,44,66)"
            ],
            [
             1,
             "rgb(90,179,244)"
            ]
           ],
           "sequentialminus": [
            [
             0,
             "rgb(20,44,66)"
            ],
            [
             1,
             "rgb(90,179,244)"
            ]
           ]
          },
          "colorway": [
           "#F8766D",
           "#A3A500",
           "#00BF7D",
           "#00B0F6",
           "#E76BF3"
          ],
          "font": {
           "color": "rgb(51,51,51)"
          },
          "geo": {
           "bgcolor": "white",
           "lakecolor": "white",
           "landcolor": "rgb(237,237,237)",
           "showlakes": true,
           "showland": true,
           "subunitcolor": "white"
          },
          "hoverlabel": {
           "align": "left"
          },
          "hovermode": "closest",
          "paper_bgcolor": "white",
          "plot_bgcolor": "rgb(237,237,237)",
          "polar": {
           "angularaxis": {
            "gridcolor": "white",
            "linecolor": "white",
            "showgrid": true,
            "tickcolor": "rgb(51,51,51)",
            "ticks": "outside"
           },
           "bgcolor": "rgb(237,237,237)",
           "radialaxis": {
            "gridcolor": "white",
            "linecolor": "white",
            "showgrid": true,
            "tickcolor": "rgb(51,51,51)",
            "ticks": "outside"
           }
          },
          "scene": {
           "xaxis": {
            "backgroundcolor": "rgb(237,237,237)",
            "gridcolor": "white",
            "gridwidth": 2,
            "linecolor": "white",
            "showbackground": true,
            "showgrid": true,
            "tickcolor": "rgb(51,51,51)",
            "ticks": "outside",
            "zerolinecolor": "white"
           },
           "yaxis": {
            "backgroundcolor": "rgb(237,237,237)",
            "gridcolor": "white",
            "gridwidth": 2,
            "linecolor": "white",
            "showbackground": true,
            "showgrid": true,
            "tickcolor": "rgb(51,51,51)",
            "ticks": "outside",
            "zerolinecolor": "white"
           },
           "zaxis": {
            "backgroundcolor": "rgb(237,237,237)",
            "gridcolor": "white",
            "gridwidth": 2,
            "linecolor": "white",
            "showbackground": true,
            "showgrid": true,
            "tickcolor": "rgb(51,51,51)",
            "ticks": "outside",
            "zerolinecolor": "white"
           }
          },
          "shapedefaults": {
           "fillcolor": "black",
           "line": {
            "width": 0
           },
           "opacity": 0.3
          },
          "ternary": {
           "aaxis": {
            "gridcolor": "white",
            "linecolor": "white",
            "showgrid": true,
            "tickcolor": "rgb(51,51,51)",
            "ticks": "outside"
           },
           "baxis": {
            "gridcolor": "white",
            "linecolor": "white",
            "showgrid": true,
            "tickcolor": "rgb(51,51,51)",
            "ticks": "outside"
           },
           "bgcolor": "rgb(237,237,237)",
           "caxis": {
            "gridcolor": "white",
            "linecolor": "white",
            "showgrid": true,
            "tickcolor": "rgb(51,51,51)",
            "ticks": "outside"
           }
          },
          "xaxis": {
           "automargin": true,
           "gridcolor": "white",
           "linecolor": "white",
           "showgrid": true,
           "tickcolor": "rgb(51,51,51)",
           "ticks": "outside",
           "title": {
            "standoff": 15
           },
           "zerolinecolor": "white"
          },
          "yaxis": {
           "automargin": true,
           "gridcolor": "white",
           "linecolor": "white",
           "showgrid": true,
           "tickcolor": "rgb(51,51,51)",
           "ticks": "outside",
           "title": {
            "standoff": 15
           },
           "zerolinecolor": "white"
          }
         }
        },
        "title": {
         "text": "Total Miillet Area in last 10 YEAR"
        },
        "width": 800,
        "xaxis": {
         "anchor": "y",
         "domain": [
          0,
          1
         ],
         "title": {
          "text": "Year"
         }
        },
        "yaxis": {
         "anchor": "x",
         "domain": [
          0,
          1
         ],
         "title": {
          "text": "Miillet Area(ht)"
         }
        }
       }
      }
     },
     "metadata": {},
     "output_type": "display_data"
    }
   ],
   "source": [
    "fig = px.bar(miillet_area, x='YEAR', y='Miillet_AREA',\n",
    "             title='Total Miillet Area in last 10 YEAR',\n",
    "             labels={'YEAR': 'YEAR', 'Miillet Area ': 'Miillet_AREA '},\n",
    "             color='Miillet_AREA', color_continuous_scale='purpor'\n",
    "          \n",
    "          )\n",
    "\n",
    "fig.update_layout(xaxis_title='Year', yaxis_title='Miillet Area(ht)')\n",
    "\n",
    "fig.update_layout(template='ggplot2')\n",
    "fig.update_layout(height=600,width=800)\n",
    "fig.show()"
   ]
  },
  {
   "cell_type": "code",
   "execution_count": 75,
   "id": "83efebfe",
   "metadata": {},
   "outputs": [
    {
     "data": {
      "text/html": [
       "<div>\n",
       "<style scoped>\n",
       "    .dataframe tbody tr th:only-of-type {\n",
       "        vertical-align: middle;\n",
       "    }\n",
       "\n",
       "    .dataframe tbody tr th {\n",
       "        vertical-align: top;\n",
       "    }\n",
       "\n",
       "    .dataframe thead th {\n",
       "        text-align: right;\n",
       "    }\n",
       "</style>\n",
       "<table border=\"1\" class=\"dataframe\">\n",
       "  <thead>\n",
       "    <tr style=\"text-align: right;\">\n",
       "      <th></th>\n",
       "      <th>YEAR</th>\n",
       "      <th>Miillet_PROD.</th>\n",
       "    </tr>\n",
       "  </thead>\n",
       "  <tbody>\n",
       "    <tr>\n",
       "      <th>0</th>\n",
       "      <td>22-2021</td>\n",
       "      <td>339462</td>\n",
       "    </tr>\n",
       "    <tr>\n",
       "      <th>1</th>\n",
       "      <td>21-2020</td>\n",
       "      <td>326443</td>\n",
       "    </tr>\n",
       "    <tr>\n",
       "      <th>2</th>\n",
       "      <td>20-2019</td>\n",
       "      <td>320953</td>\n",
       "    </tr>\n",
       "    <tr>\n",
       "      <th>3</th>\n",
       "      <td>19-2018</td>\n",
       "      <td>314225</td>\n",
       "    </tr>\n",
       "    <tr>\n",
       "      <th>4</th>\n",
       "      <td>18-2017</td>\n",
       "      <td>313987</td>\n",
       "    </tr>\n",
       "    <tr>\n",
       "      <th>5</th>\n",
       "      <td>15-2014</td>\n",
       "      <td>308488</td>\n",
       "    </tr>\n",
       "    <tr>\n",
       "      <th>6</th>\n",
       "      <td>17-2016</td>\n",
       "      <td>306704</td>\n",
       "    </tr>\n",
       "    <tr>\n",
       "      <th>7</th>\n",
       "      <td>13-2012</td>\n",
       "      <td>305588</td>\n",
       "    </tr>\n",
       "    <tr>\n",
       "      <th>8</th>\n",
       "      <td>14-2013</td>\n",
       "      <td>304105</td>\n",
       "    </tr>\n",
       "    <tr>\n",
       "      <th>9</th>\n",
       "      <td>16-2015</td>\n",
       "      <td>302397</td>\n",
       "    </tr>\n",
       "  </tbody>\n",
       "</table>\n",
       "</div>"
      ],
      "text/plain": [
       "      YEAR  Miillet_PROD.\n",
       "0  22-2021         339462\n",
       "1  21-2020         326443\n",
       "2  20-2019         320953\n",
       "3  19-2018         314225\n",
       "4  18-2017         313987\n",
       "5  15-2014         308488\n",
       "6  17-2016         306704\n",
       "7  13-2012         305588\n",
       "8  14-2013         304105\n",
       "9  16-2015         302397"
      ]
     },
     "execution_count": 75,
     "metadata": {},
     "output_type": "execute_result"
    }
   ],
   "source": [
    "#millet Production\n",
    "\n",
    "miillet_production=df1.groupby('YEAR')['Miillet_PROD.'].sum().sort_values(ascending=False).reset_index()\n",
    "miillet_production\n",
    "\n"
   ]
  },
  {
   "cell_type": "code",
   "execution_count": 77,
   "id": "0310c719",
   "metadata": {},
   "outputs": [
    {
     "data": {
      "application/vnd.plotly.v1+json": {
       "config": {
        "plotlyServerURL": "https://plot.ly"
       },
       "data": [
        {
         "customdata": [
          [
           "22-2021"
          ],
          [
           "21-2020"
          ],
          [
           "20-2019"
          ],
          [
           "19-2018"
          ],
          [
           "18-2017"
          ],
          [
           "15-2014"
          ],
          [
           "17-2016"
          ],
          [
           "13-2012"
          ],
          [
           "14-2013"
          ],
          [
           "16-2015"
          ]
         ],
         "domain": {
          "x": [
           0,
           1
          ],
          "y": [
           0,
           1
          ]
         },
         "hole": 0.5,
         "hovertemplate": "YEAR=%{customdata[0]}<br>Miillet_PROD.=%{value}<extra></extra>",
         "labels": [
          "22-2021",
          "21-2020",
          "20-2019",
          "19-2018",
          "18-2017",
          "15-2014",
          "17-2016",
          "13-2012",
          "14-2013",
          "16-2015"
         ],
         "legendgroup": "",
         "marker": {
          "colors": [
           "rgb(243, 231, 155)",
           "rgb(250, 196, 132)",
           "rgb(248, 160, 126)",
           "rgb(235, 127, 134)",
           "rgb(206, 102, 147)",
           "rgb(160, 89, 160)",
           "rgb(92, 83, 165)",
           "rgb(243, 231, 155)",
           "rgb(250, 196, 132)",
           "rgb(248, 160, 126)"
          ]
         },
         "name": "",
         "showlegend": true,
         "type": "pie",
         "values": [
          339462,
          326443,
          320953,
          314225,
          313987,
          308488,
          306704,
          305588,
          304105,
          302397
         ]
        }
       ],
       "layout": {
        "height": 600,
        "legend": {
         "tracegroupgap": 0
        },
        "piecolorway": [
         "rgb(243, 231, 155)",
         "rgb(250, 196, 132)",
         "rgb(248, 160, 126)",
         "rgb(235, 127, 134)",
         "rgb(206, 102, 147)",
         "rgb(160, 89, 160)",
         "rgb(92, 83, 165)"
        ],
        "template": {
         "data": {
          "bar": [
           {
            "error_x": {
             "color": "rgb(51,51,51)"
            },
            "error_y": {
             "color": "rgb(51,51,51)"
            },
            "marker": {
             "line": {
              "color": "rgb(237,237,237)",
              "width": 0.5
             },
             "pattern": {
              "fillmode": "overlay",
              "size": 10,
              "solidity": 0.2
             }
            },
            "type": "bar"
           }
          ],
          "barpolar": [
           {
            "marker": {
             "line": {
              "color": "rgb(237,237,237)",
              "width": 0.5
             },
             "pattern": {
              "fillmode": "overlay",
              "size": 10,
              "solidity": 0.2
             }
            },
            "type": "barpolar"
           }
          ],
          "carpet": [
           {
            "aaxis": {
             "endlinecolor": "rgb(51,51,51)",
             "gridcolor": "white",
             "linecolor": "white",
             "minorgridcolor": "white",
             "startlinecolor": "rgb(51,51,51)"
            },
            "baxis": {
             "endlinecolor": "rgb(51,51,51)",
             "gridcolor": "white",
             "linecolor": "white",
             "minorgridcolor": "white",
             "startlinecolor": "rgb(51,51,51)"
            },
            "type": "carpet"
           }
          ],
          "choropleth": [
           {
            "colorbar": {
             "outlinewidth": 0,
             "tickcolor": "rgb(237,237,237)",
             "ticklen": 6,
             "ticks": "inside"
            },
            "type": "choropleth"
           }
          ],
          "contour": [
           {
            "colorbar": {
             "outlinewidth": 0,
             "tickcolor": "rgb(237,237,237)",
             "ticklen": 6,
             "ticks": "inside"
            },
            "colorscale": [
             [
              0,
              "rgb(20,44,66)"
             ],
             [
              1,
              "rgb(90,179,244)"
             ]
            ],
            "type": "contour"
           }
          ],
          "contourcarpet": [
           {
            "colorbar": {
             "outlinewidth": 0,
             "tickcolor": "rgb(237,237,237)",
             "ticklen": 6,
             "ticks": "inside"
            },
            "type": "contourcarpet"
           }
          ],
          "heatmap": [
           {
            "colorbar": {
             "outlinewidth": 0,
             "tickcolor": "rgb(237,237,237)",
             "ticklen": 6,
             "ticks": "inside"
            },
            "colorscale": [
             [
              0,
              "rgb(20,44,66)"
             ],
             [
              1,
              "rgb(90,179,244)"
             ]
            ],
            "type": "heatmap"
           }
          ],
          "heatmapgl": [
           {
            "colorbar": {
             "outlinewidth": 0,
             "tickcolor": "rgb(237,237,237)",
             "ticklen": 6,
             "ticks": "inside"
            },
            "colorscale": [
             [
              0,
              "rgb(20,44,66)"
             ],
             [
              1,
              "rgb(90,179,244)"
             ]
            ],
            "type": "heatmapgl"
           }
          ],
          "histogram": [
           {
            "marker": {
             "pattern": {
              "fillmode": "overlay",
              "size": 10,
              "solidity": 0.2
             }
            },
            "type": "histogram"
           }
          ],
          "histogram2d": [
           {
            "colorbar": {
             "outlinewidth": 0,
             "tickcolor": "rgb(237,237,237)",
             "ticklen": 6,
             "ticks": "inside"
            },
            "colorscale": [
             [
              0,
              "rgb(20,44,66)"
             ],
             [
              1,
              "rgb(90,179,244)"
             ]
            ],
            "type": "histogram2d"
           }
          ],
          "histogram2dcontour": [
           {
            "colorbar": {
             "outlinewidth": 0,
             "tickcolor": "rgb(237,237,237)",
             "ticklen": 6,
             "ticks": "inside"
            },
            "colorscale": [
             [
              0,
              "rgb(20,44,66)"
             ],
             [
              1,
              "rgb(90,179,244)"
             ]
            ],
            "type": "histogram2dcontour"
           }
          ],
          "mesh3d": [
           {
            "colorbar": {
             "outlinewidth": 0,
             "tickcolor": "rgb(237,237,237)",
             "ticklen": 6,
             "ticks": "inside"
            },
            "type": "mesh3d"
           }
          ],
          "parcoords": [
           {
            "line": {
             "colorbar": {
              "outlinewidth": 0,
              "tickcolor": "rgb(237,237,237)",
              "ticklen": 6,
              "ticks": "inside"
             }
            },
            "type": "parcoords"
           }
          ],
          "pie": [
           {
            "automargin": true,
            "type": "pie"
           }
          ],
          "scatter": [
           {
            "fillpattern": {
             "fillmode": "overlay",
             "size": 10,
             "solidity": 0.2
            },
            "type": "scatter"
           }
          ],
          "scatter3d": [
           {
            "line": {
             "colorbar": {
              "outlinewidth": 0,
              "tickcolor": "rgb(237,237,237)",
              "ticklen": 6,
              "ticks": "inside"
             }
            },
            "marker": {
             "colorbar": {
              "outlinewidth": 0,
              "tickcolor": "rgb(237,237,237)",
              "ticklen": 6,
              "ticks": "inside"
             }
            },
            "type": "scatter3d"
           }
          ],
          "scattercarpet": [
           {
            "marker": {
             "colorbar": {
              "outlinewidth": 0,
              "tickcolor": "rgb(237,237,237)",
              "ticklen": 6,
              "ticks": "inside"
             }
            },
            "type": "scattercarpet"
           }
          ],
          "scattergeo": [
           {
            "marker": {
             "colorbar": {
              "outlinewidth": 0,
              "tickcolor": "rgb(237,237,237)",
              "ticklen": 6,
              "ticks": "inside"
             }
            },
            "type": "scattergeo"
           }
          ],
          "scattergl": [
           {
            "marker": {
             "colorbar": {
              "outlinewidth": 0,
              "tickcolor": "rgb(237,237,237)",
              "ticklen": 6,
              "ticks": "inside"
             }
            },
            "type": "scattergl"
           }
          ],
          "scattermapbox": [
           {
            "marker": {
             "colorbar": {
              "outlinewidth": 0,
              "tickcolor": "rgb(237,237,237)",
              "ticklen": 6,
              "ticks": "inside"
             }
            },
            "type": "scattermapbox"
           }
          ],
          "scatterpolar": [
           {
            "marker": {
             "colorbar": {
              "outlinewidth": 0,
              "tickcolor": "rgb(237,237,237)",
              "ticklen": 6,
              "ticks": "inside"
             }
            },
            "type": "scatterpolar"
           }
          ],
          "scatterpolargl": [
           {
            "marker": {
             "colorbar": {
              "outlinewidth": 0,
              "tickcolor": "rgb(237,237,237)",
              "ticklen": 6,
              "ticks": "inside"
             }
            },
            "type": "scatterpolargl"
           }
          ],
          "scatterternary": [
           {
            "marker": {
             "colorbar": {
              "outlinewidth": 0,
              "tickcolor": "rgb(237,237,237)",
              "ticklen": 6,
              "ticks": "inside"
             }
            },
            "type": "scatterternary"
           }
          ],
          "surface": [
           {
            "colorbar": {
             "outlinewidth": 0,
             "tickcolor": "rgb(237,237,237)",
             "ticklen": 6,
             "ticks": "inside"
            },
            "colorscale": [
             [
              0,
              "rgb(20,44,66)"
             ],
             [
              1,
              "rgb(90,179,244)"
             ]
            ],
            "type": "surface"
           }
          ],
          "table": [
           {
            "cells": {
             "fill": {
              "color": "rgb(237,237,237)"
             },
             "line": {
              "color": "white"
             }
            },
            "header": {
             "fill": {
              "color": "rgb(217,217,217)"
             },
             "line": {
              "color": "white"
             }
            },
            "type": "table"
           }
          ]
         },
         "layout": {
          "annotationdefaults": {
           "arrowhead": 0,
           "arrowwidth": 1
          },
          "autotypenumbers": "strict",
          "coloraxis": {
           "colorbar": {
            "outlinewidth": 0,
            "tickcolor": "rgb(237,237,237)",
            "ticklen": 6,
            "ticks": "inside"
           }
          },
          "colorscale": {
           "sequential": [
            [
             0,
             "rgb(20,44,66)"
            ],
            [
             1,
             "rgb(90,179,244)"
            ]
           ],
           "sequentialminus": [
            [
             0,
             "rgb(20,44,66)"
            ],
            [
             1,
             "rgb(90,179,244)"
            ]
           ]
          },
          "colorway": [
           "#F8766D",
           "#A3A500",
           "#00BF7D",
           "#00B0F6",
           "#E76BF3"
          ],
          "font": {
           "color": "rgb(51,51,51)"
          },
          "geo": {
           "bgcolor": "white",
           "lakecolor": "white",
           "landcolor": "rgb(237,237,237)",
           "showlakes": true,
           "showland": true,
           "subunitcolor": "white"
          },
          "hoverlabel": {
           "align": "left"
          },
          "hovermode": "closest",
          "paper_bgcolor": "white",
          "plot_bgcolor": "rgb(237,237,237)",
          "polar": {
           "angularaxis": {
            "gridcolor": "white",
            "linecolor": "white",
            "showgrid": true,
            "tickcolor": "rgb(51,51,51)",
            "ticks": "outside"
           },
           "bgcolor": "rgb(237,237,237)",
           "radialaxis": {
            "gridcolor": "white",
            "linecolor": "white",
            "showgrid": true,
            "tickcolor": "rgb(51,51,51)",
            "ticks": "outside"
           }
          },
          "scene": {
           "xaxis": {
            "backgroundcolor": "rgb(237,237,237)",
            "gridcolor": "white",
            "gridwidth": 2,
            "linecolor": "white",
            "showbackground": true,
            "showgrid": true,
            "tickcolor": "rgb(51,51,51)",
            "ticks": "outside",
            "zerolinecolor": "white"
           },
           "yaxis": {
            "backgroundcolor": "rgb(237,237,237)",
            "gridcolor": "white",
            "gridwidth": 2,
            "linecolor": "white",
            "showbackground": true,
            "showgrid": true,
            "tickcolor": "rgb(51,51,51)",
            "ticks": "outside",
            "zerolinecolor": "white"
           },
           "zaxis": {
            "backgroundcolor": "rgb(237,237,237)",
            "gridcolor": "white",
            "gridwidth": 2,
            "linecolor": "white",
            "showbackground": true,
            "showgrid": true,
            "tickcolor": "rgb(51,51,51)",
            "ticks": "outside",
            "zerolinecolor": "white"
           }
          },
          "shapedefaults": {
           "fillcolor": "black",
           "line": {
            "width": 0
           },
           "opacity": 0.3
          },
          "ternary": {
           "aaxis": {
            "gridcolor": "white",
            "linecolor": "white",
            "showgrid": true,
            "tickcolor": "rgb(51,51,51)",
            "ticks": "outside"
           },
           "baxis": {
            "gridcolor": "white",
            "linecolor": "white",
            "showgrid": true,
            "tickcolor": "rgb(51,51,51)",
            "ticks": "outside"
           },
           "bgcolor": "rgb(237,237,237)",
           "caxis": {
            "gridcolor": "white",
            "linecolor": "white",
            "showgrid": true,
            "tickcolor": "rgb(51,51,51)",
            "ticks": "outside"
           }
          },
          "xaxis": {
           "automargin": true,
           "gridcolor": "white",
           "linecolor": "white",
           "showgrid": true,
           "tickcolor": "rgb(51,51,51)",
           "ticks": "outside",
           "title": {
            "standoff": 15
           },
           "zerolinecolor": "white"
          },
          "yaxis": {
           "automargin": true,
           "gridcolor": "white",
           "linecolor": "white",
           "showgrid": true,
           "tickcolor": "rgb(51,51,51)",
           "ticks": "outside",
           "title": {
            "standoff": 15
           },
           "zerolinecolor": "white"
          }
         }
        },
        "title": {
         "text": "Total Miillet production by 10 year"
        },
        "width": 800
       }
      }
     },
     "metadata": {},
     "output_type": "display_data"
    }
   ],
   "source": [
    "fig = px.pie(miillet_production, names='YEAR', values='Miillet_PROD.',\n",
    "             title='Total Miillet production by 10 year',\n",
    "             labels={'Year': 'YEAR', 'Miillet Production': 'Miillet_PROD.'},\n",
    "             color='YEAR', color_discrete_sequence=px.colors.sequential.Sunset ,\n",
    "             hole=0.5\n",
    "             )\n",
    "\n",
    "fig.update_layout(template='ggplot2')\n",
    "fig.update_layout(height=600,width=800)\n",
    "fig.show()\n"
   ]
  },
  {
   "cell_type": "code",
   "execution_count": 78,
   "id": "70580699",
   "metadata": {},
   "outputs": [
    {
     "data": {
      "text/html": [
       "<div>\n",
       "<style scoped>\n",
       "    .dataframe tbody tr th:only-of-type {\n",
       "        vertical-align: middle;\n",
       "    }\n",
       "\n",
       "    .dataframe tbody tr th {\n",
       "        vertical-align: top;\n",
       "    }\n",
       "\n",
       "    .dataframe thead th {\n",
       "        text-align: right;\n",
       "    }\n",
       "</style>\n",
       "<table border=\"1\" class=\"dataframe\">\n",
       "  <thead>\n",
       "    <tr style=\"text-align: right;\">\n",
       "      <th></th>\n",
       "      <th>YEAR</th>\n",
       "      <th>Miillet_AREA</th>\n",
       "      <th>Miillet_PROD.</th>\n",
       "    </tr>\n",
       "  </thead>\n",
       "  <tbody>\n",
       "    <tr>\n",
       "      <th>0</th>\n",
       "      <td>22-2021</td>\n",
       "      <td>267071</td>\n",
       "      <td>339462</td>\n",
       "    </tr>\n",
       "    <tr>\n",
       "      <th>1</th>\n",
       "      <td>21-2020</td>\n",
       "      <td>265401</td>\n",
       "      <td>326443</td>\n",
       "    </tr>\n",
       "    <tr>\n",
       "      <th>2</th>\n",
       "      <td>20-2019</td>\n",
       "      <td>262547</td>\n",
       "      <td>320953</td>\n",
       "    </tr>\n",
       "    <tr>\n",
       "      <th>3</th>\n",
       "      <td>19-2018</td>\n",
       "      <td>263261</td>\n",
       "      <td>314225</td>\n",
       "    </tr>\n",
       "    <tr>\n",
       "      <th>4</th>\n",
       "      <td>18-2017</td>\n",
       "      <td>263497</td>\n",
       "      <td>313987</td>\n",
       "    </tr>\n",
       "    <tr>\n",
       "      <th>5</th>\n",
       "      <td>15-2014</td>\n",
       "      <td>268050</td>\n",
       "      <td>308488</td>\n",
       "    </tr>\n",
       "    <tr>\n",
       "      <th>6</th>\n",
       "      <td>17-2016</td>\n",
       "      <td>263596</td>\n",
       "      <td>306704</td>\n",
       "    </tr>\n",
       "    <tr>\n",
       "      <th>7</th>\n",
       "      <td>13-2012</td>\n",
       "      <td>274350</td>\n",
       "      <td>305588</td>\n",
       "    </tr>\n",
       "    <tr>\n",
       "      <th>8</th>\n",
       "      <td>14-2013</td>\n",
       "      <td>271183</td>\n",
       "      <td>304105</td>\n",
       "    </tr>\n",
       "    <tr>\n",
       "      <th>9</th>\n",
       "      <td>16-2015</td>\n",
       "      <td>266799</td>\n",
       "      <td>302397</td>\n",
       "    </tr>\n",
       "  </tbody>\n",
       "</table>\n",
       "</div>"
      ],
      "text/plain": [
       "      YEAR  Miillet_AREA  Miillet_PROD.\n",
       "0  22-2021        267071         339462\n",
       "1  21-2020        265401         326443\n",
       "2  20-2019        262547         320953\n",
       "3  19-2018        263261         314225\n",
       "4  18-2017        263497         313987\n",
       "5  15-2014        268050         308488\n",
       "6  17-2016        263596         306704\n",
       "7  13-2012        274350         305588\n",
       "8  14-2013        271183         304105\n",
       "9  16-2015        266799         302397"
      ]
     },
     "execution_count": 78,
     "metadata": {},
     "output_type": "execute_result"
    }
   ],
   "source": [
    "#millet production vs area\n",
    "miillet_production=df1.groupby(['YEAR','Miillet_AREA'])['Miillet_PROD.'].sum().sort_values(ascending=False).reset_index()\n",
    "miillet_production\n"
   ]
  },
  {
   "cell_type": "markdown",
   "id": "0be30ba4",
   "metadata": {},
   "source": [
    "## 5. MAIZE "
   ]
  },
  {
   "cell_type": "code",
   "execution_count": 79,
   "id": "48119154",
   "metadata": {},
   "outputs": [
    {
     "data": {
      "text/html": [
       "<div>\n",
       "<style scoped>\n",
       "    .dataframe tbody tr th:only-of-type {\n",
       "        vertical-align: middle;\n",
       "    }\n",
       "\n",
       "    .dataframe tbody tr th {\n",
       "        vertical-align: top;\n",
       "    }\n",
       "\n",
       "    .dataframe thead th {\n",
       "        text-align: right;\n",
       "    }\n",
       "</style>\n",
       "<table border=\"1\" class=\"dataframe\">\n",
       "  <thead>\n",
       "    <tr style=\"text-align: right;\">\n",
       "      <th></th>\n",
       "      <th>YEAR</th>\n",
       "      <th>Maize_YIELD</th>\n",
       "    </tr>\n",
       "  </thead>\n",
       "  <tbody>\n",
       "    <tr>\n",
       "      <th>0</th>\n",
       "      <td>22-2021</td>\n",
       "      <td>3.15</td>\n",
       "    </tr>\n",
       "    <tr>\n",
       "      <th>1</th>\n",
       "      <td>21-2020</td>\n",
       "      <td>3.06</td>\n",
       "    </tr>\n",
       "    <tr>\n",
       "      <th>2</th>\n",
       "      <td>20-2019</td>\n",
       "      <td>2.96</td>\n",
       "    </tr>\n",
       "    <tr>\n",
       "      <th>3</th>\n",
       "      <td>19-2018</td>\n",
       "      <td>2.84</td>\n",
       "    </tr>\n",
       "    <tr>\n",
       "      <th>4</th>\n",
       "      <td>18-2017</td>\n",
       "      <td>2.68</td>\n",
       "    </tr>\n",
       "    <tr>\n",
       "      <th>5</th>\n",
       "      <td>17-2016</td>\n",
       "      <td>2.55</td>\n",
       "    </tr>\n",
       "    <tr>\n",
       "      <th>6</th>\n",
       "      <td>16-2015</td>\n",
       "      <td>2.50</td>\n",
       "    </tr>\n",
       "    <tr>\n",
       "      <th>7</th>\n",
       "      <td>14-2013</td>\n",
       "      <td>2.46</td>\n",
       "    </tr>\n",
       "    <tr>\n",
       "      <th>8</th>\n",
       "      <td>15-2014</td>\n",
       "      <td>2.43</td>\n",
       "    </tr>\n",
       "    <tr>\n",
       "      <th>9</th>\n",
       "      <td>13-2012</td>\n",
       "      <td>2.35</td>\n",
       "    </tr>\n",
       "  </tbody>\n",
       "</table>\n",
       "</div>"
      ],
      "text/plain": [
       "      YEAR  Maize_YIELD\n",
       "0  22-2021         3.15\n",
       "1  21-2020         3.06\n",
       "2  20-2019         2.96\n",
       "3  19-2018         2.84\n",
       "4  18-2017         2.68\n",
       "5  17-2016         2.55\n",
       "6  16-2015         2.50\n",
       "7  14-2013         2.46\n",
       "8  15-2014         2.43\n",
       "9  13-2012         2.35"
      ]
     },
     "execution_count": 79,
     "metadata": {},
     "output_type": "execute_result"
    }
   ],
   "source": [
    "#maize yeild\n",
    "maize_yield=df1.groupby('YEAR')['Maize_YIELD'].sum().sort_values(ascending=False).reset_index()\n",
    "maize_yield"
   ]
  },
  {
   "cell_type": "code",
   "execution_count": 81,
   "id": "857edb9d",
   "metadata": {
    "scrolled": false
   },
   "outputs": [
    {
     "data": {
      "application/vnd.plotly.v1+json": {
       "config": {
        "plotlyServerURL": "https://plot.ly"
       },
       "data": [
        {
         "hovertemplate": "Maize_YIELD=%{y}<br>YEAR=%{x}<extra></extra>",
         "legendgroup": "3.15",
         "line": {
          "color": "#636efa",
          "dash": "solid",
          "shape": "linear"
         },
         "marker": {
          "size": 20,
          "symbol": "circle"
         },
         "mode": "lines+markers",
         "name": "3.15",
         "orientation": "v",
         "showlegend": true,
         "type": "scatter",
         "x": [
          "22-2021"
         ],
         "xaxis": "x",
         "y": [
          3.15
         ],
         "yaxis": "y"
        },
        {
         "hovertemplate": "Maize_YIELD=%{y}<br>YEAR=%{x}<extra></extra>",
         "legendgroup": "3.06",
         "line": {
          "color": "#EF553B",
          "dash": "solid",
          "shape": "linear"
         },
         "marker": {
          "size": 20,
          "symbol": "circle"
         },
         "mode": "lines+markers",
         "name": "3.06",
         "orientation": "v",
         "showlegend": true,
         "type": "scatter",
         "x": [
          "21-2020"
         ],
         "xaxis": "x",
         "y": [
          3.06
         ],
         "yaxis": "y"
        },
        {
         "hovertemplate": "Maize_YIELD=%{y}<br>YEAR=%{x}<extra></extra>",
         "legendgroup": "2.96",
         "line": {
          "color": "#00cc96",
          "dash": "solid",
          "shape": "linear"
         },
         "marker": {
          "size": 20,
          "symbol": "circle"
         },
         "mode": "lines+markers",
         "name": "2.96",
         "orientation": "v",
         "showlegend": true,
         "type": "scatter",
         "x": [
          "20-2019"
         ],
         "xaxis": "x",
         "y": [
          2.96
         ],
         "yaxis": "y"
        },
        {
         "hovertemplate": "Maize_YIELD=%{y}<br>YEAR=%{x}<extra></extra>",
         "legendgroup": "2.84",
         "line": {
          "color": "#ab63fa",
          "dash": "solid",
          "shape": "linear"
         },
         "marker": {
          "size": 20,
          "symbol": "circle"
         },
         "mode": "lines+markers",
         "name": "2.84",
         "orientation": "v",
         "showlegend": true,
         "type": "scatter",
         "x": [
          "19-2018"
         ],
         "xaxis": "x",
         "y": [
          2.84
         ],
         "yaxis": "y"
        },
        {
         "hovertemplate": "Maize_YIELD=%{y}<br>YEAR=%{x}<extra></extra>",
         "legendgroup": "2.68",
         "line": {
          "color": "#FFA15A",
          "dash": "solid",
          "shape": "linear"
         },
         "marker": {
          "size": 20,
          "symbol": "circle"
         },
         "mode": "lines+markers",
         "name": "2.68",
         "orientation": "v",
         "showlegend": true,
         "type": "scatter",
         "x": [
          "18-2017"
         ],
         "xaxis": "x",
         "y": [
          2.68
         ],
         "yaxis": "y"
        },
        {
         "hovertemplate": "Maize_YIELD=%{y}<br>YEAR=%{x}<extra></extra>",
         "legendgroup": "2.55",
         "line": {
          "color": "#19d3f3",
          "dash": "solid",
          "shape": "linear"
         },
         "marker": {
          "size": 20,
          "symbol": "circle"
         },
         "mode": "lines+markers",
         "name": "2.55",
         "orientation": "v",
         "showlegend": true,
         "type": "scatter",
         "x": [
          "17-2016"
         ],
         "xaxis": "x",
         "y": [
          2.55
         ],
         "yaxis": "y"
        },
        {
         "hovertemplate": "Maize_YIELD=%{y}<br>YEAR=%{x}<extra></extra>",
         "legendgroup": "2.5",
         "line": {
          "color": "#FF6692",
          "dash": "solid",
          "shape": "linear"
         },
         "marker": {
          "size": 20,
          "symbol": "circle"
         },
         "mode": "lines+markers",
         "name": "2.5",
         "orientation": "v",
         "showlegend": true,
         "type": "scatter",
         "x": [
          "16-2015"
         ],
         "xaxis": "x",
         "y": [
          2.5
         ],
         "yaxis": "y"
        },
        {
         "hovertemplate": "Maize_YIELD=%{y}<br>YEAR=%{x}<extra></extra>",
         "legendgroup": "2.46",
         "line": {
          "color": "#B6E880",
          "dash": "solid",
          "shape": "linear"
         },
         "marker": {
          "size": 20,
          "symbol": "circle"
         },
         "mode": "lines+markers",
         "name": "2.46",
         "orientation": "v",
         "showlegend": true,
         "type": "scatter",
         "x": [
          "14-2013"
         ],
         "xaxis": "x",
         "y": [
          2.46
         ],
         "yaxis": "y"
        },
        {
         "hovertemplate": "Maize_YIELD=%{y}<br>YEAR=%{x}<extra></extra>",
         "legendgroup": "2.43",
         "line": {
          "color": "#FF97FF",
          "dash": "solid",
          "shape": "linear"
         },
         "marker": {
          "size": 20,
          "symbol": "circle"
         },
         "mode": "lines+markers",
         "name": "2.43",
         "orientation": "v",
         "showlegend": true,
         "type": "scatter",
         "x": [
          "15-2014"
         ],
         "xaxis": "x",
         "y": [
          2.43
         ],
         "yaxis": "y"
        },
        {
         "hovertemplate": "Maize_YIELD=%{y}<br>YEAR=%{x}<extra></extra>",
         "legendgroup": "2.35",
         "line": {
          "color": "#FECB52",
          "dash": "solid",
          "shape": "linear"
         },
         "marker": {
          "size": 20,
          "symbol": "circle"
         },
         "mode": "lines+markers",
         "name": "2.35",
         "orientation": "v",
         "showlegend": true,
         "type": "scatter",
         "x": [
          "13-2012"
         ],
         "xaxis": "x",
         "y": [
          2.35
         ],
         "yaxis": "y"
        }
       ],
       "layout": {
        "height": 600,
        "legend": {
         "title": {
          "text": "Maize_YIELD"
         },
         "tracegroupgap": 0
        },
        "template": {
         "data": {
          "bar": [
           {
            "error_x": {
             "color": "#f2f5fa"
            },
            "error_y": {
             "color": "#f2f5fa"
            },
            "marker": {
             "line": {
              "color": "rgb(17,17,17)",
              "width": 0.5
             },
             "pattern": {
              "fillmode": "overlay",
              "size": 10,
              "solidity": 0.2
             }
            },
            "type": "bar"
           }
          ],
          "barpolar": [
           {
            "marker": {
             "line": {
              "color": "rgb(17,17,17)",
              "width": 0.5
             },
             "pattern": {
              "fillmode": "overlay",
              "size": 10,
              "solidity": 0.2
             }
            },
            "type": "barpolar"
           }
          ],
          "carpet": [
           {
            "aaxis": {
             "endlinecolor": "#A2B1C6",
             "gridcolor": "#506784",
             "linecolor": "#506784",
             "minorgridcolor": "#506784",
             "startlinecolor": "#A2B1C6"
            },
            "baxis": {
             "endlinecolor": "#A2B1C6",
             "gridcolor": "#506784",
             "linecolor": "#506784",
             "minorgridcolor": "#506784",
             "startlinecolor": "#A2B1C6"
            },
            "type": "carpet"
           }
          ],
          "choropleth": [
           {
            "colorbar": {
             "outlinewidth": 0,
             "ticks": ""
            },
            "type": "choropleth"
           }
          ],
          "contour": [
           {
            "colorbar": {
             "outlinewidth": 0,
             "ticks": ""
            },
            "colorscale": [
             [
              0,
              "#0d0887"
             ],
             [
              0.1111111111111111,
              "#46039f"
             ],
             [
              0.2222222222222222,
              "#7201a8"
             ],
             [
              0.3333333333333333,
              "#9c179e"
             ],
             [
              0.4444444444444444,
              "#bd3786"
             ],
             [
              0.5555555555555556,
              "#d8576b"
             ],
             [
              0.6666666666666666,
              "#ed7953"
             ],
             [
              0.7777777777777778,
              "#fb9f3a"
             ],
             [
              0.8888888888888888,
              "#fdca26"
             ],
             [
              1,
              "#f0f921"
             ]
            ],
            "type": "contour"
           }
          ],
          "contourcarpet": [
           {
            "colorbar": {
             "outlinewidth": 0,
             "ticks": ""
            },
            "type": "contourcarpet"
           }
          ],
          "heatmap": [
           {
            "colorbar": {
             "outlinewidth": 0,
             "ticks": ""
            },
            "colorscale": [
             [
              0,
              "#0d0887"
             ],
             [
              0.1111111111111111,
              "#46039f"
             ],
             [
              0.2222222222222222,
              "#7201a8"
             ],
             [
              0.3333333333333333,
              "#9c179e"
             ],
             [
              0.4444444444444444,
              "#bd3786"
             ],
             [
              0.5555555555555556,
              "#d8576b"
             ],
             [
              0.6666666666666666,
              "#ed7953"
             ],
             [
              0.7777777777777778,
              "#fb9f3a"
             ],
             [
              0.8888888888888888,
              "#fdca26"
             ],
             [
              1,
              "#f0f921"
             ]
            ],
            "type": "heatmap"
           }
          ],
          "heatmapgl": [
           {
            "colorbar": {
             "outlinewidth": 0,
             "ticks": ""
            },
            "colorscale": [
             [
              0,
              "#0d0887"
             ],
             [
              0.1111111111111111,
              "#46039f"
             ],
             [
              0.2222222222222222,
              "#7201a8"
             ],
             [
              0.3333333333333333,
              "#9c179e"
             ],
             [
              0.4444444444444444,
              "#bd3786"
             ],
             [
              0.5555555555555556,
              "#d8576b"
             ],
             [
              0.6666666666666666,
              "#ed7953"
             ],
             [
              0.7777777777777778,
              "#fb9f3a"
             ],
             [
              0.8888888888888888,
              "#fdca26"
             ],
             [
              1,
              "#f0f921"
             ]
            ],
            "type": "heatmapgl"
           }
          ],
          "histogram": [
           {
            "marker": {
             "pattern": {
              "fillmode": "overlay",
              "size": 10,
              "solidity": 0.2
             }
            },
            "type": "histogram"
           }
          ],
          "histogram2d": [
           {
            "colorbar": {
             "outlinewidth": 0,
             "ticks": ""
            },
            "colorscale": [
             [
              0,
              "#0d0887"
             ],
             [
              0.1111111111111111,
              "#46039f"
             ],
             [
              0.2222222222222222,
              "#7201a8"
             ],
             [
              0.3333333333333333,
              "#9c179e"
             ],
             [
              0.4444444444444444,
              "#bd3786"
             ],
             [
              0.5555555555555556,
              "#d8576b"
             ],
             [
              0.6666666666666666,
              "#ed7953"
             ],
             [
              0.7777777777777778,
              "#fb9f3a"
             ],
             [
              0.8888888888888888,
              "#fdca26"
             ],
             [
              1,
              "#f0f921"
             ]
            ],
            "type": "histogram2d"
           }
          ],
          "histogram2dcontour": [
           {
            "colorbar": {
             "outlinewidth": 0,
             "ticks": ""
            },
            "colorscale": [
             [
              0,
              "#0d0887"
             ],
             [
              0.1111111111111111,
              "#46039f"
             ],
             [
              0.2222222222222222,
              "#7201a8"
             ],
             [
              0.3333333333333333,
              "#9c179e"
             ],
             [
              0.4444444444444444,
              "#bd3786"
             ],
             [
              0.5555555555555556,
              "#d8576b"
             ],
             [
              0.6666666666666666,
              "#ed7953"
             ],
             [
              0.7777777777777778,
              "#fb9f3a"
             ],
             [
              0.8888888888888888,
              "#fdca26"
             ],
             [
              1,
              "#f0f921"
             ]
            ],
            "type": "histogram2dcontour"
           }
          ],
          "mesh3d": [
           {
            "colorbar": {
             "outlinewidth": 0,
             "ticks": ""
            },
            "type": "mesh3d"
           }
          ],
          "parcoords": [
           {
            "line": {
             "colorbar": {
              "outlinewidth": 0,
              "ticks": ""
             }
            },
            "type": "parcoords"
           }
          ],
          "pie": [
           {
            "automargin": true,
            "type": "pie"
           }
          ],
          "scatter": [
           {
            "marker": {
             "line": {
              "color": "#283442"
             }
            },
            "type": "scatter"
           }
          ],
          "scatter3d": [
           {
            "line": {
             "colorbar": {
              "outlinewidth": 0,
              "ticks": ""
             }
            },
            "marker": {
             "colorbar": {
              "outlinewidth": 0,
              "ticks": ""
             }
            },
            "type": "scatter3d"
           }
          ],
          "scattercarpet": [
           {
            "marker": {
             "colorbar": {
              "outlinewidth": 0,
              "ticks": ""
             }
            },
            "type": "scattercarpet"
           }
          ],
          "scattergeo": [
           {
            "marker": {
             "colorbar": {
              "outlinewidth": 0,
              "ticks": ""
             }
            },
            "type": "scattergeo"
           }
          ],
          "scattergl": [
           {
            "marker": {
             "line": {
              "color": "#283442"
             }
            },
            "type": "scattergl"
           }
          ],
          "scattermapbox": [
           {
            "marker": {
             "colorbar": {
              "outlinewidth": 0,
              "ticks": ""
             }
            },
            "type": "scattermapbox"
           }
          ],
          "scatterpolar": [
           {
            "marker": {
             "colorbar": {
              "outlinewidth": 0,
              "ticks": ""
             }
            },
            "type": "scatterpolar"
           }
          ],
          "scatterpolargl": [
           {
            "marker": {
             "colorbar": {
              "outlinewidth": 0,
              "ticks": ""
             }
            },
            "type": "scatterpolargl"
           }
          ],
          "scatterternary": [
           {
            "marker": {
             "colorbar": {
              "outlinewidth": 0,
              "ticks": ""
             }
            },
            "type": "scatterternary"
           }
          ],
          "surface": [
           {
            "colorbar": {
             "outlinewidth": 0,
             "ticks": ""
            },
            "colorscale": [
             [
              0,
              "#0d0887"
             ],
             [
              0.1111111111111111,
              "#46039f"
             ],
             [
              0.2222222222222222,
              "#7201a8"
             ],
             [
              0.3333333333333333,
              "#9c179e"
             ],
             [
              0.4444444444444444,
              "#bd3786"
             ],
             [
              0.5555555555555556,
              "#d8576b"
             ],
             [
              0.6666666666666666,
              "#ed7953"
             ],
             [
              0.7777777777777778,
              "#fb9f3a"
             ],
             [
              0.8888888888888888,
              "#fdca26"
             ],
             [
              1,
              "#f0f921"
             ]
            ],
            "type": "surface"
           }
          ],
          "table": [
           {
            "cells": {
             "fill": {
              "color": "#506784"
             },
             "line": {
              "color": "rgb(17,17,17)"
             }
            },
            "header": {
             "fill": {
              "color": "#2a3f5f"
             },
             "line": {
              "color": "rgb(17,17,17)"
             }
            },
            "type": "table"
           }
          ]
         },
         "layout": {
          "annotationdefaults": {
           "arrowcolor": "#f2f5fa",
           "arrowhead": 0,
           "arrowwidth": 1
          },
          "autotypenumbers": "strict",
          "coloraxis": {
           "colorbar": {
            "outlinewidth": 0,
            "ticks": ""
           }
          },
          "colorscale": {
           "diverging": [
            [
             0,
             "#8e0152"
            ],
            [
             0.1,
             "#c51b7d"
            ],
            [
             0.2,
             "#de77ae"
            ],
            [
             0.3,
             "#f1b6da"
            ],
            [
             0.4,
             "#fde0ef"
            ],
            [
             0.5,
             "#f7f7f7"
            ],
            [
             0.6,
             "#e6f5d0"
            ],
            [
             0.7,
             "#b8e186"
            ],
            [
             0.8,
             "#7fbc41"
            ],
            [
             0.9,
             "#4d9221"
            ],
            [
             1,
             "#276419"
            ]
           ],
           "sequential": [
            [
             0,
             "#0d0887"
            ],
            [
             0.1111111111111111,
             "#46039f"
            ],
            [
             0.2222222222222222,
             "#7201a8"
            ],
            [
             0.3333333333333333,
             "#9c179e"
            ],
            [
             0.4444444444444444,
             "#bd3786"
            ],
            [
             0.5555555555555556,
             "#d8576b"
            ],
            [
             0.6666666666666666,
             "#ed7953"
            ],
            [
             0.7777777777777778,
             "#fb9f3a"
            ],
            [
             0.8888888888888888,
             "#fdca26"
            ],
            [
             1,
             "#f0f921"
            ]
           ],
           "sequentialminus": [
            [
             0,
             "#0d0887"
            ],
            [
             0.1111111111111111,
             "#46039f"
            ],
            [
             0.2222222222222222,
             "#7201a8"
            ],
            [
             0.3333333333333333,
             "#9c179e"
            ],
            [
             0.4444444444444444,
             "#bd3786"
            ],
            [
             0.5555555555555556,
             "#d8576b"
            ],
            [
             0.6666666666666666,
             "#ed7953"
            ],
            [
             0.7777777777777778,
             "#fb9f3a"
            ],
            [
             0.8888888888888888,
             "#fdca26"
            ],
            [
             1,
             "#f0f921"
            ]
           ]
          },
          "colorway": [
           "#636efa",
           "#EF553B",
           "#00cc96",
           "#ab63fa",
           "#FFA15A",
           "#19d3f3",
           "#FF6692",
           "#B6E880",
           "#FF97FF",
           "#FECB52"
          ],
          "font": {
           "color": "#f2f5fa"
          },
          "geo": {
           "bgcolor": "rgb(17,17,17)",
           "lakecolor": "rgb(17,17,17)",
           "landcolor": "rgb(17,17,17)",
           "showlakes": true,
           "showland": true,
           "subunitcolor": "#506784"
          },
          "hoverlabel": {
           "align": "left"
          },
          "hovermode": "closest",
          "mapbox": {
           "style": "dark"
          },
          "paper_bgcolor": "rgb(17,17,17)",
          "plot_bgcolor": "rgb(17,17,17)",
          "polar": {
           "angularaxis": {
            "gridcolor": "#506784",
            "linecolor": "#506784",
            "ticks": ""
           },
           "bgcolor": "rgb(17,17,17)",
           "radialaxis": {
            "gridcolor": "#506784",
            "linecolor": "#506784",
            "ticks": ""
           }
          },
          "scene": {
           "xaxis": {
            "backgroundcolor": "rgb(17,17,17)",
            "gridcolor": "#506784",
            "gridwidth": 2,
            "linecolor": "#506784",
            "showbackground": true,
            "ticks": "",
            "zerolinecolor": "#C8D4E3"
           },
           "yaxis": {
            "backgroundcolor": "rgb(17,17,17)",
            "gridcolor": "#506784",
            "gridwidth": 2,
            "linecolor": "#506784",
            "showbackground": true,
            "ticks": "",
            "zerolinecolor": "#C8D4E3"
           },
           "zaxis": {
            "backgroundcolor": "rgb(17,17,17)",
            "gridcolor": "#506784",
            "gridwidth": 2,
            "linecolor": "#506784",
            "showbackground": true,
            "ticks": "",
            "zerolinecolor": "#C8D4E3"
           }
          },
          "shapedefaults": {
           "line": {
            "color": "#f2f5fa"
           }
          },
          "sliderdefaults": {
           "bgcolor": "#C8D4E3",
           "bordercolor": "rgb(17,17,17)",
           "borderwidth": 1,
           "tickwidth": 0
          },
          "ternary": {
           "aaxis": {
            "gridcolor": "#506784",
            "linecolor": "#506784",
            "ticks": ""
           },
           "baxis": {
            "gridcolor": "#506784",
            "linecolor": "#506784",
            "ticks": ""
           },
           "bgcolor": "rgb(17,17,17)",
           "caxis": {
            "gridcolor": "#506784",
            "linecolor": "#506784",
            "ticks": ""
           }
          },
          "title": {
           "x": 0.05
          },
          "updatemenudefaults": {
           "bgcolor": "#506784",
           "borderwidth": 0
          },
          "xaxis": {
           "automargin": true,
           "gridcolor": "#283442",
           "linecolor": "#506784",
           "ticks": "",
           "title": {
            "standoff": 15
           },
           "zerolinecolor": "#283442",
           "zerolinewidth": 2
          },
          "yaxis": {
           "automargin": true,
           "gridcolor": "#283442",
           "linecolor": "#506784",
           "ticks": "",
           "title": {
            "standoff": 15
           },
           "zerolinecolor": "#283442",
           "zerolinewidth": 2
          }
         }
        },
        "title": {
         "text": "Total Maize yield in last 10 years"
        },
        "width": 800,
        "xaxis": {
         "anchor": "y",
         "domain": [
          0,
          1
         ],
         "title": {
          "text": "Year"
         }
        },
        "yaxis": {
         "anchor": "x",
         "categoryarray": [
          2.35,
          2.43,
          2.46,
          2.5,
          2.55,
          2.68,
          2.84,
          2.96,
          3.06,
          3.15
         ],
         "categoryorder": "array",
         "domain": [
          0,
          1
         ],
         "title": {
          "text": "Maize yeild(ht)"
         }
        }
       }
      }
     },
     "metadata": {},
     "output_type": "display_data"
    }
   ],
   "source": [
    "fig = px.line(maize_yield, x='YEAR', y='Maize_YIELD',\n",
    "             title='Total Maize yield in last 10 years',\n",
    "             labels={'year': 'YEAR', 'Maize yield ': 'Maize_YIELD'},\n",
    "             color='Maize_YIELD', \n",
    "             line_shape=\"linear\",\n",
    "            markers=True\n",
    "            \n",
    "             )\n",
    "\n",
    "fig.update_layout(xaxis_title='Year', yaxis_title='Maize yeild(ht)')\n",
    "fig.update_layout(template='plotly_dark')\n",
    "fig.update_traces(marker=dict(size=20))\n",
    "fig.update_layout(height=600,width=800)\n",
    "fig.show()"
   ]
  },
  {
   "cell_type": "code",
   "execution_count": 82,
   "id": "a790fc0d",
   "metadata": {},
   "outputs": [
    {
     "data": {
      "text/html": [
       "<div>\n",
       "<style scoped>\n",
       "    .dataframe tbody tr th:only-of-type {\n",
       "        vertical-align: middle;\n",
       "    }\n",
       "\n",
       "    .dataframe tbody tr th {\n",
       "        vertical-align: top;\n",
       "    }\n",
       "\n",
       "    .dataframe thead th {\n",
       "        text-align: right;\n",
       "    }\n",
       "</style>\n",
       "<table border=\"1\" class=\"dataframe\">\n",
       "  <thead>\n",
       "    <tr style=\"text-align: right;\">\n",
       "      <th></th>\n",
       "      <th>YEAR</th>\n",
       "      <th>Maize_AREA</th>\n",
       "    </tr>\n",
       "  </thead>\n",
       "  <tbody>\n",
       "    <tr>\n",
       "      <th>0</th>\n",
       "      <td>22-2021</td>\n",
       "      <td>985565</td>\n",
       "    </tr>\n",
       "    <tr>\n",
       "      <th>1</th>\n",
       "      <td>21-2020</td>\n",
       "      <td>979776</td>\n",
       "    </tr>\n",
       "    <tr>\n",
       "      <th>2</th>\n",
       "      <td>20-2019</td>\n",
       "      <td>957650</td>\n",
       "    </tr>\n",
       "    <tr>\n",
       "      <th>3</th>\n",
       "      <td>19-2018</td>\n",
       "      <td>956447</td>\n",
       "    </tr>\n",
       "    <tr>\n",
       "      <th>4</th>\n",
       "      <td>18-2017</td>\n",
       "      <td>954158</td>\n",
       "    </tr>\n",
       "    <tr>\n",
       "      <th>5</th>\n",
       "      <td>14-2013</td>\n",
       "      <td>928761</td>\n",
       "    </tr>\n",
       "    <tr>\n",
       "      <th>6</th>\n",
       "      <td>17-2016</td>\n",
       "      <td>900288</td>\n",
       "    </tr>\n",
       "    <tr>\n",
       "      <th>7</th>\n",
       "      <td>16-2015</td>\n",
       "      <td>891583</td>\n",
       "    </tr>\n",
       "    <tr>\n",
       "      <th>8</th>\n",
       "      <td>15-2014</td>\n",
       "      <td>882395</td>\n",
       "    </tr>\n",
       "    <tr>\n",
       "      <th>9</th>\n",
       "      <td>13-2012</td>\n",
       "      <td>849635</td>\n",
       "    </tr>\n",
       "  </tbody>\n",
       "</table>\n",
       "</div>"
      ],
      "text/plain": [
       "      YEAR  Maize_AREA\n",
       "0  22-2021      985565\n",
       "1  21-2020      979776\n",
       "2  20-2019      957650\n",
       "3  19-2018      956447\n",
       "4  18-2017      954158\n",
       "5  14-2013      928761\n",
       "6  17-2016      900288\n",
       "7  16-2015      891583\n",
       "8  15-2014      882395\n",
       "9  13-2012      849635"
      ]
     },
     "execution_count": 82,
     "metadata": {},
     "output_type": "execute_result"
    }
   ],
   "source": [
    "# Maize area\n",
    "maize_area=df1.groupby('YEAR')['Maize_AREA'].sum().sort_values(ascending=False).reset_index()\n",
    "maize_area\n",
    "\n"
   ]
  },
  {
   "cell_type": "code",
   "execution_count": 84,
   "id": "d4c02331",
   "metadata": {},
   "outputs": [
    {
     "data": {
      "application/vnd.plotly.v1+json": {
       "config": {
        "plotlyServerURL": "https://plot.ly"
       },
       "data": [
        {
         "alignmentgroup": "True",
         "hovertemplate": "YEAR=%{x}<br>Maize_AREA=%{marker.color}<extra></extra>",
         "legendgroup": "",
         "marker": {
          "color": [
           985565,
           979776,
           957650,
           956447,
           954158,
           928761,
           900288,
           891583,
           882395,
           849635
          ],
          "coloraxis": "coloraxis",
          "pattern": {
           "shape": ""
          }
         },
         "name": "",
         "offsetgroup": "",
         "orientation": "v",
         "showlegend": false,
         "textposition": "auto",
         "type": "bar",
         "x": [
          "22-2021",
          "21-2020",
          "20-2019",
          "19-2018",
          "18-2017",
          "14-2013",
          "17-2016",
          "16-2015",
          "15-2014",
          "13-2012"
         ],
         "xaxis": "x",
         "y": [
          985565,
          979776,
          957650,
          956447,
          954158,
          928761,
          900288,
          891583,
          882395,
          849635
         ],
         "yaxis": "y"
        }
       ],
       "layout": {
        "barmode": "relative",
        "coloraxis": {
         "colorbar": {
          "title": {
           "text": "Maize_AREA"
          }
         },
         "colorscale": [
          [
           0,
           "rgb(249, 221, 218)"
          ],
          [
           0.16666666666666666,
           "rgb(242, 185, 196)"
          ],
          [
           0.3333333333333333,
           "rgb(229, 151, 185)"
          ],
          [
           0.5,
           "rgb(206, 120, 179)"
          ],
          [
           0.6666666666666666,
           "rgb(173, 95, 173)"
          ],
          [
           0.8333333333333334,
           "rgb(131, 75, 160)"
          ],
          [
           1,
           "rgb(87, 59, 136)"
          ]
         ]
        },
        "height": 600,
        "legend": {
         "tracegroupgap": 0
        },
        "template": {
         "data": {
          "bar": [
           {
            "error_x": {
             "color": "rgb(51,51,51)"
            },
            "error_y": {
             "color": "rgb(51,51,51)"
            },
            "marker": {
             "line": {
              "color": "rgb(237,237,237)",
              "width": 0.5
             },
             "pattern": {
              "fillmode": "overlay",
              "size": 10,
              "solidity": 0.2
             }
            },
            "type": "bar"
           }
          ],
          "barpolar": [
           {
            "marker": {
             "line": {
              "color": "rgb(237,237,237)",
              "width": 0.5
             },
             "pattern": {
              "fillmode": "overlay",
              "size": 10,
              "solidity": 0.2
             }
            },
            "type": "barpolar"
           }
          ],
          "carpet": [
           {
            "aaxis": {
             "endlinecolor": "rgb(51,51,51)",
             "gridcolor": "white",
             "linecolor": "white",
             "minorgridcolor": "white",
             "startlinecolor": "rgb(51,51,51)"
            },
            "baxis": {
             "endlinecolor": "rgb(51,51,51)",
             "gridcolor": "white",
             "linecolor": "white",
             "minorgridcolor": "white",
             "startlinecolor": "rgb(51,51,51)"
            },
            "type": "carpet"
           }
          ],
          "choropleth": [
           {
            "colorbar": {
             "outlinewidth": 0,
             "tickcolor": "rgb(237,237,237)",
             "ticklen": 6,
             "ticks": "inside"
            },
            "type": "choropleth"
           }
          ],
          "contour": [
           {
            "colorbar": {
             "outlinewidth": 0,
             "tickcolor": "rgb(237,237,237)",
             "ticklen": 6,
             "ticks": "inside"
            },
            "colorscale": [
             [
              0,
              "rgb(20,44,66)"
             ],
             [
              1,
              "rgb(90,179,244)"
             ]
            ],
            "type": "contour"
           }
          ],
          "contourcarpet": [
           {
            "colorbar": {
             "outlinewidth": 0,
             "tickcolor": "rgb(237,237,237)",
             "ticklen": 6,
             "ticks": "inside"
            },
            "type": "contourcarpet"
           }
          ],
          "heatmap": [
           {
            "colorbar": {
             "outlinewidth": 0,
             "tickcolor": "rgb(237,237,237)",
             "ticklen": 6,
             "ticks": "inside"
            },
            "colorscale": [
             [
              0,
              "rgb(20,44,66)"
             ],
             [
              1,
              "rgb(90,179,244)"
             ]
            ],
            "type": "heatmap"
           }
          ],
          "heatmapgl": [
           {
            "colorbar": {
             "outlinewidth": 0,
             "tickcolor": "rgb(237,237,237)",
             "ticklen": 6,
             "ticks": "inside"
            },
            "colorscale": [
             [
              0,
              "rgb(20,44,66)"
             ],
             [
              1,
              "rgb(90,179,244)"
             ]
            ],
            "type": "heatmapgl"
           }
          ],
          "histogram": [
           {
            "marker": {
             "pattern": {
              "fillmode": "overlay",
              "size": 10,
              "solidity": 0.2
             }
            },
            "type": "histogram"
           }
          ],
          "histogram2d": [
           {
            "colorbar": {
             "outlinewidth": 0,
             "tickcolor": "rgb(237,237,237)",
             "ticklen": 6,
             "ticks": "inside"
            },
            "colorscale": [
             [
              0,
              "rgb(20,44,66)"
             ],
             [
              1,
              "rgb(90,179,244)"
             ]
            ],
            "type": "histogram2d"
           }
          ],
          "histogram2dcontour": [
           {
            "colorbar": {
             "outlinewidth": 0,
             "tickcolor": "rgb(237,237,237)",
             "ticklen": 6,
             "ticks": "inside"
            },
            "colorscale": [
             [
              0,
              "rgb(20,44,66)"
             ],
             [
              1,
              "rgb(90,179,244)"
             ]
            ],
            "type": "histogram2dcontour"
           }
          ],
          "mesh3d": [
           {
            "colorbar": {
             "outlinewidth": 0,
             "tickcolor": "rgb(237,237,237)",
             "ticklen": 6,
             "ticks": "inside"
            },
            "type": "mesh3d"
           }
          ],
          "parcoords": [
           {
            "line": {
             "colorbar": {
              "outlinewidth": 0,
              "tickcolor": "rgb(237,237,237)",
              "ticklen": 6,
              "ticks": "inside"
             }
            },
            "type": "parcoords"
           }
          ],
          "pie": [
           {
            "automargin": true,
            "type": "pie"
           }
          ],
          "scatter": [
           {
            "fillpattern": {
             "fillmode": "overlay",
             "size": 10,
             "solidity": 0.2
            },
            "type": "scatter"
           }
          ],
          "scatter3d": [
           {
            "line": {
             "colorbar": {
              "outlinewidth": 0,
              "tickcolor": "rgb(237,237,237)",
              "ticklen": 6,
              "ticks": "inside"
             }
            },
            "marker": {
             "colorbar": {
              "outlinewidth": 0,
              "tickcolor": "rgb(237,237,237)",
              "ticklen": 6,
              "ticks": "inside"
             }
            },
            "type": "scatter3d"
           }
          ],
          "scattercarpet": [
           {
            "marker": {
             "colorbar": {
              "outlinewidth": 0,
              "tickcolor": "rgb(237,237,237)",
              "ticklen": 6,
              "ticks": "inside"
             }
            },
            "type": "scattercarpet"
           }
          ],
          "scattergeo": [
           {
            "marker": {
             "colorbar": {
              "outlinewidth": 0,
              "tickcolor": "rgb(237,237,237)",
              "ticklen": 6,
              "ticks": "inside"
             }
            },
            "type": "scattergeo"
           }
          ],
          "scattergl": [
           {
            "marker": {
             "colorbar": {
              "outlinewidth": 0,
              "tickcolor": "rgb(237,237,237)",
              "ticklen": 6,
              "ticks": "inside"
             }
            },
            "type": "scattergl"
           }
          ],
          "scattermapbox": [
           {
            "marker": {
             "colorbar": {
              "outlinewidth": 0,
              "tickcolor": "rgb(237,237,237)",
              "ticklen": 6,
              "ticks": "inside"
             }
            },
            "type": "scattermapbox"
           }
          ],
          "scatterpolar": [
           {
            "marker": {
             "colorbar": {
              "outlinewidth": 0,
              "tickcolor": "rgb(237,237,237)",
              "ticklen": 6,
              "ticks": "inside"
             }
            },
            "type": "scatterpolar"
           }
          ],
          "scatterpolargl": [
           {
            "marker": {
             "colorbar": {
              "outlinewidth": 0,
              "tickcolor": "rgb(237,237,237)",
              "ticklen": 6,
              "ticks": "inside"
             }
            },
            "type": "scatterpolargl"
           }
          ],
          "scatterternary": [
           {
            "marker": {
             "colorbar": {
              "outlinewidth": 0,
              "tickcolor": "rgb(237,237,237)",
              "ticklen": 6,
              "ticks": "inside"
             }
            },
            "type": "scatterternary"
           }
          ],
          "surface": [
           {
            "colorbar": {
             "outlinewidth": 0,
             "tickcolor": "rgb(237,237,237)",
             "ticklen": 6,
             "ticks": "inside"
            },
            "colorscale": [
             [
              0,
              "rgb(20,44,66)"
             ],
             [
              1,
              "rgb(90,179,244)"
             ]
            ],
            "type": "surface"
           }
          ],
          "table": [
           {
            "cells": {
             "fill": {
              "color": "rgb(237,237,237)"
             },
             "line": {
              "color": "white"
             }
            },
            "header": {
             "fill": {
              "color": "rgb(217,217,217)"
             },
             "line": {
              "color": "white"
             }
            },
            "type": "table"
           }
          ]
         },
         "layout": {
          "annotationdefaults": {
           "arrowhead": 0,
           "arrowwidth": 1
          },
          "autotypenumbers": "strict",
          "coloraxis": {
           "colorbar": {
            "outlinewidth": 0,
            "tickcolor": "rgb(237,237,237)",
            "ticklen": 6,
            "ticks": "inside"
           }
          },
          "colorscale": {
           "sequential": [
            [
             0,
             "rgb(20,44,66)"
            ],
            [
             1,
             "rgb(90,179,244)"
            ]
           ],
           "sequentialminus": [
            [
             0,
             "rgb(20,44,66)"
            ],
            [
             1,
             "rgb(90,179,244)"
            ]
           ]
          },
          "colorway": [
           "#F8766D",
           "#A3A500",
           "#00BF7D",
           "#00B0F6",
           "#E76BF3"
          ],
          "font": {
           "color": "rgb(51,51,51)"
          },
          "geo": {
           "bgcolor": "white",
           "lakecolor": "white",
           "landcolor": "rgb(237,237,237)",
           "showlakes": true,
           "showland": true,
           "subunitcolor": "white"
          },
          "hoverlabel": {
           "align": "left"
          },
          "hovermode": "closest",
          "paper_bgcolor": "white",
          "plot_bgcolor": "rgb(237,237,237)",
          "polar": {
           "angularaxis": {
            "gridcolor": "white",
            "linecolor": "white",
            "showgrid": true,
            "tickcolor": "rgb(51,51,51)",
            "ticks": "outside"
           },
           "bgcolor": "rgb(237,237,237)",
           "radialaxis": {
            "gridcolor": "white",
            "linecolor": "white",
            "showgrid": true,
            "tickcolor": "rgb(51,51,51)",
            "ticks": "outside"
           }
          },
          "scene": {
           "xaxis": {
            "backgroundcolor": "rgb(237,237,237)",
            "gridcolor": "white",
            "gridwidth": 2,
            "linecolor": "white",
            "showbackground": true,
            "showgrid": true,
            "tickcolor": "rgb(51,51,51)",
            "ticks": "outside",
            "zerolinecolor": "white"
           },
           "yaxis": {
            "backgroundcolor": "rgb(237,237,237)",
            "gridcolor": "white",
            "gridwidth": 2,
            "linecolor": "white",
            "showbackground": true,
            "showgrid": true,
            "tickcolor": "rgb(51,51,51)",
            "ticks": "outside",
            "zerolinecolor": "white"
           },
           "zaxis": {
            "backgroundcolor": "rgb(237,237,237)",
            "gridcolor": "white",
            "gridwidth": 2,
            "linecolor": "white",
            "showbackground": true,
            "showgrid": true,
            "tickcolor": "rgb(51,51,51)",
            "ticks": "outside",
            "zerolinecolor": "white"
           }
          },
          "shapedefaults": {
           "fillcolor": "black",
           "line": {
            "width": 0
           },
           "opacity": 0.3
          },
          "ternary": {
           "aaxis": {
            "gridcolor": "white",
            "linecolor": "white",
            "showgrid": true,
            "tickcolor": "rgb(51,51,51)",
            "ticks": "outside"
           },
           "baxis": {
            "gridcolor": "white",
            "linecolor": "white",
            "showgrid": true,
            "tickcolor": "rgb(51,51,51)",
            "ticks": "outside"
           },
           "bgcolor": "rgb(237,237,237)",
           "caxis": {
            "gridcolor": "white",
            "linecolor": "white",
            "showgrid": true,
            "tickcolor": "rgb(51,51,51)",
            "ticks": "outside"
           }
          },
          "xaxis": {
           "automargin": true,
           "gridcolor": "white",
           "linecolor": "white",
           "showgrid": true,
           "tickcolor": "rgb(51,51,51)",
           "ticks": "outside",
           "title": {
            "standoff": 15
           },
           "zerolinecolor": "white"
          },
          "yaxis": {
           "automargin": true,
           "gridcolor": "white",
           "linecolor": "white",
           "showgrid": true,
           "tickcolor": "rgb(51,51,51)",
           "ticks": "outside",
           "title": {
            "standoff": 15
           },
           "zerolinecolor": "white"
          }
         }
        },
        "title": {
         "text": "Total Maize Area in last 10 YEAR"
        },
        "width": 800,
        "xaxis": {
         "anchor": "y",
         "domain": [
          0,
          1
         ],
         "title": {
          "text": "Year"
         }
        },
        "yaxis": {
         "anchor": "x",
         "domain": [
          0,
          1
         ],
         "title": {
          "text": "Maize Area(ht)"
         }
        }
       }
      }
     },
     "metadata": {},
     "output_type": "display_data"
    }
   ],
   "source": [
    "fig = px.bar(maize_area, x='YEAR', y='Maize_AREA',\n",
    "             title='Total Maize Area in last 10 YEAR',\n",
    "             labels={'YEAR': 'YEAR', 'Maize Area ': 'Maize_AREA '},\n",
    "             color='Maize_AREA', color_continuous_scale='purpor'\n",
    "          \n",
    "          )\n",
    "\n",
    "fig.update_layout(xaxis_title='Year', yaxis_title='Maize Area(ht)')\n",
    "\n",
    "fig.update_layout(template='ggplot2')\n",
    "fig.update_layout(height=600,width=800)\n",
    "fig.show()"
   ]
  },
  {
   "cell_type": "code",
   "execution_count": 85,
   "id": "ac7e5a69",
   "metadata": {},
   "outputs": [
    {
     "data": {
      "text/html": [
       "<div>\n",
       "<style scoped>\n",
       "    .dataframe tbody tr th:only-of-type {\n",
       "        vertical-align: middle;\n",
       "    }\n",
       "\n",
       "    .dataframe tbody tr th {\n",
       "        vertical-align: top;\n",
       "    }\n",
       "\n",
       "    .dataframe thead th {\n",
       "        text-align: right;\n",
       "    }\n",
       "</style>\n",
       "<table border=\"1\" class=\"dataframe\">\n",
       "  <thead>\n",
       "    <tr style=\"text-align: right;\">\n",
       "      <th></th>\n",
       "      <th>YEAR</th>\n",
       "      <th>Maize_PROD.</th>\n",
       "    </tr>\n",
       "  </thead>\n",
       "  <tbody>\n",
       "    <tr>\n",
       "      <th>0</th>\n",
       "      <td>22-2021</td>\n",
       "      <td>3106397</td>\n",
       "    </tr>\n",
       "    <tr>\n",
       "      <th>1</th>\n",
       "      <td>21-2020</td>\n",
       "      <td>2997733</td>\n",
       "    </tr>\n",
       "    <tr>\n",
       "      <th>2</th>\n",
       "      <td>20-2019</td>\n",
       "      <td>2835674</td>\n",
       "    </tr>\n",
       "    <tr>\n",
       "      <th>3</th>\n",
       "      <td>19-2018</td>\n",
       "      <td>2713635</td>\n",
       "    </tr>\n",
       "    <tr>\n",
       "      <th>4</th>\n",
       "      <td>18-2017</td>\n",
       "      <td>2555847</td>\n",
       "    </tr>\n",
       "    <tr>\n",
       "      <th>5</th>\n",
       "      <td>17-2016</td>\n",
       "      <td>2300121</td>\n",
       "    </tr>\n",
       "    <tr>\n",
       "      <th>6</th>\n",
       "      <td>14-2013</td>\n",
       "      <td>2283222</td>\n",
       "    </tr>\n",
       "    <tr>\n",
       "      <th>7</th>\n",
       "      <td>16-2015</td>\n",
       "      <td>2231517</td>\n",
       "    </tr>\n",
       "    <tr>\n",
       "      <th>8</th>\n",
       "      <td>15-2014</td>\n",
       "      <td>2145291</td>\n",
       "    </tr>\n",
       "    <tr>\n",
       "      <th>9</th>\n",
       "      <td>13-2012</td>\n",
       "      <td>1999010</td>\n",
       "    </tr>\n",
       "  </tbody>\n",
       "</table>\n",
       "</div>"
      ],
      "text/plain": [
       "      YEAR  Maize_PROD.\n",
       "0  22-2021      3106397\n",
       "1  21-2020      2997733\n",
       "2  20-2019      2835674\n",
       "3  19-2018      2713635\n",
       "4  18-2017      2555847\n",
       "5  17-2016      2300121\n",
       "6  14-2013      2283222\n",
       "7  16-2015      2231517\n",
       "8  15-2014      2145291\n",
       "9  13-2012      1999010"
      ]
     },
     "execution_count": 85,
     "metadata": {},
     "output_type": "execute_result"
    }
   ],
   "source": [
    "# maize production\n",
    "maize_production=df1.groupby('YEAR')['Maize_PROD.'].sum().sort_values(ascending=False).reset_index()\n",
    "maize_production\n"
   ]
  },
  {
   "cell_type": "code",
   "execution_count": 87,
   "id": "db517c2f",
   "metadata": {},
   "outputs": [
    {
     "data": {
      "application/vnd.plotly.v1+json": {
       "config": {
        "plotlyServerURL": "https://plot.ly"
       },
       "data": [
        {
         "customdata": [
          [
           "22-2021"
          ],
          [
           "21-2020"
          ],
          [
           "20-2019"
          ],
          [
           "19-2018"
          ],
          [
           "18-2017"
          ],
          [
           "17-2016"
          ],
          [
           "14-2013"
          ],
          [
           "16-2015"
          ],
          [
           "15-2014"
          ],
          [
           "13-2012"
          ]
         ],
         "domain": {
          "x": [
           0,
           1
          ],
          "y": [
           0,
           1
          ]
         },
         "hole": 0.5,
         "hovertemplate": "YEAR=%{customdata[0]}<br>Maize_PROD.=%{value}<extra></extra>",
         "labels": [
          "22-2021",
          "21-2020",
          "20-2019",
          "19-2018",
          "18-2017",
          "17-2016",
          "14-2013",
          "16-2015",
          "15-2014",
          "13-2012"
         ],
         "legendgroup": "",
         "marker": {
          "colors": [
           "#000004",
           "#180f3d",
           "#440f76",
           "#721f81",
           "#9e2f7f",
           "#cd4071",
           "#f1605d",
           "#fd9668",
           "#feca8d",
           "#fcfdbf"
          ]
         },
         "name": "",
         "showlegend": true,
         "type": "pie",
         "values": [
          3106397,
          2997733,
          2835674,
          2713635,
          2555847,
          2300121,
          2283222,
          2231517,
          2145291,
          1999010
         ]
        }
       ],
       "layout": {
        "height": 600,
        "legend": {
         "tracegroupgap": 0
        },
        "piecolorway": [
         "#000004",
         "#180f3d",
         "#440f76",
         "#721f81",
         "#9e2f7f",
         "#cd4071",
         "#f1605d",
         "#fd9668",
         "#feca8d",
         "#fcfdbf"
        ],
        "template": {
         "data": {
          "bar": [
           {
            "error_x": {
             "color": "rgb(51,51,51)"
            },
            "error_y": {
             "color": "rgb(51,51,51)"
            },
            "marker": {
             "line": {
              "color": "rgb(237,237,237)",
              "width": 0.5
             },
             "pattern": {
              "fillmode": "overlay",
              "size": 10,
              "solidity": 0.2
             }
            },
            "type": "bar"
           }
          ],
          "barpolar": [
           {
            "marker": {
             "line": {
              "color": "rgb(237,237,237)",
              "width": 0.5
             },
             "pattern": {
              "fillmode": "overlay",
              "size": 10,
              "solidity": 0.2
             }
            },
            "type": "barpolar"
           }
          ],
          "carpet": [
           {
            "aaxis": {
             "endlinecolor": "rgb(51,51,51)",
             "gridcolor": "white",
             "linecolor": "white",
             "minorgridcolor": "white",
             "startlinecolor": "rgb(51,51,51)"
            },
            "baxis": {
             "endlinecolor": "rgb(51,51,51)",
             "gridcolor": "white",
             "linecolor": "white",
             "minorgridcolor": "white",
             "startlinecolor": "rgb(51,51,51)"
            },
            "type": "carpet"
           }
          ],
          "choropleth": [
           {
            "colorbar": {
             "outlinewidth": 0,
             "tickcolor": "rgb(237,237,237)",
             "ticklen": 6,
             "ticks": "inside"
            },
            "type": "choropleth"
           }
          ],
          "contour": [
           {
            "colorbar": {
             "outlinewidth": 0,
             "tickcolor": "rgb(237,237,237)",
             "ticklen": 6,
             "ticks": "inside"
            },
            "colorscale": [
             [
              0,
              "rgb(20,44,66)"
             ],
             [
              1,
              "rgb(90,179,244)"
             ]
            ],
            "type": "contour"
           }
          ],
          "contourcarpet": [
           {
            "colorbar": {
             "outlinewidth": 0,
             "tickcolor": "rgb(237,237,237)",
             "ticklen": 6,
             "ticks": "inside"
            },
            "type": "contourcarpet"
           }
          ],
          "heatmap": [
           {
            "colorbar": {
             "outlinewidth": 0,
             "tickcolor": "rgb(237,237,237)",
             "ticklen": 6,
             "ticks": "inside"
            },
            "colorscale": [
             [
              0,
              "rgb(20,44,66)"
             ],
             [
              1,
              "rgb(90,179,244)"
             ]
            ],
            "type": "heatmap"
           }
          ],
          "heatmapgl": [
           {
            "colorbar": {
             "outlinewidth": 0,
             "tickcolor": "rgb(237,237,237)",
             "ticklen": 6,
             "ticks": "inside"
            },
            "colorscale": [
             [
              0,
              "rgb(20,44,66)"
             ],
             [
              1,
              "rgb(90,179,244)"
             ]
            ],
            "type": "heatmapgl"
           }
          ],
          "histogram": [
           {
            "marker": {
             "pattern": {
              "fillmode": "overlay",
              "size": 10,
              "solidity": 0.2
             }
            },
            "type": "histogram"
           }
          ],
          "histogram2d": [
           {
            "colorbar": {
             "outlinewidth": 0,
             "tickcolor": "rgb(237,237,237)",
             "ticklen": 6,
             "ticks": "inside"
            },
            "colorscale": [
             [
              0,
              "rgb(20,44,66)"
             ],
             [
              1,
              "rgb(90,179,244)"
             ]
            ],
            "type": "histogram2d"
           }
          ],
          "histogram2dcontour": [
           {
            "colorbar": {
             "outlinewidth": 0,
             "tickcolor": "rgb(237,237,237)",
             "ticklen": 6,
             "ticks": "inside"
            },
            "colorscale": [
             [
              0,
              "rgb(20,44,66)"
             ],
             [
              1,
              "rgb(90,179,244)"
             ]
            ],
            "type": "histogram2dcontour"
           }
          ],
          "mesh3d": [
           {
            "colorbar": {
             "outlinewidth": 0,
             "tickcolor": "rgb(237,237,237)",
             "ticklen": 6,
             "ticks": "inside"
            },
            "type": "mesh3d"
           }
          ],
          "parcoords": [
           {
            "line": {
             "colorbar": {
              "outlinewidth": 0,
              "tickcolor": "rgb(237,237,237)",
              "ticklen": 6,
              "ticks": "inside"
             }
            },
            "type": "parcoords"
           }
          ],
          "pie": [
           {
            "automargin": true,
            "type": "pie"
           }
          ],
          "scatter": [
           {
            "fillpattern": {
             "fillmode": "overlay",
             "size": 10,
             "solidity": 0.2
            },
            "type": "scatter"
           }
          ],
          "scatter3d": [
           {
            "line": {
             "colorbar": {
              "outlinewidth": 0,
              "tickcolor": "rgb(237,237,237)",
              "ticklen": 6,
              "ticks": "inside"
             }
            },
            "marker": {
             "colorbar": {
              "outlinewidth": 0,
              "tickcolor": "rgb(237,237,237)",
              "ticklen": 6,
              "ticks": "inside"
             }
            },
            "type": "scatter3d"
           }
          ],
          "scattercarpet": [
           {
            "marker": {
             "colorbar": {
              "outlinewidth": 0,
              "tickcolor": "rgb(237,237,237)",
              "ticklen": 6,
              "ticks": "inside"
             }
            },
            "type": "scattercarpet"
           }
          ],
          "scattergeo": [
           {
            "marker": {
             "colorbar": {
              "outlinewidth": 0,
              "tickcolor": "rgb(237,237,237)",
              "ticklen": 6,
              "ticks": "inside"
             }
            },
            "type": "scattergeo"
           }
          ],
          "scattergl": [
           {
            "marker": {
             "colorbar": {
              "outlinewidth": 0,
              "tickcolor": "rgb(237,237,237)",
              "ticklen": 6,
              "ticks": "inside"
             }
            },
            "type": "scattergl"
           }
          ],
          "scattermapbox": [
           {
            "marker": {
             "colorbar": {
              "outlinewidth": 0,
              "tickcolor": "rgb(237,237,237)",
              "ticklen": 6,
              "ticks": "inside"
             }
            },
            "type": "scattermapbox"
           }
          ],
          "scatterpolar": [
           {
            "marker": {
             "colorbar": {
              "outlinewidth": 0,
              "tickcolor": "rgb(237,237,237)",
              "ticklen": 6,
              "ticks": "inside"
             }
            },
            "type": "scatterpolar"
           }
          ],
          "scatterpolargl": [
           {
            "marker": {
             "colorbar": {
              "outlinewidth": 0,
              "tickcolor": "rgb(237,237,237)",
              "ticklen": 6,
              "ticks": "inside"
             }
            },
            "type": "scatterpolargl"
           }
          ],
          "scatterternary": [
           {
            "marker": {
             "colorbar": {
              "outlinewidth": 0,
              "tickcolor": "rgb(237,237,237)",
              "ticklen": 6,
              "ticks": "inside"
             }
            },
            "type": "scatterternary"
           }
          ],
          "surface": [
           {
            "colorbar": {
             "outlinewidth": 0,
             "tickcolor": "rgb(237,237,237)",
             "ticklen": 6,
             "ticks": "inside"
            },
            "colorscale": [
             [
              0,
              "rgb(20,44,66)"
             ],
             [
              1,
              "rgb(90,179,244)"
             ]
            ],
            "type": "surface"
           }
          ],
          "table": [
           {
            "cells": {
             "fill": {
              "color": "rgb(237,237,237)"
             },
             "line": {
              "color": "white"
             }
            },
            "header": {
             "fill": {
              "color": "rgb(217,217,217)"
             },
             "line": {
              "color": "white"
             }
            },
            "type": "table"
           }
          ]
         },
         "layout": {
          "annotationdefaults": {
           "arrowhead": 0,
           "arrowwidth": 1
          },
          "autotypenumbers": "strict",
          "coloraxis": {
           "colorbar": {
            "outlinewidth": 0,
            "tickcolor": "rgb(237,237,237)",
            "ticklen": 6,
            "ticks": "inside"
           }
          },
          "colorscale": {
           "sequential": [
            [
             0,
             "rgb(20,44,66)"
            ],
            [
             1,
             "rgb(90,179,244)"
            ]
           ],
           "sequentialminus": [
            [
             0,
             "rgb(20,44,66)"
            ],
            [
             1,
             "rgb(90,179,244)"
            ]
           ]
          },
          "colorway": [
           "#F8766D",
           "#A3A500",
           "#00BF7D",
           "#00B0F6",
           "#E76BF3"
          ],
          "font": {
           "color": "rgb(51,51,51)"
          },
          "geo": {
           "bgcolor": "white",
           "lakecolor": "white",
           "landcolor": "rgb(237,237,237)",
           "showlakes": true,
           "showland": true,
           "subunitcolor": "white"
          },
          "hoverlabel": {
           "align": "left"
          },
          "hovermode": "closest",
          "paper_bgcolor": "white",
          "plot_bgcolor": "rgb(237,237,237)",
          "polar": {
           "angularaxis": {
            "gridcolor": "white",
            "linecolor": "white",
            "showgrid": true,
            "tickcolor": "rgb(51,51,51)",
            "ticks": "outside"
           },
           "bgcolor": "rgb(237,237,237)",
           "radialaxis": {
            "gridcolor": "white",
            "linecolor": "white",
            "showgrid": true,
            "tickcolor": "rgb(51,51,51)",
            "ticks": "outside"
           }
          },
          "scene": {
           "xaxis": {
            "backgroundcolor": "rgb(237,237,237)",
            "gridcolor": "white",
            "gridwidth": 2,
            "linecolor": "white",
            "showbackground": true,
            "showgrid": true,
            "tickcolor": "rgb(51,51,51)",
            "ticks": "outside",
            "zerolinecolor": "white"
           },
           "yaxis": {
            "backgroundcolor": "rgb(237,237,237)",
            "gridcolor": "white",
            "gridwidth": 2,
            "linecolor": "white",
            "showbackground": true,
            "showgrid": true,
            "tickcolor": "rgb(51,51,51)",
            "ticks": "outside",
            "zerolinecolor": "white"
           },
           "zaxis": {
            "backgroundcolor": "rgb(237,237,237)",
            "gridcolor": "white",
            "gridwidth": 2,
            "linecolor": "white",
            "showbackground": true,
            "showgrid": true,
            "tickcolor": "rgb(51,51,51)",
            "ticks": "outside",
            "zerolinecolor": "white"
           }
          },
          "shapedefaults": {
           "fillcolor": "black",
           "line": {
            "width": 0
           },
           "opacity": 0.3
          },
          "ternary": {
           "aaxis": {
            "gridcolor": "white",
            "linecolor": "white",
            "showgrid": true,
            "tickcolor": "rgb(51,51,51)",
            "ticks": "outside"
           },
           "baxis": {
            "gridcolor": "white",
            "linecolor": "white",
            "showgrid": true,
            "tickcolor": "rgb(51,51,51)",
            "ticks": "outside"
           },
           "bgcolor": "rgb(237,237,237)",
           "caxis": {
            "gridcolor": "white",
            "linecolor": "white",
            "showgrid": true,
            "tickcolor": "rgb(51,51,51)",
            "ticks": "outside"
           }
          },
          "xaxis": {
           "automargin": true,
           "gridcolor": "white",
           "linecolor": "white",
           "showgrid": true,
           "tickcolor": "rgb(51,51,51)",
           "ticks": "outside",
           "title": {
            "standoff": 15
           },
           "zerolinecolor": "white"
          },
          "yaxis": {
           "automargin": true,
           "gridcolor": "white",
           "linecolor": "white",
           "showgrid": true,
           "tickcolor": "rgb(51,51,51)",
           "ticks": "outside",
           "title": {
            "standoff": 15
           },
           "zerolinecolor": "white"
          }
         }
        },
        "title": {
         "text": "Total Maize production in last 10 year"
        },
        "width": 800
       }
      }
     },
     "metadata": {},
     "output_type": "display_data"
    }
   ],
   "source": [
    "fig = px.pie(maize_production, names='YEAR', values='Maize_PROD.',\n",
    "             title='Total Maize production in last 10 year',\n",
    "             labels={'Year': 'YEAR', 'Maize Production': 'Maize_PROD.'},\n",
    "             color='YEAR', color_discrete_sequence=px.colors.sequential.Magma  ,\n",
    "             hole=0.5\n",
    "             )\n",
    "\n",
    "fig.update_layout(template='ggplot2')\n",
    "fig.update_layout(height=600,width=800)\n",
    "fig.show()"
   ]
  },
  {
   "cell_type": "markdown",
   "id": "3c8c7d9f",
   "metadata": {},
   "source": [
    "## 5. Paddy "
   ]
  },
  {
   "cell_type": "code",
   "execution_count": 88,
   "id": "255d3aa6",
   "metadata": {},
   "outputs": [
    {
     "data": {
      "text/html": [
       "<div>\n",
       "<style scoped>\n",
       "    .dataframe tbody tr th:only-of-type {\n",
       "        vertical-align: middle;\n",
       "    }\n",
       "\n",
       "    .dataframe tbody tr th {\n",
       "        vertical-align: top;\n",
       "    }\n",
       "\n",
       "    .dataframe thead th {\n",
       "        text-align: right;\n",
       "    }\n",
       "</style>\n",
       "<table border=\"1\" class=\"dataframe\">\n",
       "  <thead>\n",
       "    <tr style=\"text-align: right;\">\n",
       "      <th></th>\n",
       "      <th>YEAR</th>\n",
       "      <th>Paddy_YIELD</th>\n",
       "    </tr>\n",
       "  </thead>\n",
       "  <tbody>\n",
       "    <tr>\n",
       "      <th>0</th>\n",
       "      <td>21-2020</td>\n",
       "      <td>3.82</td>\n",
       "    </tr>\n",
       "    <tr>\n",
       "      <th>1</th>\n",
       "      <td>20-2019</td>\n",
       "      <td>3.80</td>\n",
       "    </tr>\n",
       "    <tr>\n",
       "      <th>2</th>\n",
       "      <td>19-2018</td>\n",
       "      <td>3.76</td>\n",
       "    </tr>\n",
       "    <tr>\n",
       "      <th>3</th>\n",
       "      <td>18-2017</td>\n",
       "      <td>3.51</td>\n",
       "    </tr>\n",
       "    <tr>\n",
       "      <th>4</th>\n",
       "      <td>22-2021</td>\n",
       "      <td>3.47</td>\n",
       "    </tr>\n",
       "    <tr>\n",
       "      <th>5</th>\n",
       "      <td>14-2013</td>\n",
       "      <td>3.39</td>\n",
       "    </tr>\n",
       "    <tr>\n",
       "      <th>6</th>\n",
       "      <td>17-2016</td>\n",
       "      <td>3.37</td>\n",
       "    </tr>\n",
       "    <tr>\n",
       "      <th>7</th>\n",
       "      <td>15-2014</td>\n",
       "      <td>3.36</td>\n",
       "    </tr>\n",
       "    <tr>\n",
       "      <th>8</th>\n",
       "      <td>13-2012</td>\n",
       "      <td>3.17</td>\n",
       "    </tr>\n",
       "    <tr>\n",
       "      <th>9</th>\n",
       "      <td>16-2015</td>\n",
       "      <td>3.15</td>\n",
       "    </tr>\n",
       "  </tbody>\n",
       "</table>\n",
       "</div>"
      ],
      "text/plain": [
       "      YEAR  Paddy_YIELD\n",
       "0  21-2020         3.82\n",
       "1  20-2019         3.80\n",
       "2  19-2018         3.76\n",
       "3  18-2017         3.51\n",
       "4  22-2021         3.47\n",
       "5  14-2013         3.39\n",
       "6  17-2016         3.37\n",
       "7  15-2014         3.36\n",
       "8  13-2012         3.17\n",
       "9  16-2015         3.15"
      ]
     },
     "execution_count": 88,
     "metadata": {},
     "output_type": "execute_result"
    }
   ],
   "source": [
    "# paddy yield\n",
    "paddy_yield=df1.groupby('YEAR')['Paddy_YIELD'].sum().sort_values(ascending=False).reset_index()\n",
    "paddy_yield"
   ]
  },
  {
   "cell_type": "code",
   "execution_count": 89,
   "id": "3b20dadb",
   "metadata": {},
   "outputs": [
    {
     "data": {
      "application/vnd.plotly.v1+json": {
       "config": {
        "plotlyServerURL": "https://plot.ly"
       },
       "data": [
        {
         "hovertemplate": "Paddy_YIELD=%{y}<br>YEAR=%{x}<extra></extra>",
         "legendgroup": "3.82",
         "line": {
          "color": "#636efa",
          "dash": "solid",
          "shape": "linear"
         },
         "marker": {
          "size": 20,
          "symbol": "circle"
         },
         "mode": "lines+markers",
         "name": "3.82",
         "orientation": "v",
         "showlegend": true,
         "type": "scatter",
         "x": [
          "21-2020"
         ],
         "xaxis": "x",
         "y": [
          3.82
         ],
         "yaxis": "y"
        },
        {
         "hovertemplate": "Paddy_YIELD=%{y}<br>YEAR=%{x}<extra></extra>",
         "legendgroup": "3.8",
         "line": {
          "color": "#EF553B",
          "dash": "solid",
          "shape": "linear"
         },
         "marker": {
          "size": 20,
          "symbol": "circle"
         },
         "mode": "lines+markers",
         "name": "3.8",
         "orientation": "v",
         "showlegend": true,
         "type": "scatter",
         "x": [
          "20-2019"
         ],
         "xaxis": "x",
         "y": [
          3.8
         ],
         "yaxis": "y"
        },
        {
         "hovertemplate": "Paddy_YIELD=%{y}<br>YEAR=%{x}<extra></extra>",
         "legendgroup": "3.76",
         "line": {
          "color": "#00cc96",
          "dash": "solid",
          "shape": "linear"
         },
         "marker": {
          "size": 20,
          "symbol": "circle"
         },
         "mode": "lines+markers",
         "name": "3.76",
         "orientation": "v",
         "showlegend": true,
         "type": "scatter",
         "x": [
          "19-2018"
         ],
         "xaxis": "x",
         "y": [
          3.76
         ],
         "yaxis": "y"
        },
        {
         "hovertemplate": "Paddy_YIELD=%{y}<br>YEAR=%{x}<extra></extra>",
         "legendgroup": "3.51",
         "line": {
          "color": "#ab63fa",
          "dash": "solid",
          "shape": "linear"
         },
         "marker": {
          "size": 20,
          "symbol": "circle"
         },
         "mode": "lines+markers",
         "name": "3.51",
         "orientation": "v",
         "showlegend": true,
         "type": "scatter",
         "x": [
          "18-2017"
         ],
         "xaxis": "x",
         "y": [
          3.51
         ],
         "yaxis": "y"
        },
        {
         "hovertemplate": "Paddy_YIELD=%{y}<br>YEAR=%{x}<extra></extra>",
         "legendgroup": "3.47",
         "line": {
          "color": "#FFA15A",
          "dash": "solid",
          "shape": "linear"
         },
         "marker": {
          "size": 20,
          "symbol": "circle"
         },
         "mode": "lines+markers",
         "name": "3.47",
         "orientation": "v",
         "showlegend": true,
         "type": "scatter",
         "x": [
          "22-2021"
         ],
         "xaxis": "x",
         "y": [
          3.47
         ],
         "yaxis": "y"
        },
        {
         "hovertemplate": "Paddy_YIELD=%{y}<br>YEAR=%{x}<extra></extra>",
         "legendgroup": "3.39",
         "line": {
          "color": "#19d3f3",
          "dash": "solid",
          "shape": "linear"
         },
         "marker": {
          "size": 20,
          "symbol": "circle"
         },
         "mode": "lines+markers",
         "name": "3.39",
         "orientation": "v",
         "showlegend": true,
         "type": "scatter",
         "x": [
          "14-2013"
         ],
         "xaxis": "x",
         "y": [
          3.39
         ],
         "yaxis": "y"
        },
        {
         "hovertemplate": "Paddy_YIELD=%{y}<br>YEAR=%{x}<extra></extra>",
         "legendgroup": "3.37",
         "line": {
          "color": "#FF6692",
          "dash": "solid",
          "shape": "linear"
         },
         "marker": {
          "size": 20,
          "symbol": "circle"
         },
         "mode": "lines+markers",
         "name": "3.37",
         "orientation": "v",
         "showlegend": true,
         "type": "scatter",
         "x": [
          "17-2016"
         ],
         "xaxis": "x",
         "y": [
          3.37
         ],
         "yaxis": "y"
        },
        {
         "hovertemplate": "Paddy_YIELD=%{y}<br>YEAR=%{x}<extra></extra>",
         "legendgroup": "3.36",
         "line": {
          "color": "#B6E880",
          "dash": "solid",
          "shape": "linear"
         },
         "marker": {
          "size": 20,
          "symbol": "circle"
         },
         "mode": "lines+markers",
         "name": "3.36",
         "orientation": "v",
         "showlegend": true,
         "type": "scatter",
         "x": [
          "15-2014"
         ],
         "xaxis": "x",
         "y": [
          3.36
         ],
         "yaxis": "y"
        },
        {
         "hovertemplate": "Paddy_YIELD=%{y}<br>YEAR=%{x}<extra></extra>",
         "legendgroup": "3.17",
         "line": {
          "color": "#FF97FF",
          "dash": "solid",
          "shape": "linear"
         },
         "marker": {
          "size": 20,
          "symbol": "circle"
         },
         "mode": "lines+markers",
         "name": "3.17",
         "orientation": "v",
         "showlegend": true,
         "type": "scatter",
         "x": [
          "13-2012"
         ],
         "xaxis": "x",
         "y": [
          3.17
         ],
         "yaxis": "y"
        },
        {
         "hovertemplate": "Paddy_YIELD=%{y}<br>YEAR=%{x}<extra></extra>",
         "legendgroup": "3.15",
         "line": {
          "color": "#FECB52",
          "dash": "solid",
          "shape": "linear"
         },
         "marker": {
          "size": 20,
          "symbol": "circle"
         },
         "mode": "lines+markers",
         "name": "3.15",
         "orientation": "v",
         "showlegend": true,
         "type": "scatter",
         "x": [
          "16-2015"
         ],
         "xaxis": "x",
         "y": [
          3.15
         ],
         "yaxis": "y"
        }
       ],
       "layout": {
        "height": 600,
        "legend": {
         "title": {
          "text": "Paddy_YIELD"
         },
         "tracegroupgap": 0
        },
        "template": {
         "data": {
          "pie": [
           {
            "automargin": true,
            "type": "pie"
           }
          ]
         },
         "layout": {
          "xaxis": {
           "showgrid": true,
           "title": {
            "standoff": 15
           }
          },
          "yaxis": {
           "showgrid": true,
           "title": {
            "standoff": 15
           }
          }
         }
        },
        "title": {
         "text": "Total Paddy yield by 10 years"
        },
        "width": 800,
        "xaxis": {
         "anchor": "y",
         "domain": [
          0,
          1
         ],
         "title": {
          "text": "Year"
         }
        },
        "yaxis": {
         "anchor": "x",
         "categoryarray": [
          3.15,
          3.17,
          3.36,
          3.37,
          3.39,
          3.47,
          3.51,
          3.76,
          3.8,
          3.82
         ],
         "categoryorder": "array",
         "domain": [
          0,
          1
         ],
         "title": {
          "text": "Paddy yeild"
         }
        }
       }
      }
     },
     "metadata": {},
     "output_type": "display_data"
    }
   ],
   "source": [
    "fig = px.line(paddy_yield, x='YEAR', y='Paddy_YIELD',\n",
    "             title='Total Paddy yield by 10 years',\n",
    "             labels={'year': 'YEAR', 'Paddy yield ': 'Paddy_YIELD'},\n",
    "             color='Paddy_YIELD',\n",
    "             line_shape=\"linear\",\n",
    "            markers=True,\n",
    "            \n",
    "             )\n",
    "\n",
    "fig.update_layout(xaxis_title='Year', yaxis_title='Paddy yeild')\n",
    "fig.update_layout(template='gridon')\n",
    "fig.update_traces(marker=dict(size=20))\n",
    "fig.update_layout(height=600,width=800)\n",
    "fig.show()"
   ]
  },
  {
   "cell_type": "code",
   "execution_count": 90,
   "id": "db042f47",
   "metadata": {},
   "outputs": [
    {
     "data": {
      "text/html": [
       "<div>\n",
       "<style scoped>\n",
       "    .dataframe tbody tr th:only-of-type {\n",
       "        vertical-align: middle;\n",
       "    }\n",
       "\n",
       "    .dataframe tbody tr th {\n",
       "        vertical-align: top;\n",
       "    }\n",
       "\n",
       "    .dataframe thead th {\n",
       "        text-align: right;\n",
       "    }\n",
       "</style>\n",
       "<table border=\"1\" class=\"dataframe\">\n",
       "  <thead>\n",
       "    <tr style=\"text-align: right;\">\n",
       "      <th></th>\n",
       "      <th>YEAR</th>\n",
       "      <th>Paddy_AREA</th>\n",
       "    </tr>\n",
       "  </thead>\n",
       "  <tbody>\n",
       "    <tr>\n",
       "      <th>0</th>\n",
       "      <td>17-2016</td>\n",
       "      <td>1552469</td>\n",
       "    </tr>\n",
       "    <tr>\n",
       "      <th>1</th>\n",
       "      <td>19-2018</td>\n",
       "      <td>1491744</td>\n",
       "    </tr>\n",
       "    <tr>\n",
       "      <th>2</th>\n",
       "      <td>14-2013</td>\n",
       "      <td>1486951</td>\n",
       "    </tr>\n",
       "    <tr>\n",
       "      <th>3</th>\n",
       "      <td>22-2021</td>\n",
       "      <td>1477378</td>\n",
       "    </tr>\n",
       "    <tr>\n",
       "      <th>4</th>\n",
       "      <td>21-2020</td>\n",
       "      <td>1473474</td>\n",
       "    </tr>\n",
       "    <tr>\n",
       "      <th>5</th>\n",
       "      <td>18-2017</td>\n",
       "      <td>1469545</td>\n",
       "    </tr>\n",
       "    <tr>\n",
       "      <th>6</th>\n",
       "      <td>20-2019</td>\n",
       "      <td>1458915</td>\n",
       "    </tr>\n",
       "    <tr>\n",
       "      <th>7</th>\n",
       "      <td>15-2014</td>\n",
       "      <td>1425346</td>\n",
       "    </tr>\n",
       "    <tr>\n",
       "      <th>8</th>\n",
       "      <td>13-2012</td>\n",
       "      <td>1420570</td>\n",
       "    </tr>\n",
       "    <tr>\n",
       "      <th>9</th>\n",
       "      <td>16-2015</td>\n",
       "      <td>1362908</td>\n",
       "    </tr>\n",
       "  </tbody>\n",
       "</table>\n",
       "</div>"
      ],
      "text/plain": [
       "      YEAR  Paddy_AREA\n",
       "0  17-2016     1552469\n",
       "1  19-2018     1491744\n",
       "2  14-2013     1486951\n",
       "3  22-2021     1477378\n",
       "4  21-2020     1473474\n",
       "5  18-2017     1469545\n",
       "6  20-2019     1458915\n",
       "7  15-2014     1425346\n",
       "8  13-2012     1420570\n",
       "9  16-2015     1362908"
      ]
     },
     "execution_count": 90,
     "metadata": {},
     "output_type": "execute_result"
    }
   ],
   "source": [
    "# paddy area\n",
    "paddy_area=df1.groupby('YEAR')['Paddy_AREA'].sum().sort_values(ascending=False).reset_index()\n",
    "paddy_area\n"
   ]
  },
  {
   "cell_type": "code",
   "execution_count": 92,
   "id": "c04c3a96",
   "metadata": {},
   "outputs": [
    {
     "data": {
      "application/vnd.plotly.v1+json": {
       "config": {
        "plotlyServerURL": "https://plot.ly"
       },
       "data": [
        {
         "alignmentgroup": "True",
         "hovertemplate": "YEAR=%{x}<br>Paddy_AREA=%{marker.color}<extra></extra>",
         "legendgroup": "",
         "marker": {
          "color": [
           1552469,
           1491744,
           1486951,
           1477378,
           1473474,
           1469545,
           1458915,
           1425346,
           1420570,
           1362908
          ],
          "coloraxis": "coloraxis",
          "pattern": {
           "shape": ""
          }
         },
         "name": "",
         "offsetgroup": "",
         "orientation": "v",
         "showlegend": false,
         "textposition": "auto",
         "type": "bar",
         "x": [
          "17-2016",
          "19-2018",
          "14-2013",
          "22-2021",
          "21-2020",
          "18-2017",
          "20-2019",
          "15-2014",
          "13-2012",
          "16-2015"
         ],
         "xaxis": "x",
         "y": [
          1552469,
          1491744,
          1486951,
          1477378,
          1473474,
          1469545,
          1458915,
          1425346,
          1420570,
          1362908
         ],
         "yaxis": "y"
        }
       ],
       "layout": {
        "barmode": "relative",
        "coloraxis": {
         "colorbar": {
          "title": {
           "text": "Paddy_AREA"
          }
         },
         "colorscale": [
          [
           0,
           "rgb(249, 221, 218)"
          ],
          [
           0.16666666666666666,
           "rgb(242, 185, 196)"
          ],
          [
           0.3333333333333333,
           "rgb(229, 151, 185)"
          ],
          [
           0.5,
           "rgb(206, 120, 179)"
          ],
          [
           0.6666666666666666,
           "rgb(173, 95, 173)"
          ],
          [
           0.8333333333333334,
           "rgb(131, 75, 160)"
          ],
          [
           1,
           "rgb(87, 59, 136)"
          ]
         ]
        },
        "height": 500,
        "legend": {
         "tracegroupgap": 0
        },
        "template": {
         "data": {
          "bar": [
           {
            "error_x": {
             "color": "rgb(51,51,51)"
            },
            "error_y": {
             "color": "rgb(51,51,51)"
            },
            "marker": {
             "line": {
              "color": "rgb(237,237,237)",
              "width": 0.5
             },
             "pattern": {
              "fillmode": "overlay",
              "size": 10,
              "solidity": 0.2
             }
            },
            "type": "bar"
           }
          ],
          "barpolar": [
           {
            "marker": {
             "line": {
              "color": "rgb(237,237,237)",
              "width": 0.5
             },
             "pattern": {
              "fillmode": "overlay",
              "size": 10,
              "solidity": 0.2
             }
            },
            "type": "barpolar"
           }
          ],
          "carpet": [
           {
            "aaxis": {
             "endlinecolor": "rgb(51,51,51)",
             "gridcolor": "white",
             "linecolor": "white",
             "minorgridcolor": "white",
             "startlinecolor": "rgb(51,51,51)"
            },
            "baxis": {
             "endlinecolor": "rgb(51,51,51)",
             "gridcolor": "white",
             "linecolor": "white",
             "minorgridcolor": "white",
             "startlinecolor": "rgb(51,51,51)"
            },
            "type": "carpet"
           }
          ],
          "choropleth": [
           {
            "colorbar": {
             "outlinewidth": 0,
             "tickcolor": "rgb(237,237,237)",
             "ticklen": 6,
             "ticks": "inside"
            },
            "type": "choropleth"
           }
          ],
          "contour": [
           {
            "colorbar": {
             "outlinewidth": 0,
             "tickcolor": "rgb(237,237,237)",
             "ticklen": 6,
             "ticks": "inside"
            },
            "colorscale": [
             [
              0,
              "rgb(20,44,66)"
             ],
             [
              1,
              "rgb(90,179,244)"
             ]
            ],
            "type": "contour"
           }
          ],
          "contourcarpet": [
           {
            "colorbar": {
             "outlinewidth": 0,
             "tickcolor": "rgb(237,237,237)",
             "ticklen": 6,
             "ticks": "inside"
            },
            "type": "contourcarpet"
           }
          ],
          "heatmap": [
           {
            "colorbar": {
             "outlinewidth": 0,
             "tickcolor": "rgb(237,237,237)",
             "ticklen": 6,
             "ticks": "inside"
            },
            "colorscale": [
             [
              0,
              "rgb(20,44,66)"
             ],
             [
              1,
              "rgb(90,179,244)"
             ]
            ],
            "type": "heatmap"
           }
          ],
          "heatmapgl": [
           {
            "colorbar": {
             "outlinewidth": 0,
             "tickcolor": "rgb(237,237,237)",
             "ticklen": 6,
             "ticks": "inside"
            },
            "colorscale": [
             [
              0,
              "rgb(20,44,66)"
             ],
             [
              1,
              "rgb(90,179,244)"
             ]
            ],
            "type": "heatmapgl"
           }
          ],
          "histogram": [
           {
            "marker": {
             "pattern": {
              "fillmode": "overlay",
              "size": 10,
              "solidity": 0.2
             }
            },
            "type": "histogram"
           }
          ],
          "histogram2d": [
           {
            "colorbar": {
             "outlinewidth": 0,
             "tickcolor": "rgb(237,237,237)",
             "ticklen": 6,
             "ticks": "inside"
            },
            "colorscale": [
             [
              0,
              "rgb(20,44,66)"
             ],
             [
              1,
              "rgb(90,179,244)"
             ]
            ],
            "type": "histogram2d"
           }
          ],
          "histogram2dcontour": [
           {
            "colorbar": {
             "outlinewidth": 0,
             "tickcolor": "rgb(237,237,237)",
             "ticklen": 6,
             "ticks": "inside"
            },
            "colorscale": [
             [
              0,
              "rgb(20,44,66)"
             ],
             [
              1,
              "rgb(90,179,244)"
             ]
            ],
            "type": "histogram2dcontour"
           }
          ],
          "mesh3d": [
           {
            "colorbar": {
             "outlinewidth": 0,
             "tickcolor": "rgb(237,237,237)",
             "ticklen": 6,
             "ticks": "inside"
            },
            "type": "mesh3d"
           }
          ],
          "parcoords": [
           {
            "line": {
             "colorbar": {
              "outlinewidth": 0,
              "tickcolor": "rgb(237,237,237)",
              "ticklen": 6,
              "ticks": "inside"
             }
            },
            "type": "parcoords"
           }
          ],
          "pie": [
           {
            "automargin": true,
            "type": "pie"
           }
          ],
          "scatter": [
           {
            "fillpattern": {
             "fillmode": "overlay",
             "size": 10,
             "solidity": 0.2
            },
            "type": "scatter"
           }
          ],
          "scatter3d": [
           {
            "line": {
             "colorbar": {
              "outlinewidth": 0,
              "tickcolor": "rgb(237,237,237)",
              "ticklen": 6,
              "ticks": "inside"
             }
            },
            "marker": {
             "colorbar": {
              "outlinewidth": 0,
              "tickcolor": "rgb(237,237,237)",
              "ticklen": 6,
              "ticks": "inside"
             }
            },
            "type": "scatter3d"
           }
          ],
          "scattercarpet": [
           {
            "marker": {
             "colorbar": {
              "outlinewidth": 0,
              "tickcolor": "rgb(237,237,237)",
              "ticklen": 6,
              "ticks": "inside"
             }
            },
            "type": "scattercarpet"
           }
          ],
          "scattergeo": [
           {
            "marker": {
             "colorbar": {
              "outlinewidth": 0,
              "tickcolor": "rgb(237,237,237)",
              "ticklen": 6,
              "ticks": "inside"
             }
            },
            "type": "scattergeo"
           }
          ],
          "scattergl": [
           {
            "marker": {
             "colorbar": {
              "outlinewidth": 0,
              "tickcolor": "rgb(237,237,237)",
              "ticklen": 6,
              "ticks": "inside"
             }
            },
            "type": "scattergl"
           }
          ],
          "scattermapbox": [
           {
            "marker": {
             "colorbar": {
              "outlinewidth": 0,
              "tickcolor": "rgb(237,237,237)",
              "ticklen": 6,
              "ticks": "inside"
             }
            },
            "type": "scattermapbox"
           }
          ],
          "scatterpolar": [
           {
            "marker": {
             "colorbar": {
              "outlinewidth": 0,
              "tickcolor": "rgb(237,237,237)",
              "ticklen": 6,
              "ticks": "inside"
             }
            },
            "type": "scatterpolar"
           }
          ],
          "scatterpolargl": [
           {
            "marker": {
             "colorbar": {
              "outlinewidth": 0,
              "tickcolor": "rgb(237,237,237)",
              "ticklen": 6,
              "ticks": "inside"
             }
            },
            "type": "scatterpolargl"
           }
          ],
          "scatterternary": [
           {
            "marker": {
             "colorbar": {
              "outlinewidth": 0,
              "tickcolor": "rgb(237,237,237)",
              "ticklen": 6,
              "ticks": "inside"
             }
            },
            "type": "scatterternary"
           }
          ],
          "surface": [
           {
            "colorbar": {
             "outlinewidth": 0,
             "tickcolor": "rgb(237,237,237)",
             "ticklen": 6,
             "ticks": "inside"
            },
            "colorscale": [
             [
              0,
              "rgb(20,44,66)"
             ],
             [
              1,
              "rgb(90,179,244)"
             ]
            ],
            "type": "surface"
           }
          ],
          "table": [
           {
            "cells": {
             "fill": {
              "color": "rgb(237,237,237)"
             },
             "line": {
              "color": "white"
             }
            },
            "header": {
             "fill": {
              "color": "rgb(217,217,217)"
             },
             "line": {
              "color": "white"
             }
            },
            "type": "table"
           }
          ]
         },
         "layout": {
          "annotationdefaults": {
           "arrowhead": 0,
           "arrowwidth": 1
          },
          "autotypenumbers": "strict",
          "coloraxis": {
           "colorbar": {
            "outlinewidth": 0,
            "tickcolor": "rgb(237,237,237)",
            "ticklen": 6,
            "ticks": "inside"
           }
          },
          "colorscale": {
           "sequential": [
            [
             0,
             "rgb(20,44,66)"
            ],
            [
             1,
             "rgb(90,179,244)"
            ]
           ],
           "sequentialminus": [
            [
             0,
             "rgb(20,44,66)"
            ],
            [
             1,
             "rgb(90,179,244)"
            ]
           ]
          },
          "colorway": [
           "#F8766D",
           "#A3A500",
           "#00BF7D",
           "#00B0F6",
           "#E76BF3"
          ],
          "font": {
           "color": "rgb(51,51,51)"
          },
          "geo": {
           "bgcolor": "white",
           "lakecolor": "white",
           "landcolor": "rgb(237,237,237)",
           "showlakes": true,
           "showland": true,
           "subunitcolor": "white"
          },
          "hoverlabel": {
           "align": "left"
          },
          "hovermode": "closest",
          "paper_bgcolor": "white",
          "plot_bgcolor": "rgb(237,237,237)",
          "polar": {
           "angularaxis": {
            "gridcolor": "white",
            "linecolor": "white",
            "showgrid": true,
            "tickcolor": "rgb(51,51,51)",
            "ticks": "outside"
           },
           "bgcolor": "rgb(237,237,237)",
           "radialaxis": {
            "gridcolor": "white",
            "linecolor": "white",
            "showgrid": true,
            "tickcolor": "rgb(51,51,51)",
            "ticks": "outside"
           }
          },
          "scene": {
           "xaxis": {
            "backgroundcolor": "rgb(237,237,237)",
            "gridcolor": "white",
            "gridwidth": 2,
            "linecolor": "white",
            "showbackground": true,
            "showgrid": true,
            "tickcolor": "rgb(51,51,51)",
            "ticks": "outside",
            "zerolinecolor": "white"
           },
           "yaxis": {
            "backgroundcolor": "rgb(237,237,237)",
            "gridcolor": "white",
            "gridwidth": 2,
            "linecolor": "white",
            "showbackground": true,
            "showgrid": true,
            "tickcolor": "rgb(51,51,51)",
            "ticks": "outside",
            "zerolinecolor": "white"
           },
           "zaxis": {
            "backgroundcolor": "rgb(237,237,237)",
            "gridcolor": "white",
            "gridwidth": 2,
            "linecolor": "white",
            "showbackground": true,
            "showgrid": true,
            "tickcolor": "rgb(51,51,51)",
            "ticks": "outside",
            "zerolinecolor": "white"
           }
          },
          "shapedefaults": {
           "fillcolor": "black",
           "line": {
            "width": 0
           },
           "opacity": 0.3
          },
          "ternary": {
           "aaxis": {
            "gridcolor": "white",
            "linecolor": "white",
            "showgrid": true,
            "tickcolor": "rgb(51,51,51)",
            "ticks": "outside"
           },
           "baxis": {
            "gridcolor": "white",
            "linecolor": "white",
            "showgrid": true,
            "tickcolor": "rgb(51,51,51)",
            "ticks": "outside"
           },
           "bgcolor": "rgb(237,237,237)",
           "caxis": {
            "gridcolor": "white",
            "linecolor": "white",
            "showgrid": true,
            "tickcolor": "rgb(51,51,51)",
            "ticks": "outside"
           }
          },
          "xaxis": {
           "automargin": true,
           "gridcolor": "white",
           "linecolor": "white",
           "showgrid": true,
           "tickcolor": "rgb(51,51,51)",
           "ticks": "outside",
           "title": {
            "standoff": 15
           },
           "zerolinecolor": "white"
          },
          "yaxis": {
           "automargin": true,
           "gridcolor": "white",
           "linecolor": "white",
           "showgrid": true,
           "tickcolor": "rgb(51,51,51)",
           "ticks": "outside",
           "title": {
            "standoff": 15
           },
           "zerolinecolor": "white"
          }
         }
        },
        "title": {
         "text": "Total Paddy Area in last 10 YEAR"
        },
        "width": 600,
        "xaxis": {
         "anchor": "y",
         "domain": [
          0,
          1
         ],
         "title": {
          "text": "Year"
         }
        },
        "yaxis": {
         "anchor": "x",
         "domain": [
          0,
          1
         ],
         "title": {
          "text": "Paddy Area(ht)"
         }
        }
       }
      }
     },
     "metadata": {},
     "output_type": "display_data"
    }
   ],
   "source": [
    "fig = px.bar(paddy_area, x='YEAR', y='Paddy_AREA',\n",
    "             title='Total Paddy Area in last 10 YEAR',\n",
    "             labels={'YEAR': 'YEAR', 'paddy Area ': 'Paddy_AREA '},\n",
    "             color='Paddy_AREA', color_continuous_scale='purpor'\n",
    "          \n",
    "          )\n",
    "\n",
    "fig.update_layout(xaxis_title='Year', yaxis_title='Paddy Area(ht)')\n",
    "\n",
    "fig.update_layout(template='ggplot2')\n",
    "fig.update_layout(height=500,width=600)\n",
    "fig.show()"
   ]
  },
  {
   "cell_type": "code",
   "execution_count": 93,
   "id": "3b55466b",
   "metadata": {},
   "outputs": [
    {
     "data": {
      "text/html": [
       "<div>\n",
       "<style scoped>\n",
       "    .dataframe tbody tr th:only-of-type {\n",
       "        vertical-align: middle;\n",
       "    }\n",
       "\n",
       "    .dataframe tbody tr th {\n",
       "        vertical-align: top;\n",
       "    }\n",
       "\n",
       "    .dataframe thead th {\n",
       "        text-align: right;\n",
       "    }\n",
       "</style>\n",
       "<table border=\"1\" class=\"dataframe\">\n",
       "  <thead>\n",
       "    <tr style=\"text-align: right;\">\n",
       "      <th></th>\n",
       "      <th>YEAR</th>\n",
       "      <th>Paddy_PROD.</th>\n",
       "    </tr>\n",
       "  </thead>\n",
       "  <tbody>\n",
       "    <tr>\n",
       "      <th>0</th>\n",
       "      <td>21-2020</td>\n",
       "      <td>5621710</td>\n",
       "    </tr>\n",
       "    <tr>\n",
       "      <th>1</th>\n",
       "      <td>19-2018</td>\n",
       "      <td>5610011</td>\n",
       "    </tr>\n",
       "    <tr>\n",
       "      <th>2</th>\n",
       "      <td>20-2019</td>\n",
       "      <td>5550878</td>\n",
       "    </tr>\n",
       "    <tr>\n",
       "      <th>3</th>\n",
       "      <td>17-2016</td>\n",
       "      <td>5230327</td>\n",
       "    </tr>\n",
       "    <tr>\n",
       "      <th>4</th>\n",
       "      <td>18-2017</td>\n",
       "      <td>5151925</td>\n",
       "    </tr>\n",
       "    <tr>\n",
       "      <th>5</th>\n",
       "      <td>22-2021</td>\n",
       "      <td>5130625</td>\n",
       "    </tr>\n",
       "    <tr>\n",
       "      <th>6</th>\n",
       "      <td>14-2013</td>\n",
       "      <td>5047047</td>\n",
       "    </tr>\n",
       "    <tr>\n",
       "      <th>7</th>\n",
       "      <td>15-2014</td>\n",
       "      <td>4788612</td>\n",
       "    </tr>\n",
       "    <tr>\n",
       "      <th>8</th>\n",
       "      <td>13-2012</td>\n",
       "      <td>4504503</td>\n",
       "    </tr>\n",
       "    <tr>\n",
       "      <th>9</th>\n",
       "      <td>16-2015</td>\n",
       "      <td>4299079</td>\n",
       "    </tr>\n",
       "  </tbody>\n",
       "</table>\n",
       "</div>"
      ],
      "text/plain": [
       "      YEAR  Paddy_PROD.\n",
       "0  21-2020      5621710\n",
       "1  19-2018      5610011\n",
       "2  20-2019      5550878\n",
       "3  17-2016      5230327\n",
       "4  18-2017      5151925\n",
       "5  22-2021      5130625\n",
       "6  14-2013      5047047\n",
       "7  15-2014      4788612\n",
       "8  13-2012      4504503\n",
       "9  16-2015      4299079"
      ]
     },
     "execution_count": 93,
     "metadata": {},
     "output_type": "execute_result"
    }
   ],
   "source": [
    "# Paddy Production \n",
    "paddy_production=df1.groupby('YEAR')['Paddy_PROD.'].sum().sort_values(ascending=False).reset_index()\n",
    "paddy_production\n"
   ]
  },
  {
   "cell_type": "code",
   "execution_count": 94,
   "id": "959dd0cb",
   "metadata": {},
   "outputs": [
    {
     "data": {
      "application/vnd.plotly.v1+json": {
       "config": {
        "plotlyServerURL": "https://plot.ly"
       },
       "data": [
        {
         "customdata": [
          [
           "21-2020"
          ],
          [
           "19-2018"
          ],
          [
           "20-2019"
          ],
          [
           "17-2016"
          ],
          [
           "18-2017"
          ],
          [
           "22-2021"
          ],
          [
           "14-2013"
          ],
          [
           "15-2014"
          ],
          [
           "13-2012"
          ],
          [
           "16-2015"
          ]
         ],
         "domain": {
          "x": [
           0,
           1
          ],
          "y": [
           0,
           1
          ]
         },
         "hole": 0.5,
         "hovertemplate": "YEAR=%{customdata[0]}<br>Paddy_PROD.=%{value}<extra></extra>",
         "labels": [
          "21-2020",
          "19-2018",
          "20-2019",
          "17-2016",
          "18-2017",
          "22-2021",
          "14-2013",
          "15-2014",
          "13-2012",
          "16-2015"
         ],
         "legendgroup": "",
         "marker": {
          "colors": [
           "#000004",
           "#180f3d",
           "#440f76",
           "#721f81",
           "#9e2f7f",
           "#cd4071",
           "#f1605d",
           "#fd9668",
           "#feca8d",
           "#fcfdbf"
          ]
         },
         "name": "",
         "showlegend": true,
         "type": "pie",
         "values": [
          5621710,
          5610011,
          5550878,
          5230327,
          5151925,
          5130625,
          5047047,
          4788612,
          4504503,
          4299079
         ]
        }
       ],
       "layout": {
        "height": 600,
        "legend": {
         "tracegroupgap": 0
        },
        "piecolorway": [
         "#000004",
         "#180f3d",
         "#440f76",
         "#721f81",
         "#9e2f7f",
         "#cd4071",
         "#f1605d",
         "#fd9668",
         "#feca8d",
         "#fcfdbf"
        ],
        "template": {
         "data": {
          "bar": [
           {
            "error_x": {
             "color": "rgb(51,51,51)"
            },
            "error_y": {
             "color": "rgb(51,51,51)"
            },
            "marker": {
             "line": {
              "color": "rgb(237,237,237)",
              "width": 0.5
             },
             "pattern": {
              "fillmode": "overlay",
              "size": 10,
              "solidity": 0.2
             }
            },
            "type": "bar"
           }
          ],
          "barpolar": [
           {
            "marker": {
             "line": {
              "color": "rgb(237,237,237)",
              "width": 0.5
             },
             "pattern": {
              "fillmode": "overlay",
              "size": 10,
              "solidity": 0.2
             }
            },
            "type": "barpolar"
           }
          ],
          "carpet": [
           {
            "aaxis": {
             "endlinecolor": "rgb(51,51,51)",
             "gridcolor": "white",
             "linecolor": "white",
             "minorgridcolor": "white",
             "startlinecolor": "rgb(51,51,51)"
            },
            "baxis": {
             "endlinecolor": "rgb(51,51,51)",
             "gridcolor": "white",
             "linecolor": "white",
             "minorgridcolor": "white",
             "startlinecolor": "rgb(51,51,51)"
            },
            "type": "carpet"
           }
          ],
          "choropleth": [
           {
            "colorbar": {
             "outlinewidth": 0,
             "tickcolor": "rgb(237,237,237)",
             "ticklen": 6,
             "ticks": "inside"
            },
            "type": "choropleth"
           }
          ],
          "contour": [
           {
            "colorbar": {
             "outlinewidth": 0,
             "tickcolor": "rgb(237,237,237)",
             "ticklen": 6,
             "ticks": "inside"
            },
            "colorscale": [
             [
              0,
              "rgb(20,44,66)"
             ],
             [
              1,
              "rgb(90,179,244)"
             ]
            ],
            "type": "contour"
           }
          ],
          "contourcarpet": [
           {
            "colorbar": {
             "outlinewidth": 0,
             "tickcolor": "rgb(237,237,237)",
             "ticklen": 6,
             "ticks": "inside"
            },
            "type": "contourcarpet"
           }
          ],
          "heatmap": [
           {
            "colorbar": {
             "outlinewidth": 0,
             "tickcolor": "rgb(237,237,237)",
             "ticklen": 6,
             "ticks": "inside"
            },
            "colorscale": [
             [
              0,
              "rgb(20,44,66)"
             ],
             [
              1,
              "rgb(90,179,244)"
             ]
            ],
            "type": "heatmap"
           }
          ],
          "heatmapgl": [
           {
            "colorbar": {
             "outlinewidth": 0,
             "tickcolor": "rgb(237,237,237)",
             "ticklen": 6,
             "ticks": "inside"
            },
            "colorscale": [
             [
              0,
              "rgb(20,44,66)"
             ],
             [
              1,
              "rgb(90,179,244)"
             ]
            ],
            "type": "heatmapgl"
           }
          ],
          "histogram": [
           {
            "marker": {
             "pattern": {
              "fillmode": "overlay",
              "size": 10,
              "solidity": 0.2
             }
            },
            "type": "histogram"
           }
          ],
          "histogram2d": [
           {
            "colorbar": {
             "outlinewidth": 0,
             "tickcolor": "rgb(237,237,237)",
             "ticklen": 6,
             "ticks": "inside"
            },
            "colorscale": [
             [
              0,
              "rgb(20,44,66)"
             ],
             [
              1,
              "rgb(90,179,244)"
             ]
            ],
            "type": "histogram2d"
           }
          ],
          "histogram2dcontour": [
           {
            "colorbar": {
             "outlinewidth": 0,
             "tickcolor": "rgb(237,237,237)",
             "ticklen": 6,
             "ticks": "inside"
            },
            "colorscale": [
             [
              0,
              "rgb(20,44,66)"
             ],
             [
              1,
              "rgb(90,179,244)"
             ]
            ],
            "type": "histogram2dcontour"
           }
          ],
          "mesh3d": [
           {
            "colorbar": {
             "outlinewidth": 0,
             "tickcolor": "rgb(237,237,237)",
             "ticklen": 6,
             "ticks": "inside"
            },
            "type": "mesh3d"
           }
          ],
          "parcoords": [
           {
            "line": {
             "colorbar": {
              "outlinewidth": 0,
              "tickcolor": "rgb(237,237,237)",
              "ticklen": 6,
              "ticks": "inside"
             }
            },
            "type": "parcoords"
           }
          ],
          "pie": [
           {
            "automargin": true,
            "type": "pie"
           }
          ],
          "scatter": [
           {
            "fillpattern": {
             "fillmode": "overlay",
             "size": 10,
             "solidity": 0.2
            },
            "type": "scatter"
           }
          ],
          "scatter3d": [
           {
            "line": {
             "colorbar": {
              "outlinewidth": 0,
              "tickcolor": "rgb(237,237,237)",
              "ticklen": 6,
              "ticks": "inside"
             }
            },
            "marker": {
             "colorbar": {
              "outlinewidth": 0,
              "tickcolor": "rgb(237,237,237)",
              "ticklen": 6,
              "ticks": "inside"
             }
            },
            "type": "scatter3d"
           }
          ],
          "scattercarpet": [
           {
            "marker": {
             "colorbar": {
              "outlinewidth": 0,
              "tickcolor": "rgb(237,237,237)",
              "ticklen": 6,
              "ticks": "inside"
             }
            },
            "type": "scattercarpet"
           }
          ],
          "scattergeo": [
           {
            "marker": {
             "colorbar": {
              "outlinewidth": 0,
              "tickcolor": "rgb(237,237,237)",
              "ticklen": 6,
              "ticks": "inside"
             }
            },
            "type": "scattergeo"
           }
          ],
          "scattergl": [
           {
            "marker": {
             "colorbar": {
              "outlinewidth": 0,
              "tickcolor": "rgb(237,237,237)",
              "ticklen": 6,
              "ticks": "inside"
             }
            },
            "type": "scattergl"
           }
          ],
          "scattermapbox": [
           {
            "marker": {
             "colorbar": {
              "outlinewidth": 0,
              "tickcolor": "rgb(237,237,237)",
              "ticklen": 6,
              "ticks": "inside"
             }
            },
            "type": "scattermapbox"
           }
          ],
          "scatterpolar": [
           {
            "marker": {
             "colorbar": {
              "outlinewidth": 0,
              "tickcolor": "rgb(237,237,237)",
              "ticklen": 6,
              "ticks": "inside"
             }
            },
            "type": "scatterpolar"
           }
          ],
          "scatterpolargl": [
           {
            "marker": {
             "colorbar": {
              "outlinewidth": 0,
              "tickcolor": "rgb(237,237,237)",
              "ticklen": 6,
              "ticks": "inside"
             }
            },
            "type": "scatterpolargl"
           }
          ],
          "scatterternary": [
           {
            "marker": {
             "colorbar": {
              "outlinewidth": 0,
              "tickcolor": "rgb(237,237,237)",
              "ticklen": 6,
              "ticks": "inside"
             }
            },
            "type": "scatterternary"
           }
          ],
          "surface": [
           {
            "colorbar": {
             "outlinewidth": 0,
             "tickcolor": "rgb(237,237,237)",
             "ticklen": 6,
             "ticks": "inside"
            },
            "colorscale": [
             [
              0,
              "rgb(20,44,66)"
             ],
             [
              1,
              "rgb(90,179,244)"
             ]
            ],
            "type": "surface"
           }
          ],
          "table": [
           {
            "cells": {
             "fill": {
              "color": "rgb(237,237,237)"
             },
             "line": {
              "color": "white"
             }
            },
            "header": {
             "fill": {
              "color": "rgb(217,217,217)"
             },
             "line": {
              "color": "white"
             }
            },
            "type": "table"
           }
          ]
         },
         "layout": {
          "annotationdefaults": {
           "arrowhead": 0,
           "arrowwidth": 1
          },
          "autotypenumbers": "strict",
          "coloraxis": {
           "colorbar": {
            "outlinewidth": 0,
            "tickcolor": "rgb(237,237,237)",
            "ticklen": 6,
            "ticks": "inside"
           }
          },
          "colorscale": {
           "sequential": [
            [
             0,
             "rgb(20,44,66)"
            ],
            [
             1,
             "rgb(90,179,244)"
            ]
           ],
           "sequentialminus": [
            [
             0,
             "rgb(20,44,66)"
            ],
            [
             1,
             "rgb(90,179,244)"
            ]
           ]
          },
          "colorway": [
           "#F8766D",
           "#A3A500",
           "#00BF7D",
           "#00B0F6",
           "#E76BF3"
          ],
          "font": {
           "color": "rgb(51,51,51)"
          },
          "geo": {
           "bgcolor": "white",
           "lakecolor": "white",
           "landcolor": "rgb(237,237,237)",
           "showlakes": true,
           "showland": true,
           "subunitcolor": "white"
          },
          "hoverlabel": {
           "align": "left"
          },
          "hovermode": "closest",
          "paper_bgcolor": "white",
          "plot_bgcolor": "rgb(237,237,237)",
          "polar": {
           "angularaxis": {
            "gridcolor": "white",
            "linecolor": "white",
            "showgrid": true,
            "tickcolor": "rgb(51,51,51)",
            "ticks": "outside"
           },
           "bgcolor": "rgb(237,237,237)",
           "radialaxis": {
            "gridcolor": "white",
            "linecolor": "white",
            "showgrid": true,
            "tickcolor": "rgb(51,51,51)",
            "ticks": "outside"
           }
          },
          "scene": {
           "xaxis": {
            "backgroundcolor": "rgb(237,237,237)",
            "gridcolor": "white",
            "gridwidth": 2,
            "linecolor": "white",
            "showbackground": true,
            "showgrid": true,
            "tickcolor": "rgb(51,51,51)",
            "ticks": "outside",
            "zerolinecolor": "white"
           },
           "yaxis": {
            "backgroundcolor": "rgb(237,237,237)",
            "gridcolor": "white",
            "gridwidth": 2,
            "linecolor": "white",
            "showbackground": true,
            "showgrid": true,
            "tickcolor": "rgb(51,51,51)",
            "ticks": "outside",
            "zerolinecolor": "white"
           },
           "zaxis": {
            "backgroundcolor": "rgb(237,237,237)",
            "gridcolor": "white",
            "gridwidth": 2,
            "linecolor": "white",
            "showbackground": true,
            "showgrid": true,
            "tickcolor": "rgb(51,51,51)",
            "ticks": "outside",
            "zerolinecolor": "white"
           }
          },
          "shapedefaults": {
           "fillcolor": "black",
           "line": {
            "width": 0
           },
           "opacity": 0.3
          },
          "ternary": {
           "aaxis": {
            "gridcolor": "white",
            "linecolor": "white",
            "showgrid": true,
            "tickcolor": "rgb(51,51,51)",
            "ticks": "outside"
           },
           "baxis": {
            "gridcolor": "white",
            "linecolor": "white",
            "showgrid": true,
            "tickcolor": "rgb(51,51,51)",
            "ticks": "outside"
           },
           "bgcolor": "rgb(237,237,237)",
           "caxis": {
            "gridcolor": "white",
            "linecolor": "white",
            "showgrid": true,
            "tickcolor": "rgb(51,51,51)",
            "ticks": "outside"
           }
          },
          "xaxis": {
           "automargin": true,
           "gridcolor": "white",
           "linecolor": "white",
           "showgrid": true,
           "tickcolor": "rgb(51,51,51)",
           "ticks": "outside",
           "title": {
            "standoff": 15
           },
           "zerolinecolor": "white"
          },
          "yaxis": {
           "automargin": true,
           "gridcolor": "white",
           "linecolor": "white",
           "showgrid": true,
           "tickcolor": "rgb(51,51,51)",
           "ticks": "outside",
           "title": {
            "standoff": 15
           },
           "zerolinecolor": "white"
          }
         }
        },
        "title": {
         "text": "Total Maize production in last 10 year"
        },
        "width": 800
       }
      }
     },
     "metadata": {},
     "output_type": "display_data"
    }
   ],
   "source": [
    "fig = px.pie(paddy_production, names='YEAR', values='Paddy_PROD.',\n",
    "             title='Total Maize production in last 10 year',\n",
    "             labels={'Year': 'YEAR', 'Paddy Production': 'Paddy_PROD.'},\n",
    "             color='YEAR', color_discrete_sequence=px.colors.sequential.Magma  ,\n",
    "             hole=0.5\n",
    "             )\n",
    "\n",
    "fig.update_layout(template='ggplot2')\n",
    "fig.update_layout(height=600,width=800)\n",
    "fig.show()"
   ]
  },
  {
   "cell_type": "code",
   "execution_count": null,
   "id": "02b5f221",
   "metadata": {},
   "outputs": [],
   "source": []
  }
 ],
 "metadata": {
  "kernelspec": {
   "display_name": "Python 3 (ipykernel)",
   "language": "python",
   "name": "python3"
  },
  "language_info": {
   "codemirror_mode": {
    "name": "ipython",
    "version": 3
   },
   "file_extension": ".py",
   "mimetype": "text/x-python",
   "name": "python",
   "nbconvert_exporter": "python",
   "pygments_lexer": "ipython3",
   "version": "3.10.4"
  }
 },
 "nbformat": 4,
 "nbformat_minor": 5
}
