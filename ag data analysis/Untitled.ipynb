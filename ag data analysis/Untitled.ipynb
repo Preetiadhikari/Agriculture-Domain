{
 "cells": [
  {
   "cell_type": "markdown",
   "id": "6cdd538a",
   "metadata": {},
   "source": [
    "# Livestock Population by Years"
   ]
  },
  {
   "cell_type": "markdown",
   "id": "7cbd1ed0",
   "metadata": {},
   "source": [
    "This datasets provided imforamtion about livestock population by year where there is data from last ten year."
   ]
  },
  {
   "cell_type": "markdown",
   "id": "260fe8ca",
   "metadata": {},
   "source": [
    "## 1. Load the datasets "
   ]
  },
  {
   "cell_type": "code",
   "execution_count": 1,
   "id": "f93db362",
   "metadata": {},
   "outputs": [],
   "source": [
    "#import necessary libraries\n",
    "import numpy as np\n",
    "import pandas as pd\n",
    "import matplotlib.pyplot as plt\n",
    "import plotly.express as px"
   ]
  },
  {
   "cell_type": "code",
   "execution_count": 2,
   "id": "f2a3260f",
   "metadata": {},
   "outputs": [
    {
     "data": {
      "text/html": [
       "<div>\n",
       "<style scoped>\n",
       "    .dataframe tbody tr th:only-of-type {\n",
       "        vertical-align: middle;\n",
       "    }\n",
       "\n",
       "    .dataframe tbody tr th {\n",
       "        vertical-align: top;\n",
       "    }\n",
       "\n",
       "    .dataframe thead th {\n",
       "        text-align: right;\n",
       "    }\n",
       "</style>\n",
       "<table border=\"1\" class=\"dataframe\">\n",
       "  <thead>\n",
       "    <tr style=\"text-align: right;\">\n",
       "      <th></th>\n",
       "      <th>CATEGORY</th>\n",
       "      <th>2011/12</th>\n",
       "      <th>2012/13</th>\n",
       "      <th>2013/14</th>\n",
       "      <th>2014/15</th>\n",
       "      <th>2015/16</th>\n",
       "      <th>2016/17</th>\n",
       "      <th>2017/18</th>\n",
       "      <th>2018/19</th>\n",
       "      <th>2019/20</th>\n",
       "      <th>2020/21</th>\n",
       "      <th>2021/22</th>\n",
       "    </tr>\n",
       "  </thead>\n",
       "  <tbody>\n",
       "    <tr>\n",
       "      <th>0</th>\n",
       "      <td>CATTLE</td>\n",
       "      <td>7244944</td>\n",
       "      <td>7274022</td>\n",
       "      <td>7243916</td>\n",
       "      <td>7241743</td>\n",
       "      <td>7302808</td>\n",
       "      <td>7347487</td>\n",
       "      <td>7376306</td>\n",
       "      <td>7385035</td>\n",
       "      <td>7458885</td>\n",
       "      <td>7466841</td>\n",
       "      <td>7413197</td>\n",
       "    </tr>\n",
       "    <tr>\n",
       "      <th>1</th>\n",
       "      <td>BUFFALOES</td>\n",
       "      <td>5133139</td>\n",
       "      <td>5241873</td>\n",
       "      <td>5178612</td>\n",
       "      <td>5167737</td>\n",
       "      <td>5168809</td>\n",
       "      <td>5177998</td>\n",
       "      <td>5277819</td>\n",
       "      <td>5308664</td>\n",
       "      <td>5257591</td>\n",
       "      <td>5159931</td>\n",
       "      <td>5132931</td>\n",
       "    </tr>\n",
       "    <tr>\n",
       "      <th>2</th>\n",
       "      <td>SHEEP</td>\n",
       "      <td>807267</td>\n",
       "      <td>809536</td>\n",
       "      <td>789216</td>\n",
       "      <td>789292</td>\n",
       "      <td>800658</td>\n",
       "      <td>801975</td>\n",
       "      <td>800749</td>\n",
       "      <td>798889</td>\n",
       "      <td>806079</td>\n",
       "      <td>793725</td>\n",
       "      <td>771205</td>\n",
       "    </tr>\n",
       "    <tr>\n",
       "      <th>3</th>\n",
       "      <td>GOAT</td>\n",
       "      <td>9512958</td>\n",
       "      <td>9786354</td>\n",
       "      <td>10177531</td>\n",
       "      <td>10251569</td>\n",
       "      <td>10986114</td>\n",
       "      <td>11165099</td>\n",
       "      <td>11647319</td>\n",
       "      <td>12283752</td>\n",
       "      <td>12811953</td>\n",
       "      <td>13442614</td>\n",
       "      <td>13990703</td>\n",
       "    </tr>\n",
       "    <tr>\n",
       "      <th>4</th>\n",
       "      <td>PIGS</td>\n",
       "      <td>1137489</td>\n",
       "      <td>1160035</td>\n",
       "      <td>1190138</td>\n",
       "      <td>1203230</td>\n",
       "      <td>1291308</td>\n",
       "      <td>1328036</td>\n",
       "      <td>1435369</td>\n",
       "      <td>1488338</td>\n",
       "      <td>1519593</td>\n",
       "      <td>1588838</td>\n",
       "      <td>1504624</td>\n",
       "    </tr>\n",
       "    <tr>\n",
       "      <th>5</th>\n",
       "      <td>FOWL</td>\n",
       "      <td>45171185</td>\n",
       "      <td>47959239</td>\n",
       "      <td>48079406</td>\n",
       "      <td>50195285</td>\n",
       "      <td>68630638</td>\n",
       "      <td>70007151</td>\n",
       "      <td>72245732</td>\n",
       "      <td>75709330</td>\n",
       "      <td>82598879</td>\n",
       "      <td>73418077</td>\n",
       "      <td>66803117</td>\n",
       "    </tr>\n",
       "    <tr>\n",
       "      <th>6</th>\n",
       "      <td>DUCK</td>\n",
       "      <td>376916</td>\n",
       "      <td>375975</td>\n",
       "      <td>390209</td>\n",
       "      <td>390287</td>\n",
       "      <td>392255</td>\n",
       "      <td>394775</td>\n",
       "      <td>404670</td>\n",
       "      <td>416400</td>\n",
       "      <td>427226</td>\n",
       "      <td>432226</td>\n",
       "      <td>605944</td>\n",
       "    </tr>\n",
       "    <tr>\n",
       "      <th>7</th>\n",
       "      <td>MILKING COW</td>\n",
       "      <td>998963</td>\n",
       "      <td>1025591</td>\n",
       "      <td>1024513</td>\n",
       "      <td>1025947</td>\n",
       "      <td>1026135</td>\n",
       "      <td>1029529</td>\n",
       "      <td>1039538</td>\n",
       "      <td>1078775</td>\n",
       "      <td>1166156</td>\n",
       "      <td>1209041</td>\n",
       "      <td>1223061</td>\n",
       "    </tr>\n",
       "    <tr>\n",
       "      <th>8</th>\n",
       "      <td>MILKING BUFFALOES</td>\n",
       "      <td>1331037</td>\n",
       "      <td>1369796</td>\n",
       "      <td>1345837</td>\n",
       "      <td>1345164</td>\n",
       "      <td>1355384</td>\n",
       "      <td>1509512</td>\n",
       "      <td>1535948</td>\n",
       "      <td>1560584</td>\n",
       "      <td>1635492</td>\n",
       "      <td>1630642</td>\n",
       "      <td>1666827</td>\n",
       "    </tr>\n",
       "    <tr>\n",
       "      <th>9</th>\n",
       "      <td>LAYING HEN</td>\n",
       "      <td>7907468</td>\n",
       "      <td>8233616</td>\n",
       "      <td>8350237</td>\n",
       "      <td>8412247</td>\n",
       "      <td>12353515</td>\n",
       "      <td>12388889</td>\n",
       "      <td>12517558</td>\n",
       "      <td>12526979</td>\n",
       "      <td>12927842</td>\n",
       "      <td>11374011</td>\n",
       "      <td>10131642</td>\n",
       "    </tr>\n",
       "    <tr>\n",
       "      <th>10</th>\n",
       "      <td>LAYING DUCK</td>\n",
       "      <td>174978</td>\n",
       "      <td>174714</td>\n",
       "      <td>179447</td>\n",
       "      <td>179480</td>\n",
       "      <td>180927</td>\n",
       "      <td>183940</td>\n",
       "      <td>186912</td>\n",
       "      <td>190747</td>\n",
       "      <td>191701</td>\n",
       "      <td>220532</td>\n",
       "      <td>302473</td>\n",
       "    </tr>\n",
       "  </tbody>\n",
       "</table>\n",
       "</div>"
      ],
      "text/plain": [
       "             CATEGORY   2011/12   2012/13   2013/14   2014/15   2015/16  \\\n",
       "0              CATTLE   7244944   7274022   7243916   7241743   7302808   \n",
       "1           BUFFALOES   5133139   5241873   5178612   5167737   5168809   \n",
       "2               SHEEP    807267    809536    789216    789292    800658   \n",
       "3                GOAT   9512958   9786354  10177531  10251569  10986114   \n",
       "4                PIGS   1137489   1160035   1190138   1203230   1291308   \n",
       "5                FOWL  45171185  47959239  48079406  50195285  68630638   \n",
       "6                DUCK    376916    375975    390209    390287    392255   \n",
       "7         MILKING COW    998963   1025591   1024513   1025947   1026135   \n",
       "8   MILKING BUFFALOES   1331037   1369796   1345837   1345164   1355384   \n",
       "9          LAYING HEN   7907468   8233616   8350237   8412247  12353515   \n",
       "10        LAYING DUCK    174978    174714    179447    179480    180927   \n",
       "\n",
       "     2016/17   2017/18   2018/19   2019/20   2020/21   2021/22  \n",
       "0    7347487   7376306   7385035   7458885   7466841   7413197  \n",
       "1    5177998   5277819   5308664   5257591   5159931   5132931  \n",
       "2     801975    800749    798889    806079    793725    771205  \n",
       "3   11165099  11647319  12283752  12811953  13442614  13990703  \n",
       "4    1328036   1435369   1488338   1519593   1588838   1504624  \n",
       "5   70007151  72245732  75709330  82598879  73418077  66803117  \n",
       "6     394775    404670    416400    427226    432226    605944  \n",
       "7    1029529   1039538   1078775   1166156   1209041   1223061  \n",
       "8    1509512   1535948   1560584   1635492   1630642   1666827  \n",
       "9   12388889  12517558  12526979  12927842  11374011  10131642  \n",
       "10    183940    186912    190747    191701    220532    302473  "
      ]
     },
     "execution_count": 2,
     "metadata": {},
     "output_type": "execute_result"
    }
   ],
   "source": [
    "livestock_pop = pd.read_csv(\"livestock population by year.csv\")\n",
    "livestock_pop"
   ]
  },
  {
   "cell_type": "markdown",
   "id": "7ca08b0d",
   "metadata": {},
   "source": [
    "## Understanding the data\n",
    "\n"
   ]
  },
  {
   "cell_type": "code",
   "execution_count": 3,
   "id": "46c65f51",
   "metadata": {},
   "outputs": [
    {
     "data": {
      "text/plain": [
       "(11, 12)"
      ]
     },
     "execution_count": 3,
     "metadata": {},
     "output_type": "execute_result"
    }
   ],
   "source": [
    "livestock_pop.shape"
   ]
  },
  {
   "cell_type": "code",
   "execution_count": 4,
   "id": "2eacc07a",
   "metadata": {},
   "outputs": [
    {
     "data": {
      "text/plain": [
       "CATEGORY    0\n",
       "2011/12     0\n",
       "2012/13     0\n",
       "2013/14     0\n",
       "2014/15     0\n",
       "2015/16     0\n",
       "2016/17     0\n",
       "2017/18     0\n",
       "2018/19     0\n",
       "2019/20     0\n",
       "2020/21     0\n",
       "2021/22     0\n",
       "dtype: int64"
      ]
     },
     "execution_count": 4,
     "metadata": {},
     "output_type": "execute_result"
    }
   ],
   "source": [
    "livestock_pop.isnull().sum()"
   ]
  },
  {
   "cell_type": "code",
   "execution_count": 5,
   "id": "dab256e2",
   "metadata": {},
   "outputs": [
    {
     "name": "stdout",
     "output_type": "stream",
     "text": [
      "<class 'pandas.core.frame.DataFrame'>\n",
      "RangeIndex: 11 entries, 0 to 10\n",
      "Data columns (total 12 columns):\n",
      " #   Column    Non-Null Count  Dtype \n",
      "---  ------    --------------  ----- \n",
      " 0   CATEGORY  11 non-null     object\n",
      " 1   2011/12   11 non-null     int64 \n",
      " 2   2012/13   11 non-null     int64 \n",
      " 3   2013/14   11 non-null     int64 \n",
      " 4   2014/15   11 non-null     int64 \n",
      " 5   2015/16   11 non-null     int64 \n",
      " 6   2016/17   11 non-null     int64 \n",
      " 7   2017/18   11 non-null     int64 \n",
      " 8   2018/19   11 non-null     int64 \n",
      " 9   2019/20   11 non-null     int64 \n",
      " 10  2020/21   11 non-null     int64 \n",
      " 11  2021/22   11 non-null     int64 \n",
      "dtypes: int64(11), object(1)\n",
      "memory usage: 1.2+ KB\n"
     ]
    }
   ],
   "source": [
    "# Datasets information\n",
    "livestock_pop.info()"
   ]
  },
  {
   "cell_type": "code",
   "execution_count": 6,
   "id": "2603c696",
   "metadata": {},
   "outputs": [
    {
     "data": {
      "text/html": [
       "<div>\n",
       "<style scoped>\n",
       "    .dataframe tbody tr th:only-of-type {\n",
       "        vertical-align: middle;\n",
       "    }\n",
       "\n",
       "    .dataframe tbody tr th {\n",
       "        vertical-align: top;\n",
       "    }\n",
       "\n",
       "    .dataframe thead th {\n",
       "        text-align: right;\n",
       "    }\n",
       "</style>\n",
       "<table border=\"1\" class=\"dataframe\">\n",
       "  <thead>\n",
       "    <tr style=\"text-align: right;\">\n",
       "      <th></th>\n",
       "      <th>2011/12</th>\n",
       "      <th>2012/13</th>\n",
       "      <th>2013/14</th>\n",
       "      <th>2014/15</th>\n",
       "      <th>2015/16</th>\n",
       "      <th>2016/17</th>\n",
       "      <th>2017/18</th>\n",
       "      <th>2018/19</th>\n",
       "      <th>2019/20</th>\n",
       "      <th>2020/21</th>\n",
       "      <th>2021/22</th>\n",
       "    </tr>\n",
       "  </thead>\n",
       "  <tbody>\n",
       "    <tr>\n",
       "      <th>count</th>\n",
       "      <td>1.100000e+01</td>\n",
       "      <td>1.100000e+01</td>\n",
       "      <td>1.100000e+01</td>\n",
       "      <td>1.100000e+01</td>\n",
       "      <td>1.100000e+01</td>\n",
       "      <td>1.100000e+01</td>\n",
       "      <td>1.100000e+01</td>\n",
       "      <td>1.100000e+01</td>\n",
       "      <td>1.100000e+01</td>\n",
       "      <td>1.100000e+01</td>\n",
       "      <td>1.100000e+01</td>\n",
       "    </tr>\n",
       "    <tr>\n",
       "      <th>mean</th>\n",
       "      <td>7.254213e+06</td>\n",
       "      <td>7.582796e+06</td>\n",
       "      <td>7.631733e+06</td>\n",
       "      <td>7.836544e+06</td>\n",
       "      <td>9.953505e+06</td>\n",
       "      <td>1.012131e+07</td>\n",
       "      <td>1.040617e+07</td>\n",
       "      <td>1.079523e+07</td>\n",
       "      <td>1.152740e+07</td>\n",
       "      <td>1.061241e+07</td>\n",
       "      <td>9.958702e+06</td>\n",
       "    </tr>\n",
       "    <tr>\n",
       "      <th>std</th>\n",
       "      <td>1.303199e+07</td>\n",
       "      <td>1.384434e+07</td>\n",
       "      <td>1.388754e+07</td>\n",
       "      <td>1.450575e+07</td>\n",
       "      <td>1.994770e+07</td>\n",
       "      <td>2.034460e+07</td>\n",
       "      <td>2.099816e+07</td>\n",
       "      <td>2.201635e+07</td>\n",
       "      <td>2.404714e+07</td>\n",
       "      <td>2.133382e+07</td>\n",
       "      <td>1.938816e+07</td>\n",
       "    </tr>\n",
       "    <tr>\n",
       "      <th>min</th>\n",
       "      <td>1.749780e+05</td>\n",
       "      <td>1.747140e+05</td>\n",
       "      <td>1.794470e+05</td>\n",
       "      <td>1.794800e+05</td>\n",
       "      <td>1.809270e+05</td>\n",
       "      <td>1.839400e+05</td>\n",
       "      <td>1.869120e+05</td>\n",
       "      <td>1.907470e+05</td>\n",
       "      <td>1.917010e+05</td>\n",
       "      <td>2.205320e+05</td>\n",
       "      <td>3.024730e+05</td>\n",
       "    </tr>\n",
       "    <tr>\n",
       "      <th>25%</th>\n",
       "      <td>9.031150e+05</td>\n",
       "      <td>9.175635e+05</td>\n",
       "      <td>9.068645e+05</td>\n",
       "      <td>9.076195e+05</td>\n",
       "      <td>9.133965e+05</td>\n",
       "      <td>9.157520e+05</td>\n",
       "      <td>9.201435e+05</td>\n",
       "      <td>9.388320e+05</td>\n",
       "      <td>9.861175e+05</td>\n",
       "      <td>1.001383e+06</td>\n",
       "      <td>9.971330e+05</td>\n",
       "    </tr>\n",
       "    <tr>\n",
       "      <th>50%</th>\n",
       "      <td>1.331037e+06</td>\n",
       "      <td>1.369796e+06</td>\n",
       "      <td>1.345837e+06</td>\n",
       "      <td>1.345164e+06</td>\n",
       "      <td>1.355384e+06</td>\n",
       "      <td>1.509512e+06</td>\n",
       "      <td>1.535948e+06</td>\n",
       "      <td>1.560584e+06</td>\n",
       "      <td>1.635492e+06</td>\n",
       "      <td>1.630642e+06</td>\n",
       "      <td>1.666827e+06</td>\n",
       "    </tr>\n",
       "    <tr>\n",
       "      <th>75%</th>\n",
       "      <td>7.576206e+06</td>\n",
       "      <td>7.753819e+06</td>\n",
       "      <td>7.797076e+06</td>\n",
       "      <td>7.826995e+06</td>\n",
       "      <td>9.144461e+06</td>\n",
       "      <td>9.256293e+06</td>\n",
       "      <td>9.511812e+06</td>\n",
       "      <td>9.834394e+06</td>\n",
       "      <td>1.013542e+07</td>\n",
       "      <td>9.420426e+06</td>\n",
       "      <td>8.772420e+06</td>\n",
       "    </tr>\n",
       "    <tr>\n",
       "      <th>max</th>\n",
       "      <td>4.517118e+07</td>\n",
       "      <td>4.795924e+07</td>\n",
       "      <td>4.807941e+07</td>\n",
       "      <td>5.019528e+07</td>\n",
       "      <td>6.863064e+07</td>\n",
       "      <td>7.000715e+07</td>\n",
       "      <td>7.224573e+07</td>\n",
       "      <td>7.570933e+07</td>\n",
       "      <td>8.259888e+07</td>\n",
       "      <td>7.341808e+07</td>\n",
       "      <td>6.680312e+07</td>\n",
       "    </tr>\n",
       "  </tbody>\n",
       "</table>\n",
       "</div>"
      ],
      "text/plain": [
       "            2011/12       2012/13       2013/14       2014/15       2015/16  \\\n",
       "count  1.100000e+01  1.100000e+01  1.100000e+01  1.100000e+01  1.100000e+01   \n",
       "mean   7.254213e+06  7.582796e+06  7.631733e+06  7.836544e+06  9.953505e+06   \n",
       "std    1.303199e+07  1.384434e+07  1.388754e+07  1.450575e+07  1.994770e+07   \n",
       "min    1.749780e+05  1.747140e+05  1.794470e+05  1.794800e+05  1.809270e+05   \n",
       "25%    9.031150e+05  9.175635e+05  9.068645e+05  9.076195e+05  9.133965e+05   \n",
       "50%    1.331037e+06  1.369796e+06  1.345837e+06  1.345164e+06  1.355384e+06   \n",
       "75%    7.576206e+06  7.753819e+06  7.797076e+06  7.826995e+06  9.144461e+06   \n",
       "max    4.517118e+07  4.795924e+07  4.807941e+07  5.019528e+07  6.863064e+07   \n",
       "\n",
       "            2016/17       2017/18       2018/19       2019/20       2020/21  \\\n",
       "count  1.100000e+01  1.100000e+01  1.100000e+01  1.100000e+01  1.100000e+01   \n",
       "mean   1.012131e+07  1.040617e+07  1.079523e+07  1.152740e+07  1.061241e+07   \n",
       "std    2.034460e+07  2.099816e+07  2.201635e+07  2.404714e+07  2.133382e+07   \n",
       "min    1.839400e+05  1.869120e+05  1.907470e+05  1.917010e+05  2.205320e+05   \n",
       "25%    9.157520e+05  9.201435e+05  9.388320e+05  9.861175e+05  1.001383e+06   \n",
       "50%    1.509512e+06  1.535948e+06  1.560584e+06  1.635492e+06  1.630642e+06   \n",
       "75%    9.256293e+06  9.511812e+06  9.834394e+06  1.013542e+07  9.420426e+06   \n",
       "max    7.000715e+07  7.224573e+07  7.570933e+07  8.259888e+07  7.341808e+07   \n",
       "\n",
       "            2021/22  \n",
       "count  1.100000e+01  \n",
       "mean   9.958702e+06  \n",
       "std    1.938816e+07  \n",
       "min    3.024730e+05  \n",
       "25%    9.971330e+05  \n",
       "50%    1.666827e+06  \n",
       "75%    8.772420e+06  \n",
       "max    6.680312e+07  "
      ]
     },
     "execution_count": 6,
     "metadata": {},
     "output_type": "execute_result"
    }
   ],
   "source": [
    "#looking for statistic information\n",
    "livestock_pop.describe()"
   ]
  },
  {
   "cell_type": "markdown",
   "id": "03b21559",
   "metadata": {},
   "source": [
    "## visualizing datasets "
   ]
  },
  {
   "cell_type": "code",
   "execution_count": 7,
   "id": "38583a8f",
   "metadata": {},
   "outputs": [
    {
     "data": {
      "text/plain": [
       "Index(['CATEGORY', '2011/12', '2012/13', '2013/14', '2014/15', '2015/16',\n",
       "       '2016/17', '2017/18', '2018/19', '2019/20', '2020/21', '2021/22'],\n",
       "      dtype='object')"
      ]
     },
     "execution_count": 7,
     "metadata": {},
     "output_type": "execute_result"
    }
   ],
   "source": [
    "livestock_pop.columns"
   ]
  },
  {
   "cell_type": "markdown",
   "id": "76fb0359",
   "metadata": {},
   "source": [
    "Let's visualize different livestock population by year in bargraph\n"
   ]
  },
  {
   "cell_type": "code",
   "execution_count": 8,
   "id": "d9aca1ce",
   "metadata": {},
   "outputs": [
    {
     "data": {
      "application/vnd.plotly.v1+json": {
       "config": {
        "plotlyServerURL": "https://plot.ly"
       },
       "data": [
        {
         "alignmentgroup": "True",
         "hovertemplate": "CATEGORY=CATTLE<br>Year=%{x}<br>Population=%{y}<extra></extra>",
         "legendgroup": "CATTLE",
         "marker": {
          "color": "#636efa",
          "pattern": {
           "shape": ""
          }
         },
         "name": "CATTLE",
         "offsetgroup": "CATTLE",
         "orientation": "v",
         "showlegend": true,
         "textposition": "auto",
         "type": "bar",
         "x": [
          "2011/12",
          "2012/13",
          "2013/14",
          "2014/15",
          "2015/16",
          "2016/17",
          "2017/18",
          "2018/19",
          "2019/20",
          "2020/21",
          "2021/22"
         ],
         "xaxis": "x",
         "y": [
          7244944,
          7274022,
          7243916,
          7241743,
          7302808,
          7347487,
          7376306,
          7385035,
          7458885,
          7466841,
          7413197
         ],
         "yaxis": "y"
        },
        {
         "alignmentgroup": "True",
         "hovertemplate": "CATEGORY=BUFFALOES<br>Year=%{x}<br>Population=%{y}<extra></extra>",
         "legendgroup": "BUFFALOES",
         "marker": {
          "color": "#EF553B",
          "pattern": {
           "shape": ""
          }
         },
         "name": "BUFFALOES",
         "offsetgroup": "BUFFALOES",
         "orientation": "v",
         "showlegend": true,
         "textposition": "auto",
         "type": "bar",
         "x": [
          "2011/12",
          "2012/13",
          "2013/14",
          "2014/15",
          "2015/16",
          "2016/17",
          "2017/18",
          "2018/19",
          "2019/20",
          "2020/21",
          "2021/22"
         ],
         "xaxis": "x",
         "y": [
          5133139,
          5241873,
          5178612,
          5167737,
          5168809,
          5177998,
          5277819,
          5308664,
          5257591,
          5159931,
          5132931
         ],
         "yaxis": "y"
        },
        {
         "alignmentgroup": "True",
         "hovertemplate": "CATEGORY=SHEEP<br>Year=%{x}<br>Population=%{y}<extra></extra>",
         "legendgroup": "SHEEP",
         "marker": {
          "color": "#00cc96",
          "pattern": {
           "shape": ""
          }
         },
         "name": "SHEEP",
         "offsetgroup": "SHEEP",
         "orientation": "v",
         "showlegend": true,
         "textposition": "auto",
         "type": "bar",
         "x": [
          "2011/12",
          "2012/13",
          "2013/14",
          "2014/15",
          "2015/16",
          "2016/17",
          "2017/18",
          "2018/19",
          "2019/20",
          "2020/21",
          "2021/22"
         ],
         "xaxis": "x",
         "y": [
          807267,
          809536,
          789216,
          789292,
          800658,
          801975,
          800749,
          798889,
          806079,
          793725,
          771205
         ],
         "yaxis": "y"
        },
        {
         "alignmentgroup": "True",
         "hovertemplate": "CATEGORY=GOAT<br>Year=%{x}<br>Population=%{y}<extra></extra>",
         "legendgroup": "GOAT",
         "marker": {
          "color": "#ab63fa",
          "pattern": {
           "shape": ""
          }
         },
         "name": "GOAT",
         "offsetgroup": "GOAT",
         "orientation": "v",
         "showlegend": true,
         "textposition": "auto",
         "type": "bar",
         "x": [
          "2011/12",
          "2012/13",
          "2013/14",
          "2014/15",
          "2015/16",
          "2016/17",
          "2017/18",
          "2018/19",
          "2019/20",
          "2020/21",
          "2021/22"
         ],
         "xaxis": "x",
         "y": [
          9512958,
          9786354,
          10177531,
          10251569,
          10986114,
          11165099,
          11647319,
          12283752,
          12811953,
          13442614,
          13990703
         ],
         "yaxis": "y"
        },
        {
         "alignmentgroup": "True",
         "hovertemplate": "CATEGORY=PIGS<br>Year=%{x}<br>Population=%{y}<extra></extra>",
         "legendgroup": "PIGS",
         "marker": {
          "color": "#FFA15A",
          "pattern": {
           "shape": ""
          }
         },
         "name": "PIGS",
         "offsetgroup": "PIGS",
         "orientation": "v",
         "showlegend": true,
         "textposition": "auto",
         "type": "bar",
         "x": [
          "2011/12",
          "2012/13",
          "2013/14",
          "2014/15",
          "2015/16",
          "2016/17",
          "2017/18",
          "2018/19",
          "2019/20",
          "2020/21",
          "2021/22"
         ],
         "xaxis": "x",
         "y": [
          1137489,
          1160035,
          1190138,
          1203230,
          1291308,
          1328036,
          1435369,
          1488338,
          1519593,
          1588838,
          1504624
         ],
         "yaxis": "y"
        },
        {
         "alignmentgroup": "True",
         "hovertemplate": "CATEGORY=FOWL<br>Year=%{x}<br>Population=%{y}<extra></extra>",
         "legendgroup": "FOWL",
         "marker": {
          "color": "#19d3f3",
          "pattern": {
           "shape": ""
          }
         },
         "name": "FOWL",
         "offsetgroup": "FOWL",
         "orientation": "v",
         "showlegend": true,
         "textposition": "auto",
         "type": "bar",
         "x": [
          "2011/12",
          "2012/13",
          "2013/14",
          "2014/15",
          "2015/16",
          "2016/17",
          "2017/18",
          "2018/19",
          "2019/20",
          "2020/21",
          "2021/22"
         ],
         "xaxis": "x",
         "y": [
          45171185,
          47959239,
          48079406,
          50195285,
          68630638,
          70007151,
          72245732,
          75709330,
          82598879,
          73418077,
          66803117
         ],
         "yaxis": "y"
        },
        {
         "alignmentgroup": "True",
         "hovertemplate": "CATEGORY=DUCK<br>Year=%{x}<br>Population=%{y}<extra></extra>",
         "legendgroup": "DUCK",
         "marker": {
          "color": "#FF6692",
          "pattern": {
           "shape": ""
          }
         },
         "name": "DUCK",
         "offsetgroup": "DUCK",
         "orientation": "v",
         "showlegend": true,
         "textposition": "auto",
         "type": "bar",
         "x": [
          "2011/12",
          "2012/13",
          "2013/14",
          "2014/15",
          "2015/16",
          "2016/17",
          "2017/18",
          "2018/19",
          "2019/20",
          "2020/21",
          "2021/22"
         ],
         "xaxis": "x",
         "y": [
          376916,
          375975,
          390209,
          390287,
          392255,
          394775,
          404670,
          416400,
          427226,
          432226,
          605944
         ],
         "yaxis": "y"
        },
        {
         "alignmentgroup": "True",
         "hovertemplate": "CATEGORY=MILKING COW<br>Year=%{x}<br>Population=%{y}<extra></extra>",
         "legendgroup": "MILKING COW",
         "marker": {
          "color": "#B6E880",
          "pattern": {
           "shape": ""
          }
         },
         "name": "MILKING COW",
         "offsetgroup": "MILKING COW",
         "orientation": "v",
         "showlegend": true,
         "textposition": "auto",
         "type": "bar",
         "x": [
          "2011/12",
          "2012/13",
          "2013/14",
          "2014/15",
          "2015/16",
          "2016/17",
          "2017/18",
          "2018/19",
          "2019/20",
          "2020/21",
          "2021/22"
         ],
         "xaxis": "x",
         "y": [
          998963,
          1025591,
          1024513,
          1025947,
          1026135,
          1029529,
          1039538,
          1078775,
          1166156,
          1209041,
          1223061
         ],
         "yaxis": "y"
        },
        {
         "alignmentgroup": "True",
         "hovertemplate": "CATEGORY=MILKING BUFFALOES<br>Year=%{x}<br>Population=%{y}<extra></extra>",
         "legendgroup": "MILKING BUFFALOES",
         "marker": {
          "color": "#FF97FF",
          "pattern": {
           "shape": ""
          }
         },
         "name": "MILKING BUFFALOES",
         "offsetgroup": "MILKING BUFFALOES",
         "orientation": "v",
         "showlegend": true,
         "textposition": "auto",
         "type": "bar",
         "x": [
          "2011/12",
          "2012/13",
          "2013/14",
          "2014/15",
          "2015/16",
          "2016/17",
          "2017/18",
          "2018/19",
          "2019/20",
          "2020/21",
          "2021/22"
         ],
         "xaxis": "x",
         "y": [
          1331037,
          1369796,
          1345837,
          1345164,
          1355384,
          1509512,
          1535948,
          1560584,
          1635492,
          1630642,
          1666827
         ],
         "yaxis": "y"
        },
        {
         "alignmentgroup": "True",
         "hovertemplate": "CATEGORY=LAYING HEN<br>Year=%{x}<br>Population=%{y}<extra></extra>",
         "legendgroup": "LAYING HEN",
         "marker": {
          "color": "#FECB52",
          "pattern": {
           "shape": ""
          }
         },
         "name": "LAYING HEN",
         "offsetgroup": "LAYING HEN",
         "orientation": "v",
         "showlegend": true,
         "textposition": "auto",
         "type": "bar",
         "x": [
          "2011/12",
          "2012/13",
          "2013/14",
          "2014/15",
          "2015/16",
          "2016/17",
          "2017/18",
          "2018/19",
          "2019/20",
          "2020/21",
          "2021/22"
         ],
         "xaxis": "x",
         "y": [
          7907468,
          8233616,
          8350237,
          8412247,
          12353515,
          12388889,
          12517558,
          12526979,
          12927842,
          11374011,
          10131642
         ],
         "yaxis": "y"
        },
        {
         "alignmentgroup": "True",
         "hovertemplate": "CATEGORY=LAYING DUCK<br>Year=%{x}<br>Population=%{y}<extra></extra>",
         "legendgroup": "LAYING DUCK",
         "marker": {
          "color": "#636efa",
          "pattern": {
           "shape": ""
          }
         },
         "name": "LAYING DUCK",
         "offsetgroup": "LAYING DUCK",
         "orientation": "v",
         "showlegend": true,
         "textposition": "auto",
         "type": "bar",
         "x": [
          "2011/12",
          "2012/13",
          "2013/14",
          "2014/15",
          "2015/16",
          "2016/17",
          "2017/18",
          "2018/19",
          "2019/20",
          "2020/21",
          "2021/22"
         ],
         "xaxis": "x",
         "y": [
          174978,
          174714,
          179447,
          179480,
          180927,
          183940,
          186912,
          190747,
          191701,
          220532,
          302473
         ],
         "yaxis": "y"
        }
       ],
       "layout": {
        "barmode": "group",
        "height": 600,
        "legend": {
         "title": {
          "text": "CATEGORY"
         },
         "tracegroupgap": 0
        },
        "template": {
         "data": {
          "bar": [
           {
            "error_x": {
             "color": "#2a3f5f"
            },
            "error_y": {
             "color": "#2a3f5f"
            },
            "marker": {
             "line": {
              "color": "#E5ECF6",
              "width": 0.5
             },
             "pattern": {
              "fillmode": "overlay",
              "size": 10,
              "solidity": 0.2
             }
            },
            "type": "bar"
           }
          ],
          "barpolar": [
           {
            "marker": {
             "line": {
              "color": "#E5ECF6",
              "width": 0.5
             },
             "pattern": {
              "fillmode": "overlay",
              "size": 10,
              "solidity": 0.2
             }
            },
            "type": "barpolar"
           }
          ],
          "carpet": [
           {
            "aaxis": {
             "endlinecolor": "#2a3f5f",
             "gridcolor": "white",
             "linecolor": "white",
             "minorgridcolor": "white",
             "startlinecolor": "#2a3f5f"
            },
            "baxis": {
             "endlinecolor": "#2a3f5f",
             "gridcolor": "white",
             "linecolor": "white",
             "minorgridcolor": "white",
             "startlinecolor": "#2a3f5f"
            },
            "type": "carpet"
           }
          ],
          "choropleth": [
           {
            "colorbar": {
             "outlinewidth": 0,
             "ticks": ""
            },
            "type": "choropleth"
           }
          ],
          "contour": [
           {
            "colorbar": {
             "outlinewidth": 0,
             "ticks": ""
            },
            "colorscale": [
             [
              0,
              "#0d0887"
             ],
             [
              0.1111111111111111,
              "#46039f"
             ],
             [
              0.2222222222222222,
              "#7201a8"
             ],
             [
              0.3333333333333333,
              "#9c179e"
             ],
             [
              0.4444444444444444,
              "#bd3786"
             ],
             [
              0.5555555555555556,
              "#d8576b"
             ],
             [
              0.6666666666666666,
              "#ed7953"
             ],
             [
              0.7777777777777778,
              "#fb9f3a"
             ],
             [
              0.8888888888888888,
              "#fdca26"
             ],
             [
              1,
              "#f0f921"
             ]
            ],
            "type": "contour"
           }
          ],
          "contourcarpet": [
           {
            "colorbar": {
             "outlinewidth": 0,
             "ticks": ""
            },
            "type": "contourcarpet"
           }
          ],
          "heatmap": [
           {
            "colorbar": {
             "outlinewidth": 0,
             "ticks": ""
            },
            "colorscale": [
             [
              0,
              "#0d0887"
             ],
             [
              0.1111111111111111,
              "#46039f"
             ],
             [
              0.2222222222222222,
              "#7201a8"
             ],
             [
              0.3333333333333333,
              "#9c179e"
             ],
             [
              0.4444444444444444,
              "#bd3786"
             ],
             [
              0.5555555555555556,
              "#d8576b"
             ],
             [
              0.6666666666666666,
              "#ed7953"
             ],
             [
              0.7777777777777778,
              "#fb9f3a"
             ],
             [
              0.8888888888888888,
              "#fdca26"
             ],
             [
              1,
              "#f0f921"
             ]
            ],
            "type": "heatmap"
           }
          ],
          "heatmapgl": [
           {
            "colorbar": {
             "outlinewidth": 0,
             "ticks": ""
            },
            "colorscale": [
             [
              0,
              "#0d0887"
             ],
             [
              0.1111111111111111,
              "#46039f"
             ],
             [
              0.2222222222222222,
              "#7201a8"
             ],
             [
              0.3333333333333333,
              "#9c179e"
             ],
             [
              0.4444444444444444,
              "#bd3786"
             ],
             [
              0.5555555555555556,
              "#d8576b"
             ],
             [
              0.6666666666666666,
              "#ed7953"
             ],
             [
              0.7777777777777778,
              "#fb9f3a"
             ],
             [
              0.8888888888888888,
              "#fdca26"
             ],
             [
              1,
              "#f0f921"
             ]
            ],
            "type": "heatmapgl"
           }
          ],
          "histogram": [
           {
            "marker": {
             "pattern": {
              "fillmode": "overlay",
              "size": 10,
              "solidity": 0.2
             }
            },
            "type": "histogram"
           }
          ],
          "histogram2d": [
           {
            "colorbar": {
             "outlinewidth": 0,
             "ticks": ""
            },
            "colorscale": [
             [
              0,
              "#0d0887"
             ],
             [
              0.1111111111111111,
              "#46039f"
             ],
             [
              0.2222222222222222,
              "#7201a8"
             ],
             [
              0.3333333333333333,
              "#9c179e"
             ],
             [
              0.4444444444444444,
              "#bd3786"
             ],
             [
              0.5555555555555556,
              "#d8576b"
             ],
             [
              0.6666666666666666,
              "#ed7953"
             ],
             [
              0.7777777777777778,
              "#fb9f3a"
             ],
             [
              0.8888888888888888,
              "#fdca26"
             ],
             [
              1,
              "#f0f921"
             ]
            ],
            "type": "histogram2d"
           }
          ],
          "histogram2dcontour": [
           {
            "colorbar": {
             "outlinewidth": 0,
             "ticks": ""
            },
            "colorscale": [
             [
              0,
              "#0d0887"
             ],
             [
              0.1111111111111111,
              "#46039f"
             ],
             [
              0.2222222222222222,
              "#7201a8"
             ],
             [
              0.3333333333333333,
              "#9c179e"
             ],
             [
              0.4444444444444444,
              "#bd3786"
             ],
             [
              0.5555555555555556,
              "#d8576b"
             ],
             [
              0.6666666666666666,
              "#ed7953"
             ],
             [
              0.7777777777777778,
              "#fb9f3a"
             ],
             [
              0.8888888888888888,
              "#fdca26"
             ],
             [
              1,
              "#f0f921"
             ]
            ],
            "type": "histogram2dcontour"
           }
          ],
          "mesh3d": [
           {
            "colorbar": {
             "outlinewidth": 0,
             "ticks": ""
            },
            "type": "mesh3d"
           }
          ],
          "parcoords": [
           {
            "line": {
             "colorbar": {
              "outlinewidth": 0,
              "ticks": ""
             }
            },
            "type": "parcoords"
           }
          ],
          "pie": [
           {
            "automargin": true,
            "type": "pie"
           }
          ],
          "scatter": [
           {
            "fillpattern": {
             "fillmode": "overlay",
             "size": 10,
             "solidity": 0.2
            },
            "type": "scatter"
           }
          ],
          "scatter3d": [
           {
            "line": {
             "colorbar": {
              "outlinewidth": 0,
              "ticks": ""
             }
            },
            "marker": {
             "colorbar": {
              "outlinewidth": 0,
              "ticks": ""
             }
            },
            "type": "scatter3d"
           }
          ],
          "scattercarpet": [
           {
            "marker": {
             "colorbar": {
              "outlinewidth": 0,
              "ticks": ""
             }
            },
            "type": "scattercarpet"
           }
          ],
          "scattergeo": [
           {
            "marker": {
             "colorbar": {
              "outlinewidth": 0,
              "ticks": ""
             }
            },
            "type": "scattergeo"
           }
          ],
          "scattergl": [
           {
            "marker": {
             "colorbar": {
              "outlinewidth": 0,
              "ticks": ""
             }
            },
            "type": "scattergl"
           }
          ],
          "scattermapbox": [
           {
            "marker": {
             "colorbar": {
              "outlinewidth": 0,
              "ticks": ""
             }
            },
            "type": "scattermapbox"
           }
          ],
          "scatterpolar": [
           {
            "marker": {
             "colorbar": {
              "outlinewidth": 0,
              "ticks": ""
             }
            },
            "type": "scatterpolar"
           }
          ],
          "scatterpolargl": [
           {
            "marker": {
             "colorbar": {
              "outlinewidth": 0,
              "ticks": ""
             }
            },
            "type": "scatterpolargl"
           }
          ],
          "scatterternary": [
           {
            "marker": {
             "colorbar": {
              "outlinewidth": 0,
              "ticks": ""
             }
            },
            "type": "scatterternary"
           }
          ],
          "surface": [
           {
            "colorbar": {
             "outlinewidth": 0,
             "ticks": ""
            },
            "colorscale": [
             [
              0,
              "#0d0887"
             ],
             [
              0.1111111111111111,
              "#46039f"
             ],
             [
              0.2222222222222222,
              "#7201a8"
             ],
             [
              0.3333333333333333,
              "#9c179e"
             ],
             [
              0.4444444444444444,
              "#bd3786"
             ],
             [
              0.5555555555555556,
              "#d8576b"
             ],
             [
              0.6666666666666666,
              "#ed7953"
             ],
             [
              0.7777777777777778,
              "#fb9f3a"
             ],
             [
              0.8888888888888888,
              "#fdca26"
             ],
             [
              1,
              "#f0f921"
             ]
            ],
            "type": "surface"
           }
          ],
          "table": [
           {
            "cells": {
             "fill": {
              "color": "#EBF0F8"
             },
             "line": {
              "color": "white"
             }
            },
            "header": {
             "fill": {
              "color": "#C8D4E3"
             },
             "line": {
              "color": "white"
             }
            },
            "type": "table"
           }
          ]
         },
         "layout": {
          "annotationdefaults": {
           "arrowcolor": "#2a3f5f",
           "arrowhead": 0,
           "arrowwidth": 1
          },
          "autotypenumbers": "strict",
          "coloraxis": {
           "colorbar": {
            "outlinewidth": 0,
            "ticks": ""
           }
          },
          "colorscale": {
           "diverging": [
            [
             0,
             "#8e0152"
            ],
            [
             0.1,
             "#c51b7d"
            ],
            [
             0.2,
             "#de77ae"
            ],
            [
             0.3,
             "#f1b6da"
            ],
            [
             0.4,
             "#fde0ef"
            ],
            [
             0.5,
             "#f7f7f7"
            ],
            [
             0.6,
             "#e6f5d0"
            ],
            [
             0.7,
             "#b8e186"
            ],
            [
             0.8,
             "#7fbc41"
            ],
            [
             0.9,
             "#4d9221"
            ],
            [
             1,
             "#276419"
            ]
           ],
           "sequential": [
            [
             0,
             "#0d0887"
            ],
            [
             0.1111111111111111,
             "#46039f"
            ],
            [
             0.2222222222222222,
             "#7201a8"
            ],
            [
             0.3333333333333333,
             "#9c179e"
            ],
            [
             0.4444444444444444,
             "#bd3786"
            ],
            [
             0.5555555555555556,
             "#d8576b"
            ],
            [
             0.6666666666666666,
             "#ed7953"
            ],
            [
             0.7777777777777778,
             "#fb9f3a"
            ],
            [
             0.8888888888888888,
             "#fdca26"
            ],
            [
             1,
             "#f0f921"
            ]
           ],
           "sequentialminus": [
            [
             0,
             "#0d0887"
            ],
            [
             0.1111111111111111,
             "#46039f"
            ],
            [
             0.2222222222222222,
             "#7201a8"
            ],
            [
             0.3333333333333333,
             "#9c179e"
            ],
            [
             0.4444444444444444,
             "#bd3786"
            ],
            [
             0.5555555555555556,
             "#d8576b"
            ],
            [
             0.6666666666666666,
             "#ed7953"
            ],
            [
             0.7777777777777778,
             "#fb9f3a"
            ],
            [
             0.8888888888888888,
             "#fdca26"
            ],
            [
             1,
             "#f0f921"
            ]
           ]
          },
          "colorway": [
           "#636efa",
           "#EF553B",
           "#00cc96",
           "#ab63fa",
           "#FFA15A",
           "#19d3f3",
           "#FF6692",
           "#B6E880",
           "#FF97FF",
           "#FECB52"
          ],
          "font": {
           "color": "#2a3f5f"
          },
          "geo": {
           "bgcolor": "white",
           "lakecolor": "white",
           "landcolor": "#E5ECF6",
           "showlakes": true,
           "showland": true,
           "subunitcolor": "white"
          },
          "hoverlabel": {
           "align": "left"
          },
          "hovermode": "closest",
          "mapbox": {
           "style": "light"
          },
          "paper_bgcolor": "white",
          "plot_bgcolor": "#E5ECF6",
          "polar": {
           "angularaxis": {
            "gridcolor": "white",
            "linecolor": "white",
            "ticks": ""
           },
           "bgcolor": "#E5ECF6",
           "radialaxis": {
            "gridcolor": "white",
            "linecolor": "white",
            "ticks": ""
           }
          },
          "scene": {
           "xaxis": {
            "backgroundcolor": "#E5ECF6",
            "gridcolor": "white",
            "gridwidth": 2,
            "linecolor": "white",
            "showbackground": true,
            "ticks": "",
            "zerolinecolor": "white"
           },
           "yaxis": {
            "backgroundcolor": "#E5ECF6",
            "gridcolor": "white",
            "gridwidth": 2,
            "linecolor": "white",
            "showbackground": true,
            "ticks": "",
            "zerolinecolor": "white"
           },
           "zaxis": {
            "backgroundcolor": "#E5ECF6",
            "gridcolor": "white",
            "gridwidth": 2,
            "linecolor": "white",
            "showbackground": true,
            "ticks": "",
            "zerolinecolor": "white"
           }
          },
          "shapedefaults": {
           "line": {
            "color": "#2a3f5f"
           }
          },
          "ternary": {
           "aaxis": {
            "gridcolor": "white",
            "linecolor": "white",
            "ticks": ""
           },
           "baxis": {
            "gridcolor": "white",
            "linecolor": "white",
            "ticks": ""
           },
           "bgcolor": "#E5ECF6",
           "caxis": {
            "gridcolor": "white",
            "linecolor": "white",
            "ticks": ""
           }
          },
          "title": {
           "x": 0.05
          },
          "xaxis": {
           "automargin": true,
           "gridcolor": "white",
           "linecolor": "white",
           "ticks": "",
           "title": {
            "standoff": 15
           },
           "zerolinecolor": "white",
           "zerolinewidth": 2
          },
          "yaxis": {
           "automargin": true,
           "gridcolor": "white",
           "linecolor": "white",
           "ticks": "",
           "title": {
            "standoff": 15
           },
           "zerolinecolor": "white",
           "zerolinewidth": 2
          }
         }
        },
        "title": {
         "text": "Livestock Population Over Years"
        },
        "width": 1900,
        "xaxis": {
         "anchor": "y",
         "domain": [
          0,
          1
         ],
         "title": {
          "text": "Year"
         }
        },
        "yaxis": {
         "anchor": "x",
         "domain": [
          0,
          1
         ],
         "title": {
          "text": "Population"
         }
        }
       }
      }
     },
     "metadata": {},
     "output_type": "display_data"
    }
   ],
   "source": [
    "# Pivot the DataFrame to a long format\n",
    "df_melted = livestock_pop.melt(id_vars= 'CATEGORY', var_name='Year', value_name='Population')\n",
    "\n",
    "# Plotting with Plotly Express\n",
    "fig = px.bar(df_melted, x='Year', y='Population', color='CATEGORY', barmode='group',\n",
    "             title='Livestock Population Over Years',height=600, width=1900)\n",
    "\n",
    "# Show the plot\n",
    "fig.show()"
   ]
  },
  {
   "cell_type": "markdown",
   "id": "42edb7d0",
   "metadata": {},
   "source": [
    "from above figure, we can population of fowl is highest in all year and it cross 80 M in 2019/20. likewise in all year population of cattle is nearly same that it doesnot cross 8M. In terms of least population from(2011-2021/2022) is laying duck .\n"
   ]
  },
  {
   "cell_type": "code",
   "execution_count": 9,
   "id": "5c45d6e6",
   "metadata": {},
   "outputs": [
    {
     "data": {
      "application/vnd.plotly.v1+json": {
       "config": {
        "plotlyServerURL": "https://plot.ly"
       },
       "data": [
        {
         "hovertemplate": "CATEGORY=%{x}<br>Population=%{y}<extra></extra>",
         "legendgroup": "CATTLE",
         "marker": {
          "color": "#636efa",
          "opacity": 0.8,
          "size": 12,
          "symbol": "circle"
         },
         "mode": "markers",
         "name": "CATTLE",
         "orientation": "v",
         "showlegend": true,
         "type": "scatter",
         "x": [
          "CATTLE",
          "CATTLE",
          "CATTLE",
          "CATTLE",
          "CATTLE",
          "CATTLE",
          "CATTLE",
          "CATTLE",
          "CATTLE",
          "CATTLE",
          "CATTLE"
         ],
         "xaxis": "x",
         "y": [
          7244944,
          7274022,
          7243916,
          7241743,
          7302808,
          7347487,
          7376306,
          7385035,
          7458885,
          7466841,
          7413197
         ],
         "yaxis": "y"
        },
        {
         "hovertemplate": "CATEGORY=%{x}<br>Population=%{y}<extra></extra>",
         "legendgroup": "BUFFALOES",
         "marker": {
          "color": "#EF553B",
          "opacity": 0.8,
          "size": 12,
          "symbol": "circle"
         },
         "mode": "markers",
         "name": "BUFFALOES",
         "orientation": "v",
         "showlegend": true,
         "type": "scatter",
         "x": [
          "BUFFALOES",
          "BUFFALOES",
          "BUFFALOES",
          "BUFFALOES",
          "BUFFALOES",
          "BUFFALOES",
          "BUFFALOES",
          "BUFFALOES",
          "BUFFALOES",
          "BUFFALOES",
          "BUFFALOES"
         ],
         "xaxis": "x",
         "y": [
          5133139,
          5241873,
          5178612,
          5167737,
          5168809,
          5177998,
          5277819,
          5308664,
          5257591,
          5159931,
          5132931
         ],
         "yaxis": "y"
        },
        {
         "hovertemplate": "CATEGORY=%{x}<br>Population=%{y}<extra></extra>",
         "legendgroup": "SHEEP",
         "marker": {
          "color": "#00cc96",
          "opacity": 0.8,
          "size": 12,
          "symbol": "circle"
         },
         "mode": "markers",
         "name": "SHEEP",
         "orientation": "v",
         "showlegend": true,
         "type": "scatter",
         "x": [
          "SHEEP",
          "SHEEP",
          "SHEEP",
          "SHEEP",
          "SHEEP",
          "SHEEP",
          "SHEEP",
          "SHEEP",
          "SHEEP",
          "SHEEP",
          "SHEEP"
         ],
         "xaxis": "x",
         "y": [
          807267,
          809536,
          789216,
          789292,
          800658,
          801975,
          800749,
          798889,
          806079,
          793725,
          771205
         ],
         "yaxis": "y"
        },
        {
         "hovertemplate": "CATEGORY=%{x}<br>Population=%{y}<extra></extra>",
         "legendgroup": "GOAT",
         "marker": {
          "color": "#ab63fa",
          "opacity": 0.8,
          "size": 12,
          "symbol": "circle"
         },
         "mode": "markers",
         "name": "GOAT",
         "orientation": "v",
         "showlegend": true,
         "type": "scatter",
         "x": [
          "GOAT",
          "GOAT",
          "GOAT",
          "GOAT",
          "GOAT",
          "GOAT",
          "GOAT",
          "GOAT",
          "GOAT",
          "GOAT",
          "GOAT"
         ],
         "xaxis": "x",
         "y": [
          9512958,
          9786354,
          10177531,
          10251569,
          10986114,
          11165099,
          11647319,
          12283752,
          12811953,
          13442614,
          13990703
         ],
         "yaxis": "y"
        },
        {
         "hovertemplate": "CATEGORY=%{x}<br>Population=%{y}<extra></extra>",
         "legendgroup": "PIGS",
         "marker": {
          "color": "#FFA15A",
          "opacity": 0.8,
          "size": 12,
          "symbol": "circle"
         },
         "mode": "markers",
         "name": "PIGS",
         "orientation": "v",
         "showlegend": true,
         "type": "scatter",
         "x": [
          "PIGS",
          "PIGS",
          "PIGS",
          "PIGS",
          "PIGS",
          "PIGS",
          "PIGS",
          "PIGS",
          "PIGS",
          "PIGS",
          "PIGS"
         ],
         "xaxis": "x",
         "y": [
          1137489,
          1160035,
          1190138,
          1203230,
          1291308,
          1328036,
          1435369,
          1488338,
          1519593,
          1588838,
          1504624
         ],
         "yaxis": "y"
        },
        {
         "hovertemplate": "CATEGORY=%{x}<br>Population=%{y}<extra></extra>",
         "legendgroup": "FOWL",
         "marker": {
          "color": "#19d3f3",
          "opacity": 0.8,
          "size": 12,
          "symbol": "circle"
         },
         "mode": "markers",
         "name": "FOWL",
         "orientation": "v",
         "showlegend": true,
         "type": "scatter",
         "x": [
          "FOWL",
          "FOWL",
          "FOWL",
          "FOWL",
          "FOWL",
          "FOWL",
          "FOWL",
          "FOWL",
          "FOWL",
          "FOWL",
          "FOWL"
         ],
         "xaxis": "x",
         "y": [
          45171185,
          47959239,
          48079406,
          50195285,
          68630638,
          70007151,
          72245732,
          75709330,
          82598879,
          73418077,
          66803117
         ],
         "yaxis": "y"
        },
        {
         "hovertemplate": "CATEGORY=%{x}<br>Population=%{y}<extra></extra>",
         "legendgroup": "DUCK",
         "marker": {
          "color": "#FF6692",
          "opacity": 0.8,
          "size": 12,
          "symbol": "circle"
         },
         "mode": "markers",
         "name": "DUCK",
         "orientation": "v",
         "showlegend": true,
         "type": "scatter",
         "x": [
          "DUCK",
          "DUCK",
          "DUCK",
          "DUCK",
          "DUCK",
          "DUCK",
          "DUCK",
          "DUCK",
          "DUCK",
          "DUCK",
          "DUCK"
         ],
         "xaxis": "x",
         "y": [
          376916,
          375975,
          390209,
          390287,
          392255,
          394775,
          404670,
          416400,
          427226,
          432226,
          605944
         ],
         "yaxis": "y"
        },
        {
         "hovertemplate": "CATEGORY=%{x}<br>Population=%{y}<extra></extra>",
         "legendgroup": "MILKING COW",
         "marker": {
          "color": "#B6E880",
          "opacity": 0.8,
          "size": 12,
          "symbol": "circle"
         },
         "mode": "markers",
         "name": "MILKING COW",
         "orientation": "v",
         "showlegend": true,
         "type": "scatter",
         "x": [
          "MILKING COW",
          "MILKING COW",
          "MILKING COW",
          "MILKING COW",
          "MILKING COW",
          "MILKING COW",
          "MILKING COW",
          "MILKING COW",
          "MILKING COW",
          "MILKING COW",
          "MILKING COW"
         ],
         "xaxis": "x",
         "y": [
          998963,
          1025591,
          1024513,
          1025947,
          1026135,
          1029529,
          1039538,
          1078775,
          1166156,
          1209041,
          1223061
         ],
         "yaxis": "y"
        },
        {
         "hovertemplate": "CATEGORY=%{x}<br>Population=%{y}<extra></extra>",
         "legendgroup": "MILKING BUFFALOES",
         "marker": {
          "color": "#FF97FF",
          "opacity": 0.8,
          "size": 12,
          "symbol": "circle"
         },
         "mode": "markers",
         "name": "MILKING BUFFALOES",
         "orientation": "v",
         "showlegend": true,
         "type": "scatter",
         "x": [
          "MILKING BUFFALOES",
          "MILKING BUFFALOES",
          "MILKING BUFFALOES",
          "MILKING BUFFALOES",
          "MILKING BUFFALOES",
          "MILKING BUFFALOES",
          "MILKING BUFFALOES",
          "MILKING BUFFALOES",
          "MILKING BUFFALOES",
          "MILKING BUFFALOES",
          "MILKING BUFFALOES"
         ],
         "xaxis": "x",
         "y": [
          1331037,
          1369796,
          1345837,
          1345164,
          1355384,
          1509512,
          1535948,
          1560584,
          1635492,
          1630642,
          1666827
         ],
         "yaxis": "y"
        },
        {
         "hovertemplate": "CATEGORY=%{x}<br>Population=%{y}<extra></extra>",
         "legendgroup": "LAYING HEN",
         "marker": {
          "color": "#FECB52",
          "opacity": 0.8,
          "size": 12,
          "symbol": "circle"
         },
         "mode": "markers",
         "name": "LAYING HEN",
         "orientation": "v",
         "showlegend": true,
         "type": "scatter",
         "x": [
          "LAYING HEN",
          "LAYING HEN",
          "LAYING HEN",
          "LAYING HEN",
          "LAYING HEN",
          "LAYING HEN",
          "LAYING HEN",
          "LAYING HEN",
          "LAYING HEN",
          "LAYING HEN",
          "LAYING HEN"
         ],
         "xaxis": "x",
         "y": [
          7907468,
          8233616,
          8350237,
          8412247,
          12353515,
          12388889,
          12517558,
          12526979,
          12927842,
          11374011,
          10131642
         ],
         "yaxis": "y"
        },
        {
         "hovertemplate": "CATEGORY=%{x}<br>Population=%{y}<extra></extra>",
         "legendgroup": "LAYING DUCK",
         "marker": {
          "color": "#636efa",
          "opacity": 0.8,
          "size": 12,
          "symbol": "circle"
         },
         "mode": "markers",
         "name": "LAYING DUCK",
         "orientation": "v",
         "showlegend": true,
         "type": "scatter",
         "x": [
          "LAYING DUCK",
          "LAYING DUCK",
          "LAYING DUCK",
          "LAYING DUCK",
          "LAYING DUCK",
          "LAYING DUCK",
          "LAYING DUCK",
          "LAYING DUCK",
          "LAYING DUCK",
          "LAYING DUCK",
          "LAYING DUCK"
         ],
         "xaxis": "x",
         "y": [
          174978,
          174714,
          179447,
          179480,
          180927,
          183940,
          186912,
          190747,
          191701,
          220532,
          302473
         ],
         "yaxis": "y"
        }
       ],
       "layout": {
        "legend": {
         "title": {
          "text": "CATEGORY"
         },
         "tracegroupgap": 0
        },
        "template": {
         "data": {
          "bar": [
           {
            "error_x": {
             "color": "#2a3f5f"
            },
            "error_y": {
             "color": "#2a3f5f"
            },
            "marker": {
             "line": {
              "color": "#E5ECF6",
              "width": 0.5
             },
             "pattern": {
              "fillmode": "overlay",
              "size": 10,
              "solidity": 0.2
             }
            },
            "type": "bar"
           }
          ],
          "barpolar": [
           {
            "marker": {
             "line": {
              "color": "#E5ECF6",
              "width": 0.5
             },
             "pattern": {
              "fillmode": "overlay",
              "size": 10,
              "solidity": 0.2
             }
            },
            "type": "barpolar"
           }
          ],
          "carpet": [
           {
            "aaxis": {
             "endlinecolor": "#2a3f5f",
             "gridcolor": "white",
             "linecolor": "white",
             "minorgridcolor": "white",
             "startlinecolor": "#2a3f5f"
            },
            "baxis": {
             "endlinecolor": "#2a3f5f",
             "gridcolor": "white",
             "linecolor": "white",
             "minorgridcolor": "white",
             "startlinecolor": "#2a3f5f"
            },
            "type": "carpet"
           }
          ],
          "choropleth": [
           {
            "colorbar": {
             "outlinewidth": 0,
             "ticks": ""
            },
            "type": "choropleth"
           }
          ],
          "contour": [
           {
            "colorbar": {
             "outlinewidth": 0,
             "ticks": ""
            },
            "colorscale": [
             [
              0,
              "#0d0887"
             ],
             [
              0.1111111111111111,
              "#46039f"
             ],
             [
              0.2222222222222222,
              "#7201a8"
             ],
             [
              0.3333333333333333,
              "#9c179e"
             ],
             [
              0.4444444444444444,
              "#bd3786"
             ],
             [
              0.5555555555555556,
              "#d8576b"
             ],
             [
              0.6666666666666666,
              "#ed7953"
             ],
             [
              0.7777777777777778,
              "#fb9f3a"
             ],
             [
              0.8888888888888888,
              "#fdca26"
             ],
             [
              1,
              "#f0f921"
             ]
            ],
            "type": "contour"
           }
          ],
          "contourcarpet": [
           {
            "colorbar": {
             "outlinewidth": 0,
             "ticks": ""
            },
            "type": "contourcarpet"
           }
          ],
          "heatmap": [
           {
            "colorbar": {
             "outlinewidth": 0,
             "ticks": ""
            },
            "colorscale": [
             [
              0,
              "#0d0887"
             ],
             [
              0.1111111111111111,
              "#46039f"
             ],
             [
              0.2222222222222222,
              "#7201a8"
             ],
             [
              0.3333333333333333,
              "#9c179e"
             ],
             [
              0.4444444444444444,
              "#bd3786"
             ],
             [
              0.5555555555555556,
              "#d8576b"
             ],
             [
              0.6666666666666666,
              "#ed7953"
             ],
             [
              0.7777777777777778,
              "#fb9f3a"
             ],
             [
              0.8888888888888888,
              "#fdca26"
             ],
             [
              1,
              "#f0f921"
             ]
            ],
            "type": "heatmap"
           }
          ],
          "heatmapgl": [
           {
            "colorbar": {
             "outlinewidth": 0,
             "ticks": ""
            },
            "colorscale": [
             [
              0,
              "#0d0887"
             ],
             [
              0.1111111111111111,
              "#46039f"
             ],
             [
              0.2222222222222222,
              "#7201a8"
             ],
             [
              0.3333333333333333,
              "#9c179e"
             ],
             [
              0.4444444444444444,
              "#bd3786"
             ],
             [
              0.5555555555555556,
              "#d8576b"
             ],
             [
              0.6666666666666666,
              "#ed7953"
             ],
             [
              0.7777777777777778,
              "#fb9f3a"
             ],
             [
              0.8888888888888888,
              "#fdca26"
             ],
             [
              1,
              "#f0f921"
             ]
            ],
            "type": "heatmapgl"
           }
          ],
          "histogram": [
           {
            "marker": {
             "pattern": {
              "fillmode": "overlay",
              "size": 10,
              "solidity": 0.2
             }
            },
            "type": "histogram"
           }
          ],
          "histogram2d": [
           {
            "colorbar": {
             "outlinewidth": 0,
             "ticks": ""
            },
            "colorscale": [
             [
              0,
              "#0d0887"
             ],
             [
              0.1111111111111111,
              "#46039f"
             ],
             [
              0.2222222222222222,
              "#7201a8"
             ],
             [
              0.3333333333333333,
              "#9c179e"
             ],
             [
              0.4444444444444444,
              "#bd3786"
             ],
             [
              0.5555555555555556,
              "#d8576b"
             ],
             [
              0.6666666666666666,
              "#ed7953"
             ],
             [
              0.7777777777777778,
              "#fb9f3a"
             ],
             [
              0.8888888888888888,
              "#fdca26"
             ],
             [
              1,
              "#f0f921"
             ]
            ],
            "type": "histogram2d"
           }
          ],
          "histogram2dcontour": [
           {
            "colorbar": {
             "outlinewidth": 0,
             "ticks": ""
            },
            "colorscale": [
             [
              0,
              "#0d0887"
             ],
             [
              0.1111111111111111,
              "#46039f"
             ],
             [
              0.2222222222222222,
              "#7201a8"
             ],
             [
              0.3333333333333333,
              "#9c179e"
             ],
             [
              0.4444444444444444,
              "#bd3786"
             ],
             [
              0.5555555555555556,
              "#d8576b"
             ],
             [
              0.6666666666666666,
              "#ed7953"
             ],
             [
              0.7777777777777778,
              "#fb9f3a"
             ],
             [
              0.8888888888888888,
              "#fdca26"
             ],
             [
              1,
              "#f0f921"
             ]
            ],
            "type": "histogram2dcontour"
           }
          ],
          "mesh3d": [
           {
            "colorbar": {
             "outlinewidth": 0,
             "ticks": ""
            },
            "type": "mesh3d"
           }
          ],
          "parcoords": [
           {
            "line": {
             "colorbar": {
              "outlinewidth": 0,
              "ticks": ""
             }
            },
            "type": "parcoords"
           }
          ],
          "pie": [
           {
            "automargin": true,
            "type": "pie"
           }
          ],
          "scatter": [
           {
            "fillpattern": {
             "fillmode": "overlay",
             "size": 10,
             "solidity": 0.2
            },
            "type": "scatter"
           }
          ],
          "scatter3d": [
           {
            "line": {
             "colorbar": {
              "outlinewidth": 0,
              "ticks": ""
             }
            },
            "marker": {
             "colorbar": {
              "outlinewidth": 0,
              "ticks": ""
             }
            },
            "type": "scatter3d"
           }
          ],
          "scattercarpet": [
           {
            "marker": {
             "colorbar": {
              "outlinewidth": 0,
              "ticks": ""
             }
            },
            "type": "scattercarpet"
           }
          ],
          "scattergeo": [
           {
            "marker": {
             "colorbar": {
              "outlinewidth": 0,
              "ticks": ""
             }
            },
            "type": "scattergeo"
           }
          ],
          "scattergl": [
           {
            "marker": {
             "colorbar": {
              "outlinewidth": 0,
              "ticks": ""
             }
            },
            "type": "scattergl"
           }
          ],
          "scattermapbox": [
           {
            "marker": {
             "colorbar": {
              "outlinewidth": 0,
              "ticks": ""
             }
            },
            "type": "scattermapbox"
           }
          ],
          "scatterpolar": [
           {
            "marker": {
             "colorbar": {
              "outlinewidth": 0,
              "ticks": ""
             }
            },
            "type": "scatterpolar"
           }
          ],
          "scatterpolargl": [
           {
            "marker": {
             "colorbar": {
              "outlinewidth": 0,
              "ticks": ""
             }
            },
            "type": "scatterpolargl"
           }
          ],
          "scatterternary": [
           {
            "marker": {
             "colorbar": {
              "outlinewidth": 0,
              "ticks": ""
             }
            },
            "type": "scatterternary"
           }
          ],
          "surface": [
           {
            "colorbar": {
             "outlinewidth": 0,
             "ticks": ""
            },
            "colorscale": [
             [
              0,
              "#0d0887"
             ],
             [
              0.1111111111111111,
              "#46039f"
             ],
             [
              0.2222222222222222,
              "#7201a8"
             ],
             [
              0.3333333333333333,
              "#9c179e"
             ],
             [
              0.4444444444444444,
              "#bd3786"
             ],
             [
              0.5555555555555556,
              "#d8576b"
             ],
             [
              0.6666666666666666,
              "#ed7953"
             ],
             [
              0.7777777777777778,
              "#fb9f3a"
             ],
             [
              0.8888888888888888,
              "#fdca26"
             ],
             [
              1,
              "#f0f921"
             ]
            ],
            "type": "surface"
           }
          ],
          "table": [
           {
            "cells": {
             "fill": {
              "color": "#EBF0F8"
             },
             "line": {
              "color": "white"
             }
            },
            "header": {
             "fill": {
              "color": "#C8D4E3"
             },
             "line": {
              "color": "white"
             }
            },
            "type": "table"
           }
          ]
         },
         "layout": {
          "annotationdefaults": {
           "arrowcolor": "#2a3f5f",
           "arrowhead": 0,
           "arrowwidth": 1
          },
          "autotypenumbers": "strict",
          "coloraxis": {
           "colorbar": {
            "outlinewidth": 0,
            "ticks": ""
           }
          },
          "colorscale": {
           "diverging": [
            [
             0,
             "#8e0152"
            ],
            [
             0.1,
             "#c51b7d"
            ],
            [
             0.2,
             "#de77ae"
            ],
            [
             0.3,
             "#f1b6da"
            ],
            [
             0.4,
             "#fde0ef"
            ],
            [
             0.5,
             "#f7f7f7"
            ],
            [
             0.6,
             "#e6f5d0"
            ],
            [
             0.7,
             "#b8e186"
            ],
            [
             0.8,
             "#7fbc41"
            ],
            [
             0.9,
             "#4d9221"
            ],
            [
             1,
             "#276419"
            ]
           ],
           "sequential": [
            [
             0,
             "#0d0887"
            ],
            [
             0.1111111111111111,
             "#46039f"
            ],
            [
             0.2222222222222222,
             "#7201a8"
            ],
            [
             0.3333333333333333,
             "#9c179e"
            ],
            [
             0.4444444444444444,
             "#bd3786"
            ],
            [
             0.5555555555555556,
             "#d8576b"
            ],
            [
             0.6666666666666666,
             "#ed7953"
            ],
            [
             0.7777777777777778,
             "#fb9f3a"
            ],
            [
             0.8888888888888888,
             "#fdca26"
            ],
            [
             1,
             "#f0f921"
            ]
           ],
           "sequentialminus": [
            [
             0,
             "#0d0887"
            ],
            [
             0.1111111111111111,
             "#46039f"
            ],
            [
             0.2222222222222222,
             "#7201a8"
            ],
            [
             0.3333333333333333,
             "#9c179e"
            ],
            [
             0.4444444444444444,
             "#bd3786"
            ],
            [
             0.5555555555555556,
             "#d8576b"
            ],
            [
             0.6666666666666666,
             "#ed7953"
            ],
            [
             0.7777777777777778,
             "#fb9f3a"
            ],
            [
             0.8888888888888888,
             "#fdca26"
            ],
            [
             1,
             "#f0f921"
            ]
           ]
          },
          "colorway": [
           "#636efa",
           "#EF553B",
           "#00cc96",
           "#ab63fa",
           "#FFA15A",
           "#19d3f3",
           "#FF6692",
           "#B6E880",
           "#FF97FF",
           "#FECB52"
          ],
          "font": {
           "color": "#2a3f5f"
          },
          "geo": {
           "bgcolor": "white",
           "lakecolor": "white",
           "landcolor": "#E5ECF6",
           "showlakes": true,
           "showland": true,
           "subunitcolor": "white"
          },
          "hoverlabel": {
           "align": "left"
          },
          "hovermode": "closest",
          "mapbox": {
           "style": "light"
          },
          "paper_bgcolor": "white",
          "plot_bgcolor": "#E5ECF6",
          "polar": {
           "angularaxis": {
            "gridcolor": "white",
            "linecolor": "white",
            "ticks": ""
           },
           "bgcolor": "#E5ECF6",
           "radialaxis": {
            "gridcolor": "white",
            "linecolor": "white",
            "ticks": ""
           }
          },
          "scene": {
           "xaxis": {
            "backgroundcolor": "#E5ECF6",
            "gridcolor": "white",
            "gridwidth": 2,
            "linecolor": "white",
            "showbackground": true,
            "ticks": "",
            "zerolinecolor": "white"
           },
           "yaxis": {
            "backgroundcolor": "#E5ECF6",
            "gridcolor": "white",
            "gridwidth": 2,
            "linecolor": "white",
            "showbackground": true,
            "ticks": "",
            "zerolinecolor": "white"
           },
           "zaxis": {
            "backgroundcolor": "#E5ECF6",
            "gridcolor": "white",
            "gridwidth": 2,
            "linecolor": "white",
            "showbackground": true,
            "ticks": "",
            "zerolinecolor": "white"
           }
          },
          "shapedefaults": {
           "line": {
            "color": "#2a3f5f"
           }
          },
          "ternary": {
           "aaxis": {
            "gridcolor": "white",
            "linecolor": "white",
            "ticks": ""
           },
           "baxis": {
            "gridcolor": "white",
            "linecolor": "white",
            "ticks": ""
           },
           "bgcolor": "#E5ECF6",
           "caxis": {
            "gridcolor": "white",
            "linecolor": "white",
            "ticks": ""
           }
          },
          "title": {
           "x": 0.05
          },
          "xaxis": {
           "automargin": true,
           "gridcolor": "white",
           "linecolor": "white",
           "ticks": "",
           "title": {
            "standoff": 15
           },
           "zerolinecolor": "white",
           "zerolinewidth": 2
          },
          "yaxis": {
           "automargin": true,
           "gridcolor": "white",
           "linecolor": "white",
           "ticks": "",
           "title": {
            "standoff": 15
           },
           "zerolinecolor": "white",
           "zerolinewidth": 2
          }
         }
        },
        "title": {
         "text": " Livestock Population Over Years"
        },
        "xaxis": {
         "anchor": "y",
         "categoryarray": [
          "CATTLE",
          "BUFFALOES",
          "SHEEP",
          "GOAT",
          "PIGS",
          "FOWL",
          "DUCK",
          "MILKING COW",
          "MILKING BUFFALOES",
          "LAYING HEN",
          "LAYING DUCK"
         ],
         "categoryorder": "array",
         "domain": [
          0,
          1
         ],
         "title": {
          "text": "CATEGORY"
         }
        },
        "yaxis": {
         "anchor": "x",
         "domain": [
          0,
          1
         ],
         "title": {
          "text": "Population"
         }
        }
       }
      }
     },
     "metadata": {},
     "output_type": "display_data"
    }
   ],
   "source": [
    "\n",
    "# Create scatter plot\n",
    "fig = px.scatter(df_melted, x='CATEGORY', y='Population', title=' Livestock Population Over Years',color='CATEGORY')\n",
    "fig.update_traces(marker=dict(size=12, opacity=0.8))\n",
    "\n",
    "# Update layout\n",
    "fig.update_layout(xaxis_title='CATEGORY', yaxis_title='Population')\n",
    "\n",
    "# Show plot\n",
    "fig.show()"
   ]
  },
  {
   "cell_type": "code",
   "execution_count": null,
   "id": "9ab9a48f",
   "metadata": {},
   "outputs": [],
   "source": []
  }
 ],
 "metadata": {
  "kernelspec": {
   "display_name": "Python 3 (ipykernel)",
   "language": "python",
   "name": "python3"
  },
  "language_info": {
   "codemirror_mode": {
    "name": "ipython",
    "version": 3
   },
   "file_extension": ".py",
   "mimetype": "text/x-python",
   "name": "python",
   "nbconvert_exporter": "python",
   "pygments_lexer": "ipython3",
   "version": "3.10.4"
  }
 },
 "nbformat": 4,
 "nbformat_minor": 5
}
