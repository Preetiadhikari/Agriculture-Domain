{
 "cells": [
  {
   "cell_type": "markdown",
   "id": "3a7fb372",
   "metadata": {},
   "source": [
    "# Milking Population and its Production by District , Fiscal Year 2078/79 (2021/22)"
   ]
  },
  {
   "cell_type": "markdown",
   "id": "65569bd1",
   "metadata": {},
   "source": [
    "This datasets provide an information about population of animal that used for produced milk and their production within 2021/2022. This datasets provide insight about no of cow and buffaloes and its production of milk by districts."
   ]
  },
  {
   "cell_type": "markdown",
   "id": "15cb2171",
   "metadata": {},
   "source": [
    "## 1. Import library "
   ]
  },
  {
   "cell_type": "code",
   "execution_count": 1,
   "id": "1f6a2f34",
   "metadata": {},
   "outputs": [],
   "source": [
    "import numpy as np\n",
    "import pandas as pd\n",
    "import plotly.express as px"
   ]
  },
  {
   "cell_type": "markdown",
   "id": "d8b832ee",
   "metadata": {},
   "source": [
    "## 2. Load Datasets "
   ]
  },
  {
   "cell_type": "code",
   "execution_count": 2,
   "id": "87e13a00",
   "metadata": {},
   "outputs": [
    {
     "data": {
      "text/html": [
       "<div>\n",
       "<style scoped>\n",
       "    .dataframe tbody tr th:only-of-type {\n",
       "        vertical-align: middle;\n",
       "    }\n",
       "\n",
       "    .dataframe tbody tr th {\n",
       "        vertical-align: top;\n",
       "    }\n",
       "\n",
       "    .dataframe thead th {\n",
       "        text-align: right;\n",
       "    }\n",
       "</style>\n",
       "<table border=\"1\" class=\"dataframe\">\n",
       "  <thead>\n",
       "    <tr style=\"text-align: right;\">\n",
       "      <th></th>\n",
       "      <th>District</th>\n",
       "      <th>Milking Cows No.</th>\n",
       "      <th>Milking Buffaloes No.</th>\n",
       "      <th>Cow Milk(Mt.)</th>\n",
       "      <th>Buffaloes Milk (Mt.)</th>\n",
       "      <th>Total Milk Produced (Mt.)</th>\n",
       "    </tr>\n",
       "  </thead>\n",
       "  <tbody>\n",
       "    <tr>\n",
       "      <th>0</th>\n",
       "      <td>BHOJPUR</td>\n",
       "      <td>15006</td>\n",
       "      <td>17001</td>\n",
       "      <td>8543</td>\n",
       "      <td>9751</td>\n",
       "      <td>18294</td>\n",
       "    </tr>\n",
       "    <tr>\n",
       "      <th>1</th>\n",
       "      <td>DHANKUTA</td>\n",
       "      <td>14951</td>\n",
       "      <td>5896</td>\n",
       "      <td>10117</td>\n",
       "      <td>3957</td>\n",
       "      <td>14074</td>\n",
       "    </tr>\n",
       "    <tr>\n",
       "      <th>2</th>\n",
       "      <td>ILAM</td>\n",
       "      <td>23707</td>\n",
       "      <td>7634</td>\n",
       "      <td>26483</td>\n",
       "      <td>5948</td>\n",
       "      <td>32431</td>\n",
       "    </tr>\n",
       "    <tr>\n",
       "      <th>3</th>\n",
       "      <td>JHAPA</td>\n",
       "      <td>56405</td>\n",
       "      <td>26920</td>\n",
       "      <td>62578</td>\n",
       "      <td>23743</td>\n",
       "      <td>86320</td>\n",
       "    </tr>\n",
       "    <tr>\n",
       "      <th>4</th>\n",
       "      <td>KHOTANG</td>\n",
       "      <td>13680</td>\n",
       "      <td>16916</td>\n",
       "      <td>7716</td>\n",
       "      <td>9978</td>\n",
       "      <td>17693</td>\n",
       "    </tr>\n",
       "  </tbody>\n",
       "</table>\n",
       "</div>"
      ],
      "text/plain": [
       "   District  Milking Cows No. Milking Buffaloes No.  Cow Milk(Mt.)  \\\n",
       "0   BHOJPUR             15006                 17001           8543   \n",
       "1  DHANKUTA             14951                  5896          10117   \n",
       "2      ILAM             23707                  7634          26483   \n",
       "3     JHAPA             56405                 26920          62578   \n",
       "4   KHOTANG             13680                 16916           7716   \n",
       "\n",
       "  Buffaloes Milk (Mt.)  Total Milk Produced (Mt.)  \n",
       "0                 9751                      18294  \n",
       "1                 3957                      14074  \n",
       "2                 5948                      32431  \n",
       "3                23743                      86320  \n",
       "4                 9978                      17693  "
      ]
     },
     "execution_count": 2,
     "metadata": {},
     "output_type": "execute_result"
    }
   ],
   "source": [
    "df=pd.read_csv(\"Milking Population.csv\")\n",
    "df.head()"
   ]
  },
  {
   "cell_type": "markdown",
   "id": "f8cbd3e2",
   "metadata": {},
   "source": [
    "## 3. Understanding Datasets "
   ]
  },
  {
   "cell_type": "code",
   "execution_count": 3,
   "id": "9b756704",
   "metadata": {},
   "outputs": [
    {
     "data": {
      "text/plain": [
       "(77, 6)"
      ]
     },
     "execution_count": 3,
     "metadata": {},
     "output_type": "execute_result"
    }
   ],
   "source": [
    "df.shape"
   ]
  },
  {
   "cell_type": "markdown",
   "id": "d2c94ae9",
   "metadata": {},
   "source": [
    "this datasets contain 77 rows and 6 columns"
   ]
  },
  {
   "cell_type": "code",
   "execution_count": 4,
   "id": "1b9d2481",
   "metadata": {},
   "outputs": [
    {
     "name": "stdout",
     "output_type": "stream",
     "text": [
      "<class 'pandas.core.frame.DataFrame'>\n",
      "RangeIndex: 77 entries, 0 to 76\n",
      "Data columns (total 6 columns):\n",
      " #   Column                     Non-Null Count  Dtype \n",
      "---  ------                     --------------  ----- \n",
      " 0   District                   77 non-null     object\n",
      " 1   Milking Cows No.           77 non-null     int64 \n",
      " 2   Milking Buffaloes No.      77 non-null     object\n",
      " 3   Cow Milk(Mt.)              77 non-null     int64 \n",
      " 4   Buffaloes Milk (Mt.)       77 non-null     object\n",
      " 5   Total Milk Produced (Mt.)  77 non-null     int64 \n",
      "dtypes: int64(3), object(3)\n",
      "memory usage: 3.7+ KB\n"
     ]
    }
   ],
   "source": [
    "df.info()"
   ]
  },
  {
   "cell_type": "markdown",
   "id": "381e32d8",
   "metadata": {},
   "source": [
    "as we see is there no null value but datatype of numeric column is object instead of int , so change datatype of column"
   ]
  },
  {
   "cell_type": "code",
   "execution_count": 5,
   "id": "f84ab391",
   "metadata": {},
   "outputs": [
    {
     "data": {
      "text/html": [
       "<div>\n",
       "<style scoped>\n",
       "    .dataframe tbody tr th:only-of-type {\n",
       "        vertical-align: middle;\n",
       "    }\n",
       "\n",
       "    .dataframe tbody tr th {\n",
       "        vertical-align: top;\n",
       "    }\n",
       "\n",
       "    .dataframe thead th {\n",
       "        text-align: right;\n",
       "    }\n",
       "</style>\n",
       "<table border=\"1\" class=\"dataframe\">\n",
       "  <thead>\n",
       "    <tr style=\"text-align: right;\">\n",
       "      <th></th>\n",
       "      <th>District</th>\n",
       "      <th>Milking Cows No.</th>\n",
       "      <th>Milking Buffaloes No.</th>\n",
       "      <th>Cow Milk(Mt.)</th>\n",
       "      <th>Buffaloes Milk (Mt.)</th>\n",
       "      <th>Total Milk Produced (Mt.)</th>\n",
       "    </tr>\n",
       "  </thead>\n",
       "  <tbody>\n",
       "    <tr>\n",
       "      <th>0</th>\n",
       "      <td>BHOJPUR</td>\n",
       "      <td>15006</td>\n",
       "      <td>17001</td>\n",
       "      <td>8543</td>\n",
       "      <td>9751</td>\n",
       "      <td>18294</td>\n",
       "    </tr>\n",
       "    <tr>\n",
       "      <th>1</th>\n",
       "      <td>DHANKUTA</td>\n",
       "      <td>14951</td>\n",
       "      <td>5896</td>\n",
       "      <td>10117</td>\n",
       "      <td>3957</td>\n",
       "      <td>14074</td>\n",
       "    </tr>\n",
       "    <tr>\n",
       "      <th>2</th>\n",
       "      <td>ILAM</td>\n",
       "      <td>23707</td>\n",
       "      <td>7634</td>\n",
       "      <td>26483</td>\n",
       "      <td>5948</td>\n",
       "      <td>32431</td>\n",
       "    </tr>\n",
       "    <tr>\n",
       "      <th>3</th>\n",
       "      <td>JHAPA</td>\n",
       "      <td>56405</td>\n",
       "      <td>26920</td>\n",
       "      <td>62578</td>\n",
       "      <td>23743</td>\n",
       "      <td>86320</td>\n",
       "    </tr>\n",
       "    <tr>\n",
       "      <th>4</th>\n",
       "      <td>KHOTANG</td>\n",
       "      <td>13680</td>\n",
       "      <td>16916</td>\n",
       "      <td>7716</td>\n",
       "      <td>9978</td>\n",
       "      <td>17693</td>\n",
       "    </tr>\n",
       "    <tr>\n",
       "      <th>5</th>\n",
       "      <td>MORANG</td>\n",
       "      <td>78354</td>\n",
       "      <td>36589</td>\n",
       "      <td>87290</td>\n",
       "      <td>32623</td>\n",
       "      <td>119913</td>\n",
       "    </tr>\n",
       "    <tr>\n",
       "      <th>6</th>\n",
       "      <td>OKHALDHUNGA</td>\n",
       "      <td>8396</td>\n",
       "      <td>14113</td>\n",
       "      <td>4890</td>\n",
       "      <td>9452</td>\n",
       "      <td>14342</td>\n",
       "    </tr>\n",
       "    <tr>\n",
       "      <th>7</th>\n",
       "      <td>PANCHTHAR</td>\n",
       "      <td>15248</td>\n",
       "      <td>12168</td>\n",
       "      <td>10050</td>\n",
       "      <td>8560</td>\n",
       "      <td>18611</td>\n",
       "    </tr>\n",
       "    <tr>\n",
       "      <th>8</th>\n",
       "      <td>SANKHUWASABHA</td>\n",
       "      <td>15133</td>\n",
       "      <td>11515</td>\n",
       "      <td>9160</td>\n",
       "      <td>7443</td>\n",
       "      <td>16603</td>\n",
       "    </tr>\n",
       "    <tr>\n",
       "      <th>9</th>\n",
       "      <td>SOLUKHUMBU</td>\n",
       "      <td>7372</td>\n",
       "      <td>11288</td>\n",
       "      <td>4449</td>\n",
       "      <td>6897</td>\n",
       "      <td>11346</td>\n",
       "    </tr>\n",
       "    <tr>\n",
       "      <th>10</th>\n",
       "      <td>SUNSARI</td>\n",
       "      <td>54002</td>\n",
       "      <td>58136</td>\n",
       "      <td>62917</td>\n",
       "      <td>54433</td>\n",
       "      <td>117350</td>\n",
       "    </tr>\n",
       "    <tr>\n",
       "      <th>11</th>\n",
       "      <td>TAPLEJUNG</td>\n",
       "      <td>7207</td>\n",
       "      <td>5005</td>\n",
       "      <td>4025</td>\n",
       "      <td>2925</td>\n",
       "      <td>6950</td>\n",
       "    </tr>\n",
       "    <tr>\n",
       "      <th>12</th>\n",
       "      <td>TERHATHUM</td>\n",
       "      <td>9218</td>\n",
       "      <td>7897</td>\n",
       "      <td>6103</td>\n",
       "      <td>5420</td>\n",
       "      <td>11523</td>\n",
       "    </tr>\n",
       "    <tr>\n",
       "      <th>13</th>\n",
       "      <td>UDAYAPUR</td>\n",
       "      <td>20675</td>\n",
       "      <td>33261</td>\n",
       "      <td>16861</td>\n",
       "      <td>24252</td>\n",
       "      <td>41113</td>\n",
       "    </tr>\n",
       "    <tr>\n",
       "      <th>14</th>\n",
       "      <td>BARA</td>\n",
       "      <td>25455</td>\n",
       "      <td>54432</td>\n",
       "      <td>24445</td>\n",
       "      <td>50748</td>\n",
       "      <td>75193</td>\n",
       "    </tr>\n",
       "    <tr>\n",
       "      <th>15</th>\n",
       "      <td>DHANUSHA</td>\n",
       "      <td>24656</td>\n",
       "      <td>23240</td>\n",
       "      <td>22476</td>\n",
       "      <td>20876</td>\n",
       "      <td>43352</td>\n",
       "    </tr>\n",
       "    <tr>\n",
       "      <th>16</th>\n",
       "      <td>MAHOTTARI</td>\n",
       "      <td>20893</td>\n",
       "      <td>24494</td>\n",
       "      <td>18071</td>\n",
       "      <td>21873</td>\n",
       "      <td>39945</td>\n",
       "    </tr>\n",
       "    <tr>\n",
       "      <th>17</th>\n",
       "      <td>PARSA</td>\n",
       "      <td>13962</td>\n",
       "      <td>19475</td>\n",
       "      <td>14443</td>\n",
       "      <td>18689</td>\n",
       "      <td>33132</td>\n",
       "    </tr>\n",
       "    <tr>\n",
       "      <th>18</th>\n",
       "      <td>RAUTAHAT</td>\n",
       "      <td>20698</td>\n",
       "      <td>27392</td>\n",
       "      <td>15741</td>\n",
       "      <td>25674</td>\n",
       "      <td>41415</td>\n",
       "    </tr>\n",
       "    <tr>\n",
       "      <th>19</th>\n",
       "      <td>SAPTARI</td>\n",
       "      <td>40567</td>\n",
       "      <td>64004</td>\n",
       "      <td>35271</td>\n",
       "      <td>61770</td>\n",
       "      <td>97042</td>\n",
       "    </tr>\n",
       "  </tbody>\n",
       "</table>\n",
       "</div>"
      ],
      "text/plain": [
       "         District  Milking Cows No. Milking Buffaloes No.  Cow Milk(Mt.)  \\\n",
       "0         BHOJPUR             15006                 17001           8543   \n",
       "1        DHANKUTA             14951                  5896          10117   \n",
       "2            ILAM             23707                  7634          26483   \n",
       "3           JHAPA             56405                 26920          62578   \n",
       "4         KHOTANG             13680                 16916           7716   \n",
       "5          MORANG             78354                 36589          87290   \n",
       "6     OKHALDHUNGA              8396                 14113           4890   \n",
       "7       PANCHTHAR             15248                 12168          10050   \n",
       "8   SANKHUWASABHA             15133                 11515           9160   \n",
       "9      SOLUKHUMBU              7372                 11288           4449   \n",
       "10        SUNSARI             54002                 58136          62917   \n",
       "11      TAPLEJUNG              7207                  5005           4025   \n",
       "12      TERHATHUM              9218                  7897           6103   \n",
       "13       UDAYAPUR             20675                 33261          16861   \n",
       "14           BARA             25455                 54432          24445   \n",
       "15       DHANUSHA             24656                 23240          22476   \n",
       "16      MAHOTTARI             20893                 24494          18071   \n",
       "17          PARSA             13962                 19475          14443   \n",
       "18       RAUTAHAT             20698                 27392          15741   \n",
       "19        SAPTARI             40567                 64004          35271   \n",
       "\n",
       "   Buffaloes Milk (Mt.)  Total Milk Produced (Mt.)  \n",
       "0                  9751                      18294  \n",
       "1                  3957                      14074  \n",
       "2                  5948                      32431  \n",
       "3                 23743                      86320  \n",
       "4                  9978                      17693  \n",
       "5                 32623                     119913  \n",
       "6                  9452                      14342  \n",
       "7                  8560                      18611  \n",
       "8                  7443                      16603  \n",
       "9                  6897                      11346  \n",
       "10                54433                     117350  \n",
       "11                 2925                       6950  \n",
       "12                 5420                      11523  \n",
       "13                24252                      41113  \n",
       "14                50748                      75193  \n",
       "15                20876                      43352  \n",
       "16                21873                      39945  \n",
       "17                18689                      33132  \n",
       "18                25674                      41415  \n",
       "19                61770                      97042  "
      ]
     },
     "execution_count": 5,
     "metadata": {},
     "output_type": "execute_result"
    }
   ],
   "source": [
    "df1=df.replace('-', 0)\n",
    "\n",
    "df1.head(20)"
   ]
  },
  {
   "cell_type": "code",
   "execution_count": 6,
   "id": "11884ab2",
   "metadata": {},
   "outputs": [
    {
     "name": "stdout",
     "output_type": "stream",
     "text": [
      "      District  Milking Cows No.  Milking Buffaloes No.  Cow Milk(Mt.)  \\\n",
      "0      BHOJPUR             15006                  17001           8543   \n",
      "1     DHANKUTA             14951                   5896          10117   \n",
      "2         ILAM             23707                   7634          26483   \n",
      "3        JHAPA             56405                  26920          62578   \n",
      "4      KHOTANG             13680                  16916           7716   \n",
      "..         ...               ...                    ...            ...   \n",
      "72  DADELDHURA             15392                   6187           9476   \n",
      "73    DARCHULA             10199                   7936           4639   \n",
      "74        DOTI             17447                  16390          10687   \n",
      "75     KAILALI             35617                  54882          34589   \n",
      "76  KANCHANPUR             27164                  37469          25573   \n",
      "\n",
      "    Buffaloes Milk (Mt.)  Total Milk Produced (Mt.)  \n",
      "0                   9751                      18294  \n",
      "1                   3957                      14074  \n",
      "2                   5948                      32431  \n",
      "3                  23743                      86320  \n",
      "4                   9978                      17693  \n",
      "..                   ...                        ...  \n",
      "72                  4822                      14298  \n",
      "73                  5035                       9674  \n",
      "74                 13310                      23997  \n",
      "75                 51472                      86061  \n",
      "76                 34852                      60426  \n",
      "\n",
      "[77 rows x 6 columns]\n"
     ]
    }
   ],
   "source": [
    "columns_to_convert_int = ['Milking Buffaloes No.', 'Buffaloes Milk (Mt.)']\n",
    "\n",
    "# Convert - to int for selected columns\n",
    "for col in columns_to_convert_int:\n",
    "    df1[col] = df1[col].replace(0, 0).astype(int)\n",
    "\n",
    "print(df1)"
   ]
  },
  {
   "cell_type": "code",
   "execution_count": 7,
   "id": "c691595e",
   "metadata": {},
   "outputs": [
    {
     "data": {
      "text/html": [
       "<div>\n",
       "<style scoped>\n",
       "    .dataframe tbody tr th:only-of-type {\n",
       "        vertical-align: middle;\n",
       "    }\n",
       "\n",
       "    .dataframe tbody tr th {\n",
       "        vertical-align: top;\n",
       "    }\n",
       "\n",
       "    .dataframe thead th {\n",
       "        text-align: right;\n",
       "    }\n",
       "</style>\n",
       "<table border=\"1\" class=\"dataframe\">\n",
       "  <thead>\n",
       "    <tr style=\"text-align: right;\">\n",
       "      <th></th>\n",
       "      <th>District</th>\n",
       "      <th>Milking Cows No.</th>\n",
       "      <th>Milking Buffaloes No.</th>\n",
       "      <th>Cow Milk(Mt.)</th>\n",
       "      <th>Buffaloes Milk (Mt.)</th>\n",
       "      <th>Total Milk Produced (Mt.)</th>\n",
       "    </tr>\n",
       "  </thead>\n",
       "  <tbody>\n",
       "    <tr>\n",
       "      <th>57</th>\n",
       "      <td>RUPANDEHI</td>\n",
       "      <td>21048</td>\n",
       "      <td>64089</td>\n",
       "      <td>25820</td>\n",
       "      <td>55723</td>\n",
       "      <td>81543</td>\n",
       "    </tr>\n",
       "    <tr>\n",
       "      <th>58</th>\n",
       "      <td>DAILEKH</td>\n",
       "      <td>12126</td>\n",
       "      <td>18318</td>\n",
       "      <td>7451</td>\n",
       "      <td>12904</td>\n",
       "      <td>20355</td>\n",
       "    </tr>\n",
       "    <tr>\n",
       "      <th>59</th>\n",
       "      <td>DOLPA</td>\n",
       "      <td>3333</td>\n",
       "      <td>1005</td>\n",
       "      <td>1645</td>\n",
       "      <td>586</td>\n",
       "      <td>2230</td>\n",
       "    </tr>\n",
       "    <tr>\n",
       "      <th>60</th>\n",
       "      <td>HUMLA</td>\n",
       "      <td>2554</td>\n",
       "      <td>852</td>\n",
       "      <td>1261</td>\n",
       "      <td>493</td>\n",
       "      <td>1753</td>\n",
       "    </tr>\n",
       "    <tr>\n",
       "      <th>61</th>\n",
       "      <td>JAJARKOT</td>\n",
       "      <td>5914</td>\n",
       "      <td>9016</td>\n",
       "      <td>2920</td>\n",
       "      <td>6326</td>\n",
       "      <td>9246</td>\n",
       "    </tr>\n",
       "    <tr>\n",
       "      <th>62</th>\n",
       "      <td>JUMLA</td>\n",
       "      <td>8977</td>\n",
       "      <td>1047</td>\n",
       "      <td>4676</td>\n",
       "      <td>640</td>\n",
       "      <td>5315</td>\n",
       "    </tr>\n",
       "    <tr>\n",
       "      <th>63</th>\n",
       "      <td>KALIKOT</td>\n",
       "      <td>3334</td>\n",
       "      <td>8513</td>\n",
       "      <td>1724</td>\n",
       "      <td>4914</td>\n",
       "      <td>6637</td>\n",
       "    </tr>\n",
       "    <tr>\n",
       "      <th>64</th>\n",
       "      <td>MUGU</td>\n",
       "      <td>5523</td>\n",
       "      <td>3827</td>\n",
       "      <td>2856</td>\n",
       "      <td>2339</td>\n",
       "      <td>5194</td>\n",
       "    </tr>\n",
       "    <tr>\n",
       "      <th>65</th>\n",
       "      <td>RUKUM WEST</td>\n",
       "      <td>3980</td>\n",
       "      <td>14536</td>\n",
       "      <td>2764</td>\n",
       "      <td>10590</td>\n",
       "      <td>13354</td>\n",
       "    </tr>\n",
       "    <tr>\n",
       "      <th>66</th>\n",
       "      <td>SALYAN</td>\n",
       "      <td>19307</td>\n",
       "      <td>21846</td>\n",
       "      <td>13622</td>\n",
       "      <td>17031</td>\n",
       "      <td>30653</td>\n",
       "    </tr>\n",
       "    <tr>\n",
       "      <th>67</th>\n",
       "      <td>SURKHET</td>\n",
       "      <td>8602</td>\n",
       "      <td>13617</td>\n",
       "      <td>6722</td>\n",
       "      <td>11294</td>\n",
       "      <td>18016</td>\n",
       "    </tr>\n",
       "    <tr>\n",
       "      <th>68</th>\n",
       "      <td>ACHHAM</td>\n",
       "      <td>7375</td>\n",
       "      <td>9556</td>\n",
       "      <td>3908</td>\n",
       "      <td>7411</td>\n",
       "      <td>11319</td>\n",
       "    </tr>\n",
       "    <tr>\n",
       "      <th>69</th>\n",
       "      <td>BAITADI</td>\n",
       "      <td>19448</td>\n",
       "      <td>15534</td>\n",
       "      <td>11886</td>\n",
       "      <td>12054</td>\n",
       "      <td>23940</td>\n",
       "    </tr>\n",
       "    <tr>\n",
       "      <th>70</th>\n",
       "      <td>BAJHANG</td>\n",
       "      <td>13292</td>\n",
       "      <td>8963</td>\n",
       "      <td>7643</td>\n",
       "      <td>6319</td>\n",
       "      <td>13962</td>\n",
       "    </tr>\n",
       "    <tr>\n",
       "      <th>71</th>\n",
       "      <td>BAJURA</td>\n",
       "      <td>14399</td>\n",
       "      <td>6136</td>\n",
       "      <td>7537</td>\n",
       "      <td>4349</td>\n",
       "      <td>11886</td>\n",
       "    </tr>\n",
       "    <tr>\n",
       "      <th>72</th>\n",
       "      <td>DADELDHURA</td>\n",
       "      <td>15392</td>\n",
       "      <td>6187</td>\n",
       "      <td>9476</td>\n",
       "      <td>4822</td>\n",
       "      <td>14298</td>\n",
       "    </tr>\n",
       "    <tr>\n",
       "      <th>73</th>\n",
       "      <td>DARCHULA</td>\n",
       "      <td>10199</td>\n",
       "      <td>7936</td>\n",
       "      <td>4639</td>\n",
       "      <td>5035</td>\n",
       "      <td>9674</td>\n",
       "    </tr>\n",
       "    <tr>\n",
       "      <th>74</th>\n",
       "      <td>DOTI</td>\n",
       "      <td>17447</td>\n",
       "      <td>16390</td>\n",
       "      <td>10687</td>\n",
       "      <td>13310</td>\n",
       "      <td>23997</td>\n",
       "    </tr>\n",
       "    <tr>\n",
       "      <th>75</th>\n",
       "      <td>KAILALI</td>\n",
       "      <td>35617</td>\n",
       "      <td>54882</td>\n",
       "      <td>34589</td>\n",
       "      <td>51472</td>\n",
       "      <td>86061</td>\n",
       "    </tr>\n",
       "    <tr>\n",
       "      <th>76</th>\n",
       "      <td>KANCHANPUR</td>\n",
       "      <td>27164</td>\n",
       "      <td>37469</td>\n",
       "      <td>25573</td>\n",
       "      <td>34852</td>\n",
       "      <td>60426</td>\n",
       "    </tr>\n",
       "  </tbody>\n",
       "</table>\n",
       "</div>"
      ],
      "text/plain": [
       "      District  Milking Cows No.  Milking Buffaloes No.  Cow Milk(Mt.)  \\\n",
       "57   RUPANDEHI             21048                  64089          25820   \n",
       "58     DAILEKH             12126                  18318           7451   \n",
       "59       DOLPA              3333                   1005           1645   \n",
       "60       HUMLA              2554                    852           1261   \n",
       "61    JAJARKOT              5914                   9016           2920   \n",
       "62       JUMLA              8977                   1047           4676   \n",
       "63     KALIKOT              3334                   8513           1724   \n",
       "64        MUGU              5523                   3827           2856   \n",
       "65  RUKUM WEST              3980                  14536           2764   \n",
       "66      SALYAN             19307                  21846          13622   \n",
       "67     SURKHET              8602                  13617           6722   \n",
       "68      ACHHAM              7375                   9556           3908   \n",
       "69     BAITADI             19448                  15534          11886   \n",
       "70     BAJHANG             13292                   8963           7643   \n",
       "71      BAJURA             14399                   6136           7537   \n",
       "72  DADELDHURA             15392                   6187           9476   \n",
       "73    DARCHULA             10199                   7936           4639   \n",
       "74        DOTI             17447                  16390          10687   \n",
       "75     KAILALI             35617                  54882          34589   \n",
       "76  KANCHANPUR             27164                  37469          25573   \n",
       "\n",
       "    Buffaloes Milk (Mt.)  Total Milk Produced (Mt.)  \n",
       "57                 55723                      81543  \n",
       "58                 12904                      20355  \n",
       "59                   586                       2230  \n",
       "60                   493                       1753  \n",
       "61                  6326                       9246  \n",
       "62                   640                       5315  \n",
       "63                  4914                       6637  \n",
       "64                  2339                       5194  \n",
       "65                 10590                      13354  \n",
       "66                 17031                      30653  \n",
       "67                 11294                      18016  \n",
       "68                  7411                      11319  \n",
       "69                 12054                      23940  \n",
       "70                  6319                      13962  \n",
       "71                  4349                      11886  \n",
       "72                  4822                      14298  \n",
       "73                  5035                       9674  \n",
       "74                 13310                      23997  \n",
       "75                 51472                      86061  \n",
       "76                 34852                      60426  "
      ]
     },
     "execution_count": 7,
     "metadata": {},
     "output_type": "execute_result"
    }
   ],
   "source": [
    "df1.tail(20)"
   ]
  },
  {
   "cell_type": "code",
   "execution_count": 8,
   "id": "587fd6a6",
   "metadata": {},
   "outputs": [
    {
     "name": "stdout",
     "output_type": "stream",
     "text": [
      "<class 'pandas.core.frame.DataFrame'>\n",
      "RangeIndex: 77 entries, 0 to 76\n",
      "Data columns (total 6 columns):\n",
      " #   Column                     Non-Null Count  Dtype \n",
      "---  ------                     --------------  ----- \n",
      " 0   District                   77 non-null     object\n",
      " 1   Milking Cows No.           77 non-null     int64 \n",
      " 2   Milking Buffaloes No.      77 non-null     int32 \n",
      " 3   Cow Milk(Mt.)              77 non-null     int64 \n",
      " 4   Buffaloes Milk (Mt.)       77 non-null     int32 \n",
      " 5   Total Milk Produced (Mt.)  77 non-null     int64 \n",
      "dtypes: int32(2), int64(3), object(1)\n",
      "memory usage: 3.1+ KB\n"
     ]
    }
   ],
   "source": [
    "df1.info()"
   ]
  },
  {
   "cell_type": "markdown",
   "id": "80bd6cd6",
   "metadata": {},
   "source": [
    "###  looking statistic information"
   ]
  },
  {
   "cell_type": "code",
   "execution_count": 9,
   "id": "e1075950",
   "metadata": {},
   "outputs": [
    {
     "data": {
      "text/html": [
       "<div>\n",
       "<style scoped>\n",
       "    .dataframe tbody tr th:only-of-type {\n",
       "        vertical-align: middle;\n",
       "    }\n",
       "\n",
       "    .dataframe tbody tr th {\n",
       "        vertical-align: top;\n",
       "    }\n",
       "\n",
       "    .dataframe thead th {\n",
       "        text-align: right;\n",
       "    }\n",
       "</style>\n",
       "<table border=\"1\" class=\"dataframe\">\n",
       "  <thead>\n",
       "    <tr style=\"text-align: right;\">\n",
       "      <th></th>\n",
       "      <th>Milking Cows No.</th>\n",
       "      <th>Milking Buffaloes No.</th>\n",
       "      <th>Cow Milk(Mt.)</th>\n",
       "      <th>Buffaloes Milk (Mt.)</th>\n",
       "      <th>Total Milk Produced (Mt.)</th>\n",
       "    </tr>\n",
       "  </thead>\n",
       "  <tbody>\n",
       "    <tr>\n",
       "      <th>count</th>\n",
       "      <td>77.000000</td>\n",
       "      <td>77.000000</td>\n",
       "      <td>77.000000</td>\n",
       "      <td>77.000000</td>\n",
       "      <td>77.000000</td>\n",
       "    </tr>\n",
       "    <tr>\n",
       "      <th>mean</th>\n",
       "      <td>15883.909091</td>\n",
       "      <td>21647.116883</td>\n",
       "      <td>14309.246753</td>\n",
       "      <td>19023.415584</td>\n",
       "      <td>33332.662338</td>\n",
       "    </tr>\n",
       "    <tr>\n",
       "      <th>std</th>\n",
       "      <td>13066.818114</td>\n",
       "      <td>16231.796851</td>\n",
       "      <td>14883.315654</td>\n",
       "      <td>15450.042469</td>\n",
       "      <td>27524.056136</td>\n",
       "    </tr>\n",
       "    <tr>\n",
       "      <th>min</th>\n",
       "      <td>367.000000</td>\n",
       "      <td>0.000000</td>\n",
       "      <td>168.000000</td>\n",
       "      <td>0.000000</td>\n",
       "      <td>168.000000</td>\n",
       "    </tr>\n",
       "    <tr>\n",
       "      <th>25%</th>\n",
       "      <td>7207.000000</td>\n",
       "      <td>9016.000000</td>\n",
       "      <td>4639.000000</td>\n",
       "      <td>6326.000000</td>\n",
       "      <td>13354.000000</td>\n",
       "    </tr>\n",
       "    <tr>\n",
       "      <th>50%</th>\n",
       "      <td>13680.000000</td>\n",
       "      <td>18681.000000</td>\n",
       "      <td>9527.000000</td>\n",
       "      <td>15849.000000</td>\n",
       "      <td>26193.000000</td>\n",
       "    </tr>\n",
       "    <tr>\n",
       "      <th>75%</th>\n",
       "      <td>20429.000000</td>\n",
       "      <td>28992.000000</td>\n",
       "      <td>18898.000000</td>\n",
       "      <td>26408.000000</td>\n",
       "      <td>43204.000000</td>\n",
       "    </tr>\n",
       "    <tr>\n",
       "      <th>max</th>\n",
       "      <td>78354.000000</td>\n",
       "      <td>64089.000000</td>\n",
       "      <td>87290.000000</td>\n",
       "      <td>61770.000000</td>\n",
       "      <td>119913.000000</td>\n",
       "    </tr>\n",
       "  </tbody>\n",
       "</table>\n",
       "</div>"
      ],
      "text/plain": [
       "       Milking Cows No.  Milking Buffaloes No.  Cow Milk(Mt.)  \\\n",
       "count         77.000000              77.000000      77.000000   \n",
       "mean       15883.909091           21647.116883   14309.246753   \n",
       "std        13066.818114           16231.796851   14883.315654   \n",
       "min          367.000000               0.000000     168.000000   \n",
       "25%         7207.000000            9016.000000    4639.000000   \n",
       "50%        13680.000000           18681.000000    9527.000000   \n",
       "75%        20429.000000           28992.000000   18898.000000   \n",
       "max        78354.000000           64089.000000   87290.000000   \n",
       "\n",
       "       Buffaloes Milk (Mt.)  Total Milk Produced (Mt.)  \n",
       "count             77.000000                  77.000000  \n",
       "mean           19023.415584               33332.662338  \n",
       "std            15450.042469               27524.056136  \n",
       "min                0.000000                 168.000000  \n",
       "25%             6326.000000               13354.000000  \n",
       "50%            15849.000000               26193.000000  \n",
       "75%            26408.000000               43204.000000  \n",
       "max            61770.000000              119913.000000  "
      ]
     },
     "execution_count": 9,
     "metadata": {},
     "output_type": "execute_result"
    }
   ],
   "source": [
    "df1.describe()"
   ]
  },
  {
   "cell_type": "markdown",
   "id": "e58554d2",
   "metadata": {},
   "source": [
    "#### Let's see if there is outlier or not through boxplot "
   ]
  },
  {
   "cell_type": "code",
   "execution_count": 10,
   "id": "7a28fb2e",
   "metadata": {},
   "outputs": [
    {
     "data": {
      "image/png": "[encoded data removed]",
      "text/plain": [
       "<Figure size 1200x800 with 4 Axes>"
      ]
     },
     "metadata": {},
     "output_type": "display_data"
    }
   ],
   "source": [
    "import matplotlib.pyplot as plt\n",
    "\n",
    "# Plot box plots to visualize outliers\n",
    "plt.figure(figsize=(12, 8))\n",
    "\n",
    "plt.subplot(2, 2, 1)\n",
    "plt.boxplot(df1['Milking Cows No.'])\n",
    "plt.title('Milking Cow Number')\n",
    "\n",
    "plt.subplot(2, 2, 2)\n",
    "plt.boxplot(df1['Milking Buffaloes No.'])\n",
    "plt.title('Milking Buffaloes Number')\n",
    "\n",
    " \n",
    "plt.subplot(2, 2, 3)\n",
    "plt.boxplot(df1['Cow Milk(Mt.)'])\n",
    "plt.title('Cow Milk Produced')\n",
    "\n",
    "plt.subplot(2, 2, 4)\n",
    "plt.boxplot(df1['Buffaloes Milk (Mt.)'])\n",
    "plt.title('Buffaloes Milk Produced')\n",
    "\n",
    "plt.tight_layout()\n",
    "plt.show()"
   ]
  },
  {
   "cell_type": "markdown",
   "id": "9fbf2529",
   "metadata": {},
   "source": [
    "Vas we see there are some outlier but they are genuine and relevant to analysis,so decide to keep them."
   ]
  },
  {
   "cell_type": "markdown",
   "id": "bc79bd9e",
   "metadata": {},
   "source": [
    "## 4. visualize the datasets "
   ]
  },
  {
   "cell_type": "code",
   "execution_count": 13,
   "id": "cfb03cb5",
   "metadata": {},
   "outputs": [
    {
     "data": {
      "application/vnd.plotly.v1+json": {
       "config": {
        "plotlyServerURL": "https://plot.ly"
       },
       "data": [
        {
         "alignmentgroup": "True",
         "hovertemplate": "Measure=Milking Cows No.<br>District=%{x}<br>Count/Production=%{y}<extra></extra>",
         "legendgroup": "Milking Cows No.",
         "marker": {
          "color": "#636efa",
          "pattern": {
           "shape": ""
          }
         },
         "name": "Milking Cows No.",
         "offsetgroup": "Milking Cows No.",
         "orientation": "v",
         "showlegend": true,
         "textposition": "auto",
         "type": "bar",
         "x": [
          "BHOJPUR",
          "DHANKUTA",
          "ILAM",
          "JHAPA",
          "KHOTANG",
          "MORANG",
          "OKHALDHUNGA",
          "PANCHTHAR",
          "SANKHUWASABHA",
          "SOLUKHUMBU",
          "SUNSARI",
          "TAPLEJUNG",
          "TERHATHUM",
          "UDAYAPUR",
          "BARA",
          "DHANUSHA",
          "MAHOTTARI",
          "PARSA",
          "RAUTAHAT",
          "SAPTARI",
          "SARLAHI",
          "SIRAHA",
          "BHAKTAPUR",
          "CHITWAN",
          "DHADING",
          "DOLAKHA",
          "KATHMANDU",
          "KABHREPALAN- CHOK",
          "LALITPUR",
          "MAKWANPUR",
          "NUWAKOT",
          "RAMECHHAP",
          "RASUWA",
          "SINDHULI",
          "SINDHUPALCHOK",
          "BAGLUNG",
          "GORKHA",
          "KASKI",
          "LAMJUNG",
          "MANANG",
          "MUSTANG",
          "MYAGDI",
          "NAWALPARASI EAST",
          "PARBAT",
          "SYANGJA",
          "TANAHUN",
          "ARGHAKHANCHI",
          "BANKE",
          "BARDIYA",
          "DANG",
          "GULMI",
          "KAPILBASTU",
          "NAWALPARASI WEST",
          "PALPA",
          "PYUTHAN",
          "ROLPA",
          "RUKUM EAST",
          "RUPANDEHI",
          "DAILEKH",
          "DOLPA",
          "HUMLA",
          "JAJARKOT",
          "JUMLA",
          "KALIKOT",
          "MUGU",
          "RUKUM WEST",
          "SALYAN",
          "SURKHET",
          "ACHHAM",
          "BAITADI",
          "BAJHANG",
          "BAJURA",
          "DADELDHURA",
          "DARCHULA",
          "DOTI",
          "KAILALI",
          "KANCHANPUR"
         ],
         "xaxis": "x",
         "y": [
          15006,
          14951,
          23707,
          56405,
          13680,
          78354,
          8396,
          15248,
          15133,
          7372,
          54002,
          7207,
          9218,
          20675,
          25455,
          24656,
          20893,
          13962,
          20698,
          40567,
          34731,
          15077,
          5379,
          19853,
          20394,
          10936,
          11150,
          27476,
          4561,
          20429,
          20283,
          10084,
          2005,
          20939,
          9303,
          4511,
          12440,
          11831,
          4901,
          367,
          1075,
          5199,
          18421,
          3581,
          5204,
          12300,
          5741,
          34665,
          18516,
          22450,
          6910,
          24975,
          14107,
          11738,
          11588,
          16735,
          2590,
          21048,
          12126,
          3333,
          2554,
          5914,
          8977,
          3334,
          5523,
          3980,
          19307,
          8602,
          7375,
          19448,
          13292,
          14399,
          15392,
          10199,
          17447,
          35617,
          27164
         ],
         "yaxis": "y"
        },
        {
         "alignmentgroup": "True",
         "hovertemplate": "Measure=Cow Milk(Mt.)<br>District=%{x}<br>Count/Production=%{y}<extra></extra>",
         "legendgroup": "Cow Milk(Mt.)",
         "marker": {
          "color": "#EF553B",
          "pattern": {
           "shape": ""
          }
         },
         "name": "Cow Milk(Mt.)",
         "offsetgroup": "Cow Milk(Mt.)",
         "orientation": "v",
         "showlegend": true,
         "textposition": "auto",
         "type": "bar",
         "x": [
          "BHOJPUR",
          "DHANKUTA",
          "ILAM",
          "JHAPA",
          "KHOTANG",
          "MORANG",
          "OKHALDHUNGA",
          "PANCHTHAR",
          "SANKHUWASABHA",
          "SOLUKHUMBU",
          "SUNSARI",
          "TAPLEJUNG",
          "TERHATHUM",
          "UDAYAPUR",
          "BARA",
          "DHANUSHA",
          "MAHOTTARI",
          "PARSA",
          "RAUTAHAT",
          "SAPTARI",
          "SARLAHI",
          "SIRAHA",
          "BHAKTAPUR",
          "CHITWAN",
          "DHADING",
          "DOLAKHA",
          "KATHMANDU",
          "KABHREPALAN- CHOK",
          "LALITPUR",
          "MAKWANPUR",
          "NUWAKOT",
          "RAMECHHAP",
          "RASUWA",
          "SINDHULI",
          "SINDHUPALCHOK",
          "BAGLUNG",
          "GORKHA",
          "KASKI",
          "LAMJUNG",
          "MANANG",
          "MUSTANG",
          "MYAGDI",
          "NAWALPARASI EAST",
          "PARBAT",
          "SYANGJA",
          "TANAHUN",
          "ARGHAKHANCHI",
          "BANKE",
          "BARDIYA",
          "DANG",
          "GULMI",
          "KAPILBASTU",
          "NAWALPARASI WEST",
          "PALPA",
          "PYUTHAN",
          "ROLPA",
          "RUKUM EAST",
          "RUPANDEHI",
          "DAILEKH",
          "DOLPA",
          "HUMLA",
          "JAJARKOT",
          "JUMLA",
          "KALIKOT",
          "MUGU",
          "RUKUM WEST",
          "SALYAN",
          "SURKHET",
          "ACHHAM",
          "BAITADI",
          "BAJHANG",
          "BAJURA",
          "DADELDHURA",
          "DARCHULA",
          "DOTI",
          "KAILALI",
          "KANCHANPUR"
         ],
         "xaxis": "x",
         "y": [
          8543,
          10117,
          26483,
          62578,
          7716,
          87290,
          4890,
          10050,
          9160,
          4449,
          62917,
          4025,
          6103,
          16861,
          24445,
          22476,
          18071,
          14443,
          15741,
          35271,
          30042,
          11102,
          8678,
          31328,
          19438,
          8662,
          18348,
          32906,
          5478,
          21223,
          18898,
          9592,
          1187,
          21021,
          7294,
          3320,
          8860,
          13312,
          3662,
          168,
          610,
          3077,
          20579,
          2797,
          3819,
          10175,
          4329,
          32754,
          18487,
          18089,
          4775,
          25436,
          14880,
          9527,
          7112,
          10231,
          1588,
          25820,
          7451,
          1645,
          1261,
          2920,
          4676,
          1724,
          2856,
          2764,
          13622,
          6722,
          3908,
          11886,
          7643,
          7537,
          9476,
          4639,
          10687,
          34589,
          25573
         ],
         "yaxis": "y"
        }
       ],
       "layout": {
        "barmode": "group",
        "height": 600,
        "legend": {
         "title": {
          "text": "Measure"
         },
         "tracegroupgap": 0
        },
        "template": {
         "data": {
          "bar": [
           {
            "error_x": {
             "color": "#2a3f5f"
            },
            "error_y": {
             "color": "#2a3f5f"
            },
            "marker": {
             "line": {
              "color": "#E5ECF6",
              "width": 0.5
             },
             "pattern": {
              "fillmode": "overlay",
              "size": 10,
              "solidity": 0.2
             }
            },
            "type": "bar"
           }
          ],
          "barpolar": [
           {
            "marker": {
             "line": {
              "color": "#E5ECF6",
              "width": 0.5
             },
             "pattern": {
              "fillmode": "overlay",
              "size": 10,
              "solidity": 0.2
             }
            },
            "type": "barpolar"
           }
          ],
          "carpet": [
           {
            "aaxis": {
             "endlinecolor": "#2a3f5f",
             "gridcolor": "white",
             "linecolor": "white",
             "minorgridcolor": "white",
             "startlinecolor": "#2a3f5f"
            },
            "baxis": {
             "endlinecolor": "#2a3f5f",
             "gridcolor": "white",
             "linecolor": "white",
             "minorgridcolor": "white",
             "startlinecolor": "#2a3f5f"
            },
            "type": "carpet"
           }
          ],
          "choropleth": [
           {
            "colorbar": {
             "outlinewidth": 0,
             "ticks": ""
            },
            "type": "choropleth"
           }
          ],
          "contour": [
           {
            "colorbar": {
             "outlinewidth": 0,
             "ticks": ""
            },
            "colorscale": [
             [
              0,
              "#0d0887"
             ],
             [
              0.1111111111111111,
              "#46039f"
             ],
             [
              0.2222222222222222,
              "#7201a8"
             ],
             [
              0.3333333333333333,
              "#9c179e"
             ],
             [
              0.4444444444444444,
              "#bd3786"
             ],
             [
              0.5555555555555556,
              "#d8576b"
             ],
             [
              0.6666666666666666,
              "#ed7953"
             ],
             [
              0.7777777777777778,
              "#fb9f3a"
             ],
             [
              0.8888888888888888,
              "#fdca26"
             ],
             [
              1,
              "#f0f921"
             ]
            ],
            "type": "contour"
           }
          ],
          "contourcarpet": [
           {
            "colorbar": {
             "outlinewidth": 0,
             "ticks": ""
            },
            "type": "contourcarpet"
           }
          ],
          "heatmap": [
           {
            "colorbar": {
             "outlinewidth": 0,
             "ticks": ""
            },
            "colorscale": [
             [
              0,
              "#0d0887"
             ],
             [
              0.1111111111111111,
              "#46039f"
             ],
             [
              0.2222222222222222,
              "#7201a8"
             ],
             [
              0.3333333333333333,
              "#9c179e"
             ],
             [
              0.4444444444444444,
              "#bd3786"
             ],
             [
              0.5555555555555556,
              "#d8576b"
             ],
             [
              0.6666666666666666,
              "#ed7953"
             ],
             [
              0.7777777777777778,
              "#fb9f3a"
             ],
             [
              0.8888888888888888,
              "#fdca26"
             ],
             [
              1,
              "#f0f921"
             ]
            ],
            "type": "heatmap"
           }
          ],
          "heatmapgl": [
           {
            "colorbar": {
             "outlinewidth": 0,
             "ticks": ""
            },
            "colorscale": [
             [
              0,
              "#0d0887"
             ],
             [
              0.1111111111111111,
              "#46039f"
             ],
             [
              0.2222222222222222,
              "#7201a8"
             ],
             [
              0.3333333333333333,
              "#9c179e"
             ],
             [
              0.4444444444444444,
              "#bd3786"
             ],
             [
              0.5555555555555556,
              "#d8576b"
             ],
             [
              0.6666666666666666,
              "#ed7953"
             ],
             [
              0.7777777777777778,
              "#fb9f3a"
             ],
             [
              0.8888888888888888,
              "#fdca26"
             ],
             [
              1,
              "#f0f921"
             ]
            ],
            "type": "heatmapgl"
           }
          ],
          "histogram": [
           {
            "marker": {
             "pattern": {
              "fillmode": "overlay",
              "size": 10,
              "solidity": 0.2
             }
            },
            "type": "histogram"
           }
          ],
          "histogram2d": [
           {
            "colorbar": {
             "outlinewidth": 0,
             "ticks": ""
            },
            "colorscale": [
             [
              0,
              "#0d0887"
             ],
             [
              0.1111111111111111,
              "#46039f"
             ],
             [
              0.2222222222222222,
              "#7201a8"
             ],
             [
              0.3333333333333333,
              "#9c179e"
             ],
             [
              0.4444444444444444,
              "#bd3786"
             ],
             [
              0.5555555555555556,
              "#d8576b"
             ],
             [
              0.6666666666666666,
              "#ed7953"
             ],
             [
              0.7777777777777778,
              "#fb9f3a"
             ],
             [
              0.8888888888888888,
              "#fdca26"
             ],
             [
              1,
              "#f0f921"
             ]
            ],
            "type": "histogram2d"
           }
          ],
          "histogram2dcontour": [
           {
            "colorbar": {
             "outlinewidth": 0,
             "ticks": ""
            },
            "colorscale": [
             [
              0,
              "#0d0887"
             ],
             [
              0.1111111111111111,
              "#46039f"
             ],
             [
              0.2222222222222222,
              "#7201a8"
             ],
             [
              0.3333333333333333,
              "#9c179e"
             ],
             [
              0.4444444444444444,
              "#bd3786"
             ],
             [
              0.5555555555555556,
              "#d8576b"
             ],
             [
              0.6666666666666666,
              "#ed7953"
             ],
             [
              0.7777777777777778,
              "#fb9f3a"
             ],
             [
              0.8888888888888888,
              "#fdca26"
             ],
             [
              1,
              "#f0f921"
             ]
            ],
            "type": "histogram2dcontour"
           }
          ],
          "mesh3d": [
           {
            "colorbar": {
             "outlinewidth": 0,
             "ticks": ""
            },
            "type": "mesh3d"
           }
          ],
          "parcoords": [
           {
            "line": {
             "colorbar": {
              "outlinewidth": 0,
              "ticks": ""
             }
            },
            "type": "parcoords"
           }
          ],
          "pie": [
           {
            "automargin": true,
            "type": "pie"
           }
          ],
          "scatter": [
           {
            "fillpattern": {
             "fillmode": "overlay",
             "size": 10,
             "solidity": 0.2
            },
            "type": "scatter"
           }
          ],
          "scatter3d": [
           {
            "line": {
             "colorbar": {
              "outlinewidth": 0,
              "ticks": ""
             }
            },
            "marker": {
             "colorbar": {
              "outlinewidth": 0,
              "ticks": ""
             }
            },
            "type": "scatter3d"
           }
          ],
          "scattercarpet": [
           {
            "marker": {
             "colorbar": {
              "outlinewidth": 0,
              "ticks": ""
             }
            },
            "type": "scattercarpet"
           }
          ],
          "scattergeo": [
           {
            "marker": {
             "colorbar": {
              "outlinewidth": 0,
              "ticks": ""
             }
            },
            "type": "scattergeo"
           }
          ],
          "scattergl": [
           {
            "marker": {
             "colorbar": {
              "outlinewidth": 0,
              "ticks": ""
             }
            },
            "type": "scattergl"
           }
          ],
          "scattermapbox": [
           {
            "marker": {
             "colorbar": {
              "outlinewidth": 0,
              "ticks": ""
             }
            },
            "type": "scattermapbox"
           }
          ],
          "scatterpolar": [
           {
            "marker": {
             "colorbar": {
              "outlinewidth": 0,
              "ticks": ""
             }
            },
            "type": "scatterpolar"
           }
          ],
          "scatterpolargl": [
           {
            "marker": {
             "colorbar": {
              "outlinewidth": 0,
              "ticks": ""
             }
            },
            "type": "scatterpolargl"
           }
          ],
          "scatterternary": [
           {
            "marker": {
             "colorbar": {
              "outlinewidth": 0,
              "ticks": ""
             }
            },
            "type": "scatterternary"
           }
          ],
          "surface": [
           {
            "colorbar": {
             "outlinewidth": 0,
             "ticks": ""
            },
            "colorscale": [
             [
              0,
              "#0d0887"
             ],
             [
              0.1111111111111111,
              "#46039f"
             ],
             [
              0.2222222222222222,
              "#7201a8"
             ],
             [
              0.3333333333333333,
              "#9c179e"
             ],
             [
              0.4444444444444444,
              "#bd3786"
             ],
             [
              0.5555555555555556,
              "#d8576b"
             ],
             [
              0.6666666666666666,
              "#ed7953"
             ],
             [
              0.7777777777777778,
              "#fb9f3a"
             ],
             [
              0.8888888888888888,
              "#fdca26"
             ],
             [
              1,
              "#f0f921"
             ]
            ],
            "type": "surface"
           }
          ],
          "table": [
           {
            "cells": {
             "fill": {
              "color": "#EBF0F8"
             },
             "line": {
              "color": "white"
             }
            },
            "header": {
             "fill": {
              "color": "#C8D4E3"
             },
             "line": {
              "color": "white"
             }
            },
            "type": "table"
           }
          ]
         },
         "layout": {
          "annotationdefaults": {
           "arrowcolor": "#2a3f5f",
           "arrowhead": 0,
           "arrowwidth": 1
          },
          "autotypenumbers": "strict",
          "coloraxis": {
           "colorbar": {
            "outlinewidth": 0,
            "ticks": ""
           }
          },
          "colorscale": {
           "diverging": [
            [
             0,
             "#8e0152"
            ],
            [
             0.1,
             "#c51b7d"
            ],
            [
             0.2,
             "#de77ae"
            ],
            [
             0.3,
             "#f1b6da"
            ],
            [
             0.4,
             "#fde0ef"
            ],
            [
             0.5,
             "#f7f7f7"
            ],
            [
             0.6,
             "#e6f5d0"
            ],
            [
             0.7,
             "#b8e186"
            ],
            [
             0.8,
             "#7fbc41"
            ],
            [
             0.9,
             "#4d9221"
            ],
            [
             1,
             "#276419"
            ]
           ],
           "sequential": [
            [
             0,
             "#0d0887"
            ],
            [
             0.1111111111111111,
             "#46039f"
            ],
            [
             0.2222222222222222,
             "#7201a8"
            ],
            [
             0.3333333333333333,
             "#9c179e"
            ],
            [
             0.4444444444444444,
             "#bd3786"
            ],
            [
             0.5555555555555556,
             "#d8576b"
            ],
            [
             0.6666666666666666,
             "#ed7953"
            ],
            [
             0.7777777777777778,
             "#fb9f3a"
            ],
            [
             0.8888888888888888,
             "#fdca26"
            ],
            [
             1,
             "#f0f921"
            ]
           ],
           "sequentialminus": [
            [
             0,
             "#0d0887"
            ],
            [
             0.1111111111111111,
             "#46039f"
            ],
            [
             0.2222222222222222,
             "#7201a8"
            ],
            [
             0.3333333333333333,
             "#9c179e"
            ],
            [
             0.4444444444444444,
             "#bd3786"
            ],
            [
             0.5555555555555556,
             "#d8576b"
            ],
            [
             0.6666666666666666,
             "#ed7953"
            ],
            [
             0.7777777777777778,
             "#fb9f3a"
            ],
            [
             0.8888888888888888,
             "#fdca26"
            ],
            [
             1,
             "#f0f921"
            ]
           ]
          },
          "colorway": [
           "#636efa",
           "#EF553B",
           "#00cc96",
           "#ab63fa",
           "#FFA15A",
           "#19d3f3",
           "#FF6692",
           "#B6E880",
           "#FF97FF",
           "#FECB52"
          ],
          "font": {
           "color": "#2a3f5f"
          },
          "geo": {
           "bgcolor": "white",
           "lakecolor": "white",
           "landcolor": "#E5ECF6",
           "showlakes": true,
           "showland": true,
           "subunitcolor": "white"
          },
          "hoverlabel": {
           "align": "left"
          },
          "hovermode": "closest",
          "mapbox": {
           "style": "light"
          },
          "paper_bgcolor": "white",
          "plot_bgcolor": "#E5ECF6",
          "polar": {
           "angularaxis": {
            "gridcolor": "white",
            "linecolor": "white",
            "ticks": ""
           },
           "bgcolor": "#E5ECF6",
           "radialaxis": {
            "gridcolor": "white",
            "linecolor": "white",
            "ticks": ""
           }
          },
          "scene": {
           "xaxis": {
            "backgroundcolor": "#E5ECF6",
            "gridcolor": "white",
            "gridwidth": 2,
            "linecolor": "white",
            "showbackground": true,
            "ticks": "",
            "zerolinecolor": "white"
           },
           "yaxis": {
            "backgroundcolor": "#E5ECF6",
            "gridcolor": "white",
            "gridwidth": 2,
            "linecolor": "white",
            "showbackground": true,
            "ticks": "",
            "zerolinecolor": "white"
           },
           "zaxis": {
            "backgroundcolor": "#E5ECF6",
            "gridcolor": "white",
            "gridwidth": 2,
            "linecolor": "white",
            "showbackground": true,
            "ticks": "",
            "zerolinecolor": "white"
           }
          },
          "shapedefaults": {
           "line": {
            "color": "#2a3f5f"
           }
          },
          "ternary": {
           "aaxis": {
            "gridcolor": "white",
            "linecolor": "white",
            "ticks": ""
           },
           "baxis": {
            "gridcolor": "white",
            "linecolor": "white",
            "ticks": ""
           },
           "bgcolor": "#E5ECF6",
           "caxis": {
            "gridcolor": "white",
            "linecolor": "white",
            "ticks": ""
           }
          },
          "title": {
           "x": 0.05
          },
          "xaxis": {
           "automargin": true,
           "gridcolor": "white",
           "linecolor": "white",
           "ticks": "",
           "title": {
            "standoff": 15
           },
           "zerolinecolor": "white",
           "zerolinewidth": 2
          },
          "yaxis": {
           "automargin": true,
           "gridcolor": "white",
           "linecolor": "white",
           "ticks": "",
           "title": {
            "standoff": 15
           },
           "zerolinecolor": "white",
           "zerolinewidth": 2
          }
         }
        },
        "title": {
         "text": "Milking Cow Number and Cow Milk Production by District"
        },
        "width": 3000,
        "xaxis": {
         "anchor": "y",
         "categoryarray": [
          "ACHHAM",
          "ARGHAKHANCHI",
          "BAGLUNG",
          "BAITADI",
          "BAJHANG",
          "BAJURA",
          "BANKE",
          "BARA",
          "BARDIYA",
          "BHAKTAPUR",
          "BHOJPUR",
          "CHITWAN",
          "DADELDHURA",
          "DAILEKH",
          "DANG",
          "DARCHULA",
          "DHADING",
          "DHANKUTA",
          "DHANUSHA",
          "DOLAKHA",
          "DOLPA",
          "DOTI",
          "GORKHA",
          "GULMI",
          "HUMLA",
          "ILAM",
          "JAJARKOT",
          "JHAPA",
          "JUMLA",
          "KABHREPALAN- CHOK",
          "KAILALI",
          "KALIKOT",
          "KANCHANPUR",
          "KAPILBASTU",
          "KASKI",
          "KATHMANDU",
          "KHOTANG",
          "LALITPUR",
          "LAMJUNG",
          "MAHOTTARI",
          "MAKWANPUR",
          "MANANG",
          "MORANG",
          "MUGU",
          "MUSTANG",
          "MYAGDI",
          "NAWALPARASI EAST",
          "NAWALPARASI WEST",
          "NUWAKOT",
          "OKHALDHUNGA",
          "PALPA",
          "PANCHTHAR",
          "PARBAT",
          "PARSA",
          "PYUTHAN",
          "RAMECHHAP",
          "RASUWA",
          "RAUTAHAT",
          "ROLPA",
          "RUKUM EAST",
          "RUKUM WEST",
          "RUPANDEHI",
          "SALYAN",
          "SANKHUWASABHA",
          "SAPTARI",
          "SARLAHI",
          "SINDHULI",
          "SINDHUPALCHOK",
          "SIRAHA",
          "SOLUKHUMBU",
          "SUNSARI",
          "SURKHET",
          "SYANGJA",
          "TANAHUN",
          "TAPLEJUNG",
          "TERHATHUM",
          "UDAYAPUR"
         ],
         "categoryorder": "array",
         "domain": [
          0,
          1
         ],
         "title": {
          "text": "District"
         }
        },
        "yaxis": {
         "anchor": "x",
         "domain": [
          0,
          1
         ],
         "title": {
          "text": "Count/Production"
         }
        }
       }
      }
     },
     "metadata": {},
     "output_type": "display_data"
    }
   ],
   "source": [
    "#Lets visualize the data of milking cow no and cow milk production by district\n",
    "# Select the columns to plot\n",
    "selected_columns = df1[['District', 'Milking Cows No.', 'Cow Milk(Mt.)']]\n",
    "# Melt the DataFrame\n",
    "df_melted = pd.melt(selected_columns, id_vars=['District'], value_vars=[ 'Milking Cows No.', 'Cow Milk(Mt.)'],\n",
    "                    var_name='Measure', value_name='Value')\n",
    "# Create a bar plot\n",
    "fig = px.bar(df_melted, x='District', y='Value', color='Measure', barmode='group',\n",
    "             title='Milking Cow Number and Cow Milk Production by District',\n",
    "             labels={'District': 'District', 'Value': 'Count/Production'},category_orders={'District': sorted(df1['District'].unique())},\n",
    "             height=600, width=3000)\n",
    "\n",
    "# Show the plot\n",
    "fig.show()\n"
   ]
  },
  {
   "cell_type": "markdown",
   "id": "b5804674",
   "metadata": {},
   "source": [
    "as we see from bar graph highest population of cow  is from   morang and also highest milking production. and lowest population and production is in manag and mustang."
   ]
  },
  {
   "cell_type": "code",
   "execution_count": 16,
   "id": "2864f014",
   "metadata": {},
   "outputs": [
    {
     "data": {
      "application/vnd.plotly.v1+json": {
       "config": {
        "plotlyServerURL": "https://plot.ly"
       },
       "data": [
        {
         "alignmentgroup": "True",
         "hovertemplate": "Measure=Milking Buffaloes No.<br>District=%{x}<br>Count/Production(mt)=%{y}<extra></extra>",
         "legendgroup": "Milking Buffaloes No.",
         "marker": {
          "color": "#636efa",
          "pattern": {
           "shape": ""
          }
         },
         "name": "Milking Buffaloes No.",
         "offsetgroup": "Milking Buffaloes No.",
         "orientation": "v",
         "showlegend": true,
         "textposition": "auto",
         "type": "bar",
         "x": [
          "BHOJPUR",
          "DHANKUTA",
          "ILAM",
          "JHAPA",
          "KHOTANG",
          "MORANG",
          "OKHALDHUNGA",
          "PANCHTHAR",
          "SANKHUWASABHA",
          "SOLUKHUMBU",
          "SUNSARI",
          "TAPLEJUNG",
          "TERHATHUM",
          "UDAYAPUR",
          "BARA",
          "DHANUSHA",
          "MAHOTTARI",
          "PARSA",
          "RAUTAHAT",
          "SAPTARI",
          "SARLAHI",
          "SIRAHA",
          "BHAKTAPUR",
          "CHITWAN",
          "DHADING",
          "DOLAKHA",
          "KATHMANDU",
          "KABHREPALAN- CHOK",
          "LALITPUR",
          "MAKWANPUR",
          "NUWAKOT",
          "RAMECHHAP",
          "RASUWA",
          "SINDHULI",
          "SINDHUPALCHOK",
          "BAGLUNG",
          "GORKHA",
          "KASKI",
          "LAMJUNG",
          "MANANG",
          "MUSTANG",
          "MYAGDI",
          "NAWALPARASI EAST",
          "PARBAT",
          "SYANGJA",
          "TANAHUN",
          "ARGHAKHANCHI",
          "BANKE",
          "BARDIYA",
          "DANG",
          "GULMI",
          "KAPILBASTU",
          "NAWALPARASI WEST",
          "PALPA",
          "PYUTHAN",
          "ROLPA",
          "RUKUM EAST",
          "RUPANDEHI",
          "DAILEKH",
          "DOLPA",
          "HUMLA",
          "JAJARKOT",
          "JUMLA",
          "KALIKOT",
          "MUGU",
          "RUKUM WEST",
          "SALYAN",
          "SURKHET",
          "ACHHAM",
          "BAITADI",
          "BAJHANG",
          "BAJURA",
          "DADELDHURA",
          "DARCHULA",
          "DOTI",
          "KAILALI",
          "KANCHANPUR"
         ],
         "xaxis": "x",
         "y": [
          17001,
          5896,
          7634,
          26920,
          16916,
          36589,
          14113,
          12168,
          11515,
          11288,
          58136,
          5005,
          7897,
          33261,
          54432,
          23240,
          24494,
          19475,
          27392,
          64004,
          32079,
          30379,
          3304,
          28992,
          30720,
          18681,
          15025,
          57043,
          23440,
          36102,
          29891,
          14255,
          1686,
          21458,
          20944,
          27691,
          20509,
          20930,
          14488,
          0,
          32,
          6264,
          23367,
          10747,
          32107,
          18756,
          25791,
          60679,
          45179,
          46781,
          14531,
          43876,
          21970,
          28818,
          22087,
          15887,
          5244,
          64089,
          18318,
          1005,
          852,
          9016,
          1047,
          8513,
          3827,
          14536,
          21846,
          13617,
          9556,
          15534,
          8963,
          6136,
          6187,
          7936,
          16390,
          54882,
          37469
         ],
         "yaxis": "y"
        },
        {
         "alignmentgroup": "True",
         "hovertemplate": "Measure=Buffaloes Milk (Mt.)<br>District=%{x}<br>Count/Production(mt)=%{y}<extra></extra>",
         "legendgroup": "Buffaloes Milk (Mt.)",
         "marker": {
          "color": "#EF553B",
          "pattern": {
           "shape": ""
          }
         },
         "name": "Buffaloes Milk (Mt.)",
         "offsetgroup": "Buffaloes Milk (Mt.)",
         "orientation": "v",
         "showlegend": true,
         "textposition": "auto",
         "type": "bar",
         "x": [
          "BHOJPUR",
          "DHANKUTA",
          "ILAM",
          "JHAPA",
          "KHOTANG",
          "MORANG",
          "OKHALDHUNGA",
          "PANCHTHAR",
          "SANKHUWASABHA",
          "SOLUKHUMBU",
          "SUNSARI",
          "TAPLEJUNG",
          "TERHATHUM",
          "UDAYAPUR",
          "BARA",
          "DHANUSHA",
          "MAHOTTARI",
          "PARSA",
          "RAUTAHAT",
          "SAPTARI",
          "SARLAHI",
          "SIRAHA",
          "BHAKTAPUR",
          "CHITWAN",
          "DHADING",
          "DOLAKHA",
          "KATHMANDU",
          "KABHREPALAN- CHOK",
          "LALITPUR",
          "MAKWANPUR",
          "NUWAKOT",
          "RAMECHHAP",
          "RASUWA",
          "SINDHULI",
          "SINDHUPALCHOK",
          "BAGLUNG",
          "GORKHA",
          "KASKI",
          "LAMJUNG",
          "MANANG",
          "MUSTANG",
          "MYAGDI",
          "NAWALPARASI EAST",
          "PARBAT",
          "SYANGJA",
          "TANAHUN",
          "ARGHAKHANCHI",
          "BANKE",
          "BARDIYA",
          "DANG",
          "GULMI",
          "KAPILBASTU",
          "NAWALPARASI WEST",
          "PALPA",
          "PYUTHAN",
          "ROLPA",
          "RUKUM EAST",
          "RUPANDEHI",
          "DAILEKH",
          "DOLPA",
          "HUMLA",
          "JAJARKOT",
          "JUMLA",
          "KALIKOT",
          "MUGU",
          "RUKUM WEST",
          "SALYAN",
          "SURKHET",
          "ACHHAM",
          "BAITADI",
          "BAJHANG",
          "BAJURA",
          "DADELDHURA",
          "DARCHULA",
          "DOTI",
          "KAILALI",
          "KANCHANPUR"
         ],
         "xaxis": "x",
         "y": [
          9751,
          3957,
          5948,
          23743,
          9978,
          32623,
          9452,
          8560,
          7443,
          6897,
          54433,
          2925,
          5420,
          24252,
          50748,
          20876,
          21873,
          18689,
          25674,
          61770,
          29775,
          28507,
          3178,
          27944,
          25282,
          15849,
          14873,
          57852,
          28472,
          30997,
          24306,
          11514,
          1062,
          17923,
          18899,
          26730,
          19887,
          24456,
          12856,
          0,
          16,
          4584,
          24266,
          10425,
          30358,
          20373,
          23719,
          53033,
          38311,
          39250,
          12290,
          39538,
          20652,
          26408,
          17965,
          11360,
          4417,
          55723,
          12904,
          586,
          493,
          6326,
          640,
          4914,
          2339,
          10590,
          17031,
          11294,
          7411,
          12054,
          6319,
          4349,
          4822,
          5035,
          13310,
          51472,
          34852
         ],
         "yaxis": "y"
        }
       ],
       "layout": {
        "barmode": "group",
        "height": 600,
        "legend": {
         "title": {
          "text": "Measure"
         },
         "tracegroupgap": 0
        },
        "template": {
         "data": {
          "bar": [
           {
            "error_x": {
             "color": "#2a3f5f"
            },
            "error_y": {
             "color": "#2a3f5f"
            },
            "marker": {
             "line": {
              "color": "#E5ECF6",
              "width": 0.5
             },
             "pattern": {
              "fillmode": "overlay",
              "size": 10,
              "solidity": 0.2
             }
            },
            "type": "bar"
           }
          ],
          "barpolar": [
           {
            "marker": {
             "line": {
              "color": "#E5ECF6",
              "width": 0.5
             },
             "pattern": {
              "fillmode": "overlay",
              "size": 10,
              "solidity": 0.2
             }
            },
            "type": "barpolar"
           }
          ],
          "carpet": [
           {
            "aaxis": {
             "endlinecolor": "#2a3f5f",
             "gridcolor": "white",
             "linecolor": "white",
             "minorgridcolor": "white",
             "startlinecolor": "#2a3f5f"
            },
            "baxis": {
             "endlinecolor": "#2a3f5f",
             "gridcolor": "white",
             "linecolor": "white",
             "minorgridcolor": "white",
             "startlinecolor": "#2a3f5f"
            },
            "type": "carpet"
           }
          ],
          "choropleth": [
           {
            "colorbar": {
             "outlinewidth": 0,
             "ticks": ""
            },
            "type": "choropleth"
           }
          ],
          "contour": [
           {
            "colorbar": {
             "outlinewidth": 0,
             "ticks": ""
            },
            "colorscale": [
             [
              0,
              "#0d0887"
             ],
             [
              0.1111111111111111,
              "#46039f"
             ],
             [
              0.2222222222222222,
              "#7201a8"
             ],
             [
              0.3333333333333333,
              "#9c179e"
             ],
             [
              0.4444444444444444,
              "#bd3786"
             ],
             [
              0.5555555555555556,
              "#d8576b"
             ],
             [
              0.6666666666666666,
              "#ed7953"
             ],
             [
              0.7777777777777778,
              "#fb9f3a"
             ],
             [
              0.8888888888888888,
              "#fdca26"
             ],
             [
              1,
              "#f0f921"
             ]
            ],
            "type": "contour"
           }
          ],
          "contourcarpet": [
           {
            "colorbar": {
             "outlinewidth": 0,
             "ticks": ""
            },
            "type": "contourcarpet"
           }
          ],
          "heatmap": [
           {
            "colorbar": {
             "outlinewidth": 0,
             "ticks": ""
            },
            "colorscale": [
             [
              0,
              "#0d0887"
             ],
             [
              0.1111111111111111,
              "#46039f"
             ],
             [
              0.2222222222222222,
              "#7201a8"
             ],
             [
              0.3333333333333333,
              "#9c179e"
             ],
             [
              0.4444444444444444,
              "#bd3786"
             ],
             [
              0.5555555555555556,
              "#d8576b"
             ],
             [
              0.6666666666666666,
              "#ed7953"
             ],
             [
              0.7777777777777778,
              "#fb9f3a"
             ],
             [
              0.8888888888888888,
              "#fdca26"
             ],
             [
              1,
              "#f0f921"
             ]
            ],
            "type": "heatmap"
           }
          ],
          "heatmapgl": [
           {
            "colorbar": {
             "outlinewidth": 0,
             "ticks": ""
            },
            "colorscale": [
             [
              0,
              "#0d0887"
             ],
             [
              0.1111111111111111,
              "#46039f"
             ],
             [
              0.2222222222222222,
              "#7201a8"
             ],
             [
              0.3333333333333333,
              "#9c179e"
             ],
             [
              0.4444444444444444,
              "#bd3786"
             ],
             [
              0.5555555555555556,
              "#d8576b"
             ],
             [
              0.6666666666666666,
              "#ed7953"
             ],
             [
              0.7777777777777778,
              "#fb9f3a"
             ],
             [
              0.8888888888888888,
              "#fdca26"
             ],
             [
              1,
              "#f0f921"
             ]
            ],
            "type": "heatmapgl"
           }
          ],
          "histogram": [
           {
            "marker": {
             "pattern": {
              "fillmode": "overlay",
              "size": 10,
              "solidity": 0.2
             }
            },
            "type": "histogram"
           }
          ],
          "histogram2d": [
           {
            "colorbar": {
             "outlinewidth": 0,
             "ticks": ""
            },
            "colorscale": [
             [
              0,
              "#0d0887"
             ],
             [
              0.1111111111111111,
              "#46039f"
             ],
             [
              0.2222222222222222,
              "#7201a8"
             ],
             [
              0.3333333333333333,
              "#9c179e"
             ],
             [
              0.4444444444444444,
              "#bd3786"
             ],
             [
              0.5555555555555556,
              "#d8576b"
             ],
             [
              0.6666666666666666,
              "#ed7953"
             ],
             [
              0.7777777777777778,
              "#fb9f3a"
             ],
             [
              0.8888888888888888,
              "#fdca26"
             ],
             [
              1,
              "#f0f921"
             ]
            ],
            "type": "histogram2d"
           }
          ],
          "histogram2dcontour": [
           {
            "colorbar": {
             "outlinewidth": 0,
             "ticks": ""
            },
            "colorscale": [
             [
              0,
              "#0d0887"
             ],
             [
              0.1111111111111111,
              "#46039f"
             ],
             [
              0.2222222222222222,
              "#7201a8"
             ],
             [
              0.3333333333333333,
              "#9c179e"
             ],
             [
              0.4444444444444444,
              "#bd3786"
             ],
             [
              0.5555555555555556,
              "#d8576b"
             ],
             [
              0.6666666666666666,
              "#ed7953"
             ],
             [
              0.7777777777777778,
              "#fb9f3a"
             ],
             [
              0.8888888888888888,
              "#fdca26"
             ],
             [
              1,
              "#f0f921"
             ]
            ],
            "type": "histogram2dcontour"
           }
          ],
          "mesh3d": [
           {
            "colorbar": {
             "outlinewidth": 0,
             "ticks": ""
            },
            "type": "mesh3d"
           }
          ],
          "parcoords": [
           {
            "line": {
             "colorbar": {
              "outlinewidth": 0,
              "ticks": ""
             }
            },
            "type": "parcoords"
           }
          ],
          "pie": [
           {
            "automargin": true,
            "type": "pie"
           }
          ],
          "scatter": [
           {
            "fillpattern": {
             "fillmode": "overlay",
             "size": 10,
             "solidity": 0.2
            },
            "type": "scatter"
           }
          ],
          "scatter3d": [
           {
            "line": {
             "colorbar": {
              "outlinewidth": 0,
              "ticks": ""
             }
            },
            "marker": {
             "colorbar": {
              "outlinewidth": 0,
              "ticks": ""
             }
            },
            "type": "scatter3d"
           }
          ],
          "scattercarpet": [
           {
            "marker": {
             "colorbar": {
              "outlinewidth": 0,
              "ticks": ""
             }
            },
            "type": "scattercarpet"
           }
          ],
          "scattergeo": [
           {
            "marker": {
             "colorbar": {
              "outlinewidth": 0,
              "ticks": ""
             }
            },
            "type": "scattergeo"
           }
          ],
          "scattergl": [
           {
            "marker": {
             "colorbar": {
              "outlinewidth": 0,
              "ticks": ""
             }
            },
            "type": "scattergl"
           }
          ],
          "scattermapbox": [
           {
            "marker": {
             "colorbar": {
              "outlinewidth": 0,
              "ticks": ""
             }
            },
            "type": "scattermapbox"
           }
          ],
          "scatterpolar": [
           {
            "marker": {
             "colorbar": {
              "outlinewidth": 0,
              "ticks": ""
             }
            },
            "type": "scatterpolar"
           }
          ],
          "scatterpolargl": [
           {
            "marker": {
             "colorbar": {
              "outlinewidth": 0,
              "ticks": ""
             }
            },
            "type": "scatterpolargl"
           }
          ],
          "scatterternary": [
           {
            "marker": {
             "colorbar": {
              "outlinewidth": 0,
              "ticks": ""
             }
            },
            "type": "scatterternary"
           }
          ],
          "surface": [
           {
            "colorbar": {
             "outlinewidth": 0,
             "ticks": ""
            },
            "colorscale": [
             [
              0,
              "#0d0887"
             ],
             [
              0.1111111111111111,
              "#46039f"
             ],
             [
              0.2222222222222222,
              "#7201a8"
             ],
             [
              0.3333333333333333,
              "#9c179e"
             ],
             [
              0.4444444444444444,
              "#bd3786"
             ],
             [
              0.5555555555555556,
              "#d8576b"
             ],
             [
              0.6666666666666666,
              "#ed7953"
             ],
             [
              0.7777777777777778,
              "#fb9f3a"
             ],
             [
              0.8888888888888888,
              "#fdca26"
             ],
             [
              1,
              "#f0f921"
             ]
            ],
            "type": "surface"
           }
          ],
          "table": [
           {
            "cells": {
             "fill": {
              "color": "#EBF0F8"
             },
             "line": {
              "color": "white"
             }
            },
            "header": {
             "fill": {
              "color": "#C8D4E3"
             },
             "line": {
              "color": "white"
             }
            },
            "type": "table"
           }
          ]
         },
         "layout": {
          "annotationdefaults": {
           "arrowcolor": "#2a3f5f",
           "arrowhead": 0,
           "arrowwidth": 1
          },
          "autotypenumbers": "strict",
          "coloraxis": {
           "colorbar": {
            "outlinewidth": 0,
            "ticks": ""
           }
          },
          "colorscale": {
           "diverging": [
            [
             0,
             "#8e0152"
            ],
            [
             0.1,
             "#c51b7d"
            ],
            [
             0.2,
             "#de77ae"
            ],
            [
             0.3,
             "#f1b6da"
            ],
            [
             0.4,
             "#fde0ef"
            ],
            [
             0.5,
             "#f7f7f7"
            ],
            [
             0.6,
             "#e6f5d0"
            ],
            [
             0.7,
             "#b8e186"
            ],
            [
             0.8,
             "#7fbc41"
            ],
            [
             0.9,
             "#4d9221"
            ],
            [
             1,
             "#276419"
            ]
           ],
           "sequential": [
            [
             0,
             "#0d0887"
            ],
            [
             0.1111111111111111,
             "#46039f"
            ],
            [
             0.2222222222222222,
             "#7201a8"
            ],
            [
             0.3333333333333333,
             "#9c179e"
            ],
            [
             0.4444444444444444,
             "#bd3786"
            ],
            [
             0.5555555555555556,
             "#d8576b"
            ],
            [
             0.6666666666666666,
             "#ed7953"
            ],
            [
             0.7777777777777778,
             "#fb9f3a"
            ],
            [
             0.8888888888888888,
             "#fdca26"
            ],
            [
             1,
             "#f0f921"
            ]
           ],
           "sequentialminus": [
            [
             0,
             "#0d0887"
            ],
            [
             0.1111111111111111,
             "#46039f"
            ],
            [
             0.2222222222222222,
             "#7201a8"
            ],
            [
             0.3333333333333333,
             "#9c179e"
            ],
            [
             0.4444444444444444,
             "#bd3786"
            ],
            [
             0.5555555555555556,
             "#d8576b"
            ],
            [
             0.6666666666666666,
             "#ed7953"
            ],
            [
             0.7777777777777778,
             "#fb9f3a"
            ],
            [
             0.8888888888888888,
             "#fdca26"
            ],
            [
             1,
             "#f0f921"
            ]
           ]
          },
          "colorway": [
           "#636efa",
           "#EF553B",
           "#00cc96",
           "#ab63fa",
           "#FFA15A",
           "#19d3f3",
           "#FF6692",
           "#B6E880",
           "#FF97FF",
           "#FECB52"
          ],
          "font": {
           "color": "#2a3f5f"
          },
          "geo": {
           "bgcolor": "white",
           "lakecolor": "white",
           "landcolor": "#E5ECF6",
           "showlakes": true,
           "showland": true,
           "subunitcolor": "white"
          },
          "hoverlabel": {
           "align": "left"
          },
          "hovermode": "closest",
          "mapbox": {
           "style": "light"
          },
          "paper_bgcolor": "white",
          "plot_bgcolor": "#E5ECF6",
          "polar": {
           "angularaxis": {
            "gridcolor": "white",
            "linecolor": "white",
            "ticks": ""
           },
           "bgcolor": "#E5ECF6",
           "radialaxis": {
            "gridcolor": "white",
            "linecolor": "white",
            "ticks": ""
           }
          },
          "scene": {
           "xaxis": {
            "backgroundcolor": "#E5ECF6",
            "gridcolor": "white",
            "gridwidth": 2,
            "linecolor": "white",
            "showbackground": true,
            "ticks": "",
            "zerolinecolor": "white"
           },
           "yaxis": {
            "backgroundcolor": "#E5ECF6",
            "gridcolor": "white",
            "gridwidth": 2,
            "linecolor": "white",
            "showbackground": true,
            "ticks": "",
            "zerolinecolor": "white"
           },
           "zaxis": {
            "backgroundcolor": "#E5ECF6",
            "gridcolor": "white",
            "gridwidth": 2,
            "linecolor": "white",
            "showbackground": true,
            "ticks": "",
            "zerolinecolor": "white"
           }
          },
          "shapedefaults": {
           "line": {
            "color": "#2a3f5f"
           }
          },
          "ternary": {
           "aaxis": {
            "gridcolor": "white",
            "linecolor": "white",
            "ticks": ""
           },
           "baxis": {
            "gridcolor": "white",
            "linecolor": "white",
            "ticks": ""
           },
           "bgcolor": "#E5ECF6",
           "caxis": {
            "gridcolor": "white",
            "linecolor": "white",
            "ticks": ""
           }
          },
          "title": {
           "x": 0.05
          },
          "xaxis": {
           "automargin": true,
           "gridcolor": "white",
           "linecolor": "white",
           "ticks": "",
           "title": {
            "standoff": 15
           },
           "zerolinecolor": "white",
           "zerolinewidth": 2
          },
          "yaxis": {
           "automargin": true,
           "gridcolor": "white",
           "linecolor": "white",
           "ticks": "",
           "title": {
            "standoff": 15
           },
           "zerolinecolor": "white",
           "zerolinewidth": 2
          }
         }
        },
        "title": {
         "text": "Milking Buffloes Number and Buffaloes Milk Production by District"
        },
        "width": 3000,
        "xaxis": {
         "anchor": "y",
         "domain": [
          0,
          1
         ],
         "title": {
          "text": "District"
         }
        },
        "yaxis": {
         "anchor": "x",
         "domain": [
          0,
          1
         ],
         "title": {
          "text": "Count/Production(mt)"
         }
        }
       }
      }
     },
     "metadata": {},
     "output_type": "display_data"
    }
   ],
   "source": [
    "#Lets visualize the data of milking buffaloes no and Buffaloes milk production by district\n",
    "# Select the columns to plot\n",
    "selected_columns = df1[['District','Milking Buffaloes No.','Buffaloes Milk (Mt.)']]\n",
    "# Melt the DataFrame\n",
    "df_melted = pd.melt(selected_columns, id_vars=['District'], value_vars=[ 'Milking Buffaloes No.','Buffaloes Milk (Mt.)'],\n",
    "                    var_name='Measure', value_name='Value')\n",
    "# Create a bar plot\n",
    "fig = px.bar(df_melted, x='District', y='Value', color='Measure', barmode='group',\n",
    "             title='Milking Buffloes Number and Buffaloes Milk Production by District',\n",
    "             labels={'District': 'District', 'Value': 'Count/Production(mt)'},height=600, width=3000)\n",
    "\n",
    "# Show the plot\n",
    "fig.show()"
   ]
  },
  {
   "cell_type": "markdown",
   "id": "12685821",
   "metadata": {},
   "source": [
    "as we comapre from prevous graph and this graph we can clearly see that population of buffaloes and its milking production is high. the population of buffaloes is in rupandehi and saptari (>64k). But miking production is high in saptari district."
   ]
  },
  {
   "cell_type": "code",
   "execution_count": 17,
   "id": "d099c837",
   "metadata": {},
   "outputs": [
    {
     "data": {
      "application/vnd.plotly.v1+json": {
       "config": {
        "plotlyServerURL": "https://plot.ly"
       },
       "data": [
        {
         "hovertemplate": "Animal Type=Milking Buffaloes No.<br>District=%{x}<br>Population=%{y}<extra></extra>",
         "legendgroup": "Milking Buffaloes No.",
         "marker": {
          "color": "#636efa",
          "symbol": "circle"
         },
         "mode": "markers",
         "name": "Milking Buffaloes No.",
         "orientation": "v",
         "showlegend": true,
         "type": "scatter",
         "x": [
          "BHOJPUR",
          "DHANKUTA",
          "ILAM",
          "JHAPA",
          "KHOTANG",
          "MORANG",
          "OKHALDHUNGA",
          "PANCHTHAR",
          "SANKHUWASABHA",
          "SOLUKHUMBU",
          "SUNSARI",
          "TAPLEJUNG",
          "TERHATHUM",
          "UDAYAPUR",
          "BARA",
          "DHANUSHA",
          "MAHOTTARI",
          "PARSA",
          "RAUTAHAT",
          "SAPTARI",
          "SARLAHI",
          "SIRAHA",
          "BHAKTAPUR",
          "CHITWAN",
          "DHADING",
          "DOLAKHA",
          "KATHMANDU",
          "KABHREPALAN- CHOK",
          "LALITPUR",
          "MAKWANPUR",
          "NUWAKOT",
          "RAMECHHAP",
          "RASUWA",
          "SINDHULI",
          "SINDHUPALCHOK",
          "BAGLUNG",
          "GORKHA",
          "KASKI",
          "LAMJUNG",
          "MANANG",
          "MUSTANG",
          "MYAGDI",
          "NAWALPARASI EAST",
          "PARBAT",
          "SYANGJA",
          "TANAHUN",
          "ARGHAKHANCHI",
          "BANKE",
          "BARDIYA",
          "DANG",
          "GULMI",
          "KAPILBASTU",
          "NAWALPARASI WEST",
          "PALPA",
          "PYUTHAN",
          "ROLPA",
          "RUKUM EAST",
          "RUPANDEHI",
          "DAILEKH",
          "DOLPA",
          "HUMLA",
          "JAJARKOT",
          "JUMLA",
          "KALIKOT",
          "MUGU",
          "RUKUM WEST",
          "SALYAN",
          "SURKHET",
          "ACHHAM",
          "BAITADI",
          "BAJHANG",
          "BAJURA",
          "DADELDHURA",
          "DARCHULA",
          "DOTI",
          "KAILALI",
          "KANCHANPUR"
         ],
         "xaxis": "x",
         "y": [
          17001,
          5896,
          7634,
          26920,
          16916,
          36589,
          14113,
          12168,
          11515,
          11288,
          58136,
          5005,
          7897,
          33261,
          54432,
          23240,
          24494,
          19475,
          27392,
          64004,
          32079,
          30379,
          3304,
          28992,
          30720,
          18681,
          15025,
          57043,
          23440,
          36102,
          29891,
          14255,
          1686,
          21458,
          20944,
          27691,
          20509,
          20930,
          14488,
          0,
          32,
          6264,
          23367,
          10747,
          32107,
          18756,
          25791,
          60679,
          45179,
          46781,
          14531,
          43876,
          21970,
          28818,
          22087,
          15887,
          5244,
          64089,
          18318,
          1005,
          852,
          9016,
          1047,
          8513,
          3827,
          14536,
          21846,
          13617,
          9556,
          15534,
          8963,
          6136,
          6187,
          7936,
          16390,
          54882,
          37469
         ],
         "yaxis": "y"
        },
        {
         "hovertemplate": "Animal Type=Milking Cows No.<br>District=%{x}<br>Population=%{y}<extra></extra>",
         "legendgroup": "Milking Cows No.",
         "marker": {
          "color": "#EF553B",
          "symbol": "circle"
         },
         "mode": "markers",
         "name": "Milking Cows No.",
         "orientation": "v",
         "showlegend": true,
         "type": "scatter",
         "x": [
          "BHOJPUR",
          "DHANKUTA",
          "ILAM",
          "JHAPA",
          "KHOTANG",
          "MORANG",
          "OKHALDHUNGA",
          "PANCHTHAR",
          "SANKHUWASABHA",
          "SOLUKHUMBU",
          "SUNSARI",
          "TAPLEJUNG",
          "TERHATHUM",
          "UDAYAPUR",
          "BARA",
          "DHANUSHA",
          "MAHOTTARI",
          "PARSA",
          "RAUTAHAT",
          "SAPTARI",
          "SARLAHI",
          "SIRAHA",
          "BHAKTAPUR",
          "CHITWAN",
          "DHADING",
          "DOLAKHA",
          "KATHMANDU",
          "KABHREPALAN- CHOK",
          "LALITPUR",
          "MAKWANPUR",
          "NUWAKOT",
          "RAMECHHAP",
          "RASUWA",
          "SINDHULI",
          "SINDHUPALCHOK",
          "BAGLUNG",
          "GORKHA",
          "KASKI",
          "LAMJUNG",
          "MANANG",
          "MUSTANG",
          "MYAGDI",
          "NAWALPARASI EAST",
          "PARBAT",
          "SYANGJA",
          "TANAHUN",
          "ARGHAKHANCHI",
          "BANKE",
          "BARDIYA",
          "DANG",
          "GULMI",
          "KAPILBASTU",
          "NAWALPARASI WEST",
          "PALPA",
          "PYUTHAN",
          "ROLPA",
          "RUKUM EAST",
          "RUPANDEHI",
          "DAILEKH",
          "DOLPA",
          "HUMLA",
          "JAJARKOT",
          "JUMLA",
          "KALIKOT",
          "MUGU",
          "RUKUM WEST",
          "SALYAN",
          "SURKHET",
          "ACHHAM",
          "BAITADI",
          "BAJHANG",
          "BAJURA",
          "DADELDHURA",
          "DARCHULA",
          "DOTI",
          "KAILALI",
          "KANCHANPUR"
         ],
         "xaxis": "x",
         "y": [
          15006,
          14951,
          23707,
          56405,
          13680,
          78354,
          8396,
          15248,
          15133,
          7372,
          54002,
          7207,
          9218,
          20675,
          25455,
          24656,
          20893,
          13962,
          20698,
          40567,
          34731,
          15077,
          5379,
          19853,
          20394,
          10936,
          11150,
          27476,
          4561,
          20429,
          20283,
          10084,
          2005,
          20939,
          9303,
          4511,
          12440,
          11831,
          4901,
          367,
          1075,
          5199,
          18421,
          3581,
          5204,
          12300,
          5741,
          34665,
          18516,
          22450,
          6910,
          24975,
          14107,
          11738,
          11588,
          16735,
          2590,
          21048,
          12126,
          3333,
          2554,
          5914,
          8977,
          3334,
          5523,
          3980,
          19307,
          8602,
          7375,
          19448,
          13292,
          14399,
          15392,
          10199,
          17447,
          35617,
          27164
         ],
         "yaxis": "y"
        }
       ],
       "layout": {
        "height": 600,
        "legend": {
         "title": {
          "text": "Animal Type"
         },
         "tracegroupgap": 0
        },
        "template": {
         "data": {
          "bar": [
           {
            "error_x": {
             "color": "#2a3f5f"
            },
            "error_y": {
             "color": "#2a3f5f"
            },
            "marker": {
             "line": {
              "color": "#E5ECF6",
              "width": 0.5
             },
             "pattern": {
              "fillmode": "overlay",
              "size": 10,
              "solidity": 0.2
             }
            },
            "type": "bar"
           }
          ],
          "barpolar": [
           {
            "marker": {
             "line": {
              "color": "#E5ECF6",
              "width": 0.5
             },
             "pattern": {
              "fillmode": "overlay",
              "size": 10,
              "solidity": 0.2
             }
            },
            "type": "barpolar"
           }
          ],
          "carpet": [
           {
            "aaxis": {
             "endlinecolor": "#2a3f5f",
             "gridcolor": "white",
             "linecolor": "white",
             "minorgridcolor": "white",
             "startlinecolor": "#2a3f5f"
            },
            "baxis": {
             "endlinecolor": "#2a3f5f",
             "gridcolor": "white",
             "linecolor": "white",
             "minorgridcolor": "white",
             "startlinecolor": "#2a3f5f"
            },
            "type": "carpet"
           }
          ],
          "choropleth": [
           {
            "colorbar": {
             "outlinewidth": 0,
             "ticks": ""
            },
            "type": "choropleth"
           }
          ],
          "contour": [
           {
            "colorbar": {
             "outlinewidth": 0,
             "ticks": ""
            },
            "colorscale": [
             [
              0,
              "#0d0887"
             ],
             [
              0.1111111111111111,
              "#46039f"
             ],
             [
              0.2222222222222222,
              "#7201a8"
             ],
             [
              0.3333333333333333,
              "#9c179e"
             ],
             [
              0.4444444444444444,
              "#bd3786"
             ],
             [
              0.5555555555555556,
              "#d8576b"
             ],
             [
              0.6666666666666666,
              "#ed7953"
             ],
             [
              0.7777777777777778,
              "#fb9f3a"
             ],
             [
              0.8888888888888888,
              "#fdca26"
             ],
             [
              1,
              "#f0f921"
             ]
            ],
            "type": "contour"
           }
          ],
          "contourcarpet": [
           {
            "colorbar": {
             "outlinewidth": 0,
             "ticks": ""
            },
            "type": "contourcarpet"
           }
          ],
          "heatmap": [
           {
            "colorbar": {
             "outlinewidth": 0,
             "ticks": ""
            },
            "colorscale": [
             [
              0,
              "#0d0887"
             ],
             [
              0.1111111111111111,
              "#46039f"
             ],
             [
              0.2222222222222222,
              "#7201a8"
             ],
             [
              0.3333333333333333,
              "#9c179e"
             ],
             [
              0.4444444444444444,
              "#bd3786"
             ],
             [
              0.5555555555555556,
              "#d8576b"
             ],
             [
              0.6666666666666666,
              "#ed7953"
             ],
             [
              0.7777777777777778,
              "#fb9f3a"
             ],
             [
              0.8888888888888888,
              "#fdca26"
             ],
             [
              1,
              "#f0f921"
             ]
            ],
            "type": "heatmap"
           }
          ],
          "heatmapgl": [
           {
            "colorbar": {
             "outlinewidth": 0,
             "ticks": ""
            },
            "colorscale": [
             [
              0,
              "#0d0887"
             ],
             [
              0.1111111111111111,
              "#46039f"
             ],
             [
              0.2222222222222222,
              "#7201a8"
             ],
             [
              0.3333333333333333,
              "#9c179e"
             ],
             [
              0.4444444444444444,
              "#bd3786"
             ],
             [
              0.5555555555555556,
              "#d8576b"
             ],
             [
              0.6666666666666666,
              "#ed7953"
             ],
             [
              0.7777777777777778,
              "#fb9f3a"
             ],
             [
              0.8888888888888888,
              "#fdca26"
             ],
             [
              1,
              "#f0f921"
             ]
            ],
            "type": "heatmapgl"
           }
          ],
          "histogram": [
           {
            "marker": {
             "pattern": {
              "fillmode": "overlay",
              "size": 10,
              "solidity": 0.2
             }
            },
            "type": "histogram"
           }
          ],
          "histogram2d": [
           {
            "colorbar": {
             "outlinewidth": 0,
             "ticks": ""
            },
            "colorscale": [
             [
              0,
              "#0d0887"
             ],
             [
              0.1111111111111111,
              "#46039f"
             ],
             [
              0.2222222222222222,
              "#7201a8"
             ],
             [
              0.3333333333333333,
              "#9c179e"
             ],
             [
              0.4444444444444444,
              "#bd3786"
             ],
             [
              0.5555555555555556,
              "#d8576b"
             ],
             [
              0.6666666666666666,
              "#ed7953"
             ],
             [
              0.7777777777777778,
              "#fb9f3a"
             ],
             [
              0.8888888888888888,
              "#fdca26"
             ],
             [
              1,
              "#f0f921"
             ]
            ],
            "type": "histogram2d"
           }
          ],
          "histogram2dcontour": [
           {
            "colorbar": {
             "outlinewidth": 0,
             "ticks": ""
            },
            "colorscale": [
             [
              0,
              "#0d0887"
             ],
             [
              0.1111111111111111,
              "#46039f"
             ],
             [
              0.2222222222222222,
              "#7201a8"
             ],
             [
              0.3333333333333333,
              "#9c179e"
             ],
             [
              0.4444444444444444,
              "#bd3786"
             ],
             [
              0.5555555555555556,
              "#d8576b"
             ],
             [
              0.6666666666666666,
              "#ed7953"
             ],
             [
              0.7777777777777778,
              "#fb9f3a"
             ],
             [
              0.8888888888888888,
              "#fdca26"
             ],
             [
              1,
              "#f0f921"
             ]
            ],
            "type": "histogram2dcontour"
           }
          ],
          "mesh3d": [
           {
            "colorbar": {
             "outlinewidth": 0,
             "ticks": ""
            },
            "type": "mesh3d"
           }
          ],
          "parcoords": [
           {
            "line": {
             "colorbar": {
              "outlinewidth": 0,
              "ticks": ""
             }
            },
            "type": "parcoords"
           }
          ],
          "pie": [
           {
            "automargin": true,
            "type": "pie"
           }
          ],
          "scatter": [
           {
            "fillpattern": {
             "fillmode": "overlay",
             "size": 10,
             "solidity": 0.2
            },
            "type": "scatter"
           }
          ],
          "scatter3d": [
           {
            "line": {
             "colorbar": {
              "outlinewidth": 0,
              "ticks": ""
             }
            },
            "marker": {
             "colorbar": {
              "outlinewidth": 0,
              "ticks": ""
             }
            },
            "type": "scatter3d"
           }
          ],
          "scattercarpet": [
           {
            "marker": {
             "colorbar": {
              "outlinewidth": 0,
              "ticks": ""
             }
            },
            "type": "scattercarpet"
           }
          ],
          "scattergeo": [
           {
            "marker": {
             "colorbar": {
              "outlinewidth": 0,
              "ticks": ""
             }
            },
            "type": "scattergeo"
           }
          ],
          "scattergl": [
           {
            "marker": {
             "colorbar": {
              "outlinewidth": 0,
              "ticks": ""
             }
            },
            "type": "scattergl"
           }
          ],
          "scattermapbox": [
           {
            "marker": {
             "colorbar": {
              "outlinewidth": 0,
              "ticks": ""
             }
            },
            "type": "scattermapbox"
           }
          ],
          "scatterpolar": [
           {
            "marker": {
             "colorbar": {
              "outlinewidth": 0,
              "ticks": ""
             }
            },
            "type": "scatterpolar"
           }
          ],
          "scatterpolargl": [
           {
            "marker": {
             "colorbar": {
              "outlinewidth": 0,
              "ticks": ""
             }
            },
            "type": "scatterpolargl"
           }
          ],
          "scatterternary": [
           {
            "marker": {
             "colorbar": {
              "outlinewidth": 0,
              "ticks": ""
             }
            },
            "type": "scatterternary"
           }
          ],
          "surface": [
           {
            "colorbar": {
             "outlinewidth": 0,
             "ticks": ""
            },
            "colorscale": [
             [
              0,
              "#0d0887"
             ],
             [
              0.1111111111111111,
              "#46039f"
             ],
             [
              0.2222222222222222,
              "#7201a8"
             ],
             [
              0.3333333333333333,
              "#9c179e"
             ],
             [
              0.4444444444444444,
              "#bd3786"
             ],
             [
              0.5555555555555556,
              "#d8576b"
             ],
             [
              0.6666666666666666,
              "#ed7953"
             ],
             [
              0.7777777777777778,
              "#fb9f3a"
             ],
             [
              0.8888888888888888,
              "#fdca26"
             ],
             [
              1,
              "#f0f921"
             ]
            ],
            "type": "surface"
           }
          ],
          "table": [
           {
            "cells": {
             "fill": {
              "color": "#EBF0F8"
             },
             "line": {
              "color": "white"
             }
            },
            "header": {
             "fill": {
              "color": "#C8D4E3"
             },
             "line": {
              "color": "white"
             }
            },
            "type": "table"
           }
          ]
         },
         "layout": {
          "annotationdefaults": {
           "arrowcolor": "#2a3f5f",
           "arrowhead": 0,
           "arrowwidth": 1
          },
          "autotypenumbers": "strict",
          "coloraxis": {
           "colorbar": {
            "outlinewidth": 0,
            "ticks": ""
           }
          },
          "colorscale": {
           "diverging": [
            [
             0,
             "#8e0152"
            ],
            [
             0.1,
             "#c51b7d"
            ],
            [
             0.2,
             "#de77ae"
            ],
            [
             0.3,
             "#f1b6da"
            ],
            [
             0.4,
             "#fde0ef"
            ],
            [
             0.5,
             "#f7f7f7"
            ],
            [
             0.6,
             "#e6f5d0"
            ],
            [
             0.7,
             "#b8e186"
            ],
            [
             0.8,
             "#7fbc41"
            ],
            [
             0.9,
             "#4d9221"
            ],
            [
             1,
             "#276419"
            ]
           ],
           "sequential": [
            [
             0,
             "#0d0887"
            ],
            [
             0.1111111111111111,
             "#46039f"
            ],
            [
             0.2222222222222222,
             "#7201a8"
            ],
            [
             0.3333333333333333,
             "#9c179e"
            ],
            [
             0.4444444444444444,
             "#bd3786"
            ],
            [
             0.5555555555555556,
             "#d8576b"
            ],
            [
             0.6666666666666666,
             "#ed7953"
            ],
            [
             0.7777777777777778,
             "#fb9f3a"
            ],
            [
             0.8888888888888888,
             "#fdca26"
            ],
            [
             1,
             "#f0f921"
            ]
           ],
           "sequentialminus": [
            [
             0,
             "#0d0887"
            ],
            [
             0.1111111111111111,
             "#46039f"
            ],
            [
             0.2222222222222222,
             "#7201a8"
            ],
            [
             0.3333333333333333,
             "#9c179e"
            ],
            [
             0.4444444444444444,
             "#bd3786"
            ],
            [
             0.5555555555555556,
             "#d8576b"
            ],
            [
             0.6666666666666666,
             "#ed7953"
            ],
            [
             0.7777777777777778,
             "#fb9f3a"
            ],
            [
             0.8888888888888888,
             "#fdca26"
            ],
            [
             1,
             "#f0f921"
            ]
           ]
          },
          "colorway": [
           "#636efa",
           "#EF553B",
           "#00cc96",
           "#ab63fa",
           "#FFA15A",
           "#19d3f3",
           "#FF6692",
           "#B6E880",
           "#FF97FF",
           "#FECB52"
          ],
          "font": {
           "color": "#2a3f5f"
          },
          "geo": {
           "bgcolor": "white",
           "lakecolor": "white",
           "landcolor": "#E5ECF6",
           "showlakes": true,
           "showland": true,
           "subunitcolor": "white"
          },
          "hoverlabel": {
           "align": "left"
          },
          "hovermode": "closest",
          "mapbox": {
           "style": "light"
          },
          "paper_bgcolor": "white",
          "plot_bgcolor": "#E5ECF6",
          "polar": {
           "angularaxis": {
            "gridcolor": "white",
            "linecolor": "white",
            "ticks": ""
           },
           "bgcolor": "#E5ECF6",
           "radialaxis": {
            "gridcolor": "white",
            "linecolor": "white",
            "ticks": ""
           }
          },
          "scene": {
           "xaxis": {
            "backgroundcolor": "#E5ECF6",
            "gridcolor": "white",
            "gridwidth": 2,
            "linecolor": "white",
            "showbackground": true,
            "ticks": "",
            "zerolinecolor": "white"
           },
           "yaxis": {
            "backgroundcolor": "#E5ECF6",
            "gridcolor": "white",
            "gridwidth": 2,
            "linecolor": "white",
            "showbackground": true,
            "ticks": "",
            "zerolinecolor": "white"
           },
           "zaxis": {
            "backgroundcolor": "#E5ECF6",
            "gridcolor": "white",
            "gridwidth": 2,
            "linecolor": "white",
            "showbackground": true,
            "ticks": "",
            "zerolinecolor": "white"
           }
          },
          "shapedefaults": {
           "line": {
            "color": "#2a3f5f"
           }
          },
          "ternary": {
           "aaxis": {
            "gridcolor": "white",
            "linecolor": "white",
            "ticks": ""
           },
           "baxis": {
            "gridcolor": "white",
            "linecolor": "white",
            "ticks": ""
           },
           "bgcolor": "#E5ECF6",
           "caxis": {
            "gridcolor": "white",
            "linecolor": "white",
            "ticks": ""
           }
          },
          "title": {
           "x": 0.05
          },
          "xaxis": {
           "automargin": true,
           "gridcolor": "white",
           "linecolor": "white",
           "ticks": "",
           "title": {
            "standoff": 15
           },
           "zerolinecolor": "white",
           "zerolinewidth": 2
          },
          "yaxis": {
           "automargin": true,
           "gridcolor": "white",
           "linecolor": "white",
           "ticks": "",
           "title": {
            "standoff": 15
           },
           "zerolinecolor": "white",
           "zerolinewidth": 2
          }
         }
        },
        "title": {
         "text": "Cow and Buffalo Populations by District"
        },
        "width": 3000,
        "xaxis": {
         "anchor": "y",
         "domain": [
          0,
          1
         ],
         "title": {
          "text": "District"
         }
        },
        "yaxis": {
         "anchor": "x",
         "domain": [
          0,
          1
         ],
         "title": {
          "text": "Population"
         }
        }
       }
      }
     },
     "metadata": {},
     "output_type": "display_data"
    }
   ],
   "source": [
    "# Select the columns to plot\n",
    "selected_columns = df1[['District','Milking Buffaloes No.','Milking Cows No.']]\n",
    "\n",
    "#Melt the DataFrame to long format\n",
    "df1_melted = pd.melt(df1, id_vars=['District'], value_vars=['Milking Buffaloes No.','Milking Cows No.'],\n",
    "                    var_name='Animal', value_name='Population')\n",
    "\n",
    "# Create a dot plot\n",
    "fig = px.scatter(df1_melted, x='District', y='Population', color='Animal',\n",
    "                 title='Cow and Buffalo Populations by District',\n",
    "                 labels={'Population': 'Population', 'district': 'District', 'Animal': 'Animal Type'},\n",
    "                 hover_data=['Population'],height=600, width=3000)\n",
    "\n",
    "# Show the plot\n",
    "fig.show()\n"
   ]
  },
  {
   "cell_type": "markdown",
   "id": "6e5bf586",
   "metadata": {},
   "source": [
    "from here we can know which population is high in each district sepreately."
   ]
  },
  {
   "cell_type": "code",
   "execution_count": 20,
   "id": "ca8b13eb",
   "metadata": {},
   "outputs": [
    {
     "data": {
      "application/vnd.plotly.v1+json": {
       "config": {
        "plotlyServerURL": "https://plot.ly"
       },
       "data": [
        {
         "hovertemplate": "<b>%{hovertext}</b><br><br>Milking=Cow Milk(Mt.)<br>District=%{x}<br>Milk Production(mt)=%{marker.size}<extra></extra>",
         "hovertext": [
          "BHOJPUR",
          "DHANKUTA",
          "ILAM",
          "JHAPA",
          "KHOTANG",
          "MORANG",
          "OKHALDHUNGA",
          "PANCHTHAR",
          "SANKHUWASABHA",
          "SOLUKHUMBU",
          "SUNSARI",
          "TAPLEJUNG",
          "TERHATHUM",
          "UDAYAPUR",
          "BARA",
          "DHANUSHA",
          "MAHOTTARI",
          "PARSA",
          "RAUTAHAT",
          "SAPTARI",
          "SARLAHI",
          "SIRAHA",
          "BHAKTAPUR",
          "CHITWAN",
          "DHADING",
          "DOLAKHA",
          "KATHMANDU",
          "KABHREPALAN- CHOK",
          "LALITPUR",
          "MAKWANPUR",
          "NUWAKOT",
          "RAMECHHAP",
          "RASUWA",
          "SINDHULI",
          "SINDHUPALCHOK",
          "BAGLUNG",
          "GORKHA",
          "KASKI",
          "LAMJUNG",
          "MANANG",
          "MUSTANG",
          "MYAGDI",
          "NAWALPARASI EAST",
          "PARBAT",
          "SYANGJA",
          "TANAHUN",
          "ARGHAKHANCHI",
          "BANKE",
          "BARDIYA",
          "DANG",
          "GULMI",
          "KAPILBASTU",
          "NAWALPARASI WEST",
          "PALPA",
          "PYUTHAN",
          "ROLPA",
          "RUKUM EAST",
          "RUPANDEHI",
          "DAILEKH",
          "DOLPA",
          "HUMLA",
          "JAJARKOT",
          "JUMLA",
          "KALIKOT",
          "MUGU",
          "RUKUM WEST",
          "SALYAN",
          "SURKHET",
          "ACHHAM",
          "BAITADI",
          "BAJHANG",
          "BAJURA",
          "DADELDHURA",
          "DARCHULA",
          "DOTI",
          "KAILALI",
          "KANCHANPUR"
         ],
         "legendgroup": "Cow Milk(Mt.)",
         "marker": {
          "color": "#636efa",
          "size": [
           8543,
           10117,
           26483,
           62578,
           7716,
           87290,
           4890,
           10050,
           9160,
           4449,
           62917,
           4025,
           6103,
           16861,
           24445,
           22476,
           18071,
           14443,
           15741,
           35271,
           30042,
           11102,
           8678,
           31328,
           19438,
           8662,
           18348,
           32906,
           5478,
           21223,
           18898,
           9592,
           1187,
           21021,
           7294,
           3320,
           8860,
           13312,
           3662,
           168,
           610,
           3077,
           20579,
           2797,
           3819,
           10175,
           4329,
           32754,
           18487,
           18089,
           4775,
           25436,
           14880,
           9527,
           7112,
           10231,
           1588,
           25820,
           7451,
           1645,
           1261,
           2920,
           4676,
           1724,
           2856,
           2764,
           13622,
           6722,
           3908,
           11886,
           7643,
           7537,
           9476,
           4639,
           10687,
           34589,
           25573
          ],
          "sizemode": "area",
          "sizeref": 96.9888888888889,
          "symbol": "circle"
         },
         "mode": "markers",
         "name": "Cow Milk(Mt.)",
         "orientation": "v",
         "showlegend": true,
         "type": "scatter",
         "x": [
          "BHOJPUR",
          "DHANKUTA",
          "ILAM",
          "JHAPA",
          "KHOTANG",
          "MORANG",
          "OKHALDHUNGA",
          "PANCHTHAR",
          "SANKHUWASABHA",
          "SOLUKHUMBU",
          "SUNSARI",
          "TAPLEJUNG",
          "TERHATHUM",
          "UDAYAPUR",
          "BARA",
          "DHANUSHA",
          "MAHOTTARI",
          "PARSA",
          "RAUTAHAT",
          "SAPTARI",
          "SARLAHI",
          "SIRAHA",
          "BHAKTAPUR",
          "CHITWAN",
          "DHADING",
          "DOLAKHA",
          "KATHMANDU",
          "KABHREPALAN- CHOK",
          "LALITPUR",
          "MAKWANPUR",
          "NUWAKOT",
          "RAMECHHAP",
          "RASUWA",
          "SINDHULI",
          "SINDHUPALCHOK",
          "BAGLUNG",
          "GORKHA",
          "KASKI",
          "LAMJUNG",
          "MANANG",
          "MUSTANG",
          "MYAGDI",
          "NAWALPARASI EAST",
          "PARBAT",
          "SYANGJA",
          "TANAHUN",
          "ARGHAKHANCHI",
          "BANKE",
          "BARDIYA",
          "DANG",
          "GULMI",
          "KAPILBASTU",
          "NAWALPARASI WEST",
          "PALPA",
          "PYUTHAN",
          "ROLPA",
          "RUKUM EAST",
          "RUPANDEHI",
          "DAILEKH",
          "DOLPA",
          "HUMLA",
          "JAJARKOT",
          "JUMLA",
          "KALIKOT",
          "MUGU",
          "RUKUM WEST",
          "SALYAN",
          "SURKHET",
          "ACHHAM",
          "BAITADI",
          "BAJHANG",
          "BAJURA",
          "DADELDHURA",
          "DARCHULA",
          "DOTI",
          "KAILALI",
          "KANCHANPUR"
         ],
         "xaxis": "x",
         "y": [
          8543,
          10117,
          26483,
          62578,
          7716,
          87290,
          4890,
          10050,
          9160,
          4449,
          62917,
          4025,
          6103,
          16861,
          24445,
          22476,
          18071,
          14443,
          15741,
          35271,
          30042,
          11102,
          8678,
          31328,
          19438,
          8662,
          18348,
          32906,
          5478,
          21223,
          18898,
          9592,
          1187,
          21021,
          7294,
          3320,
          8860,
          13312,
          3662,
          168,
          610,
          3077,
          20579,
          2797,
          3819,
          10175,
          4329,
          32754,
          18487,
          18089,
          4775,
          25436,
          14880,
          9527,
          7112,
          10231,
          1588,
          25820,
          7451,
          1645,
          1261,
          2920,
          4676,
          1724,
          2856,
          2764,
          13622,
          6722,
          3908,
          11886,
          7643,
          7537,
          9476,
          4639,
          10687,
          34589,
          25573
         ],
         "yaxis": "y"
        },
        {
         "hovertemplate": "<b>%{hovertext}</b><br><br>Milking=Buffaloes Milk (Mt.)<br>District=%{x}<br>Milk Production(mt)=%{marker.size}<extra></extra>",
         "hovertext": [
          "BHOJPUR",
          "DHANKUTA",
          "ILAM",
          "JHAPA",
          "KHOTANG",
          "MORANG",
          "OKHALDHUNGA",
          "PANCHTHAR",
          "SANKHUWASABHA",
          "SOLUKHUMBU",
          "SUNSARI",
          "TAPLEJUNG",
          "TERHATHUM",
          "UDAYAPUR",
          "BARA",
          "DHANUSHA",
          "MAHOTTARI",
          "PARSA",
          "RAUTAHAT",
          "SAPTARI",
          "SARLAHI",
          "SIRAHA",
          "BHAKTAPUR",
          "CHITWAN",
          "DHADING",
          "DOLAKHA",
          "KATHMANDU",
          "KABHREPALAN- CHOK",
          "LALITPUR",
          "MAKWANPUR",
          "NUWAKOT",
          "RAMECHHAP",
          "RASUWA",
          "SINDHULI",
          "SINDHUPALCHOK",
          "BAGLUNG",
          "GORKHA",
          "KASKI",
          "LAMJUNG",
          "MANANG",
          "MUSTANG",
          "MYAGDI",
          "NAWALPARASI EAST",
          "PARBAT",
          "SYANGJA",
          "TANAHUN",
          "ARGHAKHANCHI",
          "BANKE",
          "BARDIYA",
          "DANG",
          "GULMI",
          "KAPILBASTU",
          "NAWALPARASI WEST",
          "PALPA",
          "PYUTHAN",
          "ROLPA",
          "RUKUM EAST",
          "RUPANDEHI",
          "DAILEKH",
          "DOLPA",
          "HUMLA",
          "JAJARKOT",
          "JUMLA",
          "KALIKOT",
          "MUGU",
          "RUKUM WEST",
          "SALYAN",
          "SURKHET",
          "ACHHAM",
          "BAITADI",
          "BAJHANG",
          "BAJURA",
          "DADELDHURA",
          "DARCHULA",
          "DOTI",
          "KAILALI",
          "KANCHANPUR"
         ],
         "legendgroup": "Buffaloes Milk (Mt.)",
         "marker": {
          "color": "#EF553B",
          "size": [
           9751,
           3957,
           5948,
           23743,
           9978,
           32623,
           9452,
           8560,
           7443,
           6897,
           54433,
           2925,
           5420,
           24252,
           50748,
           20876,
           21873,
           18689,
           25674,
           61770,
           29775,
           28507,
           3178,
           27944,
           25282,
           15849,
           14873,
           57852,
           28472,
           30997,
           24306,
           11514,
           1062,
           17923,
           18899,
           26730,
           19887,
           24456,
           12856,
           0,
           16,
           4584,
           24266,
           10425,
           30358,
           20373,
           23719,
           53033,
           38311,
           39250,
           12290,
           39538,
           20652,
           26408,
           17965,
           11360,
           4417,
           55723,
           12904,
           586,
           493,
           6326,
           640,
           4914,
           2339,
           10590,
           17031,
           11294,
           7411,
           12054,
           6319,
           4349,
           4822,
           5035,
           13310,
           51472,
           34852
          ],
          "sizemode": "area",
          "sizeref": 96.9888888888889,
          "symbol": "circle"
         },
         "mode": "markers",
         "name": "Buffaloes Milk (Mt.)",
         "orientation": "v",
         "showlegend": true,
         "type": "scatter",
         "x": [
          "BHOJPUR",
          "DHANKUTA",
          "ILAM",
          "JHAPA",
          "KHOTANG",
          "MORANG",
          "OKHALDHUNGA",
          "PANCHTHAR",
          "SANKHUWASABHA",
          "SOLUKHUMBU",
          "SUNSARI",
          "TAPLEJUNG",
          "TERHATHUM",
          "UDAYAPUR",
          "BARA",
          "DHANUSHA",
          "MAHOTTARI",
          "PARSA",
          "RAUTAHAT",
          "SAPTARI",
          "SARLAHI",
          "SIRAHA",
          "BHAKTAPUR",
          "CHITWAN",
          "DHADING",
          "DOLAKHA",
          "KATHMANDU",
          "KABHREPALAN- CHOK",
          "LALITPUR",
          "MAKWANPUR",
          "NUWAKOT",
          "RAMECHHAP",
          "RASUWA",
          "SINDHULI",
          "SINDHUPALCHOK",
          "BAGLUNG",
          "GORKHA",
          "KASKI",
          "LAMJUNG",
          "MANANG",
          "MUSTANG",
          "MYAGDI",
          "NAWALPARASI EAST",
          "PARBAT",
          "SYANGJA",
          "TANAHUN",
          "ARGHAKHANCHI",
          "BANKE",
          "BARDIYA",
          "DANG",
          "GULMI",
          "KAPILBASTU",
          "NAWALPARASI WEST",
          "PALPA",
          "PYUTHAN",
          "ROLPA",
          "RUKUM EAST",
          "RUPANDEHI",
          "DAILEKH",
          "DOLPA",
          "HUMLA",
          "JAJARKOT",
          "JUMLA",
          "KALIKOT",
          "MUGU",
          "RUKUM WEST",
          "SALYAN",
          "SURKHET",
          "ACHHAM",
          "BAITADI",
          "BAJHANG",
          "BAJURA",
          "DADELDHURA",
          "DARCHULA",
          "DOTI",
          "KAILALI",
          "KANCHANPUR"
         ],
         "xaxis": "x",
         "y": [
          9751,
          3957,
          5948,
          23743,
          9978,
          32623,
          9452,
          8560,
          7443,
          6897,
          54433,
          2925,
          5420,
          24252,
          50748,
          20876,
          21873,
          18689,
          25674,
          61770,
          29775,
          28507,
          3178,
          27944,
          25282,
          15849,
          14873,
          57852,
          28472,
          30997,
          24306,
          11514,
          1062,
          17923,
          18899,
          26730,
          19887,
          24456,
          12856,
          0,
          16,
          4584,
          24266,
          10425,
          30358,
          20373,
          23719,
          53033,
          38311,
          39250,
          12290,
          39538,
          20652,
          26408,
          17965,
          11360,
          4417,
          55723,
          12904,
          586,
          493,
          6326,
          640,
          4914,
          2339,
          10590,
          17031,
          11294,
          7411,
          12054,
          6319,
          4349,
          4822,
          5035,
          13310,
          51472,
          34852
         ],
         "yaxis": "y"
        }
       ],
       "layout": {
        "height": 600,
        "legend": {
         "itemsizing": "constant",
         "title": {
          "text": "Milking"
         },
         "tracegroupgap": 0
        },
        "template": {
         "data": {
          "bar": [
           {
            "error_x": {
             "color": "#2a3f5f"
            },
            "error_y": {
             "color": "#2a3f5f"
            },
            "marker": {
             "line": {
              "color": "#E5ECF6",
              "width": 0.5
             },
             "pattern": {
              "fillmode": "overlay",
              "size": 10,
              "solidity": 0.2
             }
            },
            "type": "bar"
           }
          ],
          "barpolar": [
           {
            "marker": {
             "line": {
              "color": "#E5ECF6",
              "width": 0.5
             },
             "pattern": {
              "fillmode": "overlay",
              "size": 10,
              "solidity": 0.2
             }
            },
            "type": "barpolar"
           }
          ],
          "carpet": [
           {
            "aaxis": {
             "endlinecolor": "#2a3f5f",
             "gridcolor": "white",
             "linecolor": "white",
             "minorgridcolor": "white",
             "startlinecolor": "#2a3f5f"
            },
            "baxis": {
             "endlinecolor": "#2a3f5f",
             "gridcolor": "white",
             "linecolor": "white",
             "minorgridcolor": "white",
             "startlinecolor": "#2a3f5f"
            },
            "type": "carpet"
           }
          ],
          "choropleth": [
           {
            "colorbar": {
             "outlinewidth": 0,
             "ticks": ""
            },
            "type": "choropleth"
           }
          ],
          "contour": [
           {
            "colorbar": {
             "outlinewidth": 0,
             "ticks": ""
            },
            "colorscale": [
             [
              0,
              "#0d0887"
             ],
             [
              0.1111111111111111,
              "#46039f"
             ],
             [
              0.2222222222222222,
              "#7201a8"
             ],
             [
              0.3333333333333333,
              "#9c179e"
             ],
             [
              0.4444444444444444,
              "#bd3786"
             ],
             [
              0.5555555555555556,
              "#d8576b"
             ],
             [
              0.6666666666666666,
              "#ed7953"
             ],
             [
              0.7777777777777778,
              "#fb9f3a"
             ],
             [
              0.8888888888888888,
              "#fdca26"
             ],
             [
              1,
              "#f0f921"
             ]
            ],
            "type": "contour"
           }
          ],
          "contourcarpet": [
           {
            "colorbar": {
             "outlinewidth": 0,
             "ticks": ""
            },
            "type": "contourcarpet"
           }
          ],
          "heatmap": [
           {
            "colorbar": {
             "outlinewidth": 0,
             "ticks": ""
            },
            "colorscale": [
             [
              0,
              "#0d0887"
             ],
             [
              0.1111111111111111,
              "#46039f"
             ],
             [
              0.2222222222222222,
              "#7201a8"
             ],
             [
              0.3333333333333333,
              "#9c179e"
             ],
             [
              0.4444444444444444,
              "#bd3786"
             ],
             [
              0.5555555555555556,
              "#d8576b"
             ],
             [
              0.6666666666666666,
              "#ed7953"
             ],
             [
              0.7777777777777778,
              "#fb9f3a"
             ],
             [
              0.8888888888888888,
              "#fdca26"
             ],
             [
              1,
              "#f0f921"
             ]
            ],
            "type": "heatmap"
           }
          ],
          "heatmapgl": [
           {
            "colorbar": {
             "outlinewidth": 0,
             "ticks": ""
            },
            "colorscale": [
             [
              0,
              "#0d0887"
             ],
             [
              0.1111111111111111,
              "#46039f"
             ],
             [
              0.2222222222222222,
              "#7201a8"
             ],
             [
              0.3333333333333333,
              "#9c179e"
             ],
             [
              0.4444444444444444,
              "#bd3786"
             ],
             [
              0.5555555555555556,
              "#d8576b"
             ],
             [
              0.6666666666666666,
              "#ed7953"
             ],
             [
              0.7777777777777778,
              "#fb9f3a"
             ],
             [
              0.8888888888888888,
              "#fdca26"
             ],
             [
              1,
              "#f0f921"
             ]
            ],
            "type": "heatmapgl"
           }
          ],
          "histogram": [
           {
            "marker": {
             "pattern": {
              "fillmode": "overlay",
              "size": 10,
              "solidity": 0.2
             }
            },
            "type": "histogram"
           }
          ],
          "histogram2d": [
           {
            "colorbar": {
             "outlinewidth": 0,
             "ticks": ""
            },
            "colorscale": [
             [
              0,
              "#0d0887"
             ],
             [
              0.1111111111111111,
              "#46039f"
             ],
             [
              0.2222222222222222,
              "#7201a8"
             ],
             [
              0.3333333333333333,
              "#9c179e"
             ],
             [
              0.4444444444444444,
              "#bd3786"
             ],
             [
              0.5555555555555556,
              "#d8576b"
             ],
             [
              0.6666666666666666,
              "#ed7953"
             ],
             [
              0.7777777777777778,
              "#fb9f3a"
             ],
             [
              0.8888888888888888,
              "#fdca26"
             ],
             [
              1,
              "#f0f921"
             ]
            ],
            "type": "histogram2d"
           }
          ],
          "histogram2dcontour": [
           {
            "colorbar": {
             "outlinewidth": 0,
             "ticks": ""
            },
            "colorscale": [
             [
              0,
              "#0d0887"
             ],
             [
              0.1111111111111111,
              "#46039f"
             ],
             [
              0.2222222222222222,
              "#7201a8"
             ],
             [
              0.3333333333333333,
              "#9c179e"
             ],
             [
              0.4444444444444444,
              "#bd3786"
             ],
             [
              0.5555555555555556,
              "#d8576b"
             ],
             [
              0.6666666666666666,
              "#ed7953"
             ],
             [
              0.7777777777777778,
              "#fb9f3a"
             ],
             [
              0.8888888888888888,
              "#fdca26"
             ],
             [
              1,
              "#f0f921"
             ]
            ],
            "type": "histogram2dcontour"
           }
          ],
          "mesh3d": [
           {
            "colorbar": {
             "outlinewidth": 0,
             "ticks": ""
            },
            "type": "mesh3d"
           }
          ],
          "parcoords": [
           {
            "line": {
             "colorbar": {
              "outlinewidth": 0,
              "ticks": ""
             }
            },
            "type": "parcoords"
           }
          ],
          "pie": [
           {
            "automargin": true,
            "type": "pie"
           }
          ],
          "scatter": [
           {
            "fillpattern": {
             "fillmode": "overlay",
             "size": 10,
             "solidity": 0.2
            },
            "type": "scatter"
           }
          ],
          "scatter3d": [
           {
            "line": {
             "colorbar": {
              "outlinewidth": 0,
              "ticks": ""
             }
            },
            "marker": {
             "colorbar": {
              "outlinewidth": 0,
              "ticks": ""
             }
            },
            "type": "scatter3d"
           }
          ],
          "scattercarpet": [
           {
            "marker": {
             "colorbar": {
              "outlinewidth": 0,
              "ticks": ""
             }
            },
            "type": "scattercarpet"
           }
          ],
          "scattergeo": [
           {
            "marker": {
             "colorbar": {
              "outlinewidth": 0,
              "ticks": ""
             }
            },
            "type": "scattergeo"
           }
          ],
          "scattergl": [
           {
            "marker": {
             "colorbar": {
              "outlinewidth": 0,
              "ticks": ""
             }
            },
            "type": "scattergl"
           }
          ],
          "scattermapbox": [
           {
            "marker": {
             "colorbar": {
              "outlinewidth": 0,
              "ticks": ""
             }
            },
            "type": "scattermapbox"
           }
          ],
          "scatterpolar": [
           {
            "marker": {
             "colorbar": {
              "outlinewidth": 0,
              "ticks": ""
             }
            },
            "type": "scatterpolar"
           }
          ],
          "scatterpolargl": [
           {
            "marker": {
             "colorbar": {
              "outlinewidth": 0,
              "ticks": ""
             }
            },
            "type": "scatterpolargl"
           }
          ],
          "scatterternary": [
           {
            "marker": {
             "colorbar": {
              "outlinewidth": 0,
              "ticks": ""
             }
            },
            "type": "scatterternary"
           }
          ],
          "surface": [
           {
            "colorbar": {
             "outlinewidth": 0,
             "ticks": ""
            },
            "colorscale": [
             [
              0,
              "#0d0887"
             ],
             [
              0.1111111111111111,
              "#46039f"
             ],
             [
              0.2222222222222222,
              "#7201a8"
             ],
             [
              0.3333333333333333,
              "#9c179e"
             ],
             [
              0.4444444444444444,
              "#bd3786"
             ],
             [
              0.5555555555555556,
              "#d8576b"
             ],
             [
              0.6666666666666666,
              "#ed7953"
             ],
             [
              0.7777777777777778,
              "#fb9f3a"
             ],
             [
              0.8888888888888888,
              "#fdca26"
             ],
             [
              1,
              "#f0f921"
             ]
            ],
            "type": "surface"
           }
          ],
          "table": [
           {
            "cells": {
             "fill": {
              "color": "#EBF0F8"
             },
             "line": {
              "color": "white"
             }
            },
            "header": {
             "fill": {
              "color": "#C8D4E3"
             },
             "line": {
              "color": "white"
             }
            },
            "type": "table"
           }
          ]
         },
         "layout": {
          "annotationdefaults": {
           "arrowcolor": "#2a3f5f",
           "arrowhead": 0,
           "arrowwidth": 1
          },
          "autotypenumbers": "strict",
          "coloraxis": {
           "colorbar": {
            "outlinewidth": 0,
            "ticks": ""
           }
          },
          "colorscale": {
           "diverging": [
            [
             0,
             "#8e0152"
            ],
            [
             0.1,
             "#c51b7d"
            ],
            [
             0.2,
             "#de77ae"
            ],
            [
             0.3,
             "#f1b6da"
            ],
            [
             0.4,
             "#fde0ef"
            ],
            [
             0.5,
             "#f7f7f7"
            ],
            [
             0.6,
             "#e6f5d0"
            ],
            [
             0.7,
             "#b8e186"
            ],
            [
             0.8,
             "#7fbc41"
            ],
            [
             0.9,
             "#4d9221"
            ],
            [
             1,
             "#276419"
            ]
           ],
           "sequential": [
            [
             0,
             "#0d0887"
            ],
            [
             0.1111111111111111,
             "#46039f"
            ],
            [
             0.2222222222222222,
             "#7201a8"
            ],
            [
             0.3333333333333333,
             "#9c179e"
            ],
            [
             0.4444444444444444,
             "#bd3786"
            ],
            [
             0.5555555555555556,
             "#d8576b"
            ],
            [
             0.6666666666666666,
             "#ed7953"
            ],
            [
             0.7777777777777778,
             "#fb9f3a"
            ],
            [
             0.8888888888888888,
             "#fdca26"
            ],
            [
             1,
             "#f0f921"
            ]
           ],
           "sequentialminus": [
            [
             0,
             "#0d0887"
            ],
            [
             0.1111111111111111,
             "#46039f"
            ],
            [
             0.2222222222222222,
             "#7201a8"
            ],
            [
             0.3333333333333333,
             "#9c179e"
            ],
            [
             0.4444444444444444,
             "#bd3786"
            ],
            [
             0.5555555555555556,
             "#d8576b"
            ],
            [
             0.6666666666666666,
             "#ed7953"
            ],
            [
             0.7777777777777778,
             "#fb9f3a"
            ],
            [
             0.8888888888888888,
             "#fdca26"
            ],
            [
             1,
             "#f0f921"
            ]
           ]
          },
          "colorway": [
           "#636efa",
           "#EF553B",
           "#00cc96",
           "#ab63fa",
           "#FFA15A",
           "#19d3f3",
           "#FF6692",
           "#B6E880",
           "#FF97FF",
           "#FECB52"
          ],
          "font": {
           "color": "#2a3f5f"
          },
          "geo": {
           "bgcolor": "white",
           "lakecolor": "white",
           "landcolor": "#E5ECF6",
           "showlakes": true,
           "showland": true,
           "subunitcolor": "white"
          },
          "hoverlabel": {
           "align": "left"
          },
          "hovermode": "closest",
          "mapbox": {
           "style": "light"
          },
          "paper_bgcolor": "white",
          "plot_bgcolor": "#E5ECF6",
          "polar": {
           "angularaxis": {
            "gridcolor": "white",
            "linecolor": "white",
            "ticks": ""
           },
           "bgcolor": "#E5ECF6",
           "radialaxis": {
            "gridcolor": "white",
            "linecolor": "white",
            "ticks": ""
           }
          },
          "scene": {
           "xaxis": {
            "backgroundcolor": "#E5ECF6",
            "gridcolor": "white",
            "gridwidth": 2,
            "linecolor": "white",
            "showbackground": true,
            "ticks": "",
            "zerolinecolor": "white"
           },
           "yaxis": {
            "backgroundcolor": "#E5ECF6",
            "gridcolor": "white",
            "gridwidth": 2,
            "linecolor": "white",
            "showbackground": true,
            "ticks": "",
            "zerolinecolor": "white"
           },
           "zaxis": {
            "backgroundcolor": "#E5ECF6",
            "gridcolor": "white",
            "gridwidth": 2,
            "linecolor": "white",
            "showbackground": true,
            "ticks": "",
            "zerolinecolor": "white"
           }
          },
          "shapedefaults": {
           "line": {
            "color": "#2a3f5f"
           }
          },
          "ternary": {
           "aaxis": {
            "gridcolor": "white",
            "linecolor": "white",
            "ticks": ""
           },
           "baxis": {
            "gridcolor": "white",
            "linecolor": "white",
            "ticks": ""
           },
           "bgcolor": "#E5ECF6",
           "caxis": {
            "gridcolor": "white",
            "linecolor": "white",
            "ticks": ""
           }
          },
          "title": {
           "x": 0.05
          },
          "xaxis": {
           "automargin": true,
           "gridcolor": "white",
           "linecolor": "white",
           "ticks": "",
           "title": {
            "standoff": 15
           },
           "zerolinecolor": "white",
           "zerolinewidth": 2
          },
          "yaxis": {
           "automargin": true,
           "gridcolor": "white",
           "linecolor": "white",
           "ticks": "",
           "title": {
            "standoff": 15
           },
           "zerolinecolor": "white",
           "zerolinewidth": 2
          }
         }
        },
        "title": {
         "text": "Cow Milking production and Buffaloes Milk production comparsion by District"
        },
        "width": 2000,
        "xaxis": {
         "anchor": "y",
         "domain": [
          0,
          1
         ],
         "title": {
          "text": "District"
         }
        },
        "yaxis": {
         "anchor": "x",
         "domain": [
          0,
          1
         ],
         "title": {
          "text": "Milk Production(mt)"
         }
        }
       }
      }
     },
     "metadata": {},
     "output_type": "display_data"
    }
   ],
   "source": [
    "# Select the columns to plot\n",
    "selected_columns = df1[['District','Cow Milk(Mt.)','Buffaloes Milk (Mt.)']]\n",
    "\n",
    "#Melt the DataFrame to long format\n",
    "df1_melted = pd.melt(df1, id_vars=['District'], value_vars=['Cow Milk(Mt.)','Buffaloes Milk (Mt.)'],\n",
    "                    var_name='Milking', value_name='Milk Production(mt)')\n",
    "\n",
    "\n",
    "# Create a bubble chart\n",
    "fig = px.scatter(df1_melted, x='District', y='Milk Production(mt)', size='Milk Production(mt)', color='Milking', \n",
    "                 hover_name='District', size_max=30, title='Cow Milking production and Buffaloes Milk production comparsion by District',height=600, width=2000)\n",
    "\n",
    "fig.show()"
   ]
  },
  {
   "cell_type": "markdown",
   "id": "a1d5cf12",
   "metadata": {},
   "source": [
    "we can see in bubble chart in aveage many district have not much difference in production of cow and buffaloes. "
   ]
  },
  {
   "cell_type": "code",
   "execution_count": null,
   "id": "442430fb",
   "metadata": {},
   "outputs": [],
   "source": []
  }
 ],
 "metadata": {
  "kernelspec": {
   "display_name": "Python 3 (ipykernel)",
   "language": "python",
   "name": "python3"
  },
  "language_info": {
   "codemirror_mode": {
    "name": "ipython",
    "version": 3
   },
   "file_extension": ".py",
   "mimetype": "text/x-python",
   "name": "python",
   "nbconvert_exporter": "python",
   "pygments_lexer": "ipython3",
   "version": "3.10.4"
  }
 },
 "nbformat": 4,
 "nbformat_minor": 5
}
